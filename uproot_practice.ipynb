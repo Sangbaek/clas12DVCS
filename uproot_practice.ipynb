{
 "cells": [
  {
   "cell_type": "code",
   "execution_count": 1,
   "metadata": {},
   "outputs": [],
   "source": [
    "import uproot\n",
    "import pandas as pd\n",
    "import numpy as np\n",
    "import matplotlib.pyplot as plt\n",
    "#from lmfit import Model, Parameter, report_fit\n",
    "from scipy.optimize import curve_fit\n",
    "from copy import copy\n",
    "from utils.physics import *\n",
    "import icecream as ic"
   ]
  },
  {
   "cell_type": "code",
   "execution_count": 2,
   "metadata": {},
   "outputs": [],
   "source": [
    "file = uproot.open(\n",
    "    \"~/Dropbox (MIT)/data/dvcs_inb.root\")"
   ]
  },
  {
   "cell_type": "code",
   "execution_count": 3,
   "metadata": {},
   "outputs": [],
   "source": [
    "M = 0.938272081\n",
    "me = 0.5109989461 * 0.001\n",
    "ebeam = 10.604\n",
    "pbeam = np.sqrt(ebeam * ebeam - me * me)\n",
    "beam = [0, 0, pbeam]\n",
    "target = [0, 0, 0]"
   ]
  },
  {
   "cell_type": "code",
   "execution_count": 4,
   "metadata": {},
   "outputs": [],
   "source": [
    "tree = file[\"T\"]"
   ]
  },
  {
   "cell_type": "code",
   "execution_count": 5,
   "metadata": {},
   "outputs": [],
   "source": [
    "# initialize df\n",
    "df_electron = pd.DataFrame()\n",
    "df_proton = pd.DataFrame()\n",
    "df_gamma = pd.DataFrame()"
   ]
  },
  {
   "cell_type": "code",
   "execution_count": 6,
   "metadata": {},
   "outputs": [],
   "source": [
    "for key in [\"Epx\", \"Epy\", \"Epz\", \"Evz\", \"Esector\"]:\n",
    "    df_electron[key] = tree[key].array(library=\"pd\")"
   ]
  },
  {
   "cell_type": "code",
   "execution_count": 7,
   "metadata": {},
   "outputs": [],
   "source": [
    "# %matplotlib\n",
    "# fig, ax = plt.subplots()\n",
    "# cmap = copy(plt.cm.get_cmap(\"jet\"))\n",
    "# # ax.hist(180/np.pi*np.arctan(np.sqrt(df_electron[\"Epx\"]**2+df_electron[\"Epy\"])/df_electron[\"Epz\"]), bins = 51)\n",
    "# # ax.hist2d(180/np.pi*np.arctan2(df_electron[\"Epy\"], df_electron[\"Epx\"]), 180/np.pi*np.arctan(np.sqrt(df_electron[\"Epx\"]**2+df_electron[\"Epy\"]**2)/df_electron[\"Epz\"]), bins = [51, 51], cmin = 1, cmap = cmap)\n",
    "# ax.hist2d(180/np.pi*np.arctan2(df_proton[\"Ppy\"], df_proton[\"Ppx\"]), 180/np.pi*np.arctan(np.sqrt(df_proton[\"Ppx\"]**2+df_proton[\"Ppy\"]**2)/df_proton[\"Ppz\"]), bins = [360, 360], cmin = 1, cmap = cmap)\n",
    "# # ax.hist2d(180/np.pi*np.arctan2(df_electron[\"Epy\"], df_electron[\"Epx\"]), 180/np.pi*np.arctan(np.sqrt(df_electron[\"Epx\"]**2+df_electron[\"Epy\"]**2)/df_electron[\"Epz\"]), bins = [51, 51])\n",
    "# plt.show()"
   ]
  },
  {
   "cell_type": "code",
   "execution_count": 8,
   "metadata": {},
   "outputs": [],
   "source": [
    "for key in [\"Ppx\", \"Ppy\", \"Ppz\", \"Pvz\", \"Pstat\", \"PorigIndx\", \"Psector\"]:\n",
    "    df_proton[key] = tree[key].array(library=\"pd\")"
   ]
  },
  {
   "cell_type": "code",
   "execution_count": 9,
   "metadata": {},
   "outputs": [],
   "source": [
    "for key in [\"Gpx\", \"Gpy\", \"Gpz\", \"Gstat\", \"GorigIndx\", \"Gsector\"]:\n",
    "    df_gamma[key] = tree[key].array(library=\"pd\")"
   ]
  },
  {
   "cell_type": "code",
   "execution_count": 10,
   "metadata": {},
   "outputs": [],
   "source": [
    "# change the data type to double\n",
    "df_electron = df_electron.astype({\"Epx\": float, \"Epy\": float, \"Epz\": float})\n",
    "df_proton = df_proton.astype({\"Ppx\": float, \"Ppy\": float, \"Ppz\": float})\n",
    "df_gamma = df_gamma.astype({\"Gpx\": float, \"Gpy\": float, \"Gpz\": float})"
   ]
  },
  {
   "cell_type": "code",
   "execution_count": 11,
   "metadata": {},
   "outputs": [],
   "source": [
    "df_electron['event'] = df_electron.index.get_level_values('entry')\n",
    "df_proton['event'] = df_proton.index.get_level_values('entry')\n",
    "df_gamma['event'] = df_gamma.index.get_level_values('entry')"
   ]
  },
  {
   "cell_type": "code",
   "execution_count": 12,
   "metadata": {},
   "outputs": [],
   "source": [
    "df_gg = pd.merge(df_gamma, df_gamma,\n",
    "    how='outer', on='event', suffixes=(\"\", \"2\"))\n",
    "df_gg = df_gg[df_gg[\"GorigIndx\"] < df_gg[\"GorigIndx2\"]]"
   ]
  },
  {
   "cell_type": "code",
   "execution_count": 13,
   "metadata": {},
   "outputs": [],
   "source": [
    "#Now new indexing, which conserves event number information at \"event\" column\n",
    "df_ep = pd.merge(df_electron, df_proton, how='outer', on='event')\n",
    "df_epg = pd.merge(df_ep, df_gamma, how='outer', on='event')\n",
    "df_epgg = pd.merge(df_ep, df_gg, how='outer', on='event')\n",
    "df_epgg = df_epgg[~np.isnan(df_epgg[\"Gpx\"])]"
   ]
  },
  {
   "cell_type": "code",
   "execution_count": 14,
   "metadata": {},
   "outputs": [],
   "source": [
    "df_epg=df_epg[np.abs(df_epg[\"Evz\"]-df_epg[\"Pvz\"])<2.5+2.5/mag([df_epg[\"Epx\"],df_epg[\"Epy\"],df_epg[\"Epz\"]])]\n",
    "df_epgg=df_epgg[np.abs(df_epgg[\"Evz\"]-df_epgg[\"Pvz\"])<2.5+2.5/mag([df_epgg[\"Epx\"],df_epgg[\"Epy\"],df_epgg[\"Epz\"]])]"
   ]
  },
  {
   "cell_type": "code",
   "execution_count": 15,
   "metadata": {},
   "outputs": [],
   "source": [
    "# basic particle energies\n",
    "df_epgg['Ee'] = np.sqrt(me**2 + df_epgg[\"Epx\"]**2 + df_epgg[\"Epy\"]**2 + df_epgg[\"Epz\"]**2)\n",
    "df_epgg['Pe'] = np.sqrt(M**2 + df_epgg[\"Ppx\"]**2 + df_epgg[\"Ppy\"]**2 + df_epgg[\"Ppz\"]**2)\n",
    "df_epgg['Ge'] = np.sqrt(df_epgg[\"Gpx\"]**2 + df_epgg[\"Gpy\"]**2 + df_epgg[\"Gpz\"]**2)\n",
    "df_epgg['Ge2'] = np.sqrt(df_epgg[\"Gpx2\"]**2 + df_epgg[\"Gpy2\"]**2 + df_epgg[\"Gpz2\"]**2)"
   ]
  },
  {
   "cell_type": "code",
   "execution_count": 16,
   "metadata": {},
   "outputs": [],
   "source": [
    "# useful objects\n",
    "ele = [df_epgg['Epx'], df_epgg['Epy'], df_epgg['Epz']]\n",
    "pro = [df_epgg['Ppx'], df_epgg['Ppy'], df_epgg['Ppz']]\n",
    "gam = [df_epgg['Gpx'], df_epgg['Gpy'], df_epgg['Gpz']]\n",
    "gam2 = [df_epgg['Gpx2'], df_epgg['Gpy2'], df_epgg['Gpz2']]\n",
    "pi0 = vecAdd(gam, gam2)\n",
    "VGS = [-df_epgg['Epx'], -df_epgg['Epy'], pbeam - df_epgg['Epz']]\n",
    "v3l = cross(beam, ele)\n",
    "v3h = cross(pro, VGS)\n",
    "v3g = cross(VGS, gam)\n",
    "VmissPi0 = [-df_epgg[\"Epx\"] - df_epgg[\"Ppx\"], -df_epgg[\"Epy\"] -\n",
    "            df_epgg[\"Ppy\"], pbeam - df_epgg[\"Epz\"] - df_epgg[\"Ppz\"]]\n",
    "Vmiss = [-df_epgg[\"Epx\"] - df_epgg[\"Ppx\"] - df_epgg[\"Gpx\"] - df_epgg[\"Gpx2\"],\n",
    "            -df_epgg[\"Epy\"] - df_epgg[\"Ppy\"] - df_epgg[\"Gpy\"] - df_epgg[\"Gpy2\"],\n",
    "            pbeam - df_epgg[\"Epz\"] - df_epgg[\"Ppz\"] - df_epgg[\"Gpz\"] - df_epgg[\"Gpz2\"]]\n",
    "VmissP = [-df_epgg[\"Epx\"] - df_epgg[\"Gpx\"] - df_epgg[\"Gpx2\"],\n",
    "            -df_epgg[\"Epy\"] - df_epgg[\"Gpy\"] - df_epgg[\"Gpy2\"],\n",
    "            pbeam - df_epgg[\"Epz\"] - df_epgg[\"Gpz\"] - df_epgg[\"Gpz2\"]]"
   ]
  },
  {
   "cell_type": "code",
   "execution_count": 17,
   "metadata": {},
   "outputs": [],
   "source": [
    "# binning kinematics\n",
    "df_epgg['Q2'] = -((ebeam - df_epgg['Ee'])**2 - mag2(VGS))\n",
    "df_epgg['nu'] = (ebeam - df_epgg['Ee'])\n",
    "df_epgg['xB'] = df_epgg['Q2'] / 2.0 / M / df_epgg['nu']\n",
    "df_epgg['W'] = np.sqrt((ebeam + M - df_epgg['Ee'])**2 - mag2(VGS))\n",
    "df_epgg['MPt'] = np.sqrt((df_epgg[\"Epx\"] + df_epgg[\"Ppx\"] + df_epgg[\"Gpx\"] + df_epgg[\"Gpx2\"])**2 +\n",
    "                         (df_epgg[\"Epy\"] + df_epgg[\"Ppy\"] + df_epgg[\"Gpy\"] + df_epgg[\"Gpy2\"])**2)"
   ]
  },
  {
   "cell_type": "code",
   "execution_count": 18,
   "metadata": {},
   "outputs": [],
   "source": [
    "# exclusivity variables\n",
    "df_epgg['MM2_ep'] = (-M - ebeam + df_epgg[\"Ee\"] +\n",
    "                     df_epgg[\"Pe\"])**2 - mag2(VmissPi0)\n",
    "df_epgg['MM2_egg'] = (-M - ebeam + df_epgg[\"Ee\"] +\n",
    "                     df_epgg[\"Ge\"] + df_epgg[\"Ge2\"])**2 - mag2(VmissP)\n",
    "df_epgg['MM2_epgg'] = (-M - ebeam + df_epgg[\"Ee\"] +\n",
    "                     df_epgg[\"Pe\"] + df_epgg[\"Ge\"] + df_epgg[\"Ge2\"])**2 - mag2(Vmiss)\n",
    "df_epgg['ME_epgg'] = (M + ebeam - df_epgg[\"Ee\"] - df_epgg[\"Pe\"] - df_epgg[\"Ge\"] - df_epgg[\"Ge2\"])\n",
    "df_epgg['Mpi0'] = pi0InvMass(gam, gam2)\n",
    "df_epgg['reconPi'] = angle(VmissPi0, pi0)\n",
    "df_epgg[\"Pie\"] = df_epgg['Ge'] + df_epgg['Ge2']\n",
    "df_epgg[\"sintheta\"] = np.sin(np.pi/180.*angle(gam, gam2))"
   ]
  },
  {
   "cell_type": "code",
   "execution_count": 19,
   "metadata": {},
   "outputs": [],
   "source": [
    "#\tKinematic cuts\n",
    "#   xB>0 && xB<1 && W>2 && Q2>1 && VE.e()>2 && VG1.e() > 2 && VP.p() > 0.12\n",
    "cut_pFD = df_epgg[\"Pstat\"] < 4000  # FD\n",
    "cut_pCD = df_epgg[\"Pstat\"] > 4000  # CD\n",
    "cut_gFD = df_epgg[\"Gstat\"] > 2000  # FD\n",
    "cut_gFT = df_epgg[\"Gstat\"] < 2000  # FT\n",
    "cut_g2FD = df_epgg[\"Gstat2\"] > 2000  # FD\n",
    "cut_g2FT = df_epgg[\"Gstat2\"] < 2000  # FT\n",
    "cut_FTFT = cut_gFT & cut_g2FT\n",
    "cut_FDFT = cut_gFD & cut_g2FT\n",
    "cut_FTFD = cut_gFT & cut_g2FD\n",
    "cut_FDFD = cut_gFD & cut_g2FD\n",
    "cut_xBupper = df_epgg[\"xB\"] < 1  # xB\n",
    "cut_xBlower = df_epgg[\"xB\"] > 0  # xB\n",
    "cut_Q2 = df_epgg[\"Q2\"] > 1  # Q2\n",
    "cut_W = df_epgg[\"W\"] > 2  # W"
   ]
  },
  {
   "cell_type": "code",
   "execution_count": 20,
   "metadata": {},
   "outputs": [],
   "source": [
    "#\tExclusivity cuts\n",
    "cut_mmep = df_epgg[\"MM2_ep\"] < 0.7  # mmep\n",
    "cut_meepgg = df_epgg[\"ME_epgg\"] < 0.7  # meepgg\n",
    "cut_mpt = df_epgg[\"MPt\"] < 0.2  # mpt\n",
    "cut_recon = df_epgg[\"reconPi\"] < 2  # recon gam angle\n",
    "cut_pi0upper = df_epgg[\"Mpi0\"] < 0.2\n",
    "cut_pi0lower = df_epgg[\"Mpi0\"] > 0.07\n",
    "cut_pi0energy = 1#(df_epgg[\"Pie\"] > 2) & (df_epgg[\"Pie\"] <4)\n",
    "# cut_maxE = 1#df_epgg[[\"Ge\", \"Ge2\"]].max(1) > 2\n",
    "cut_minE = 1#df_epgg[[\"Ge\", \"Ge2\"]].min(1) > 1\n",
    "cut_sector = (df_epgg[\"Esector\"]!=df_epgg[\"Gsector\"]) & (df_epgg[\"Esector\"]!=df_epgg[\"Gsector2\"])"
   ]
  },
  {
   "cell_type": "code",
   "execution_count": 21,
   "metadata": {},
   "outputs": [
    {
     "name": "stdout",
     "output_type": "stream",
     "text": [
      "189887\n"
     ]
    }
   ],
   "source": [
    "df_dvpi0 = df_epgg[cut_sector & cut_xBupper & cut_xBlower & cut_Q2 & cut_W & cut_mmep & cut_meepgg &\n",
    "                   cut_mpt & cut_recon & cut_pi0upper & cut_pi0lower & cut_minE & cut_pi0energy]\n",
    "# df_dvpi0.loc[:, \"Mpi0\"] = df_dvpi0[\"Mpi0\"]/0.1349768\n",
    "print(len(df_dvpi0))\n",
    "mpi0_edges = np.linspace(0.5, 1.5, 101)\n",
    "# df_dvpi0.loc[:,\"Mpi0\"]"
   ]
  },
  {
   "cell_type": "code",
   "execution_count": 113,
   "metadata": {},
   "outputs": [
    {
     "name": "stdout",
     "output_type": "stream",
     "text": [
      "Using matplotlib backend: MacOSX\n",
      "92717\n",
      "1.025109847173281\n"
     ]
    }
   ],
   "source": [
    "%matplotlib\n",
    "fig, ax = plt.subplots()\n",
    "cmap = copy(plt.cm.get_cmap(\"jet\"))\n",
    "df_sym = df_dvpi0\n",
    "print(len(df_sym))\n",
    "print(((0.1349768/df_sym[\"Mpi0\"])).mean())\n",
    "# ax.hist2d(df_sym[\"Ge\"], (0.1349768/df_sym[\"Mpi0\"])**2-1, bins = [51, 51], cmap = cmap, cmin = 1)\n",
    "ax.hist(df_sym[\"Mpi0\"]/0.1349768, bins = np.linspace(0.8, 1.2, 51))\n",
    "# plt.xlim([-0.5, 1.2])\n",
    "# ax.hist2d(df_sym[\"Ge2\"], (df_sym[\"Mpi0\"]/0.1349768), bins = [51, 51], cmap = cmap, cmin = 1)\n",
    "# plt.xlabel(\"ME_epgg\")\n",
    "# plt.ylabel(\"reconstructed pi0 mass\")\n",
    "# ax.hist(df_dvpi0[\"Mpi0\"], bins = 101)\n",
    "plt.show()\n"
   ]
  },
  {
   "cell_type": "code",
   "execution_count": 96,
   "metadata": {},
   "outputs": [],
   "source": [
    "df_corr = df_epgg"
   ]
  },
  {
   "cell_type": "code",
   "execution_count": 97,
   "metadata": {},
   "outputs": [],
   "source": [
    "cut_gFD = df_corr[\"Gstat\"] > 2000  # FD\n",
    "cut_gFT = df_corr[\"Gstat\"] < 2000  # FT\n",
    "cut_g2FD = df_corr[\"Gstat2\"] > 2000  # FD\n",
    "cut_g2FT = df_corr[\"Gstat2\"] < 2000  # FT"
   ]
  },
  {
   "cell_type": "code",
   "execution_count": 98,
   "metadata": {},
   "outputs": [],
   "source": [
    "df_corr[\"Ge\"] = np.where(cut_gFD, 0.25 + df_corr[\"Ge\"], df_corr[\"Ge\"])\n",
    "df_corr[\"Gpx\"] = np.where(cut_gFD, df_corr[\"Ge\"]/(df_corr[\"Ge\"]-0.25)*df_corr[\"Gpx\"], df_corr[\"Gpx\"])\n",
    "df_corr[\"Gpy\"] = np.where(cut_gFD, df_corr[\"Ge\"]/(df_corr[\"Ge\"]-0.25)*df_corr[\"Gpy\"], df_corr[\"Gpy\"])\n",
    "df_corr[\"Gpz\"] = np.where(cut_gFD, df_corr[\"Ge\"]/(df_corr[\"Ge\"]-0.25)*df_corr[\"Gpz\"], df_corr[\"Gpz\"])\n",
    "# df_corr[\"Ge2\"] = np.where(cut_g2FD, 0.25 + df_corr[\"Ge2\"], df_corr[\"Ge2\"])\n",
    "# df_corr[\"Gpx2\"] = np.where(cut_g2FD, df_corr[\"Ge2\"]/(df_corr[\"Ge2\"]-0.25)*df_corr[\"Gpx2\"], df_corr[\"Gpx2\"])\n",
    "# df_corr[\"Gpy2\"] = np.where(cut_g2FD, df_corr[\"Ge2\"]/(df_corr[\"Ge2\"]-0.25)*df_corr[\"Gpy2\"], df_corr[\"Gpy2\"])\n",
    "# df_corr[\"Gpz2\"] = np.where(cut_g2FD, df_corr[\"Ge2\"]/(df_corr[\"Ge2\"]-0.25)*df_corr[\"Gpz2\"], df_corr[\"Gpz2\"])"
   ]
  },
  {
   "cell_type": "code",
   "execution_count": 99,
   "metadata": {},
   "outputs": [],
   "source": [
    "# useful objects\n",
    "ele = [df_corr['Epx'], df_corr['Epy'], df_corr['Epz']]\n",
    "pro = [df_corr['Ppx'], df_corr['Ppy'], df_corr['Ppz']]\n",
    "gam = [df_corr['Gpx'], df_corr['Gpy'], df_corr['Gpz']]\n",
    "gam2 = [df_corr['Gpx2'], df_corr['Gpy2'], df_corr['Gpz2']]\n",
    "pi0 = vecAdd(gam, gam2)\n",
    "VGS = [-df_corr['Epx'], -df_corr['Epy'], pbeam - df_corr['Epz']]\n",
    "v3l = cross(beam, ele)\n",
    "v3h = cross(pro, VGS)\n",
    "v3g = cross(VGS, gam)\n",
    "VmissPi0 = [-df_corr[\"Epx\"] - df_corr[\"Ppx\"], -df_corr[\"Epy\"] -\n",
    "            df_corr[\"Ppy\"], pbeam - df_corr[\"Epz\"] - df_corr[\"Ppz\"]]\n",
    "Vmiss = [-df_corr[\"Epx\"] - df_corr[\"Ppx\"] - df_corr[\"Gpx\"] - df_corr[\"Gpx2\"],\n",
    "            -df_corr[\"Epy\"] - df_corr[\"Ppy\"] - df_corr[\"Gpy\"] - df_corr[\"Gpy2\"],\n",
    "            pbeam - df_corr[\"Epz\"] - df_corr[\"Ppz\"] - df_corr[\"Gpz\"] - df_corr[\"Gpz2\"]]"
   ]
  },
  {
   "cell_type": "code",
   "execution_count": 100,
   "metadata": {},
   "outputs": [],
   "source": [
    "# exclusivity variables\n",
    "df_corr['MM2_ep'] = (-M - ebeam + df_corr[\"Ee\"] +\n",
    "                     df_corr[\"Pe\"])**2 - mag2(VmissPi0)\n",
    "df_corr['MM2_epgg'] = (-M - ebeam + df_corr[\"Ee\"] +\n",
    "                     df_corr[\"Pe\"] + df_corr[\"Ge\"] + df_corr[\"Ge2\"])**2 - mag2(Vmiss)\n",
    "df_corr['ME_epgg'] = (M + ebeam - df_corr[\"Ee\"] - df_corr[\"Pe\"] - df_corr[\"Ge\"] - df_corr[\"Ge2\"])\n",
    "df_corr['Mpi0'] = pi0InvMass(gam, gam2)\n",
    "df_corr['reconPi'] = angle(VmissPi0, pi0)\n",
    "df_corr[\"Pie\"] = df_corr['Ge'] + df_corr['Ge2']\n",
    "df_corr[\"sintheta\"] = np.sin(np.pi/180.*angle(gam, gam2))"
   ]
  },
  {
   "cell_type": "code",
   "execution_count": 101,
   "metadata": {},
   "outputs": [],
   "source": [
    "#\tKinematic cuts\n",
    "#   xB>0 && xB<1 && W>2 && Q2>1 && VE.e()>2 && VG1.e() > 2 && VP.p() > 0.12\n",
    "cut_pFD = df_corr[\"Pstat\"] < 4000  # FD\n",
    "cut_pCD = df_corr[\"Pstat\"] > 4000  # CD\n",
    "cut_gFD = df_corr[\"Gstat\"] > 2000  # FD\n",
    "cut_gFT = df_corr[\"Gstat\"] < 2000  # FT\n",
    "cut_g2FD = df_corr[\"Gstat2\"] > 2000  # FD\n",
    "cut_g2FT = df_corr[\"Gstat2\"] < 2000  # FT\n",
    "cut_FTFT = cut_gFT & cut_g2FT\n",
    "cut_FDFT = cut_gFD & cut_g2FT\n",
    "cut_FTFD = cut_gFT & cut_g2FD\n",
    "cut_FDFD = cut_gFD & cut_g2FD\n",
    "cut_xBupper = df_corr[\"xB\"] < 1  # xB\n",
    "cut_xBlower = df_corr[\"xB\"] > 0  # xB\n",
    "cut_Q2 = df_corr[\"Q2\"] > 1  # Q2\n",
    "cut_W = df_corr[\"W\"] > 2  # W"
   ]
  },
  {
   "cell_type": "code",
   "execution_count": 102,
   "metadata": {},
   "outputs": [],
   "source": [
    "#\tExclusivity cuts\n",
    "cut_mmep = df_corr[\"MM2_ep\"] < 0.7  # mmep\n",
    "cut_meepgg = df_corr[\"ME_epgg\"] < 0.7  # meepgg\n",
    "cut_mpt = df_corr[\"MPt\"] < 0.2  # mpt\n",
    "cut_recon = df_corr[\"reconPi\"] < 2  # recon gam angle\n",
    "cut_pi0upper = df_corr[\"Mpi0\"] < 0.2\n",
    "cut_pi0lower = df_corr[\"Mpi0\"] > 0.07\n",
    "cut_pi0energy = 1#(df_corr[\"Pie\"] > 2) & (df_corr[\"Pie\"] <4)\n",
    "# cut_maxE = 1#df_corr[[\"Ge\", \"Ge2\"]].max(1) > 2\n",
    "cut_minE = 1#df_corr[[\"Ge\", \"Ge2\"]].min(1) > 1\n",
    "cut_sector = (df_corr[\"Esector\"]!=df_corr[\"Gsector\"]) & (df_corr[\"Esector\"]!=df_corr[\"Gsector2\"])"
   ]
  },
  {
   "cell_type": "code",
   "execution_count": 103,
   "metadata": {},
   "outputs": [
    {
     "name": "stdout",
     "output_type": "stream",
     "text": [
      "120694\n"
     ]
    }
   ],
   "source": [
    "df_dvpi0corr = df_corr[cut_sector & cut_pFD & cut_FDFD & cut_xBupper & cut_xBlower & cut_Q2 & cut_W & cut_mmep & cut_meepgg &\n",
    "                   cut_mpt & cut_recon & cut_pi0upper & cut_pi0lower & cut_pi0energy]\n",
    "# df_dvpi0.loc[:, \"Mpi0\"] = df_dvpi0[\"Mpi0\"]/0.1349768\n",
    "print(len(df_dvpi0corr))\n",
    "mpi0_edges = np.linspace(0.5, 1.5, 101)\n",
    "# df_dvpi0.loc[:,\"Mpi0\"]"
   ]
  },
  {
   "cell_type": "code",
   "execution_count": 116,
   "metadata": {},
   "outputs": [
    {
     "name": "stdout",
     "output_type": "stream",
     "text": [
      "Using matplotlib backend: MacOSX\n"
     ]
    }
   ],
   "source": [
    "%matplotlib\n",
    "fig, ax = plt.subplots()\n",
    "cmap = copy(plt.cm.get_cmap(\"jet\"))\n",
    "df_sym = df_dvpi0corr[df_dvpi0corr['Ge2']>0.5]#[np.abs(df_dvpi0corr[\"Ge2\"]-df_dvpi0corr[\"Ge\"])<2]\n",
    "ax.hist(df_sym[\"Mpi0\"]/0.1349768, bins = np.linspace(0.8, 1.2, 51))\n",
    "\n",
    "# print(len(df_sym))\n",
    "# print((0.1349768/df_sym[\"Mpi0\"]).mean())\n",
    "# # ax.hist2d(df_sym[\"Ge\"], (0.1349768/df_sym[\"Mpi0\"])**2-1, bins = [51, 51], cmap = cmap, cmin = 1)\n",
    "# ax.hist2d(df_sym[\"Ge2\"], df_sym[\"Mpi0\"]/0.1349768, bins = [51, 51], cmap = cmap, cmin = 1)\n",
    "# plt.xlabel(\"Ge\")\n",
    "# plt.ylabel(\"reconstructed pi0 mass\")\n",
    "# ax.hist(df_dvpi0[\"Mpi0\"], bins = 101)\n",
    "plt.show()\n"
   ]
  },
  {
   "cell_type": "code",
   "execution_count": 22,
   "metadata": {},
   "outputs": [],
   "source": [
    "beam = [0, 0, pbeam]\n",
    "target = [0, 0, 0]\n",
    "ele = [df_epg['Epx'], df_epg['Epy'], df_epg['Epz']]\n",
    "pro = [df_epg['Ppx'], df_epg['Ppy'], df_epg['Ppz']]\n",
    "gam = [df_epg['Gpx'], df_epg['Gpy'], df_epg['Gpz']]"
   ]
  },
  {
   "cell_type": "code",
   "execution_count": 23,
   "metadata": {},
   "outputs": [],
   "source": [
    "#energy\n",
    "df_epg['Ee'] = np.sqrt(me**2+df_epg[\"Epx\"]**2+df_epg[\"Epy\"]**2+df_epg[\"Epz\"]**2)\n",
    "df_epg['Pe'] = np.sqrt(M**2+df_epg[\"Ppx\"]**2+df_epg[\"Ppy\"]**2+df_epg[\"Ppz\"]**2)\n",
    "df_epg['Ge'] = np.sqrt(df_epg[\"Gpx\"]**2+df_epg[\"Gpy\"]**2+df_epg[\"Gpz\"]**2)"
   ]
  },
  {
   "cell_type": "code",
   "execution_count": 24,
   "metadata": {},
   "outputs": [],
   "source": [
    "#binning kinematics\n",
    "df_epg['Q2'] = -((ebeam-df_epg['Ee'])**2-df_epg['Epx']**2-df_epg['Epy']**2-(pbeam-df_epg['Epz'])**2)\n",
    "df_epg['xB'] = df_epg['Q2']/2.0/M/(ebeam-df_epg['Ee'])\n",
    "df_epg['nu'] = (ebeam-df_epg['Ee'])\n",
    "VGS = [-df_epg['Epx'], -df_epg['Epy'], pbeam - df_epg['Epz']]\n",
    "df_epg['t1'] = 2*M*(df_epg['Pe']-M)\n",
    "costheta = cosTheta(VGS, gam)\n",
    "df_epg['t2'] = (M*df_epg['Q2']+2*M*df_epg['nu']*(df_epg['nu']-np.sqrt(df_epg['nu']*df_epg['nu']+df_epg['Q2'])*costheta))/(M+df_epg['nu']-np.sqrt(df_epg['nu']*df_epg['nu']+df_epg['Q2'])*costheta)\n",
    "df_epg['W'] = np.sqrt((ebeam+M-df_epg['Ee'])**2-df_epg['Epx']**2-df_epg['Epy']**2-(pbeam-df_epg['Epz'])**2)"
   ]
  },
  {
   "cell_type": "code",
   "execution_count": 25,
   "metadata": {},
   "outputs": [],
   "source": [
    "v3l = cross(beam, ele)\n",
    "v3h = cross(pro, VGS)\n",
    "v3g = cross(VGS, gam)"
   ]
  },
  {
   "cell_type": "code",
   "execution_count": 26,
   "metadata": {},
   "outputs": [],
   "source": [
    "df_epg['phi1'] = angle(v3l, v3h)\n",
    "df_epg['phi1'] = np.where(dot(v3l, pro)>0, 360.0 - df_epg['phi1'], df_epg['phi1'])"
   ]
  },
  {
   "cell_type": "code",
   "execution_count": 27,
   "metadata": {},
   "outputs": [],
   "source": [
    "df_epg['phi2'] = angle(v3l, v3g)\n",
    "df_epg['phi2'] = np.where(dot(VGS, cross(v3l, v3g))<0, 360.0 - df_epg['phi2'], df_epg['phi2'])"
   ]
  },
  {
   "cell_type": "code",
   "execution_count": 28,
   "metadata": {},
   "outputs": [],
   "source": [
    "#exclusivity variables\n",
    "df_epg['MM2_epg'] = (-M-ebeam+df_epg[\"Ee\"]+df_epg[\"Pe\"]+df_epg[\"Ge\"])**2 - (df_epg[\"Epx\"]+df_epg[\"Ppx\"]+df_epg[\"Gpx\"])**2 - \\\n",
    "(df_epg[\"Epy\"]+df_epg[\"Ppy\"]+df_epg[\"Gpy\"])**2 -(-pbeam+df_epg[\"Epz\"]+df_epg[\"Ppz\"]+df_epg[\"Gpz\"]) **2\n",
    "df_epg['ME_epg'] = (M+ebeam-df_epg[\"Ee\"]-df_epg[\"Pe\"]-df_epg[\"Ge\"])\n",
    "df_epg['MM2_ep'] = (-M-ebeam+df_epg[\"Ee\"]+df_epg[\"Pe\"])**2 - (df_epg[\"Epx\"]+df_epg[\"Ppx\"])**2 - \\\n",
    "(df_epg[\"Epy\"]+df_epg[\"Ppy\"])**2 -(-pbeam+df_epg[\"Epz\"]+df_epg[\"Ppz\"]) **2\n",
    "df_epg['MM2_eg'] = (-M-ebeam+df_epg[\"Ee\"]+df_epg[\"Ge\"])**2 - (df_epg[\"Epx\"]+df_epg[\"Gpx\"])**2 - \\\n",
    "(df_epg[\"Epy\"]+df_epg[\"Gpy\"])**2 -(-pbeam+df_epg[\"Epz\"]+df_epg[\"Gpz\"]) **2\n",
    "df_epg['MPt'] = np.sqrt((df_epg[\"Epx\"]+df_epg[\"Ppx\"]+df_epg[\"Gpx\"])**2 + \\\n",
    "(df_epg[\"Epy\"]+df_epg[\"Ppy\"]+df_epg[\"Gpy\"])**2)\n",
    "df_epg['coneAngle'] = angle(ele, gam)#180.*/np.pi*np.arccos((df_epg[\"Epx\"]*df_epg[\"Gpx\"]+df_epg[\"Epy\"]*df_epg[\"Gpy\"]+df_epg[\"Epz\"]*df_epg[\"Gpz\"])/np.sqrt(df_epg[\"Epx\"]*df_epg[\"Epx\"]+df_epg[\"Epy\"]*df_epg[\"Epy\"]+df_epg[\"Epz\"]*df_epg[\"Epz\"])/np.sqrt(df_epg[\"Gpx\"]*df_epg[\"Gpx\"]+df_epg[\"Gpy\"]*df_epg[\"Gpy\"]+df_epg[\"Gpz\"]*df_epg[\"Gpz\"]))\n",
    "VmissG = [-df_epg[\"Epx\"]-df_epg[\"Ppx\"], -df_epg[\"Epy\"]-df_epg[\"Ppy\"], pbeam-df_epg[\"Epz\"]-df_epg[\"Ppz\"]]\n",
    "df_epg['reconGam'] = angle(gam, VmissG)\n",
    "Vhadr = cross(pro, VGS)\n",
    "Vhad2 = cross(VGS, gam)\n",
    "df_epg['coplanarity'] = angle(Vhadr, Vhad2)"
   ]
  },
  {
   "cell_type": "code",
   "execution_count": 28,
   "metadata": {},
   "outputs": [],
   "source": [
    "# df_epg[\"xB\"][0:5]\n",
    "# df_epg[\"Q2\"][0:5]\n",
    "# df_epg[\"W\"][0:5]\n",
    "# df_epg[\"Ee\"][0:5]\n",
    "# df_epg[\"Ge\"][0:5]\n",
    "# np.sqrt(dot([df_epg[\"Ppx\"],df_epg[\"Ppy\"],df_epg[\"Ppz\"]],[df_epg[\"Ppx\"],df_epg[\"Ppy\"],df_epg[\"Ppz\"]]))[0:5]\n",
    "# df_epg[\"coneAngle\"][0:5]*np.pi/180\n",
    "# df_epg[\"reconGam\"][0:5]*np.pi/180\n",
    "# df_epg[\"MPt\"][0:5]\n",
    "# np.abs(df_epg[\"MM2_epg\"])[0:5]\n",
    "# df_epg[\"ME_epg\"][0:5]\n",
    "# np.sqrt(df_epg[\"MM2_eg\"])[0:5]\n"
   ]
  },
  {
   "cell_type": "code",
   "execution_count": 29,
   "metadata": {},
   "outputs": [],
   "source": [
    "df_epg=df_epg[df_epg[\"MM2_eg\"]>0]"
   ]
  },
  {
   "cell_type": "code",
   "execution_count": 30,
   "metadata": {},
   "outputs": [],
   "source": [
    "#cuts\n",
    "#Kinematics\n",
    "#      xB>0 && xB<1 && W>2 && Q2>1 && VE.e()>2 && VG1.e() > 2 && VP.p() > 0.12\n",
    "cut_forward = df_epg[\"Pstat\"]<4000\n",
    "cut_central = df_epg[\"Pstat\"]>4000\n",
    "cut_xBupper = df_epg[\"xB\"]<1\n",
    "cut_xBlower = df_epg[\"xB\"]>0\n",
    "cut_Q2 = df_epg[\"Q2\"]>1\n",
    "cut_W = df_epg[\"W\"]>2\n",
    "cut_Ee = df_epg[\"Ee\"]>2\n",
    "cut_Ge = df_epg[\"Ge\"]>2\n",
    "cut_Pp = np.sqrt(dot([df_epg[\"Ppx\"],df_epg[\"Ppy\"],df_epg[\"Ppz\"]],[df_epg[\"Ppx\"],df_epg[\"Ppy\"],df_epg[\"Ppz\"]]))>0.12"
   ]
  },
  {
   "cell_type": "code",
   "execution_count": 31,
   "metadata": {},
   "outputs": [],
   "source": [
    "#Exclusive\n",
    "#mmepg\n",
    "cut_mmepg = np.abs(df_epg[\"MM2_epg\"])<0.04\n",
    "# #mmeg\n",
    "cut_mmegupper = np.sqrt(df_epg[\"MM2_eg\"])<1.7\n",
    "cut_mmeglower = np.sqrt(df_epg[\"MM2_eg\"])>0.1\n",
    "#meepg\n",
    "cut_meepgupper = df_epg[\"ME_epg\"]<1.2\n",
    "cut_meepglower = df_epg[\"ME_epg\"]>-0.5\n",
    "#mpt\n",
    "cut_mpt = df_epg[\"MPt\"]<0.12\n",
    "#coneangle\n",
    "cut_cone = df_epg[\"coneAngle\"]>10\n",
    "#recon gam angle\n",
    "cut_recon = df_epg[\"reconGam\"]<1.1\n",
    "#cut on coplanarity\n",
    "#cut on mmep"
   ]
  },
  {
   "cell_type": "code",
   "execution_count": 44,
   "metadata": {},
   "outputs": [],
   "source": [
    "df_dvcs = df_epg[cut_xBupper & cut_xBlower & cut_Q2 & cut_W & cut_Ee & cut_Ge & cut_Pp & cut_mmepg &\n",
    "                 cut_mmegupper & cut_mmeglower & cut_meepgupper & cut_meepglower & cut_mpt & cut_cone & cut_recon]\n"
   ]
  },
  {
   "cell_type": "code",
   "execution_count": 45,
   "metadata": {},
   "outputs": [],
   "source": [
    "pi0to2gammas = df_dvcs[\"event\"].isin(df_dvpi0[\"event\"])\n",
    "df_dvcs = df_dvcs[~pi0to2gammas]"
   ]
  },
  {
   "cell_type": "code",
   "execution_count": 46,
   "metadata": {},
   "outputs": [
    {
     "data": {
      "text/plain": [
       "605011"
      ]
     },
     "execution_count": 46,
     "metadata": {},
     "output_type": "execute_result"
    }
   ],
   "source": [
    "len(df_dvcs)"
   ]
  },
  {
   "cell_type": "code",
   "execution_count": 47,
   "metadata": {},
   "outputs": [],
   "source": [
    "df_dvcs = df_dvcs[df_dvcs[\"Esector\"]!=df_dvcs[\"Gsector\"]]"
   ]
  },
  {
   "cell_type": "code",
   "execution_count": 48,
   "metadata": {},
   "outputs": [
    {
     "data": {
      "text/plain": [
       "604926"
      ]
     },
     "execution_count": 48,
     "metadata": {},
     "output_type": "execute_result"
    }
   ],
   "source": [
    "len(df_dvcs)"
   ]
  },
  {
   "cell_type": "code",
   "execution_count": 35,
   "metadata": {},
   "outputs": [
    {
     "data": {
      "text/plain": [
       "array([[<AxesSubplot:title={'center':'xB'}>]], dtype=object)"
      ]
     },
     "execution_count": 35,
     "metadata": {},
     "output_type": "execute_result"
    },
    {
     "data": {
      "image/png": "[encoded data removed]",
      "text/plain": [
       "<Figure size 432x288 with 1 Axes>"
      ]
     },
     "metadata": {
      "needs_background": "light"
     },
     "output_type": "display_data"
    }
   ],
   "source": [
    "df_epg.hist(column=\"xB\", bins=100)"
   ]
  },
  {
   "cell_type": "code",
   "execution_count": 36,
   "metadata": {},
   "outputs": [],
   "source": [
    "df_dvcsForward = df_epg[cut_forward&cut_xBupper&cut_xBlower&cut_Q2&cut_W&cut_Ee&cut_Ge&cut_Pp &cut_mmepg & cut_mmegupper & cut_mmeglower & cut_meepgupper & cut_meepglower & cut_mpt & cut_cone & cut_recon]\n",
    "df_dvcsCentral = df_epg[cut_central&cut_xBupper&cut_xBlower&cut_Q2&cut_W&cut_Ee&cut_Ge&cut_Pp &cut_mmepg & cut_mmegupper & cut_mmeglower & cut_meepgupper & cut_meepglower & cut_mpt & cut_cone & cut_recon]"
   ]
  },
  {
   "cell_type": "code",
   "execution_count": 76,
   "metadata": {},
   "outputs": [
    {
     "data": {
      "text/plain": [
       "50695"
      ]
     },
     "execution_count": 76,
     "metadata": {},
     "output_type": "execute_result"
    }
   ],
   "source": [
    "len(df_dvcsForward[\"event\"])"
   ]
  },
  {
   "cell_type": "code",
   "execution_count": 91,
   "metadata": {},
   "outputs": [
    {
     "name": "stdout",
     "output_type": "stream",
     "text": [
      "Using matplotlib backend: MacOSX\n"
     ]
    }
   ],
   "source": [
    "%matplotlib\n",
    "fig, ax = plt.subplots()\n",
    "cmap = copy(plt.cm.get_cmap(\"jet\"))\n",
    "# df_sym = df_dvpi0corr[df_dvpi0corr['Ge2']>0.5]#[np.abs(df_dvpi0corr[\"Ge2\"]-df_dvpi0corr[\"Ge\"])<2]\n",
    "ax.hist(df_dvcsCentral[\"ME_epg\"], bins = np.linspace(-0.5, 1.2, 51))\n",
    "plt.xlim([-0.5,1.2])\n",
    "# print(len(df_sym))\n",
    "# print((0.1349768/df_sym[\"Mpi0\"]).mean())\n",
    "# ax.hist2d(df_sym[\"Ge\"], (0.1349768/df_sym[\"Mpi0\"])**2-1, bins = [51, 51], cmap = cmap, cmin = 1)\n",
    "# ax.hist2d(df_sym[\"Ge\"], df_sym[\"Mpi0\"]/0.1349768, bins = [51, 51], cmap = cmap, cmin = 1)\n",
    "# plt.xlabel(\"Ge\")\n",
    "# plt.ylabel(\"reconstructed pi0 mass\")\n",
    "# ax.hist(df_dvpi0[\"Mpi0\"], bins = 101)\n",
    "plt.show()\n"
   ]
  },
  {
   "cell_type": "code",
   "execution_count": 77,
   "metadata": {},
   "outputs": [
    {
     "data": {
      "image/png": "[encoded data removed]",
      "text/plain": [
       "<Figure size 432x288 with 1 Axes>"
      ]
     },
     "metadata": {
      "needs_background": "light"
     },
     "output_type": "display_data"
    }
   ],
   "source": []
  },
  {
   "cell_type": "code",
   "execution_count": 79,
   "metadata": {},
   "outputs": [
    {
     "data": {
      "text/html": [
       "<div>\n",
       "<style scoped>\n",
       "    .dataframe tbody tr th:only-of-type {\n",
       "        vertical-align: middle;\n",
       "    }\n",
       "\n",
       "    .dataframe tbody tr th {\n",
       "        vertical-align: top;\n",
       "    }\n",
       "\n",
       "    .dataframe thead th {\n",
       "        text-align: right;\n",
       "    }\n",
       "</style>\n",
       "<table border=\"1\" class=\"dataframe\">\n",
       "  <thead>\n",
       "    <tr style=\"text-align: right;\">\n",
       "      <th></th>\n",
       "      <th>Epx</th>\n",
       "      <th>Epy</th>\n",
       "      <th>Epz</th>\n",
       "      <th>event</th>\n",
       "      <th>Ppx</th>\n",
       "      <th>Ppy</th>\n",
       "      <th>Ppz</th>\n",
       "      <th>Pstat</th>\n",
       "      <th>Gstat</th>\n",
       "      <th>Gpx</th>\n",
       "      <th>...</th>\n",
       "      <th>phi1</th>\n",
       "      <th>phi2</th>\n",
       "      <th>MM2_epg</th>\n",
       "      <th>ME_epg</th>\n",
       "      <th>MM2_ep</th>\n",
       "      <th>MM2_eg</th>\n",
       "      <th>MPt</th>\n",
       "      <th>coneAngle</th>\n",
       "      <th>reconGam</th>\n",
       "      <th>coplanarity</th>\n",
       "    </tr>\n",
       "  </thead>\n",
       "  <tbody>\n",
       "    <tr>\n",
       "      <th>18</th>\n",
       "      <td>-0.753784</td>\n",
       "      <td>0.887033</td>\n",
       "      <td>4.895566</td>\n",
       "      <td>12</td>\n",
       "      <td>-0.498582</td>\n",
       "      <td>0.317820</td>\n",
       "      <td>2.075934</td>\n",
       "      <td>2230</td>\n",
       "      <td>2020.0</td>\n",
       "      <td>1.241927</td>\n",
       "      <td>...</td>\n",
       "      <td>190.190226</td>\n",
       "      <td>187.552565</td>\n",
       "      <td>0.021802</td>\n",
       "      <td>0.164891</td>\n",
       "      <td>1.058086</td>\n",
       "      <td>1.437631</td>\n",
       "      <td>0.050927</td>\n",
       "      <td>39.625663</td>\n",
       "      <td>0.919102</td>\n",
       "      <td>2.637660</td>\n",
       "    </tr>\n",
       "    <tr>\n",
       "      <th>133</th>\n",
       "      <td>0.630373</td>\n",
       "      <td>-1.164193</td>\n",
       "      <td>4.717692</td>\n",
       "      <td>77</td>\n",
       "      <td>-0.318428</td>\n",
       "      <td>0.045866</td>\n",
       "      <td>0.447476</td>\n",
       "      <td>2100</td>\n",
       "      <td>2030.0</td>\n",
       "      <td>-0.247556</td>\n",
       "      <td>...</td>\n",
       "      <td>70.976801</td>\n",
       "      <td>81.601318</td>\n",
       "      <td>-0.012180</td>\n",
       "      <td>0.400820</td>\n",
       "      <td>-0.080846</td>\n",
       "      <td>1.330556</td>\n",
       "      <td>0.067136</td>\n",
       "      <td>28.046861</td>\n",
       "      <td>0.849575</td>\n",
       "      <td>10.624516</td>\n",
       "    </tr>\n",
       "    <tr>\n",
       "      <th>358</th>\n",
       "      <td>-1.442151</td>\n",
       "      <td>0.015347</td>\n",
       "      <td>4.878903</td>\n",
       "      <td>235</td>\n",
       "      <td>0.345545</td>\n",
       "      <td>0.148999</td>\n",
       "      <td>0.490779</td>\n",
       "      <td>2100</td>\n",
       "      <td>2030.0</td>\n",
       "      <td>1.062705</td>\n",
       "      <td>...</td>\n",
       "      <td>35.562581</td>\n",
       "      <td>34.834999</td>\n",
       "      <td>-0.006519</td>\n",
       "      <td>0.155198</td>\n",
       "      <td>-0.209774</td>\n",
       "      <td>1.034236</td>\n",
       "      <td>0.035523</td>\n",
       "      <td>28.388482</td>\n",
       "      <td>0.062010</td>\n",
       "      <td>0.727582</td>\n",
       "    </tr>\n",
       "    <tr>\n",
       "      <th>373</th>\n",
       "      <td>1.179866</td>\n",
       "      <td>0.316151</td>\n",
       "      <td>3.063281</td>\n",
       "      <td>242</td>\n",
       "      <td>0.226473</td>\n",
       "      <td>0.048850</td>\n",
       "      <td>0.578634</td>\n",
       "      <td>2100</td>\n",
       "      <td>2030.0</td>\n",
       "      <td>-1.308641</td>\n",
       "      <td>...</td>\n",
       "      <td>177.960344</td>\n",
       "      <td>171.787249</td>\n",
       "      <td>0.004714</td>\n",
       "      <td>0.502373</td>\n",
       "      <td>0.083091</td>\n",
       "      <td>1.505993</td>\n",
       "      <td>0.113498</td>\n",
       "      <td>33.466623</td>\n",
       "      <td>0.279979</td>\n",
       "      <td>6.173095</td>\n",
       "    </tr>\n",
       "    <tr>\n",
       "      <th>482</th>\n",
       "      <td>0.583330</td>\n",
       "      <td>-1.116929</td>\n",
       "      <td>4.208818</td>\n",
       "      <td>313</td>\n",
       "      <td>0.108233</td>\n",
       "      <td>-0.102346</td>\n",
       "      <td>0.472765</td>\n",
       "      <td>2100</td>\n",
       "      <td>2030.0</td>\n",
       "      <td>-0.742113</td>\n",
       "      <td>...</td>\n",
       "      <td>191.940939</td>\n",
       "      <td>194.385743</td>\n",
       "      <td>-0.006062</td>\n",
       "      <td>0.072735</td>\n",
       "      <td>0.019072</td>\n",
       "      <td>0.928342</td>\n",
       "      <td>0.061703</td>\n",
       "      <td>30.690845</td>\n",
       "      <td>0.751400</td>\n",
       "      <td>2.444804</td>\n",
       "    </tr>\n",
       "    <tr>\n",
       "      <th>...</th>\n",
       "      <td>...</td>\n",
       "      <td>...</td>\n",
       "      <td>...</td>\n",
       "      <td>...</td>\n",
       "      <td>...</td>\n",
       "      <td>...</td>\n",
       "      <td>...</td>\n",
       "      <td>...</td>\n",
       "      <td>...</td>\n",
       "      <td>...</td>\n",
       "      <td>...</td>\n",
       "      <td>...</td>\n",
       "      <td>...</td>\n",
       "      <td>...</td>\n",
       "      <td>...</td>\n",
       "      <td>...</td>\n",
       "      <td>...</td>\n",
       "      <td>...</td>\n",
       "      <td>...</td>\n",
       "      <td>...</td>\n",
       "      <td>...</td>\n",
       "    </tr>\n",
       "    <tr>\n",
       "      <th>3464377</th>\n",
       "      <td>-0.626680</td>\n",
       "      <td>-1.062343</td>\n",
       "      <td>7.392796</td>\n",
       "      <td>2308186</td>\n",
       "      <td>-0.305522</td>\n",
       "      <td>0.193244</td>\n",
       "      <td>0.635458</td>\n",
       "      <td>2100</td>\n",
       "      <td>2030.0</td>\n",
       "      <td>0.891792</td>\n",
       "      <td>...</td>\n",
       "      <td>121.060772</td>\n",
       "      <td>118.587324</td>\n",
       "      <td>-0.006352</td>\n",
       "      <td>0.163827</td>\n",
       "      <td>-0.093937</td>\n",
       "      <td>1.054350</td>\n",
       "      <td>0.083277</td>\n",
       "      <td>35.519827</td>\n",
       "      <td>0.547867</td>\n",
       "      <td>2.473448</td>\n",
       "    </tr>\n",
       "    <tr>\n",
       "      <th>3464406</th>\n",
       "      <td>-0.978643</td>\n",
       "      <td>1.057845</td>\n",
       "      <td>5.321038</td>\n",
       "      <td>2308206</td>\n",
       "      <td>0.518734</td>\n",
       "      <td>0.269983</td>\n",
       "      <td>0.869591</td>\n",
       "      <td>2100</td>\n",
       "      <td>2020.0</td>\n",
       "      <td>0.420550</td>\n",
       "      <td>...</td>\n",
       "      <td>98.107535</td>\n",
       "      <td>97.993810</td>\n",
       "      <td>-0.004542</td>\n",
       "      <td>0.211703</td>\n",
       "      <td>-0.082582</td>\n",
       "      <td>1.082798</td>\n",
       "      <td>0.059871</td>\n",
       "      <td>32.215699</td>\n",
       "      <td>0.331114</td>\n",
       "      <td>0.113726</td>\n",
       "    </tr>\n",
       "    <tr>\n",
       "      <th>3464552</th>\n",
       "      <td>1.696630</td>\n",
       "      <td>0.144941</td>\n",
       "      <td>5.080699</td>\n",
       "      <td>2308302</td>\n",
       "      <td>0.019879</td>\n",
       "      <td>0.318534</td>\n",
       "      <td>1.718582</td>\n",
       "      <td>2200</td>\n",
       "      <td>2030.0</td>\n",
       "      <td>-1.758154</td>\n",
       "      <td>...</td>\n",
       "      <td>209.788090</td>\n",
       "      <td>206.172024</td>\n",
       "      <td>-0.001640</td>\n",
       "      <td>-0.060969</td>\n",
       "      <td>-0.000717</td>\n",
       "      <td>0.832977</td>\n",
       "      <td>0.051605</td>\n",
       "      <td>43.564946</td>\n",
       "      <td>0.550774</td>\n",
       "      <td>3.616066</td>\n",
       "    </tr>\n",
       "    <tr>\n",
       "      <th>3464574</th>\n",
       "      <td>1.463205</td>\n",
       "      <td>0.076815</td>\n",
       "      <td>5.170465</td>\n",
       "      <td>2308319</td>\n",
       "      <td>-0.265448</td>\n",
       "      <td>-0.074670</td>\n",
       "      <td>0.478624</td>\n",
       "      <td>2100</td>\n",
       "      <td>2030.0</td>\n",
       "      <td>-1.112565</td>\n",
       "      <td>...</td>\n",
       "      <td>24.191706</td>\n",
       "      <td>28.858546</td>\n",
       "      <td>-0.014035</td>\n",
       "      <td>0.370142</td>\n",
       "      <td>-0.186338</td>\n",
       "      <td>1.262851</td>\n",
       "      <td>0.085701</td>\n",
       "      <td>29.486249</td>\n",
       "      <td>0.135622</td>\n",
       "      <td>4.666840</td>\n",
       "    </tr>\n",
       "    <tr>\n",
       "      <th>3464641</th>\n",
       "      <td>-0.881081</td>\n",
       "      <td>1.240966</td>\n",
       "      <td>6.218637</td>\n",
       "      <td>2308363</td>\n",
       "      <td>0.251486</td>\n",
       "      <td>0.262275</td>\n",
       "      <td>1.247576</td>\n",
       "      <td>2230</td>\n",
       "      <td>2030.0</td>\n",
       "      <td>0.598362</td>\n",
       "      <td>...</td>\n",
       "      <td>143.014115</td>\n",
       "      <td>143.054210</td>\n",
       "      <td>-0.000885</td>\n",
       "      <td>0.162083</td>\n",
       "      <td>0.007796</td>\n",
       "      <td>1.010196</td>\n",
       "      <td>0.048758</td>\n",
       "      <td>41.508870</td>\n",
       "      <td>0.584932</td>\n",
       "      <td>0.040095</td>\n",
       "    </tr>\n",
       "  </tbody>\n",
       "</table>\n",
       "<p>67733 rows × 31 columns</p>\n",
       "</div>"
      ],
      "text/plain": [
       "              Epx       Epy       Epz    event       Ppx       Ppy       Ppz  \\\n",
       "18      -0.753784  0.887033  4.895566       12 -0.498582  0.317820  2.075934   \n",
       "133      0.630373 -1.164193  4.717692       77 -0.318428  0.045866  0.447476   \n",
       "358     -1.442151  0.015347  4.878903      235  0.345545  0.148999  0.490779   \n",
       "373      1.179866  0.316151  3.063281      242  0.226473  0.048850  0.578634   \n",
       "482      0.583330 -1.116929  4.208818      313  0.108233 -0.102346  0.472765   \n",
       "...           ...       ...       ...      ...       ...       ...       ...   \n",
       "3464377 -0.626680 -1.062343  7.392796  2308186 -0.305522  0.193244  0.635458   \n",
       "3464406 -0.978643  1.057845  5.321038  2308206  0.518734  0.269983  0.869591   \n",
       "3464552  1.696630  0.144941  5.080699  2308302  0.019879  0.318534  1.718582   \n",
       "3464574  1.463205  0.076815  5.170465  2308319 -0.265448 -0.074670  0.478624   \n",
       "3464641 -0.881081  1.240966  6.218637  2308363  0.251486  0.262275  1.247576   \n",
       "\n",
       "         Pstat   Gstat       Gpx  ...        phi1        phi2   MM2_epg  \\\n",
       "18        2230  2020.0  1.241927  ...  190.190226  187.552565  0.021802   \n",
       "133       2100  2030.0 -0.247556  ...   70.976801   81.601318 -0.012180   \n",
       "358       2100  2030.0  1.062705  ...   35.562581   34.834999 -0.006519   \n",
       "373       2100  2030.0 -1.308641  ...  177.960344  171.787249  0.004714   \n",
       "482       2100  2030.0 -0.742113  ...  191.940939  194.385743 -0.006062   \n",
       "...        ...     ...       ...  ...         ...         ...       ...   \n",
       "3464377   2100  2030.0  0.891792  ...  121.060772  118.587324 -0.006352   \n",
       "3464406   2100  2020.0  0.420550  ...   98.107535   97.993810 -0.004542   \n",
       "3464552   2200  2030.0 -1.758154  ...  209.788090  206.172024 -0.001640   \n",
       "3464574   2100  2030.0 -1.112565  ...   24.191706   28.858546 -0.014035   \n",
       "3464641   2230  2030.0  0.598362  ...  143.014115  143.054210 -0.000885   \n",
       "\n",
       "           ME_epg    MM2_ep    MM2_eg       MPt  coneAngle  reconGam  \\\n",
       "18       0.164891  1.058086  1.437631  0.050927  39.625663  0.919102   \n",
       "133      0.400820 -0.080846  1.330556  0.067136  28.046861  0.849575   \n",
       "358      0.155198 -0.209774  1.034236  0.035523  28.388482  0.062010   \n",
       "373      0.502373  0.083091  1.505993  0.113498  33.466623  0.279979   \n",
       "482      0.072735  0.019072  0.928342  0.061703  30.690845  0.751400   \n",
       "...           ...       ...       ...       ...        ...       ...   \n",
       "3464377  0.163827 -0.093937  1.054350  0.083277  35.519827  0.547867   \n",
       "3464406  0.211703 -0.082582  1.082798  0.059871  32.215699  0.331114   \n",
       "3464552 -0.060969 -0.000717  0.832977  0.051605  43.564946  0.550774   \n",
       "3464574  0.370142 -0.186338  1.262851  0.085701  29.486249  0.135622   \n",
       "3464641  0.162083  0.007796  1.010196  0.048758  41.508870  0.584932   \n",
       "\n",
       "         coplanarity  \n",
       "18          2.637660  \n",
       "133        10.624516  \n",
       "358         0.727582  \n",
       "373         6.173095  \n",
       "482         2.444804  \n",
       "...              ...  \n",
       "3464377     2.473448  \n",
       "3464406     0.113726  \n",
       "3464552     3.616066  \n",
       "3464574     4.666840  \n",
       "3464641     0.040095  \n",
       "\n",
       "[67733 rows x 31 columns]"
      ]
     },
     "execution_count": 79,
     "metadata": {},
     "output_type": "execute_result"
    }
   ],
   "source": [
    "df_dvcsForward"
   ]
  },
  {
   "cell_type": "code",
   "execution_count": 31,
   "metadata": {},
   "outputs": [
    {
     "name": "stderr",
     "output_type": "stream",
     "text": [
      "<ipython-input-31-447a48b8060f>:2: UserWarning: Boolean Series key will be reindexed to match DataFrame index.\n",
      "  df_epg = df_epg[cut_xBupper&cut_xBlower&cut_Q2&cut_W&cut_Ee&cut_Ge&cut_Pp]\n",
      "<ipython-input-31-447a48b8060f>:3: UserWarning: Boolean Series key will be reindexed to match DataFrame index.\n",
      "  df_epg = df_epg[cut_mmepg & cut_mmegupper & cut_mmeglower & cut_meepgupper & cut_meepglower & cut_mpt & cut_cone & cut_recon]\n"
     ]
    }
   ],
   "source": [
    "df_epg = df_epg[df_epg[\"MM2_eg\"]>0]\n",
    "df_epg = df_epg[cut_xBupper&cut_xBlower&cut_Q2&cut_W&cut_Ee&cut_Ge&cut_Pp]\n",
    "df_epg = df_epg[cut_mmepg & cut_mmegupper & cut_mmeglower & cut_meepgupper & cut_meepglower & cut_mpt & cut_cone & cut_recon]"
   ]
  },
  {
   "cell_type": "code",
   "execution_count": 35,
   "metadata": {},
   "outputs": [],
   "source": [
    "df_epgForward = test2[test2[\"Pstat\"]<4000]"
   ]
  },
  {
   "cell_type": "code",
   "execution_count": 44,
   "metadata": {},
   "outputs": [
    {
     "data": {
      "text/plain": [
       "18         0.276938\n",
       "43         0.411142\n",
       "133        0.361194\n",
       "158        0.631960\n",
       "358        0.427725\n",
       "             ...   \n",
       "3464406    0.425699\n",
       "3464552    0.598666\n",
       "3464574    0.440141\n",
       "3464641    0.493923\n",
       "3464648    0.437555\n",
       "Name: xB, Length: 74275, dtype: float64"
      ]
     },
     "execution_count": 44,
     "metadata": {},
     "output_type": "execute_result"
    }
   ],
   "source": [
    "df_epgForward[\"xB\"]"
   ]
  },
  {
   "cell_type": "code",
   "execution_count": 43,
   "metadata": {},
   "outputs": [
    {
     "data": {
      "text/plain": [
       "10         0.432079\n",
       "11         0.764697\n",
       "13         0.349229\n",
       "18         2.158494\n",
       "28         1.129309\n",
       "             ...   \n",
       "3464641    1.299415\n",
       "3464646    0.687101\n",
       "3464647    0.970053\n",
       "3464649    0.547467\n",
       "3464666    0.384846\n",
       "Length: 536817, dtype: float64"
      ]
     },
     "execution_count": 43,
     "metadata": {},
     "output_type": "execute_result"
    }
   ],
   "source": [
    "np.sqrt(dot([df_epg[\"Ppx\"],df_epg[\"Ppy\"],df_epg[\"Ppz\"]],[df_epg[\"Ppx\"],df_epg[\"Ppy\"],df_epg[\"Ppz\"]]))"
   ]
  },
  {
   "cell_type": "code",
   "execution_count": null,
   "metadata": {},
   "outputs": [],
   "source": []
  }
 ],
 "metadata": {
  "kernelspec": {
   "display_name": "Python 3",
   "language": "python",
   "name": "python3"
  },
  "language_info": {
   "codemirror_mode": {
    "name": "ipython",
    "version": 3
   },
   "file_extension": ".py",
   "mimetype": "text/x-python",
   "name": "python",
   "nbconvert_exporter": "python",
   "pygments_lexer": "ipython3",
   "version": "3.9.1"
  }
 },
 "nbformat": 4,
 "nbformat_minor": 4
}
