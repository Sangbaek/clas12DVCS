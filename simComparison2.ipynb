{
 "cells": [
  {
   "cell_type": "code",
   "execution_count": 1,
   "id": "featured-afghanistan",
   "metadata": {},
   "outputs": [],
   "source": [
    "from utils.epg import *\n",
    "import matplotlib.pyplot as plt\n",
    "from copy import copy\n",
    "cmap = copy(plt.cm.get_cmap(\"jet\"))\n",
    "from scipy.optimize import least_squares"
   ]
  },
  {
   "cell_type": "code",
   "execution_count": 2,
   "id": "brutal-frederick",
   "metadata": {},
   "outputs": [],
   "source": [
    "degree = r\"${}^{\\circ}$\"\n",
    "GeV = \"GeV\"\n",
    "GeV2 = \"GeV\"+r\"${}^{2}$\"\n",
    "GeVc = \"GeV/c\"\n",
    "GeVc2 = \"(GeV/c)\"+r\"${}^{2}$\""
   ]
  },
  {
   "cell_type": "code",
   "execution_count": null,
   "id": "following-baghdad",
   "metadata": {},
   "outputs": [],
   "source": [
    "import matplotlib\n",
    "# initial settings\n",
    "pgf_with_latex = {\n",
    "\t\t\"pgf.texsystem\": \"pdflatex\",\n",
    "\t\t\"text.usetex\": True,            # use LaTeX to write all text\n",
    "\t\t\"font.family\": \"sans-serif\",         \n",
    "\t\t\"font.sans-serif\": \"Helvetica\",\n",
    "\t\t\"font.size\": 25,\t\t\t\t# default font size\n",
    "\t\t\"axes.labelsize\": 24,\t\t\t# x and y label size\n",
    "\t\t\"axes.titlesize\": 24,           # subfigure title size, i.e. title size when one figure\n",
    "\t\t\"legend.fontsize\": 22,\t\t\t# legend size\n",
    "\t\t\"xtick.labelsize\": 23,\t\t\t# x axis tick label size\n",
    "\t\t\"ytick.labelsize\": 23,\t\t\t# y axis tick label \n",
    "\t\t\"figure.titlesize\": 25,         # Figure title size, useful when you have multiple plots in one canvas.\n",
    "\t\t\"pgf.preamble\": r\"\\usepackage{xcolor}\"     # xcolor for colours\n",
    "}\n",
    "matplotlib.rcParams.update(pgf_with_latex)"
   ]
  },
  {
   "cell_type": "code",
   "execution_count": null,
   "id": "forced-floor",
   "metadata": {},
   "outputs": [],
   "source": [
    "job2419 = pd.read_pickle(\"/Users/sangbaek/Dropbox (MIT)/data/pickles/2419.pkl\")\n",
    "job2420 = pd.read_pickle(\"/Users/sangbaek/Dropbox (MIT)/data/pickles/2420.pkl\")\n",
    "job2426 = pd.read_pickle(\"/Users/sangbaek/Dropbox (MIT)/data/pickles/2426.pkl\")\n",
    "job2458 = pd.read_pickle(\"/Users/sangbaek/Dropbox (MIT)/data/pickles/2458.pkl\")\n",
    "job2459 = pd.read_pickle(\"/Users/sangbaek/Dropbox (MIT)/data/pickles/2459.pkl\")\n",
    "job2720 = pd.read_pickle(\"/Users/sangbaek/Dropbox (MIT)/data/pickles/2720.pkl\")\n",
    "job2899 = pd.read_pickle(\"/Users/sangbaek/Dropbox (MIT)/data/pickles/2899.pkl\")\n",
    "job2930 = pd.read_pickle(\"/Users/sangbaek/Dropbox (MIT)/data/pickles/2930.pkl\")\n",
    "job2942_0 = pd.read_pickle(\"/Users/sangbaek/Dropbox (MIT)/data/pickles/2942_0.pkl\")\n",
    "job2942_0_gen = pd.read_pickle(\"/Users/sangbaek/Dropbox (MIT)/data/pickles/2942_0.gen.pkl\")\n",
    "expDvcsInb = pd.read_pickle(\"/Users/sangbaek/Dropbox (MIT)/data/pickles/dvcs_inb.pkl\")\n",
    "expDvcsOutb = pd.read_pickle(\"/Users/sangbaek/Dropbox (MIT)/data/pickles/dvcs_outb.pkl\")"
   ]
  },
  {
   "cell_type": "code",
   "execution_count": null,
   "id": "continental-journal",
   "metadata": {},
   "outputs": [],
   "source": [
    "def drawKine(sim1, sim2, exp=None, save = None):\n",
    "    varstoplot = [\"nu\", \"W\", \"Q2\", \"xB\", \"t2\", \"phi2\"]\n",
    "    title = [r\"$\\nu$\", r\"$W$\", r\"$Q^{2}$\", r\"$x_{B}$\", r\"$-t$\", r\"$\\phi_{trento}$\"]\n",
    "    unit = [GeV, GeV, GeVc2, None, GeV2, degree]\n",
    "    binstarts = [2, 2, 1, 0, 0, 0]\n",
    "    binends = [9, 4, 10, 1, 1.7, 360]\n",
    "    fig, axs = plt.subplots(2, 3, figsize = (15, 10))\n",
    "    for xind in range(0,3):\n",
    "        for yind in range(0, 2):\n",
    "            ind =xind+3*yind\n",
    "            start = binstarts[ind]\n",
    "            end = binends[ind]\n",
    "            bins = np.linspace(start, end, 51)\n",
    "            axs[yind, xind].hist(sim1[varstoplot[ind]], bins = bins, density = True, histtype='stepfilled', facecolor='none', edgecolor='r')\n",
    "            axs[yind, xind].hist(sim2[varstoplot[ind]], bins = bins, density = True, histtype='stepfilled', facecolor='none', edgecolor='b')\n",
    "            if exp is not None:\n",
    "                axs[yind, xind].hist(exp[varstoplot[ind]], bins = bins, density = True, histtype='stepfilled', facecolor='none', edgecolor='k')\n",
    "            axs[yind, xind].set_title(title[ind])\n",
    "            axs[yind, xind].set_xlim([start, end])\n",
    "            if (unit[ind]):\n",
    "                axs[yind, xind].set_xlabel(title[ind]+\" [\" + unit[ind] +\"]\")\n",
    "            else:\n",
    "                axs[yind, xind].set_xlabel(title[ind])\n",
    "    axs[0, 0].set_xticks([2, 4, 6, 8, 9])\n",
    "    axs[0, 2].set_xticks([1, 4, 7, 10])\n",
    "    axs[1, 1].set_xticks([0, 1, 1.7])\n",
    "    axs[1, 2].set_xticks(np.linspace(0, 360, 7))\n",
    "    \n",
    "    plt.tight_layout()\n",
    "    if save:\n",
    "        plt.savefig(save)\n",
    "    else:\n",
    "        plt.show()\n",
    "    plt.clf()"
   ]
  },
  {
   "cell_type": "code",
   "execution_count": null,
   "id": "seven-possibility",
   "metadata": {},
   "outputs": [],
   "source": [
    "def drawExcl(sim1, sim2, exp=None, save = None):\n",
    "    varstoplot = [\"coneAngle\", \"reconGam\", \"coplanarity\", \"ME_epg\", \"MM2_epg\", \"MM2_eg\", \"MM2_ep\", \"MPt\"]\n",
    "    title = [r\"$\\theta_{e'\\gamma}$\", r\"$\\theta_{\\gamma_{det.}\\gamma_{rec.}}$\", r\"$\\Delta\\phi$\" , \"ME\"+r\"${}_{e'p'\\gamma}$\", \"MM\"+r\"${}^{2}_{e'p'\\gamma}$\", \"MM\"+r\"${}^{2}_{e'\\gamma}$\", \"MM\"+r\"${}^{2}_{e'p'}$\", \"MPt\"+r\"${}_{e'p'\\gamma}$\"]\n",
    "    unit = [degree, degree, degree, GeV, GeV2, GeV2, GeV2, GeVc]\n",
    "    binstarts = [20, 0, 0, -0.5, -0.025, 0.1,-0.25 , 0]\n",
    "    binends = [50, 2.5, 20, 1.5, 0.025, 1.7, 0.25, 0.25]\n",
    "    fig, axs = plt.subplots(2, 4, figsize = (15,10))\n",
    "    for yind in range(0, 2):\n",
    "        for xind in range(0,4):\n",
    "            ind = 4*yind + xind\n",
    "            start = binstarts[ind]\n",
    "            end = binends[ind]\n",
    "            bins = np.linspace(start, end, 101)\n",
    "            axs[yind, xind].hist(sim1[varstoplot[ind]], bins = bins, density = True, histtype='stepfilled', facecolor='none', edgecolor='r')\n",
    "            axs[yind, xind].hist(sim2[varstoplot[ind]], bins = bins, density = True, histtype='stepfilled', facecolor='none', edgecolor='b')\n",
    "            if exp is not None:\n",
    "                axs[yind, xind].hist(exp[varstoplot[ind]], bins = bins, density = True, histtype='stepfilled', facecolor='none', edgecolor='k')\n",
    "            axs[yind, xind].set_title(title[ind])\n",
    "            axs[yind, xind].set_xlabel(title[ind]+\" [\" + unit[ind] +\"]\")\n",
    "            axs[yind, xind].set_xlim([start, end])\n",
    "    axs[0, 0].set_xticks([20, 35, 50])\n",
    "    axs[0, 1].set_xticks([0, 1.25, 2.5])\n",
    "    axs[0, 3].set_xticks([-0.5, 0, 0.5, 1, 1.5])\n",
    "    axs[1, 1].set_xticks([0.1, 1, 1.7])\n",
    "    axs[1, 3].set_xticks([0, 0.125, 0.25])\n",
    "    plt.tight_layout()\n",
    "    if save:\n",
    "        plt.savefig(save)\n",
    "    else:\n",
    "        plt.show()\n",
    "    plt.clf()"
   ]
  },
  {
   "cell_type": "code",
   "execution_count": null,
   "id": "forward-plant",
   "metadata": {},
   "outputs": [],
   "source": [
    "def drawVertex(sim1, sim2, exp=None, save = None):\n",
    "    varstoplot = [\"Evx\", \"Evy\", \"Evz\", \"Etheta\", \"Ptheta\", \"Gtheta\", \"Ephi\", \"Gphi\", \"Gphi\"]\n",
    "    title = [r\"$vx_{e'}$\", r\"$vy_{e'}$\", r\"$vz_{e'}$\", r\"$\\theta_{e'}$\", r\"$\\theta_{p'}$\", r\"$\\theta_{\\gamma}$\", r\"$\\phi_{e'}$\", r\"$\\phi_{p'}$\", r\"$\\phi_{\\gamma}$\" ]\n",
    "    unit = [\"cm\", \"cm\", \"cm\", degree, degree, degree, degree, degree, degree]\n",
    "    binstarts = [-0.2, -1, -6, 0, 0, 0, -180, -180, -180]\n",
    "    binends = [0.2, 1, 0, 45, 45, 45, 180, 180, 180]\n",
    "    fig, axs = plt.subplots(3, 3, figsize = (15,15))\n",
    "    for xind in range(0,3):\n",
    "        for yind in range(0, 3):\n",
    "            ind =xind+3*yind\n",
    "            start = binstarts[ind]\n",
    "            end = binends[ind]\n",
    "            bins = np.linspace(start, end, 51)\n",
    "            axs[yind, xind].hist(sim1[varstoplot[ind]], bins = bins, density = True, histtype='stepfilled', facecolor='none', edgecolor='r')\n",
    "            axs[yind, xind].hist(sim2[varstoplot[ind]], bins = bins, density = True, histtype='stepfilled', facecolor='none', edgecolor='b')\n",
    "            if exp is not None:\n",
    "                axs[yind, xind].hist(exp[varstoplot[ind]], bins = bins, density = True, histtype='stepfilled', facecolor='none', edgecolor='k')\n",
    "            axs[yind, xind].set_title(title[ind])\n",
    "            axs[yind, xind].set_xlim([start, end])\n",
    "            if (unit[ind]):\n",
    "                axs[yind, xind].set_xlabel(title[ind]+\" [\" + unit[ind] +\"]\")\n",
    "            else:\n",
    "                axs[yind, xind].set_xlabel(title[ind])\n",
    "    for i in range(3):\n",
    "        axs[1, i].set_xticks([0, 15, 30, 45])\n",
    "    for i in range(3):\n",
    "        axs[2, i].set_xticks(np.linspace(-180, 180, 5))\n",
    "    plt.tight_layout()\n",
    "    if save:\n",
    "        plt.savefig(save)\n",
    "    else:\n",
    "        plt.show()\n",
    "    plt.clf()"
   ]
  },
  {
   "cell_type": "code",
   "execution_count": null,
   "id": "given-trunk",
   "metadata": {},
   "outputs": [],
   "source": [
    "def drawCartesian(sim1, sim2, exp=None, save = None):\n",
    "    varstoplot = [\"Epx\", \"Ppx\", \"Gpx\", \"Epy\", \"Ppy\", \"Gpy\", \"Epz\", \"Ppz\", \"Gpz\", \"Ep\", \"Pp\", \"Gp\"]\n",
    "    title = [r\"$px_{e'}$\", r\"$px_{p'}$\", r\"$px_{\\gamma}$\", r\"$py_{e'}$\", r\"$py_{p'}$\", r\"$py_{\\gamma}$\", r\"$pz_{e'}$\", r\"$pz_{p'}$\", r\"$pz_{\\gamma}$\", r\"$p_{e'}$\", r\"$p_{p'}$\", \"$p_{\\gamma}$\"]\n",
    "    unit = [GeVc, GeVc, GeVc2, GeVc, GeVc, GeVc, GeVc, GeVc, GeVc, GeVc, GeVc, GeVc]\n",
    "    binstarts = [-2, -2, -2, -2, -2, -2, 0, -2, 0, 0, 0, 0]\n",
    "    binends = [2, 2, 2, 2, 2, 2, 10, 3, 10, 10, 3, 10]\n",
    "    fig, axs = plt.subplots(4, 3, figsize = (15,20))\n",
    "    for xind in range(0,3):\n",
    "        for yind in range(0, 4):\n",
    "            ind =xind+3*yind\n",
    "            start = binstarts[ind]\n",
    "            end = binends[ind]\n",
    "            bins = np.linspace(start, end, 51)\n",
    "            axs[yind, xind].hist(sim1[varstoplot[ind]], bins = bins, density = True, histtype='stepfilled', facecolor='none', edgecolor='r')\n",
    "            axs[yind, xind].hist(sim2[varstoplot[ind]], bins = bins, density = True, histtype='stepfilled', facecolor='none', edgecolor='b')\n",
    "            if exp is not None:\n",
    "                axs[yind, xind].hist(exp[varstoplot[ind]], bins = bins, density = True, histtype='stepfilled', facecolor='none', edgecolor='k')\n",
    "            axs[yind, xind].set_title(title[ind])\n",
    "            axs[yind, xind].set_xlim([start, end])\n",
    "            if (unit[ind]):\n",
    "                axs[yind, xind].set_xlabel(title[ind]+\" [\" + unit[ind] +\"]\")\n",
    "            else:\n",
    "                axs[yind, xind].set_xlabel(title[ind])\n",
    "    plt.tight_layout()\n",
    "    if save:\n",
    "        plt.savefig(save)\n",
    "    else:\n",
    "        plt.show()\n",
    "    plt.clf()"
   ]
  },
  {
   "cell_type": "code",
   "execution_count": 39,
   "id": "effective-tuner",
   "metadata": {},
   "outputs": [
    {
     "name": "stderr",
     "output_type": "stream",
     "text": [
      "/usr/local/lib/python3.9/site-packages/pandas/core/indexing.py:1676: SettingWithCopyWarning: \n",
      "A value is trying to be set on a copy of a slice from a DataFrame.\n",
      "Try using .loc[row_indexer,col_indexer] = value instead\n",
      "\n",
      "See the caveats in the documentation: https://pandas.pydata.org/pandas-docs/stable/user_guide/indexing.html#returning-a-view-versus-a-copy\n",
      "  self._setitem_single_column(ilocs[0], value, pi)\n"
     ]
    }
   ],
   "source": [
    "expInb1 = expDvcsInb[expDvcsInb.RunNum<5278]\n",
    "expInb2 = expDvcsInb[expDvcsInb.RunNum>5277]\n",
    "expInb1.loc[:, \"Evx\"] = expInb1.loc[:, \"Evx\"] - 0.0031\n",
    "expInb1.loc[:, \"Evy\"] = expInb1.loc[:, \"Evy\"] - (-0.0041)\n",
    "expInb2.loc[:, \"Evx\"] = expInb2.loc[:, \"Evx\"] - 0.035\n",
    "expInb2.loc[:, \"Evy\"] = expInb2.loc[:, \"Evy\"] - (-0.1)"
   ]
  },
  {
   "cell_type": "code",
   "execution_count": 40,
   "id": "fuzzy-bibliography",
   "metadata": {},
   "outputs": [
    {
     "data": {
      "text/plain": [
       "<Figure size 1080x720 with 0 Axes>"
      ]
     },
     "metadata": {},
     "output_type": "display_data"
    }
   ],
   "source": [
    "drawKine(job2419, job2420, save=\"24192420_1.pdf\")"
   ]
  },
  {
   "cell_type": "code",
   "execution_count": 41,
   "id": "raising-truth",
   "metadata": {},
   "outputs": [
    {
     "data": {
      "text/plain": [
       "<Figure size 1080x720 with 0 Axes>"
      ]
     },
     "metadata": {},
     "output_type": "display_data"
    }
   ],
   "source": [
    "drawExcl(job2419, job2420, save=\"24192420_2.pdf\")"
   ]
  },
  {
   "cell_type": "code",
   "execution_count": 42,
   "id": "informed-membership",
   "metadata": {},
   "outputs": [
    {
     "data": {
      "text/plain": [
       "<Figure size 1080x720 with 0 Axes>"
      ]
     },
     "metadata": {},
     "output_type": "display_data"
    }
   ],
   "source": [
    "drawKine(job2420[job2420.t2<1], job2426[job2426.t2<1], exp=expDvcsInb[expDvcsInb.t2<1], save = \"24202426.pdf\")"
   ]
  },
  {
   "cell_type": "code",
   "execution_count": 43,
   "id": "massive-malpractice",
   "metadata": {},
   "outputs": [
    {
     "data": {
      "text/plain": [
       "<Figure size 1080x720 with 0 Axes>"
      ]
     },
     "metadata": {},
     "output_type": "display_data"
    }
   ],
   "source": [
    "drawKine(job2942_0, expInb1, save = \"2942exp1.pdf\")"
   ]
  },
  {
   "cell_type": "code",
   "execution_count": 44,
   "id": "recognized-harrison",
   "metadata": {},
   "outputs": [
    {
     "data": {
      "text/plain": [
       "<Figure size 1080x720 with 0 Axes>"
      ]
     },
     "metadata": {},
     "output_type": "display_data"
    }
   ],
   "source": [
    "drawExcl(job2942_0, expInb1, save = \"2942exp2.pdf\")"
   ]
  },
  {
   "cell_type": "code",
   "execution_count": 45,
   "id": "transsexual-peripheral",
   "metadata": {},
   "outputs": [
    {
     "data": {
      "text/plain": [
       "<Figure size 1080x1080 with 0 Axes>"
      ]
     },
     "metadata": {},
     "output_type": "display_data"
    }
   ],
   "source": [
    "drawVertex(job2942_0, expInb1, save = \"2942exp3.pdf\")"
   ]
  },
  {
   "cell_type": "code",
   "execution_count": 46,
   "id": "established-reporter",
   "metadata": {},
   "outputs": [
    {
     "data": {
      "text/plain": [
       "<Figure size 1080x1440 with 0 Axes>"
      ]
     },
     "metadata": {},
     "output_type": "display_data"
    }
   ],
   "source": [
    "drawCartesian(job2942_0, expDvcsInb, save = \"2942exp4.pdf\")"
   ]
  },
  {
   "cell_type": "code",
   "execution_count": 12,
   "id": "aware-oregon",
   "metadata": {},
   "outputs": [
    {
     "data": {
      "image/png": "[encoded data removed]",
      "text/plain": [
       "<Figure size 1080x720 with 4 Axes>"
      ]
     },
     "metadata": {
      "needs_background": "light"
     },
     "output_type": "display_data"
    }
   ],
   "source": [
    "fig, ax = plt.subplots(2,2, figsize=(15,10))\n",
    "binx = np.linspace(-180, 180, 31)\n",
    "biny = np.linspace(-6, 0, 13)\n",
    "ax[0,0].hist2d(job2458.Ephi, job2458.Evz, cmap=cmap, bins =[binx, biny])\n",
    "ax[0,0].set_xlabel(r\"$\\phi$ \"+degree)\n",
    "ax[0,0].set_xticks(np.linspace(-180, 180, 7))\n",
    "ax[0,0].set_ylabel(r\"$vz$ \"+\"(cm)\")\n",
    "ax[0,1].hist2d(job2459.Ephi, job2459.Evz, cmap=cmap, bins =[binx, biny])\n",
    "ax[0,1].set_xlabel(r\"$\\phi$ \"+degree)\n",
    "ax[0,1].set_xticks(np.linspace(-180, 180, 7))\n",
    "ax[0,1].set_ylabel(r\"$vz$ \"+\"(cm)\")\n",
    "binx = np.linspace(-0.05, 0.15, 101)\n",
    "biny = np.linspace(-0.05, 0.15, 101)\n",
    "ax[1,0].hist2d(job2458.Evx, job2458.Evy, cmap=cmap, bins =[binx, biny])\n",
    "ax[1,0].set_xlabel(r\"$vx$ \"+\"(cm)\")\n",
    "ax[1,0].set_ylabel(r\"$vy$ \"+\"(cm)\")\n",
    "ax[1,1].hist2d(job2459.Evx, job2459.Evy, cmap=cmap, bins =[binx, biny])\n",
    "circle1 = plt.Circle((0.0483278, 0.0958866), 0.01, color='r')\n",
    "ax[1,1].add_patch(circle1)\n",
    "ax[1,1].set_xlabel(r\"$vx$ \"+\"(cm)\")\n",
    "ax[1,1].set_ylabel(r\"$vy$ \"+\"(cm)\")\n",
    "plt.tight_layout()\n",
    "plt.savefig(\"24582459.pdf\")"
   ]
  },
  {
   "cell_type": "code",
   "execution_count": null,
   "id": "diagnostic-tuning",
   "metadata": {},
   "outputs": [],
   "source": [
    "fig, ax = plt.subplots(1,2, figsize = (25, 10))\n",
    "job2942_0.GenEvz.hist(bins = np.linspace(-5.5,-0.5,5001), ax=ax[1])\n",
    "ax[1].set_xlabel(\"job 2942, generated vz (cm)\")\n",
    "job2899.GenEvz.hist(bins = np.linspace(-5.5,-0.5,5001), ax=ax[0])\n",
    "ax[0].set_xlabel(\"job 2899, generated vz (cm)\")\n",
    "plt.savefig(\"28992942.pdf\")"
   ]
  },
  {
   "cell_type": "code",
   "execution_count": 141,
   "id": "official-racing",
   "metadata": {},
   "outputs": [],
   "source": [
    "sim = job2930\n",
    "VGS = [-sim.GenEpx, -sim.GenEpy, pbeam - sim.GenEpz]\n",
    "ele = [sim.GenEpx, sim.GenEpy, sim.GenEpz]\n",
    "pro = [sim.GenPpx, sim.GenPpy, sim.GenPpz]\n",
    "gam = [sim.GenGpx, sim.GenGpy, sim.GenGpz]\n",
    "GenEe = getEnergy(ele, 0.0005)\n",
    "GenPe = getEnergy(pro, 0.9383)\n",
    "GenQ2 = -((ebeam - GenEe)**2 - mag2(VGS))\n",
    "GenNu = (ebeam - GenEe)\n",
    "GenY = GenNu/ebeam\n",
    "GenxB = GenQ2 / 2.0 / M / GenNu\n",
    "GenT = 2 * M * (GenPe - M)\n",
    "v3l = cross(beam, ele)\n",
    "v3h = cross(pro, VGS)\n",
    "v3g = cross(VGS, gam)\n",
    "GenPhi = angle(v3l, v3h)\n",
    "GenPhi = GenPhi*0 + np.where(dot(VGS, cross(v3l, pro)) > 0, 360.0 - GenPhi, GenPhi)\n",
    "\n",
    "GenW = np.sqrt(np.maximum(0, M*M + 2*M*GenNu-GenQ2))"
   ]
  },
  {
   "cell_type": "code",
   "execution_count": 148,
   "id": "blessed-cover",
   "metadata": {},
   "outputs": [
    {
     "name": "stdout",
     "output_type": "stream",
     "text": [
      "1.931016247660374\n"
     ]
    }
   ],
   "source": [
    "print(GenW.min())"
   ]
  },
  {
   "cell_type": "code",
   "execution_count": 150,
   "id": "korean-boating",
   "metadata": {},
   "outputs": [
    {
     "data": {
      "text/plain": [
       "<AxesSubplot:>"
      ]
     },
     "execution_count": 150,
     "metadata": {},
     "output_type": "execute_result"
    },
    {
     "data": {
      "image/png": "[encoded data removed]",
      "text/plain": [
       "<Figure size 432x288 with 1 Axes>"
      ]
     },
     "metadata": {
      "needs_background": "light"
     },
     "output_type": "display_data"
    }
   ],
   "source": [
    "GenQ2.hist(bins = np.linspace(1, 15, 101))"
   ]
  },
  {
   "cell_type": "code",
   "execution_count": 149,
   "id": "built-canyon",
   "metadata": {},
   "outputs": [
    {
     "data": {
      "text/plain": [
       "<AxesSubplot:>"
      ]
     },
     "execution_count": 149,
     "metadata": {},
     "output_type": "execute_result"
    },
    {
     "data": {
      "image/png": "[encoded data removed]",
      "text/plain": [
       "<Figure size 432x288 with 1 Axes>"
      ]
     },
     "metadata": {
      "needs_background": "light"
     },
     "output_type": "display_data"
    }
   ],
   "source": [
    "GenW.hist(bins = 361)"
   ]
  },
  {
   "cell_type": "code",
   "execution_count": 139,
   "id": "artistic-tomorrow",
   "metadata": {},
   "outputs": [
    {
     "data": {
      "text/plain": [
       "<AxesSubplot:>"
      ]
     },
     "execution_count": 139,
     "metadata": {},
     "output_type": "execute_result"
    },
    {
     "data": {
      "image/png": "[encoded data removed]",
      "text/plain": [
       "<Figure size 432x288 with 1 Axes>"
      ]
     },
     "metadata": {
      "needs_background": "light"
     },
     "output_type": "display_data"
    }
   ],
   "source": [
    "sim.W.hist(bins=361)"
   ]
  },
  {
   "cell_type": "code",
   "execution_count": 102,
   "id": "provincial-assignment",
   "metadata": {},
   "outputs": [
    {
     "data": {
      "text/plain": [
       "<AxesSubplot:>"
      ]
     },
     "execution_count": 102,
     "metadata": {},
     "output_type": "execute_result"
    },
    {
     "data": {
      "image/png": "[encoded data removed]",
      "text/plain": [
       "<Figure size 432x288 with 1 Axes>"
      ]
     },
     "metadata": {
      "needs_background": "light"
     },
     "output_type": "display_data"
    }
   ],
   "source": [
    "expDvcsInb.Evx.hist(density=True, bins =np.linspace(-1, 1, 101), histtype = \"stepfilled\", facecolor='none', edgecolor='k')\n",
    "sim.Evx.hist(density=True, bins =np.linspace(-1, 1, 101), histtype = \"stepfilled\", facecolor='none', edgecolor='r')"
   ]
  },
  {
   "cell_type": "code",
   "execution_count": 67,
   "id": "separated-fellowship",
   "metadata": {},
   "outputs": [
    {
     "data": {
      "text/plain": [
       "Index(['Epx', 'Epy', 'Epz', 'Evx', 'Evy', 'Evz', 'Esector', 'event', 'Ppx',\n",
       "       'Ppy', 'Ppz', 'Pvz', 'Psector', 'Pp', 'Ptheta', 'Pphi', 'Pe', 'Gpx',\n",
       "       'Gpy', 'Gpz', 'Gsector', 'GIndex', 'Ep', 'Ee', 'Etheta', 'Ephi', 'Gp',\n",
       "       'Ge', 'Gtheta', 'Gphi', 'Mpx', 'Mpy', 'Mpz', 'Q2', 'nu', 'y', 'xB',\n",
       "       't1', 't2', 'W', 'phi1', 'phi2', 'MM2_epg', 'ME_epg', 'MM2_ep',\n",
       "       'MM2_eg', 'MPt', 'coneAngle', 'reconGam', 'coplanarity'],\n",
       "      dtype='object')"
      ]
     },
     "execution_count": 67,
     "metadata": {},
     "output_type": "execute_result"
    }
   ],
   "source": [
    "expDvcsInb.columns"
   ]
  },
  {
   "cell_type": "code",
   "execution_count": 150,
   "id": "simple-antique",
   "metadata": {},
   "outputs": [],
   "source": [
    "VGS = [-job2420.Epx, -job2420.Epx, pbeam - job2420.Epz]\n",
    "GenQ2 = -((ebeam - job2420.Ee)**2 - mag2(VGS))"
   ]
  },
  {
   "cell_type": "code",
   "execution_count": 157,
   "id": "exciting-poultry",
   "metadata": {},
   "outputs": [
    {
     "data": {
      "text/plain": [
       "Series([], dtype: float64)"
      ]
     },
     "execution_count": 157,
     "metadata": {},
     "output_type": "execute_result"
    }
   ],
   "source": [
    "GenQ2[GenQ2.duplicated()]"
   ]
  },
  {
   "cell_type": "code",
   "execution_count": 187,
   "id": "logical-champion",
   "metadata": {},
   "outputs": [
    {
     "data": {
      "text/html": [
       "<div>\n",
       "<style scoped>\n",
       "    .dataframe tbody tr th:only-of-type {\n",
       "        vertical-align: middle;\n",
       "    }\n",
       "\n",
       "    .dataframe tbody tr th {\n",
       "        vertical-align: top;\n",
       "    }\n",
       "\n",
       "    .dataframe thead th {\n",
       "        text-align: right;\n",
       "    }\n",
       "</style>\n",
       "<table border=\"1\" class=\"dataframe\">\n",
       "  <thead>\n",
       "    <tr style=\"text-align: right;\">\n",
       "      <th></th>\n",
       "      <th>event</th>\n",
       "      <th>GenEpx</th>\n",
       "      <th>GenEpy</th>\n",
       "      <th>GenEpz</th>\n",
       "      <th>GenEvz</th>\n",
       "    </tr>\n",
       "  </thead>\n",
       "  <tbody>\n",
       "    <tr>\n",
       "      <th>0</th>\n",
       "      <td>3</td>\n",
       "      <td>-0.4697</td>\n",
       "      <td>-1.2258</td>\n",
       "      <td>6.4355</td>\n",
       "      <td>-2.5379</td>\n",
       "    </tr>\n",
       "    <tr>\n",
       "      <th>244</th>\n",
       "      <td>567</td>\n",
       "      <td>-0.4697</td>\n",
       "      <td>-1.2258</td>\n",
       "      <td>6.4355</td>\n",
       "      <td>-2.5379</td>\n",
       "    </tr>\n",
       "    <tr>\n",
       "      <th>1636</th>\n",
       "      <td>3504</td>\n",
       "      <td>-0.4697</td>\n",
       "      <td>-1.2258</td>\n",
       "      <td>6.4355</td>\n",
       "      <td>-2.5379</td>\n",
       "    </tr>\n",
       "    <tr>\n",
       "      <th>2214</th>\n",
       "      <td>4741</td>\n",
       "      <td>-0.4697</td>\n",
       "      <td>-1.2258</td>\n",
       "      <td>6.4355</td>\n",
       "      <td>-2.5379</td>\n",
       "    </tr>\n",
       "    <tr>\n",
       "      <th>2597</th>\n",
       "      <td>5556</td>\n",
       "      <td>-0.4697</td>\n",
       "      <td>-1.2258</td>\n",
       "      <td>6.4355</td>\n",
       "      <td>-2.5379</td>\n",
       "    </tr>\n",
       "    <tr>\n",
       "      <th>...</th>\n",
       "      <td>...</td>\n",
       "      <td>...</td>\n",
       "      <td>...</td>\n",
       "      <td>...</td>\n",
       "      <td>...</td>\n",
       "    </tr>\n",
       "    <tr>\n",
       "      <th>24519</th>\n",
       "      <td>51894</td>\n",
       "      <td>-0.4697</td>\n",
       "      <td>-1.2258</td>\n",
       "      <td>6.4355</td>\n",
       "      <td>-2.5379</td>\n",
       "    </tr>\n",
       "    <tr>\n",
       "      <th>24529</th>\n",
       "      <td>51920</td>\n",
       "      <td>-0.4697</td>\n",
       "      <td>-1.2258</td>\n",
       "      <td>6.4355</td>\n",
       "      <td>-2.5379</td>\n",
       "    </tr>\n",
       "    <tr>\n",
       "      <th>25149</th>\n",
       "      <td>53217</td>\n",
       "      <td>-0.4697</td>\n",
       "      <td>-1.2258</td>\n",
       "      <td>6.4355</td>\n",
       "      <td>-2.5379</td>\n",
       "    </tr>\n",
       "    <tr>\n",
       "      <th>25800</th>\n",
       "      <td>54634</td>\n",
       "      <td>-0.4697</td>\n",
       "      <td>-1.2258</td>\n",
       "      <td>6.4355</td>\n",
       "      <td>-2.5379</td>\n",
       "    </tr>\n",
       "    <tr>\n",
       "      <th>25883</th>\n",
       "      <td>54827</td>\n",
       "      <td>-0.4697</td>\n",
       "      <td>-1.2258</td>\n",
       "      <td>6.4355</td>\n",
       "      <td>-2.5379</td>\n",
       "    </tr>\n",
       "  </tbody>\n",
       "</table>\n",
       "<p>65 rows × 5 columns</p>\n",
       "</div>"
      ],
      "text/plain": [
       "       event  GenEpx  GenEpy  GenEpz  GenEvz\n",
       "0          3 -0.4697 -1.2258  6.4355 -2.5379\n",
       "244      567 -0.4697 -1.2258  6.4355 -2.5379\n",
       "1636    3504 -0.4697 -1.2258  6.4355 -2.5379\n",
       "2214    4741 -0.4697 -1.2258  6.4355 -2.5379\n",
       "2597    5556 -0.4697 -1.2258  6.4355 -2.5379\n",
       "...      ...     ...     ...     ...     ...\n",
       "24519  51894 -0.4697 -1.2258  6.4355 -2.5379\n",
       "24529  51920 -0.4697 -1.2258  6.4355 -2.5379\n",
       "25149  53217 -0.4697 -1.2258  6.4355 -2.5379\n",
       "25800  54634 -0.4697 -1.2258  6.4355 -2.5379\n",
       "25883  54827 -0.4697 -1.2258  6.4355 -2.5379\n",
       "\n",
       "[65 rows x 5 columns]"
      ]
     },
     "execution_count": 187,
     "metadata": {},
     "output_type": "execute_result"
    }
   ],
   "source": [
    "job2899.loc[job2899.GenEpx==-0.46970000863075256, [\"event\", \"GenEpx\", \"GenEpy\", \"GenEpz\", \"GenEvz\"]]"
   ]
  },
  {
   "cell_type": "code",
   "execution_count": 180,
   "id": "hourly-broadcasting",
   "metadata": {},
   "outputs": [
    {
     "data": {
      "text/plain": [
       "-0.46970000863075256"
      ]
     },
     "execution_count": 180,
     "metadata": {},
     "output_type": "execute_result"
    }
   ],
   "source": [
    "job2899.GenEpx[0]"
   ]
  },
  {
   "cell_type": "code",
   "execution_count": 31,
   "id": "adjusted-hardware",
   "metadata": {},
   "outputs": [
    {
     "data": {
      "text/plain": [
       "<AxesSubplot:>"
      ]
     },
     "execution_count": 31,
     "metadata": {},
     "output_type": "execute_result"
    },
    {
     "data": {
      "image/png": "[encoded data removed]",
      "text/plain": [
       "<Figure size 432x288 with 1 Axes>"
      ]
     },
     "metadata": {
      "needs_background": "light"
     },
     "output_type": "display_data"
    }
   ],
   "source": [
    "job2930.GenEpx.hist(bins = 101)"
   ]
  },
  {
   "cell_type": "code",
   "execution_count": 16,
   "id": "assisted-freeze",
   "metadata": {},
   "outputs": [
    {
     "data": {
      "text/plain": [
       "16087"
      ]
     },
     "execution_count": 16,
     "metadata": {},
     "output_type": "execute_result"
    }
   ],
   "source": [
    "len(job2420)"
   ]
  },
  {
   "cell_type": "code",
   "execution_count": 17,
   "id": "coated-water",
   "metadata": {},
   "outputs": [
    {
     "data": {
      "text/plain": [
       "905"
      ]
     },
     "execution_count": 17,
     "metadata": {},
     "output_type": "execute_result"
    }
   ],
   "source": [
    "len(job2930)"
   ]
  },
  {
   "cell_type": "code",
   "execution_count": 19,
   "id": "romantic-treat",
   "metadata": {},
   "outputs": [
    {
     "data": {
      "text/plain": [
       "<AxesSubplot:>"
      ]
     },
     "execution_count": 19,
     "metadata": {},
     "output_type": "execute_result"
    },
    {
     "data": {
      "image/png": "[encoded data removed]",
      "text/plain": [
       "<Figure size 432x288 with 1 Axes>"
      ]
     },
     "metadata": {
      "needs_background": "light"
     },
     "output_type": "display_data"
    }
   ],
   "source": [
    "expDvcsInb.W.hist(bins = 101)"
   ]
  },
  {
   "cell_type": "code",
   "execution_count": 20,
   "id": "educational-attribute",
   "metadata": {},
   "outputs": [
    {
     "data": {
      "text/plain": [
       "<AxesSubplot:>"
      ]
     },
     "execution_count": 20,
     "metadata": {},
     "output_type": "execute_result"
    },
    {
     "data": {
      "image/png": "[encoded data removed]",
      "text/plain": [
       "<Figure size 432x288 with 1 Axes>"
      ]
     },
     "metadata": {
      "needs_background": "light"
     },
     "output_type": "display_data"
    }
   ],
   "source": [
    "job2930.W.hist(bins= 101)"
   ]
  },
  {
   "cell_type": "code",
   "execution_count": 159,
   "id": "daily-hundred",
   "metadata": {},
   "outputs": [
    {
     "data": {
      "text/plain": [
       "0.06400749956339982"
      ]
     },
     "execution_count": 159,
     "metadata": {},
     "output_type": "execute_result"
    }
   ],
   "source": [
    "expDvcsOutb.xB.min()"
   ]
  },
  {
   "cell_type": "code",
   "execution_count": 63,
   "id": "advisory-storage",
   "metadata": {},
   "outputs": [
    {
     "data": {
      "text/plain": [
       "0.8362911212826896"
      ]
     },
     "execution_count": 63,
     "metadata": {},
     "output_type": "execute_result"
    }
   ],
   "source": [
    "len(expDvcsInb[expDvcsInb.t2<1.5])/len(expDvcsInb)"
   ]
  },
  {
   "cell_type": "code",
   "execution_count": 62,
   "id": "convertible-pilot",
   "metadata": {},
   "outputs": [
    {
     "data": {
      "text/plain": [
       "0.7774023252947702"
      ]
     },
     "execution_count": 62,
     "metadata": {},
     "output_type": "execute_result"
    }
   ],
   "source": [
    "len(expDvcsOutb[expDvcsOutb.t2<1.5])/len(expDvcsOutb)"
   ]
  },
  {
   "cell_type": "code",
   "execution_count": 22,
   "id": "silent-zealand",
   "metadata": {},
   "outputs": [
    {
     "data": {
      "text/plain": [
       "9617"
      ]
     },
     "execution_count": 22,
     "metadata": {},
     "output_type": "execute_result"
    }
   ],
   "source": [
    "len(job2942_0)"
   ]
  },
  {
   "cell_type": "code",
   "execution_count": 23,
   "id": "endless-morgan",
   "metadata": {
    "scrolled": true
   },
   "outputs": [
    {
     "data": {
      "text/plain": [
       "19565"
      ]
     },
     "execution_count": 23,
     "metadata": {},
     "output_type": "execute_result"
    }
   ],
   "source": [
    "len(job2458)"
   ]
  },
  {
   "cell_type": "code",
   "execution_count": 24,
   "id": "early-pharmaceutical",
   "metadata": {
    "scrolled": false
   },
   "outputs": [
    {
     "data": {
      "text/plain": [
       "112077"
      ]
     },
     "execution_count": 24,
     "metadata": {},
     "output_type": "execute_result"
    }
   ],
   "source": [
    "len(expDvcsInb)"
   ]
  },
  {
   "cell_type": "code",
   "execution_count": null,
   "id": "center-rider",
   "metadata": {},
   "outputs": [],
   "source": [
    "minVal = []\n",
    "maxVal = []\n",
    "for i in [\"xB\", \"Q2\", \"t2\", \"y\"]:\n",
    "#     print(\"\\makecell{\" + \"{:.3f}\".format(expDvcsInb[i].min()) + \"\\\\\\\\ {:.3f}\".format(expDvcsInb[i].max()) + \"} &\", end='')\n",
    "    print(\"\\makecell{\" + \"{:.3f}\".format(expDvcsOutb[i].min()) + \"\\\\\\\\ {:.3f}\".format(expDvcsOutb[i].max()) + \"} &\", end='')\n",
    "    \n",
    "#     minVal.append(\"{:.3f}\".format(expDvcsInb[i].min()))\n",
    "#     maxVal.append(\"{:.3f}\".format(expDvcsInb[i].max()))\n",
    "    \n",
    "# minVal = np.array(minVal)\n",
    "# maxVal = np.array(maxVal)\n",
    "# print(np.vstack([minVal, maxVal]))"
   ]
  },
  {
   "cell_type": "code",
   "execution_count": null,
   "id": "fresh-generic",
   "metadata": {},
   "outputs": [],
   "source": [
    "len(job2942_0)+len(job2942_1)+ len(job2942_2) + len(job2942_3) + len(job2942_4)+len(job2942_5)+ len(job2942_6) + len(job2942_7) + len(job2942_8)+len(job2942_9)"
   ]
  },
  {
   "cell_type": "code",
   "execution_count": null,
   "id": "mobile-trouble",
   "metadata": {},
   "outputs": [],
   "source": [
    "fig, ax = plt.subplots(2, 4, figsize=(15,10))\n",
    "ax[0,0].hist(-(job2419.GenEpx + job2419.GenPpx + job2419.GenGpx), bins = np.linspace(-0.1, 0.1, 10))\n",
    "ax[1,0].hist(-(job2420.GenEpx + job2420.GenPpx + job2420.GenGpx), bins = np.linspace(-0.1, 0.1, 10))\n",
    "ax[0,1].hist(-(job2419.GenEpy + job2419.GenPpy + job2419.GenGpy), bins = np.linspace(-0.1, 0.1, 10))\n",
    "ax[1,1].hist(-(job2420.GenEpy + job2420.GenPpy + job2420.GenGpy), bins = np.linspace(-0.1, 0.1, 10))\n",
    "ax[0,2].hist(pbeam-(job2419.GenEpz + job2419.GenPpz + job2419.GenGpz), bins = np.linspace(0, 1, 10))\n",
    "ax[1,2].hist(pbeam-(job2420.GenEpz + job2420.GenPpz + job2420.GenGpz), bins = np.linspace(0, 1, 10))\n",
    "ax[0,3].hist(M + ebeam - (job2419.GenEe + job2419.GenPe + job2419.GenGe), bins = np.linspace(0, 1, 10))\n",
    "ax[1,3].hist(M + ebeam - (job2420.GenEe + job2420.GenPe + job2420.GenGe), bins = np.linspace(0, 1, 10))\n",
    "\n",
    "for a in ax[:, 0]:\n",
    "    a.set_xlabel(\"MPx (GeV/c)\")\n",
    "\n",
    "for a in ax[:, 1]:\n",
    "    a.set_xlabel(\"MPy (GeV/c)\")\n",
    "\n",
    "for a in ax[:, 2]:\n",
    "    a.set_xlabel(\"MPz (GeV/c)\")\n",
    "\n",
    "for a in ax[:, 3]:\n",
    "    a.set_xlabel(\"ME (GeV/c)\")\n",
    "    \n",
    "ax[0,1].set_title(\"job 2419\")\n",
    "ax[0,2].set_title(\"generated events (radgen on)\")\n",
    "ax[1,1].set_title(\"job 2420\")\n",
    "ax[1,2].set_title(\"generated events (radgen off)\")\n",
    "    \n",
    "plt.tight_layout()\n",
    "plt.savefig(\"MpME_radgen.pdf\")"
   ]
  },
  {
   "cell_type": "code",
   "execution_count": null,
   "id": "removed-listing",
   "metadata": {},
   "outputs": [],
   "source": [
    "for sim in [job2419, job2420]:\n",
    "    VGS = [-sim.GenEpx, -sim.GenEpy, pbeam - sim.GenEpz]\n",
    "    ele = [sim.GenEpx, sim.GenEpy, sim.GenEpz]\n",
    "    pro = [sim.GenPpx, sim.GenPpy, sim.GenPpz]\n",
    "    gam = [sim.GenGpx, sim.GenGpy, sim.GenGpz]\n",
    "    GenEe = getEnergy(ele, 0.0005)\n",
    "    GenPe = getEnergy(pro, 0.9383)\n",
    "    GenQ2 = -((ebeam - GenEe)**2 - mag2(VGS))\n",
    "    GenNu = (ebeam - GenEe)\n",
    "    GenY = GenNu/ebeam\n",
    "    GenxB = GenQ2 / 2.0 / M / GenNu\n",
    "    GenT = 2 * M * (GenPe - M)\n",
    "    v3l = cross(beam, ele)\n",
    "    v3h = cross(pro, VGS)\n",
    "    v3g = cross(VGS, gam)\n",
    "    GenPhi = angle(v3l, v3h)\n",
    "    GenPhi = GenPhi*0 + np.where(dot(VGS, cross(v3l, pro)) > 0, 360.0 - GenPhi, GenPhi)\n",
    "    GenW = np.sqrt(np.maximum(0, M*M + 2*M*GenNu-GenQ2))\n",
    "    sim.GenQ2 = GenQ2"
   ]
  },
  {
   "cell_type": "code",
   "execution_count": null,
   "id": "unavailable-gather",
   "metadata": {},
   "outputs": [],
   "source": [
    "for df_epg in [job2419, job2420]:\n",
    "    ele = [df_epg['GenEpx'], df_epg['GenEpy'], df_epg['GenEpz']]\n",
    "    df_epg.loc[:, 'GenEe'] = getEnergy(ele, me)\n",
    "    pro = [df_epg['GenPpx'], df_epg['GenPpy'], df_epg['GenPpz']]\n",
    "    df_epg.loc[:, 'GenPe'] = getEnergy(pro, M)\n",
    "    gam = [df_epg['GenGpx'], df_epg['GenGpy'], df_epg['GenGpz']]\n",
    "    df_epg.loc[:, 'GenGe'] = getEnergy(gam, 0)"
   ]
  },
  {
   "cell_type": "code",
   "execution_count": null,
   "id": "african-beach",
   "metadata": {},
   "outputs": [],
   "source": [
    "fig, ax = plt.subplots(1, 2, figsize=(15,8))\n",
    "ax[0].hist(job2419.GenQ2, bins = np.linspace(1, 11, 101), histtype='stepfilled', facecolor='none', edgecolor = 'k', density=True, label = \"job2419\")\n",
    "ax[0].hist(job2420.GenQ2, bins = np.linspace(1, 11, 101), histtype='stepfilled', facecolor='none', edgecolor = 'r', density=True, label = \"job2420\")\n",
    "ax[1].hist(job2419.Q2, bins = np.linspace(1, 11, 101), histtype='stepfilled', facecolor='none', edgecolor = 'k', density=True, label = \"job2419\")\n",
    "ax[1].hist(job2420.Q2, bins = np.linspace(1, 11, 101), histtype='stepfilled', facecolor='none', edgecolor = 'r', density=True, label = \"job2420\")\n",
    "ax[0].set_xlabel(\"generated \" + r\"$Q^2$ \"+ \"[\"+GeVc+\"]\")\n",
    "ax[1].set_xlabel(\"reconstructed \" + r\"$Q^2$ \" + \"[\"+GeVc+\"]\")\n",
    "ax[0].legend()\n",
    "ax[1].legend()\n",
    "\n",
    "plt.tight_layout()\n",
    "plt.savefig(\"Q2radgen.pdf\")"
   ]
  },
  {
   "cell_type": "code",
   "execution_count": null,
   "id": "chemical-musical",
   "metadata": {},
   "outputs": [],
   "source": []
  }
 ],
 "metadata": {
  "kernelspec": {
   "display_name": "Python 3",
   "language": "python",
   "name": "python3"
  },
  "language_info": {
   "codemirror_mode": {
    "name": "ipython",
    "version": 3
   },
   "file_extension": ".py",
   "mimetype": "text/x-python",
   "name": "python",
   "nbconvert_exporter": "python",
   "pygments_lexer": "ipython3",
   "version": "3.9.5"
  }
 },
 "nbformat": 4,
 "nbformat_minor": 5
}
