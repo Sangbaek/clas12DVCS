{
 "cells": [
  {
   "cell_type": "code",
   "execution_count": 1,
   "id": "4726375e",
   "metadata": {},
   "outputs": [],
   "source": [
    "import pandas as pd\n",
    "import numpy as np\n",
    "from utils.const import *\n",
    "from utils.physics import *\n",
    "import matplotlib.pyplot as plt\n",
    "from copy import copy\n",
    "\n",
    "cmap = copy(plt.cm.get_cmap(\"jet\"))\n",
    "from scipy.optimize import least_squares"
   ]
  },
  {
   "cell_type": "code",
   "execution_count": 2,
   "id": "ce1cdb57",
   "metadata": {},
   "outputs": [],
   "source": [
    "degree = r\"${}^{\\circ}$\"\n",
    "GeV = \"GeV\"\n",
    "GeV2 = \"GeV\"+r\"${}^{2}$\"\n",
    "GeVc = \"GeV/c\"\n",
    "GeVc2 = \"(GeV/c)\"+r\"${}^{2}$\""
   ]
  },
  {
   "cell_type": "code",
   "execution_count": 3,
   "id": "2fda324e",
   "metadata": {},
   "outputs": [],
   "source": [
    "import matplotlib\n",
    "# initial settings\n",
    "pgf_with_latex = {\n",
    "\t\t\"pgf.texsystem\": \"pdflatex\",\n",
    "\t\t\"text.usetex\": True,            # use LaTeX to write all text\n",
    "\t\t\"font.family\": \"sans-serif\",         \n",
    "\t\t\"font.sans-serif\": \"Helvetica\",\n",
    "\t\t\"font.size\": 25,\t\t\t\t# default font size\n",
    "\t\t\"axes.labelsize\": 24,\t\t\t# x and y label size\n",
    "\t\t\"axes.titlesize\": 24,           # subfigure title size, i.e. title size when one figure\n",
    "\t\t\"legend.fontsize\": 22,\t\t\t# legend size\n",
    "\t\t\"xtick.labelsize\": 23,\t\t\t# x axis tick label size\n",
    "\t\t\"ytick.labelsize\": 23,\t\t\t# y axis tick label \n",
    "\t\t\"figure.titlesize\": 25,         # Figure title size, useful when you have multiple plots in one canvas.\n",
    "\t\t\"pgf.preamble\": r\"\\usepackage{xcolor}\"     # xcolor for colours\n",
    "}\n",
    "matplotlib.rcParams.update(pgf_with_latex)\n"
   ]
  },
  {
   "cell_type": "code",
   "execution_count": 4,
   "id": "6f919bb0",
   "metadata": {},
   "outputs": [],
   "source": [
    "rad = pd.read_pickle(\"/Users/sangbaek/Dropbox (MIT)/data/rad/100k.pkl\")\n",
    "# rad2 = pd.read_pickle(\"/Users/sangbaek/Dropbox (MIT)/data/rad/100k_2.pkl\")\n",
    "rad2 = pd.read_pickle(\"/Users/sangbaek/Dropbox (MIT)/data/rad/100k_3.pkl\")\n",
    "nonrad = pd.read_pickle(\"/Users/sangbaek/Dropbox (MIT)/data/rad/nonrad.pkl\")\n",
    "nonrad_original = pd.read_pickle(\"/Users/sangbaek/Dropbox (MIT)/data/rad/100k_original.pkl\")\n",
    "nonrad_final = pd.read_pickle(\"/Users/sangbaek/Dropbox (MIT)/data/rad/100k_nonrad_final.pkl\")\n",
    "rad_final = pd.read_pickle(\"/Users/sangbaek/Dropbox (MIT)/data/rad/100k_rad_final.pkl\")\n",
    "rad_stable = pd.read_pickle(\"/Users/sangbaek/Dropbox (MIT)/data/rad/100k_rad_stable.pkl\")"
   ]
  },
  {
   "cell_type": "code",
   "execution_count": 6,
   "id": "ade10a7b",
   "metadata": {},
   "outputs": [
    {
     "data": {
      "text/html": [
       "<div>\n",
       "<style scoped>\n",
       "    .dataframe tbody tr th:only-of-type {\n",
       "        vertical-align: middle;\n",
       "    }\n",
       "\n",
       "    .dataframe tbody tr th {\n",
       "        vertical-align: top;\n",
       "    }\n",
       "\n",
       "    .dataframe thead th {\n",
       "        text-align: right;\n",
       "    }\n",
       "</style>\n",
       "<table border=\"1\" class=\"dataframe\">\n",
       "  <thead>\n",
       "    <tr style=\"text-align: right;\">\n",
       "      <th></th>\n",
       "      <th>Epx</th>\n",
       "      <th>Epy</th>\n",
       "      <th>Epz</th>\n",
       "      <th>Ppx</th>\n",
       "      <th>Ppy</th>\n",
       "      <th>Ppz</th>\n",
       "      <th>Gpx</th>\n",
       "      <th>Gpy</th>\n",
       "      <th>Gpz</th>\n",
       "      <th>Gpx2</th>\n",
       "      <th>Gpy2</th>\n",
       "      <th>Gpz2</th>\n",
       "    </tr>\n",
       "  </thead>\n",
       "  <tbody>\n",
       "    <tr>\n",
       "      <th>0</th>\n",
       "      <td>-0.4297</td>\n",
       "      <td>-0.2920</td>\n",
       "      <td>2.0100</td>\n",
       "      <td>0.3747</td>\n",
       "      <td>0.8546</td>\n",
       "      <td>0.6012</td>\n",
       "      <td>0.0550</td>\n",
       "      <td>-0.5626</td>\n",
       "      <td>7.9928</td>\n",
       "      <td>0.0</td>\n",
       "      <td>0.0</td>\n",
       "      <td>0.0000</td>\n",
       "    </tr>\n",
       "    <tr>\n",
       "      <th>1</th>\n",
       "      <td>0.2981</td>\n",
       "      <td>0.3844</td>\n",
       "      <td>1.7056</td>\n",
       "      <td>-0.2994</td>\n",
       "      <td>-0.2517</td>\n",
       "      <td>0.1598</td>\n",
       "      <td>0.0013</td>\n",
       "      <td>-0.1327</td>\n",
       "      <td>8.7386</td>\n",
       "      <td>0.0</td>\n",
       "      <td>0.0</td>\n",
       "      <td>0.0000</td>\n",
       "    </tr>\n",
       "    <tr>\n",
       "      <th>2</th>\n",
       "      <td>-0.0604</td>\n",
       "      <td>0.9187</td>\n",
       "      <td>6.4553</td>\n",
       "      <td>-0.4470</td>\n",
       "      <td>-0.4799</td>\n",
       "      <td>0.4088</td>\n",
       "      <td>0.5074</td>\n",
       "      <td>-0.4388</td>\n",
       "      <td>3.3668</td>\n",
       "      <td>0.0</td>\n",
       "      <td>0.0</td>\n",
       "      <td>0.3731</td>\n",
       "    </tr>\n",
       "    <tr>\n",
       "      <th>3</th>\n",
       "      <td>0.4971</td>\n",
       "      <td>0.1291</td>\n",
       "      <td>2.0306</td>\n",
       "      <td>0.6380</td>\n",
       "      <td>-0.0330</td>\n",
       "      <td>0.4126</td>\n",
       "      <td>-1.1351</td>\n",
       "      <td>-0.0961</td>\n",
       "      <td>8.1608</td>\n",
       "      <td>0.0</td>\n",
       "      <td>0.0</td>\n",
       "      <td>0.0000</td>\n",
       "    </tr>\n",
       "    <tr>\n",
       "      <th>4</th>\n",
       "      <td>0.8680</td>\n",
       "      <td>-0.3008</td>\n",
       "      <td>3.0834</td>\n",
       "      <td>-0.3514</td>\n",
       "      <td>0.0317</td>\n",
       "      <td>0.2528</td>\n",
       "      <td>-0.5166</td>\n",
       "      <td>0.2691</td>\n",
       "      <td>7.2678</td>\n",
       "      <td>0.0</td>\n",
       "      <td>0.0</td>\n",
       "      <td>0.0000</td>\n",
       "    </tr>\n",
       "    <tr>\n",
       "      <th>...</th>\n",
       "      <td>...</td>\n",
       "      <td>...</td>\n",
       "      <td>...</td>\n",
       "      <td>...</td>\n",
       "      <td>...</td>\n",
       "      <td>...</td>\n",
       "      <td>...</td>\n",
       "      <td>...</td>\n",
       "      <td>...</td>\n",
       "      <td>...</td>\n",
       "      <td>...</td>\n",
       "      <td>...</td>\n",
       "    </tr>\n",
       "    <tr>\n",
       "      <th>99992</th>\n",
       "      <td>0.4294</td>\n",
       "      <td>0.4618</td>\n",
       "      <td>2.7907</td>\n",
       "      <td>-0.3247</td>\n",
       "      <td>-0.4258</td>\n",
       "      <td>0.2394</td>\n",
       "      <td>-0.1047</td>\n",
       "      <td>-0.0360</td>\n",
       "      <td>7.5739</td>\n",
       "      <td>0.0</td>\n",
       "      <td>0.0</td>\n",
       "      <td>0.0000</td>\n",
       "    </tr>\n",
       "    <tr>\n",
       "      <th>99993</th>\n",
       "      <td>-0.1889</td>\n",
       "      <td>0.3314</td>\n",
       "      <td>1.4739</td>\n",
       "      <td>0.1014</td>\n",
       "      <td>-0.1236</td>\n",
       "      <td>0.0676</td>\n",
       "      <td>0.0875</td>\n",
       "      <td>-0.2078</td>\n",
       "      <td>8.2250</td>\n",
       "      <td>0.0</td>\n",
       "      <td>0.0</td>\n",
       "      <td>0.8376</td>\n",
       "    </tr>\n",
       "    <tr>\n",
       "      <th>99994</th>\n",
       "      <td>0.0971</td>\n",
       "      <td>0.6531</td>\n",
       "      <td>4.9930</td>\n",
       "      <td>-0.0279</td>\n",
       "      <td>-0.6922</td>\n",
       "      <td>0.3135</td>\n",
       "      <td>-0.0692</td>\n",
       "      <td>0.0392</td>\n",
       "      <td>5.2975</td>\n",
       "      <td>0.0</td>\n",
       "      <td>0.0</td>\n",
       "      <td>0.0000</td>\n",
       "    </tr>\n",
       "    <tr>\n",
       "      <th>99995</th>\n",
       "      <td>0.9068</td>\n",
       "      <td>0.3127</td>\n",
       "      <td>3.0155</td>\n",
       "      <td>-0.6991</td>\n",
       "      <td>-0.8768</td>\n",
       "      <td>1.0219</td>\n",
       "      <td>-0.2077</td>\n",
       "      <td>0.5640</td>\n",
       "      <td>6.5666</td>\n",
       "      <td>0.0</td>\n",
       "      <td>0.0</td>\n",
       "      <td>0.0000</td>\n",
       "    </tr>\n",
       "    <tr>\n",
       "      <th>99996</th>\n",
       "      <td>-0.2152</td>\n",
       "      <td>0.3352</td>\n",
       "      <td>1.3468</td>\n",
       "      <td>-0.0588</td>\n",
       "      <td>-0.1409</td>\n",
       "      <td>0.0795</td>\n",
       "      <td>0.2740</td>\n",
       "      <td>-0.1944</td>\n",
       "      <td>9.1778</td>\n",
       "      <td>0.0</td>\n",
       "      <td>0.0</td>\n",
       "      <td>0.0000</td>\n",
       "    </tr>\n",
       "  </tbody>\n",
       "</table>\n",
       "<p>99997 rows × 12 columns</p>\n",
       "</div>"
      ],
      "text/plain": [
       "          Epx     Epy     Epz     Ppx     Ppy     Ppz     Gpx     Gpy     Gpz  \\\n",
       "0     -0.4297 -0.2920  2.0100  0.3747  0.8546  0.6012  0.0550 -0.5626  7.9928   \n",
       "1      0.2981  0.3844  1.7056 -0.2994 -0.2517  0.1598  0.0013 -0.1327  8.7386   \n",
       "2     -0.0604  0.9187  6.4553 -0.4470 -0.4799  0.4088  0.5074 -0.4388  3.3668   \n",
       "3      0.4971  0.1291  2.0306  0.6380 -0.0330  0.4126 -1.1351 -0.0961  8.1608   \n",
       "4      0.8680 -0.3008  3.0834 -0.3514  0.0317  0.2528 -0.5166  0.2691  7.2678   \n",
       "...       ...     ...     ...     ...     ...     ...     ...     ...     ...   \n",
       "99992  0.4294  0.4618  2.7907 -0.3247 -0.4258  0.2394 -0.1047 -0.0360  7.5739   \n",
       "99993 -0.1889  0.3314  1.4739  0.1014 -0.1236  0.0676  0.0875 -0.2078  8.2250   \n",
       "99994  0.0971  0.6531  4.9930 -0.0279 -0.6922  0.3135 -0.0692  0.0392  5.2975   \n",
       "99995  0.9068  0.3127  3.0155 -0.6991 -0.8768  1.0219 -0.2077  0.5640  6.5666   \n",
       "99996 -0.2152  0.3352  1.3468 -0.0588 -0.1409  0.0795  0.2740 -0.1944  9.1778   \n",
       "\n",
       "       Gpx2  Gpy2    Gpz2  \n",
       "0       0.0   0.0  0.0000  \n",
       "1       0.0   0.0  0.0000  \n",
       "2       0.0   0.0  0.3731  \n",
       "3       0.0   0.0  0.0000  \n",
       "4       0.0   0.0  0.0000  \n",
       "...     ...   ...     ...  \n",
       "99992   0.0   0.0  0.0000  \n",
       "99993   0.0   0.0  0.8376  \n",
       "99994   0.0   0.0  0.0000  \n",
       "99995   0.0   0.0  0.0000  \n",
       "99996   0.0   0.0  0.0000  \n",
       "\n",
       "[99997 rows x 12 columns]"
      ]
     },
     "execution_count": 6,
     "metadata": {},
     "output_type": "execute_result"
    }
   ],
   "source": [
    "rad"
   ]
  },
  {
   "cell_type": "code",
   "execution_count": 5,
   "id": "12bff426",
   "metadata": {},
   "outputs": [],
   "source": [
    "def saveDVCSvars(df):\n",
    "        #set up dvcs variables\n",
    "\n",
    "        df.loc[:, \"Ep\"] = mag([df.Epx, df.Epy, df.Epz])\n",
    "        df.loc[:, \"Ee\"] = getEnergy([df.Epx, df.Epy, df.Epz], me)\n",
    "        df.loc[:, \"Pp\"] = mag([df.Ppx, df.Ppy, df.Ppz])\n",
    "        df.loc[:, \"Pe\"] = getEnergy([df.Ppx, df.Ppy, df.Ppz], M)\n",
    "        df.loc[:, \"Gp\"] = mag([df.Gpx, df.Gpy, df.Gpz])\n",
    "        df.loc[:, \"Ge\"] = getEnergy([df.Gpx, df.Gpy, df.Gpz], 0)\n",
    "        df.loc[:, \"Gp2\"] = mag([df.Gpx2, df.Gpy2, df.Gpz2])\n",
    "        df.loc[:, \"Ge2\"] = getEnergy([df.Gpx2, df.Gpy2, df.Gpz2], 0)\n",
    "        \n",
    "        ele = [df['Epx'], df['Epy'], df['Epz']]\n",
    "        df.loc[:, 'Ep'] = mag(ele)\n",
    "        df.loc[:, 'Ee'] = getEnergy(ele, me)\n",
    "        df.loc[:, 'Etheta'] = getTheta(ele)\n",
    "        df.loc[:, 'Ephi'] = getPhi(ele)\n",
    "\n",
    "        pro = [df['Ppx'], df['Ppy'], df['Ppz']]\n",
    "\n",
    "        gam = [df['Gpx'], df['Gpy'], df['Gpz']]\n",
    "        df.loc[:, 'Gp'] = mag(gam)\n",
    "        df.loc[:, 'Ge'] = getEnergy(gam, 0)\n",
    "        df.loc[:, 'Gtheta'] = getTheta(gam)\n",
    "        df.loc[:, 'Gphi'] = getPhi(gam)\n",
    "\n",
    "        Ppt = mag([df['Ppx'], df['Ppy'], 0])\n",
    "\n",
    "        VGS = [-df['Epx'], -df['Epy'], pbeam - df['Epz']]\n",
    "        v3l = cross(beam, ele)\n",
    "        v3h = cross(pro, VGS)\n",
    "        v3g = cross(VGS, gam)\n",
    "        VmissG = [-df[\"Epx\"] - df[\"Ppx\"], -df[\"Epy\"] - df[\"Ppy\"],\n",
    "                  pbeam - df[\"Epz\"] - df[\"Ppz\"]]\n",
    "        VmissP = [-(df[\"Epx\"] + df[\"Gpx\"]), -(df[\"Epy\"] + df[\"Gpy\"]),\n",
    "                  -(-pbeam + df[\"Epz\"] + df[\"Gpz\"])]\n",
    "        Vmiss = [-(df[\"Epx\"] + df[\"Ppx\"] + df[\"Gpx\"]), -(df[\"Epy\"] + df[\"Ppy\"] + df[\"Gpy\"]),\n",
    "                 -(-pbeam + df[\"Epz\"] + df[\"Ppz\"] + df[\"Gpz\"])]\n",
    "        costheta = cosTheta(VGS, gam)\n",
    "\n",
    "        df.loc[:, 'Mpx'], df.loc[:, 'Mpy'], df.loc[:, 'Mpz'] = Vmiss\n",
    "\n",
    "        # binning kinematics\n",
    "        df.loc[:,'Q2'] = -((ebeam - df['Ee'])**2 - mag2(VGS))\n",
    "        df.loc[:,'nu'] = (ebeam - df['Ee'])\n",
    "        df.loc[:,'y'] = df['nu']/ebeam\n",
    "        df.loc[:,'xB'] = df['Q2'] / 2.0 / M / df['nu']\n",
    "        df.loc[:,'t1'] = 2 * M * (df['Pe'] - M)\n",
    "        df.loc[:,'t2'] = (M * df['Q2'] + 2 * M * df['nu'] * (df['nu'] - np.sqrt(df['nu'] * df['nu'] + df['Q2']) * costheta))\\\n",
    "        / (M + df['nu'] - np.sqrt(df['nu'] * df['nu'] + df['Q2']) * costheta)\n",
    "        df.loc[:,'W'] = np.sqrt(np.maximum(0, (ebeam + M - df['Ee'])**2 - mag2(VGS)))\n",
    "\n",
    "        # trento angles\n",
    "        df.loc[:,'phi1'] = angle(v3l, v3h)\n",
    "        df.loc[:,'phi1'] = np.where(dot(v3l, pro) > 0, 360.0 -\n",
    "                                  df['phi1'], df['phi1'])\n",
    "        df.loc[:,'phi2'] = angle(v3l, v3g)\n",
    "        df.loc[:,'phi2'] = np.where(dot(v3l, gam) <\n",
    "                                  0, 360.0 - df['phi2'], df['phi2'])\n",
    "\n",
    "        # exclusivity variables\n",
    "        df.loc[:,'MM2_epg'] = (-M - ebeam + df[\"Ee\"] +\n",
    "                             df[\"Pe\"] + df[\"Ge\"])**2 - mag2(Vmiss)\n",
    "        df.loc[:,'ME_epg'] = (M + ebeam - df[\"Ee\"] - df[\"Pe\"] - df[\"Ge\"])\n",
    "        df.loc[:,'MM2_ep'] = (-M - ebeam + df[\"Ee\"] + df[\"Pe\"])**2 - mag2(VmissG)\n",
    "        df.loc[:,'MM2_eg'] = (-M - ebeam + df[\"Ee\"] + df[\"Ge\"])**2 - mag2(VmissP)\n",
    "        df.loc[:,'MPt'] = np.sqrt((df[\"Epx\"] + df[\"Ppx\"] + df[\"Gpx\"])**2 +\n",
    "                                (df[\"Epy\"] + df[\"Ppy\"] + df[\"Gpy\"])**2)\n",
    "        df.loc[:,'coneAngle'] = angle(ele, gam)\n",
    "        df.loc[:,'reconGam'] = angle(gam, VmissG)\n",
    "        df.loc[:,'coplanarity'] = angle(v3h, v3g)\n",
    "        return df"
   ]
  },
  {
   "cell_type": "code",
   "execution_count": 6,
   "id": "92c51148",
   "metadata": {},
   "outputs": [],
   "source": [
    "rad = saveDVCSvars(rad)\n",
    "rad2 = saveDVCSvars(rad2)\n",
    "nonrad = saveDVCSvars(nonrad)\n",
    "nonrad_original = saveDVCSvars(nonrad_original)\n",
    "nonrad_final = saveDVCSvars(nonrad_final)\n",
    "rad_final = saveDVCSvars(rad_final)\n",
    "rad_stable = saveDVCSvars(rad_stable)"
   ]
  },
  {
   "cell_type": "code",
   "execution_count": 10,
   "id": "3bd8690e",
   "metadata": {},
   "outputs": [
    {
     "data": {
      "text/plain": [
       "<AxesSubplot:>"
      ]
     },
     "execution_count": 10,
     "metadata": {},
     "output_type": "execute_result"
    },
    {
     "data": {
      "image/png": "[encoded data removed]",
      "text/plain": [
       "<Figure size 432x288 with 1 Axes>"
      ]
     },
     "metadata": {
      "needs_background": "light"
     },
     "output_type": "display_data"
    }
   ],
   "source": [
    "# rad.Ee.hist(bins= np.linspace(1, 9, 101), density=True, histtype = 'step', color = 'k')\n",
    "# rad2.Ee.hist(bins= np.linspace(1, 9, 101), density=True, histtype = 'step', color = 'b')\n",
    "# nonrad.Ee.hist(bins= np.linspace(1, 9, 101), density=True, histtype = 'step', color = 'r')\n",
    "nonrad_final.Ee.hist(bins= np.linspace(1, 9, 101), density=True, histtype = 'step', color = 'k')\n",
    "rad_final.Ee.hist(bins= np.linspace(1, 9, 101), density=True, histtype = 'step', color = 'b')\n",
    "nonrad_original.Ee.hist(bins= np.linspace(1, 9, 101), density=True, histtype = 'step', color = 'g')\n"
   ]
  },
  {
   "cell_type": "code",
   "execution_count": 47,
   "id": "bb2e1363",
   "metadata": {},
   "outputs": [
    {
     "data": {
      "text/plain": [
       "<AxesSubplot:>"
      ]
     },
     "execution_count": 47,
     "metadata": {},
     "output_type": "execute_result"
    },
    {
     "data": {
      "image/png": "[encoded data removed]",
      "text/plain": [
       "<Figure size 432x288 with 1 Axes>"
      ]
     },
     "metadata": {
      "needs_background": "light"
     },
     "output_type": "display_data"
    }
   ],
   "source": [
    "xBlower = 0.2\n",
    "xBupper = 0.3\n",
    "Q2lower = 3\n",
    "Q2upper = 4\n",
    "rad.loc[(rad.xB>xBlower) & (rad.xB<xBupper) & (rad.Q2>Q2lower) & (rad.Q2<Q2upper), \"phi1\"].hist(bins = np.linspace(0, 360, 13), histtype = 'step',density = True)\n",
    "nonrad.loc[(nonrad.xB>xBlower) & (nonrad.xB<xBupper) & (nonrad.Q2>Q2lower) & (nonrad.Q2<Q2upper), \"phi1\"].hist(bins = np.linspace(0, 360, 13), histtype = 'step', density =True)"
   ]
  },
  {
   "cell_type": "code",
   "execution_count": 34,
   "id": "bf8ae9fe",
   "metadata": {},
   "outputs": [
    {
     "data": {
      "text/plain": [
       "<AxesSubplot:>"
      ]
     },
     "execution_count": 34,
     "metadata": {},
     "output_type": "execute_result"
    },
    {
     "data": {
      "image/png": "[encoded data removed]",
      "text/plain": [
       "<Figure size 432x288 with 1 Axes>"
      ]
     },
     "metadata": {
      "needs_background": "light"
     },
     "output_type": "display_data"
    }
   ],
   "source": [
    "rad.t2.hist(bins = np.linspace(0, 2, 101), histtype = 'step')\n",
    "nonrad.t2.hist(bins = np.linspace(0, 2, 101), histtype = 'step')"
   ]
  },
  {
   "cell_type": "code",
   "execution_count": 35,
   "id": "53036e6b",
   "metadata": {},
   "outputs": [
    {
     "data": {
      "text/plain": [
       "<AxesSubplot:>"
      ]
     },
     "execution_count": 35,
     "metadata": {},
     "output_type": "execute_result"
    },
    {
     "data": {
      "image/png": "[encoded data removed]",
      "text/plain": [
       "<Figure size 432x288 with 1 Axes>"
      ]
     },
     "metadata": {
      "needs_background": "light"
     },
     "output_type": "display_data"
    }
   ],
   "source": [
    "rad.xB.hist(bins = np.linspace(0, 1, 101), histtype = 'step')\n",
    "nonrad.xB.hist(bins = np.linspace(0, 1, 101), histtype = 'step')"
   ]
  },
  {
   "cell_type": "code",
   "execution_count": 37,
   "id": "a3bc26e5",
   "metadata": {},
   "outputs": [
    {
     "data": {
      "text/plain": [
       "<AxesSubplot:>"
      ]
     },
     "execution_count": 37,
     "metadata": {},
     "output_type": "execute_result"
    },
    {
     "data": {
      "image/png": "[encoded data removed]",
      "text/plain": [
       "<Figure size 432x288 with 1 Axes>"
      ]
     },
     "metadata": {
      "needs_background": "light"
     },
     "output_type": "display_data"
    }
   ],
   "source": [
    "rad.Q2.hist(bins = np.linspace(1, 10, 101), histtype = 'step')\n",
    "nonrad.Q2.hist(bins = np.linspace(1, 10, 101), histtype = 'step')"
   ]
  },
  {
   "cell_type": "code",
   "execution_count": 12,
   "id": "701cba7d",
   "metadata": {},
   "outputs": [
    {
     "data": {
      "text/plain": [
       "<AxesSubplot:>"
      ]
     },
     "execution_count": 12,
     "metadata": {},
     "output_type": "execute_result"
    },
    {
     "data": {
      "image/png": "[encoded data removed]",
      "text/plain": [
       "<Figure size 432x288 with 1 Axes>"
      ]
     },
     "metadata": {
      "needs_background": "light"
     },
     "output_type": "display_data"
    }
   ],
   "source": [
    "rad.MM2_ep.hist(bins = np.linspace(0, 0.6, 101))"
   ]
  },
  {
   "cell_type": "code",
   "execution_count": 38,
   "id": "f3eb394c",
   "metadata": {},
   "outputs": [
    {
     "data": {
      "text/plain": [
       "<AxesSubplot:>"
      ]
     },
     "execution_count": 38,
     "metadata": {},
     "output_type": "execute_result"
    },
    {
     "data": {
      "image/png": "[encoded data removed]",
      "text/plain": [
       "<Figure size 432x288 with 1 Axes>"
      ]
     },
     "metadata": {
      "needs_background": "light"
     },
     "output_type": "display_data"
    }
   ],
   "source": [
    "rad.Ge.hist(bins = np.linspace(1, 10, 101), histtype = 'step')\n",
    "nonrad.Ge.hist(bins = np.linspace(1, 10, 101), histtype = 'step')"
   ]
  },
  {
   "cell_type": "code",
   "execution_count": 40,
   "id": "5c6db232",
   "metadata": {},
   "outputs": [
    {
     "data": {
      "text/plain": [
       "<AxesSubplot:>"
      ]
     },
     "execution_count": 40,
     "metadata": {},
     "output_type": "execute_result"
    },
    {
     "data": {
      "image/png": "[encoded data removed]",
      "text/plain": [
       "<Figure size 432x288 with 1 Axes>"
      ]
     },
     "metadata": {
      "needs_background": "light"
     },
     "output_type": "display_data"
    }
   ],
   "source": [
    "rad.Pe.hist(bins = np.linspace(0.9, 2, 101), histtype = 'step')\n",
    "nonrad.Pe.hist(bins = np.linspace(0.9, 2, 101), histtype = 'step')"
   ]
  },
  {
   "cell_type": "code",
   "execution_count": 98,
   "id": "e9d04315",
   "metadata": {},
   "outputs": [
    {
     "data": {
      "text/plain": [
       "0.01"
      ]
     },
     "execution_count": 98,
     "metadata": {},
     "output_type": "execute_result"
    }
   ],
   "source": [
    "min(rad.loc[rad.Ge2>0,\"Ge2\"])"
   ]
  },
  {
   "cell_type": "code",
   "execution_count": 16,
   "id": "6f4999d9",
   "metadata": {
    "scrolled": true
   },
   "outputs": [
    {
     "data": {
      "text/plain": [
       "<module 'matplotlib.pyplot' from '/usr/local/lib/python3.9/site-packages/matplotlib/pyplot.py'>"
      ]
     },
     "execution_count": 16,
     "metadata": {},
     "output_type": "execute_result"
    },
    {
     "data": {
      "image/png": "[encoded data removed]",
      "text/plain": [
       "<Figure size 432x288 with 1 Axes>"
      ]
     },
     "metadata": {
      "needs_background": "light"
     },
     "output_type": "display_data"
    }
   ],
   "source": [
    "rad2.Ge2.hist(bins = np.linspace(0, 1, 21))\n",
    "# rad.Ge2.hist(bins = np.linspace(0, 1, 21))\n",
    "plt"
   ]
  },
  {
   "cell_type": "code",
   "execution_count": 22,
   "id": "a66d061d",
   "metadata": {},
   "outputs": [
    {
     "data": {
      "text/plain": [
       "<AxesSubplot:>"
      ]
     },
     "execution_count": 22,
     "metadata": {},
     "output_type": "execute_result"
    },
    {
     "data": {
      "image/png": "[encoded data removed]",
      "text/plain": [
       "<Figure size 432x288 with 1 Axes>"
      ]
     },
     "metadata": {
      "needs_background": "light"
     },
     "output_type": "display_data"
    }
   ],
   "source": [
    "rad.Ge2.hist(bins = np.linspace(0.1, 1, 41), color ='r')\n",
    "rad2.Ge2.hist(bins = np.linspace(0.1, 1, 41), color ='g')\n",
    "nonrad.Ge2.hist(bins = np.linspace(0.1, 1, 41), histtype = 'step', color ='b')\n",
    "# plt.xlabel(r\"$E_{\\gamma'}$\"+\" [\"+GeV+\"]\")"
   ]
  },
  {
   "cell_type": "code",
   "execution_count": 81,
   "id": "366f0f86",
   "metadata": {},
   "outputs": [
    {
     "data": {
      "text/plain": [
       "Text(0.5, 0, \"$E_{e'}$ [GeV]\")"
      ]
     },
     "execution_count": 81,
     "metadata": {},
     "output_type": "execute_result"
    },
    {
     "data": {
      "image/png": "[encoded data removed]",
      "text/plain": [
       "<Figure size 432x288 with 1 Axes>"
      ]
     },
     "metadata": {
      "needs_background": "light"
     },
     "output_type": "display_data"
    }
   ],
   "source": [
    "rad.Ee.hist(bins = np.linspace(1, 10, 101), histtype = 'step', color ='r')\n",
    "nonrad.Ee.hist(bins = np.linspace(1, 10, 101), histtype = 'step', color ='b')\n",
    "plt.xlabel(r\"$E_{e'}$\"+\" [\"+GeV+\"]\")"
   ]
  },
  {
   "cell_type": "code",
   "execution_count": 8,
   "id": "bc87fec2",
   "metadata": {},
   "outputs": [
    {
     "data": {
      "image/png": "[encoded data removed]",
      "text/plain": [
       "<Figure size 1080x720 with 8 Axes>"
      ]
     },
     "metadata": {
      "needs_background": "light"
     },
     "output_type": "display_data"
    },
    {
     "data": {
      "text/plain": [
       "<Figure size 432x288 with 0 Axes>"
      ]
     },
     "metadata": {},
     "output_type": "display_data"
    }
   ],
   "source": [
    "varstoplot = [\"coneAngle\", \"reconGam\", \"coplanarity\", \"ME_epg\", \"MM2_epg\", \"MM2_eg\", \"MM2_ep\", \"MPt\"]\n",
    "title = [r\"$\\theta_{e'\\gamma}$\", r\"$\\theta_{\\gamma_{det.}\\gamma_{rec.}}$\", r\"$\\Delta\\phi$\" , \"ME\"+r\"${}_{epg}$\", \"MM\"+r\"${}^{2}_{epg}$\", \"MM\"+r\"${}^{2}_{eg}$\", \"MM\"+r\"${}^{2}_{ep}$\", \"MPt\"+r\"${}_{epg}$\"]\n",
    "unit = [degree, degree, degree, GeV, GeV2, GeV2, GeV2, GeVc]\n",
    "binstarts = [20, 0, 0, -0.5, -0.04, 0.1,-0.4 , 0]\n",
    "binends = [60, 1.1, 10, 1.2, 0.04, 1.7, 0.4, 0.12]\n",
    "fig, axs = plt.subplots(2, 4, figsize = (15,10))\n",
    "for yind in range(0, 2):\n",
    "\tfor xind in range(0,4):\n",
    "\t\tind = 4*yind + xind\n",
    "\t\tstart = binstarts[ind]\n",
    "\t\tend = binends[ind]\n",
    "\t\tbins = np.linspace(start, end, 101)\n",
    "# \t\taxs[yind, xind].hist(dvcsFDFD[varstoplot[ind]], bins = bins, density = True, histtype='stepfilled', facecolor='none', edgecolor='k')\n",
    "\t\taxs[yind, xind].hist(rad_final[varstoplot[ind]], bins = bins, density = True, histtype='stepfilled', facecolor='none', edgecolor='r')\n",
    "\t\taxs[yind, xind].hist(rad_stable[varstoplot[ind]], bins = bins, density = True, histtype='stepfilled', facecolor='none', edgecolor='b')\n",
    "\t\taxs[yind, xind].set_title(title[ind])\n",
    "\t\taxs[yind, xind].set_xlabel(title[ind]+\" [\" + unit[ind] +\"]\")\n",
    "\t\taxs[yind, xind].set_xlim([start, end])\n",
    "plt.tight_layout()\n",
    "plt.show()\n",
    "# plt.savefig(\"simComparison_1.pdf\")\n",
    "plt.clf()"
   ]
  },
  {
   "cell_type": "code",
   "execution_count": 9,
   "id": "b7c11f1d",
   "metadata": {},
   "outputs": [
    {
     "data": {
      "image/png": "[encoded data removed]",
      "text/plain": [
       "<Figure size 1080x720 with 8 Axes>"
      ]
     },
     "metadata": {
      "needs_background": "light"
     },
     "output_type": "display_data"
    },
    {
     "data": {
      "text/plain": [
       "<Figure size 432x288 with 0 Axes>"
      ]
     },
     "metadata": {},
     "output_type": "display_data"
    }
   ],
   "source": [
    "varstoplot = [\"nu\", \"W\", \"Q2\", \"xB\", \"t2\", \"phi2\", \"t1\", \"phi1\"]\n",
    "title = [r\"$\\nu$\", r\"$W$\", r\"$Q^{2}$\", r\"$x_{B}$\", r\"$-t$\"+\" from \"+r\"$\\gamma$\", r\"$\\phi_{trento}$\"+\" from \"+r\"$\\gamma$\", r\"$-t$\"+\" from \"+r\"$p$\", r\"$\\phi_{trento}$\"+\" from \"+r\"$p$\" ]\n",
    "unit = [None, None, GeVc2, None, GeV2, degree, GeV2, degree]\n",
    "binstarts = [0, 1.9, 0, 0, 0, 0, 0 , 0]\n",
    "binends = [10, 4.3, 10, 1, 2, 360, 2, 360]\n",
    "fig, axs = plt.subplots(2, 4, figsize = (15, 10))\n",
    "for xind in range(0,4):\n",
    "\tfor yind in range(0, 2):\n",
    "\t\tind =xind+4*yind\n",
    "\t\tstart = binstarts[ind]\n",
    "\t\tend = binends[ind]\n",
    "\t\tbins = np.linspace(start, end, 101)\n",
    "# \t\taxs[yind, xind].hist(dvcsFDFD[varstoplot[ind]], bins = bins, density = True, histtype='stepfilled', facecolor='none', edgecolor='k')\n",
    "\t\taxs[yind, xind].hist(rad_final[varstoplot[ind]], bins = bins, density = True, histtype='stepfilled', facecolor='none', edgecolor='r')\n",
    "\t\taxs[yind, xind].hist(rad_stable[varstoplot[ind]], bins = bins, density = True, histtype='stepfilled', facecolor='none', edgecolor='b')\n",
    "\t\taxs[yind, xind].set_title(title[ind])\n",
    "\t\taxs[yind, xind].set_xlim([start, end])\n",
    "\t\tif (unit[ind]):\n",
    "\t\t\taxs[yind, xind].set_xlabel(title[ind]+\" [\" + unit[ind] +\"]\")\n",
    "\t\telse:\n",
    "\t\t\taxs[yind, xind].set_xlabel(title[ind])\n",
    "plt.tight_layout()\n",
    "plt.show()\n",
    "# plt.savefig(\"simComparison_2.pdf\")\n",
    "plt.clf()"
   ]
  },
  {
   "cell_type": "code",
   "execution_count": 62,
   "id": "3a2759ef",
   "metadata": {},
   "outputs": [],
   "source": [
    "Wcheck = pd.read_pickle(\"/Users/sangbaek/Dropbox (MIT)/data/pickles/Wcheck.pkl\")"
   ]
  },
  {
   "cell_type": "code",
   "execution_count": 63,
   "id": "1c9a2ea4",
   "metadata": {},
   "outputs": [],
   "source": [
    "Wcheck.loc[:, \"Ep\"] = mag([Wcheck.Epx, Wcheck.Epy, Wcheck.Epz])\n",
    "Wcheck.loc[:, \"Ee\"] = getEnergy([Wcheck.Epx, Wcheck.Epy, Wcheck.Epz], me)\n",
    "Wcheck.loc[:, \"Pp\"] = mag([Wcheck.Ppx, Wcheck.Ppy, Wcheck.Ppz])\n",
    "Wcheck.loc[:, \"Pe\"] = getEnergy([Wcheck.Ppx, Wcheck.Ppy, Wcheck.Ppz], M)\n",
    "Wcheck.loc[:, \"Gp\"] = mag([Wcheck.Gpx, Wcheck.Gpy, Wcheck.Gpz])\n",
    "Wcheck.loc[:, \"Ge\"] = getEnergy([Wcheck.Gpx, Wcheck.Gpy, Wcheck.Gpz], 0)\n",
    "Wcheck.loc[:, \"Gp2\"] = mag([Wcheck.Gpx2, Wcheck.Gpy2, Wcheck.Gpz2])\n",
    "Wcheck.loc[:, \"Ge2\"] = getEnergy([Wcheck.Gpx2, Wcheck.Gpy2, Wcheck.Gpz2], 0)\n",
    "Wcheck = saveDVCSvars(Wcheck)"
   ]
  },
  {
   "cell_type": "code",
   "execution_count": 77,
   "id": "72c5dbf8",
   "metadata": {},
   "outputs": [
    {
     "data": {
      "image/png": "[encoded data removed]",
      "text/plain": [
       "<Figure size 432x288 with 1 Axes>"
      ]
     },
     "metadata": {
      "needs_background": "light"
     },
     "output_type": "display_data"
    }
   ],
   "source": [
    "Wcheck.W.hist(bins = np.linspace(1.0, 4.5, 321))\n",
    "plt.xlabel(r\"$W$\"+\"\\t[\"+GeV+\"]\")\n",
    "plt.xticks([1, 1.2, 2, 3, 4],['', 1.2, 2, 3, 4])\n",
    "plt.show()"
   ]
  },
  {
   "cell_type": "code",
   "execution_count": 6,
   "id": "b18c341d",
   "metadata": {},
   "outputs": [
    {
     "ename": "KeyError",
     "evalue": "'coneAngle'",
     "output_type": "error",
     "traceback": [
      "\u001b[0;31m---------------------------------------------------------------------------\u001b[0m",
      "\u001b[0;31mKeyError\u001b[0m                                  Traceback (most recent call last)",
      "\u001b[0;32m/usr/local/lib/python3.9/site-packages/pandas/core/indexes/base.py\u001b[0m in \u001b[0;36mget_loc\u001b[0;34m(self, key, method, tolerance)\u001b[0m\n\u001b[1;32m   3079\u001b[0m             \u001b[0;32mtry\u001b[0m\u001b[0;34m:\u001b[0m\u001b[0;34m\u001b[0m\u001b[0;34m\u001b[0m\u001b[0m\n\u001b[0;32m-> 3080\u001b[0;31m                 \u001b[0;32mreturn\u001b[0m \u001b[0mself\u001b[0m\u001b[0;34m.\u001b[0m\u001b[0m_engine\u001b[0m\u001b[0;34m.\u001b[0m\u001b[0mget_loc\u001b[0m\u001b[0;34m(\u001b[0m\u001b[0mcasted_key\u001b[0m\u001b[0;34m)\u001b[0m\u001b[0;34m\u001b[0m\u001b[0;34m\u001b[0m\u001b[0m\n\u001b[0m\u001b[1;32m   3081\u001b[0m             \u001b[0;32mexcept\u001b[0m \u001b[0mKeyError\u001b[0m \u001b[0;32mas\u001b[0m \u001b[0merr\u001b[0m\u001b[0;34m:\u001b[0m\u001b[0;34m\u001b[0m\u001b[0;34m\u001b[0m\u001b[0m\n",
      "\u001b[0;32mpandas/_libs/index.pyx\u001b[0m in \u001b[0;36mpandas._libs.index.IndexEngine.get_loc\u001b[0;34m()\u001b[0m\n",
      "\u001b[0;32mpandas/_libs/index.pyx\u001b[0m in \u001b[0;36mpandas._libs.index.IndexEngine.get_loc\u001b[0;34m()\u001b[0m\n",
      "\u001b[0;32mpandas/_libs/hashtable_class_helper.pxi\u001b[0m in \u001b[0;36mpandas._libs.hashtable.PyObjectHashTable.get_item\u001b[0;34m()\u001b[0m\n",
      "\u001b[0;32mpandas/_libs/hashtable_class_helper.pxi\u001b[0m in \u001b[0;36mpandas._libs.hashtable.PyObjectHashTable.get_item\u001b[0;34m()\u001b[0m\n",
      "\u001b[0;31mKeyError\u001b[0m: 'coneAngle'",
      "\nThe above exception was the direct cause of the following exception:\n",
      "\u001b[0;31mKeyError\u001b[0m                                  Traceback (most recent call last)",
      "\u001b[0;32m<ipython-input-6-aaac4c79e8e5>\u001b[0m in \u001b[0;36m<module>\u001b[0;34m\u001b[0m\n\u001b[1;32m     12\u001b[0m                 \u001b[0mbins\u001b[0m \u001b[0;34m=\u001b[0m \u001b[0mnp\u001b[0m\u001b[0;34m.\u001b[0m\u001b[0mlinspace\u001b[0m\u001b[0;34m(\u001b[0m\u001b[0mstart\u001b[0m\u001b[0;34m,\u001b[0m \u001b[0mend\u001b[0m\u001b[0;34m,\u001b[0m \u001b[0;36m101\u001b[0m\u001b[0;34m)\u001b[0m\u001b[0;34m\u001b[0m\u001b[0;34m\u001b[0m\u001b[0m\n\u001b[1;32m     13\u001b[0m \u001b[0;31m#               axs[yind, xind].hist(dvcsFDFD[varstoplot[ind]], bins = bins, density = True, histtype='stepfilled', facecolor='none', edgecolor='k')\u001b[0m\u001b[0;34m\u001b[0m\u001b[0;34m\u001b[0m\u001b[0;34m\u001b[0m\u001b[0m\n\u001b[0;32m---> 14\u001b[0;31m                 \u001b[0maxs\u001b[0m\u001b[0;34m[\u001b[0m\u001b[0myind\u001b[0m\u001b[0;34m,\u001b[0m \u001b[0mxind\u001b[0m\u001b[0;34m]\u001b[0m\u001b[0;34m.\u001b[0m\u001b[0mhist\u001b[0m\u001b[0;34m(\u001b[0m\u001b[0mnonrad_original\u001b[0m\u001b[0;34m[\u001b[0m\u001b[0mvarstoplot\u001b[0m\u001b[0;34m[\u001b[0m\u001b[0mind\u001b[0m\u001b[0;34m]\u001b[0m\u001b[0;34m]\u001b[0m\u001b[0;34m,\u001b[0m \u001b[0mbins\u001b[0m \u001b[0;34m=\u001b[0m \u001b[0mbins\u001b[0m\u001b[0;34m,\u001b[0m \u001b[0mdensity\u001b[0m \u001b[0;34m=\u001b[0m \u001b[0;32mTrue\u001b[0m\u001b[0;34m,\u001b[0m \u001b[0mhisttype\u001b[0m\u001b[0;34m=\u001b[0m\u001b[0;34m'stepfilled'\u001b[0m\u001b[0;34m,\u001b[0m \u001b[0mfacecolor\u001b[0m\u001b[0;34m=\u001b[0m\u001b[0;34m'none'\u001b[0m\u001b[0;34m,\u001b[0m \u001b[0medgecolor\u001b[0m\u001b[0;34m=\u001b[0m\u001b[0;34m'r'\u001b[0m\u001b[0;34m)\u001b[0m\u001b[0;34m\u001b[0m\u001b[0;34m\u001b[0m\u001b[0m\n\u001b[0m\u001b[1;32m     15\u001b[0m                 \u001b[0maxs\u001b[0m\u001b[0;34m[\u001b[0m\u001b[0myind\u001b[0m\u001b[0;34m,\u001b[0m \u001b[0mxind\u001b[0m\u001b[0;34m]\u001b[0m\u001b[0;34m.\u001b[0m\u001b[0mhist\u001b[0m\u001b[0;34m(\u001b[0m\u001b[0mnonrad_test\u001b[0m\u001b[0;34m[\u001b[0m\u001b[0mvarstoplot\u001b[0m\u001b[0;34m[\u001b[0m\u001b[0mind\u001b[0m\u001b[0;34m]\u001b[0m\u001b[0;34m]\u001b[0m\u001b[0;34m,\u001b[0m \u001b[0mbins\u001b[0m \u001b[0;34m=\u001b[0m \u001b[0mbins\u001b[0m\u001b[0;34m,\u001b[0m \u001b[0mdensity\u001b[0m \u001b[0;34m=\u001b[0m \u001b[0;32mTrue\u001b[0m\u001b[0;34m,\u001b[0m \u001b[0mhisttype\u001b[0m\u001b[0;34m=\u001b[0m\u001b[0;34m'stepfilled'\u001b[0m\u001b[0;34m,\u001b[0m \u001b[0mfacecolor\u001b[0m\u001b[0;34m=\u001b[0m\u001b[0;34m'none'\u001b[0m\u001b[0;34m,\u001b[0m \u001b[0medgecolor\u001b[0m\u001b[0;34m=\u001b[0m\u001b[0;34m'b'\u001b[0m\u001b[0;34m)\u001b[0m\u001b[0;34m\u001b[0m\u001b[0;34m\u001b[0m\u001b[0m\n\u001b[1;32m     16\u001b[0m                 \u001b[0maxs\u001b[0m\u001b[0;34m[\u001b[0m\u001b[0myind\u001b[0m\u001b[0;34m,\u001b[0m \u001b[0mxind\u001b[0m\u001b[0;34m]\u001b[0m\u001b[0;34m.\u001b[0m\u001b[0mset_title\u001b[0m\u001b[0;34m(\u001b[0m\u001b[0mtitle\u001b[0m\u001b[0;34m[\u001b[0m\u001b[0mind\u001b[0m\u001b[0;34m]\u001b[0m\u001b[0;34m)\u001b[0m\u001b[0;34m\u001b[0m\u001b[0;34m\u001b[0m\u001b[0m\n",
      "\u001b[0;32m/usr/local/lib/python3.9/site-packages/pandas/core/frame.py\u001b[0m in \u001b[0;36m__getitem__\u001b[0;34m(self, key)\u001b[0m\n\u001b[1;32m   3022\u001b[0m             \u001b[0;32mif\u001b[0m \u001b[0mself\u001b[0m\u001b[0;34m.\u001b[0m\u001b[0mcolumns\u001b[0m\u001b[0;34m.\u001b[0m\u001b[0mnlevels\u001b[0m \u001b[0;34m>\u001b[0m \u001b[0;36m1\u001b[0m\u001b[0;34m:\u001b[0m\u001b[0;34m\u001b[0m\u001b[0;34m\u001b[0m\u001b[0m\n\u001b[1;32m   3023\u001b[0m                 \u001b[0;32mreturn\u001b[0m \u001b[0mself\u001b[0m\u001b[0;34m.\u001b[0m\u001b[0m_getitem_multilevel\u001b[0m\u001b[0;34m(\u001b[0m\u001b[0mkey\u001b[0m\u001b[0;34m)\u001b[0m\u001b[0;34m\u001b[0m\u001b[0;34m\u001b[0m\u001b[0m\n\u001b[0;32m-> 3024\u001b[0;31m             \u001b[0mindexer\u001b[0m \u001b[0;34m=\u001b[0m \u001b[0mself\u001b[0m\u001b[0;34m.\u001b[0m\u001b[0mcolumns\u001b[0m\u001b[0;34m.\u001b[0m\u001b[0mget_loc\u001b[0m\u001b[0;34m(\u001b[0m\u001b[0mkey\u001b[0m\u001b[0;34m)\u001b[0m\u001b[0;34m\u001b[0m\u001b[0;34m\u001b[0m\u001b[0m\n\u001b[0m\u001b[1;32m   3025\u001b[0m             \u001b[0;32mif\u001b[0m \u001b[0mis_integer\u001b[0m\u001b[0;34m(\u001b[0m\u001b[0mindexer\u001b[0m\u001b[0;34m)\u001b[0m\u001b[0;34m:\u001b[0m\u001b[0;34m\u001b[0m\u001b[0;34m\u001b[0m\u001b[0m\n\u001b[1;32m   3026\u001b[0m                 \u001b[0mindexer\u001b[0m \u001b[0;34m=\u001b[0m \u001b[0;34m[\u001b[0m\u001b[0mindexer\u001b[0m\u001b[0;34m]\u001b[0m\u001b[0;34m\u001b[0m\u001b[0;34m\u001b[0m\u001b[0m\n",
      "\u001b[0;32m/usr/local/lib/python3.9/site-packages/pandas/core/indexes/base.py\u001b[0m in \u001b[0;36mget_loc\u001b[0;34m(self, key, method, tolerance)\u001b[0m\n\u001b[1;32m   3080\u001b[0m                 \u001b[0;32mreturn\u001b[0m \u001b[0mself\u001b[0m\u001b[0;34m.\u001b[0m\u001b[0m_engine\u001b[0m\u001b[0;34m.\u001b[0m\u001b[0mget_loc\u001b[0m\u001b[0;34m(\u001b[0m\u001b[0mcasted_key\u001b[0m\u001b[0;34m)\u001b[0m\u001b[0;34m\u001b[0m\u001b[0;34m\u001b[0m\u001b[0m\n\u001b[1;32m   3081\u001b[0m             \u001b[0;32mexcept\u001b[0m \u001b[0mKeyError\u001b[0m \u001b[0;32mas\u001b[0m \u001b[0merr\u001b[0m\u001b[0;34m:\u001b[0m\u001b[0;34m\u001b[0m\u001b[0;34m\u001b[0m\u001b[0m\n\u001b[0;32m-> 3082\u001b[0;31m                 \u001b[0;32mraise\u001b[0m \u001b[0mKeyError\u001b[0m\u001b[0;34m(\u001b[0m\u001b[0mkey\u001b[0m\u001b[0;34m)\u001b[0m \u001b[0;32mfrom\u001b[0m \u001b[0merr\u001b[0m\u001b[0;34m\u001b[0m\u001b[0;34m\u001b[0m\u001b[0m\n\u001b[0m\u001b[1;32m   3083\u001b[0m \u001b[0;34m\u001b[0m\u001b[0m\n\u001b[1;32m   3084\u001b[0m         \u001b[0;32mif\u001b[0m \u001b[0mtolerance\u001b[0m \u001b[0;32mis\u001b[0m \u001b[0;32mnot\u001b[0m \u001b[0;32mNone\u001b[0m\u001b[0;34m:\u001b[0m\u001b[0;34m\u001b[0m\u001b[0;34m\u001b[0m\u001b[0m\n",
      "\u001b[0;31mKeyError\u001b[0m: 'coneAngle'"
     ]
    },
    {
     "data": {
      "image/png": "[encoded data removed]",
      "text/plain": [
       "<Figure size 1080x720 with 8 Axes>"
      ]
     },
     "metadata": {
      "needs_background": "light"
     },
     "output_type": "display_data"
    }
   ],
   "source": [
    "varstoplot = [\"coneAngle\", \"reconGam\", \"coplanarity\", \"ME_epg\", \"MM2_epg\", \"MM2_eg\", \"MM2_ep\", \"MPt\"]\n",
    "title = [r\"$\\theta_{e'\\gamma}$\", r\"$\\theta_{\\gamma_{det.}\\gamma_{rec.}}$\", r\"$\\Delta\\phi$\" , \"ME\"+r\"${}_{epg}$\", \"MM\"+r\"${}^{2}_{epg}$\", \"MM\"+r\"${}^{2}_{eg}$\", \"MM\"+r\"${}^{2}_{ep}$\", \"MPt\"+r\"${}_{epg}$\"]\n",
    "unit = [degree, degree, degree, GeV, GeV2, GeV2, GeV2, GeVc]\n",
    "binstarts = [20, 0, 0, -0.5, -0.04, 0.1,-0.4 , 0]\n",
    "binends = [60, 1.1, 10, 1.2, 0.04, 1.7, 0.4, 0.12]\n",
    "fig, axs = plt.subplots(2, 4, figsize = (15,10))\n",
    "for yind in range(0, 2):\n",
    "\tfor xind in range(0,4):\n",
    "\t\tind = 4*yind + xind\n",
    "\t\tstart = binstarts[ind]\n",
    "\t\tend = binends[ind]\n",
    "\t\tbins = np.linspace(start, end, 101)\n",
    "# \t\taxs[yind, xind].hist(dvcsFDFD[varstoplot[ind]], bins = bins, density = True, histtype='stepfilled', facecolor='none', edgecolor='k')\n",
    "\t\taxs[yind, xind].hist(nonrad_original[varstoplot[ind]], bins = bins, density = True, histtype='stepfilled', facecolor='none', edgecolor='r')\n",
    "\t\taxs[yind, xind].hist(nonrad_test[varstoplot[ind]], bins = bins, density = True, histtype='stepfilled', facecolor='none', edgecolor='b')\n",
    "\t\taxs[yind, xind].set_title(title[ind])\n",
    "\t\taxs[yind, xind].set_xlabel(title[ind]+\" [\" + unit[ind] +\"]\")\n",
    "\t\taxs[yind, xind].set_xlim([start, end])\n",
    "plt.tight_layout()\n",
    "plt.show()\n",
    "# plt.savefig(\"simComparison_1.pdf\")\n",
    "plt.clf()"
   ]
  },
  {
   "cell_type": "markdown",
   "id": "1aa773c2",
   "metadata": {},
   "source": [
    "## Lower W data"
   ]
  },
  {
   "cell_type": "code",
   "execution_count": 61,
   "id": "790c3e0e",
   "metadata": {},
   "outputs": [],
   "source": [
    "lowW_genNoRad = pd.read_pickle(\"/Users/sangbaek/Dropbox (MIT)/data/lowW/lowW_genNoRad.pkl\")\n",
    "lowW_genRad = pd.read_pickle(\"/Users/sangbaek/Dropbox (MIT)/data/lowW/lowW_genRad.pkl\")\n",
    "lowW_recInb = pd.read_pickle(\"/Users/sangbaek/Dropbox (MIT)/data/lowW/inbending/lowW.pkl\")\n",
    "lowW_recOutb = pd.read_pickle(\"/Users/sangbaek/Dropbox (MIT)/data/lowW/outbending/lowW.pkl\")"
   ]
  },
  {
   "cell_type": "code",
   "execution_count": 48,
   "id": "f03d4019",
   "metadata": {},
   "outputs": [
    {
     "data": {
      "text/html": [
       "<div>\n",
       "<style scoped>\n",
       "    .dataframe tbody tr th:only-of-type {\n",
       "        vertical-align: middle;\n",
       "    }\n",
       "\n",
       "    .dataframe tbody tr th {\n",
       "        vertical-align: top;\n",
       "    }\n",
       "\n",
       "    .dataframe thead th {\n",
       "        text-align: right;\n",
       "    }\n",
       "</style>\n",
       "<table border=\"1\" class=\"dataframe\">\n",
       "  <thead>\n",
       "    <tr style=\"text-align: right;\">\n",
       "      <th></th>\n",
       "      <th>Epx</th>\n",
       "      <th>Epy</th>\n",
       "      <th>Epz</th>\n",
       "      <th>Ppx</th>\n",
       "      <th>Ppy</th>\n",
       "      <th>Ppz</th>\n",
       "      <th>Gpx</th>\n",
       "      <th>Gpy</th>\n",
       "      <th>Gpz</th>\n",
       "      <th>Gpx2</th>\n",
       "      <th>Gpy2</th>\n",
       "      <th>Gpz2</th>\n",
       "    </tr>\n",
       "  </thead>\n",
       "  <tbody>\n",
       "    <tr>\n",
       "      <th>0</th>\n",
       "      <td>-0.3781</td>\n",
       "      <td>0.8165</td>\n",
       "      <td>8.6187</td>\n",
       "      <td>0.1267</td>\n",
       "      <td>0.2370</td>\n",
       "      <td>0.7303</td>\n",
       "      <td>0.2514</td>\n",
       "      <td>-1.0535</td>\n",
       "      <td>1.2550</td>\n",
       "      <td>0.0</td>\n",
       "      <td>0.0</td>\n",
       "      <td>0.0</td>\n",
       "    </tr>\n",
       "    <tr>\n",
       "      <th>1</th>\n",
       "      <td>0.8597</td>\n",
       "      <td>0.4511</td>\n",
       "      <td>8.9823</td>\n",
       "      <td>-0.0152</td>\n",
       "      <td>-0.3714</td>\n",
       "      <td>0.5790</td>\n",
       "      <td>-0.8445</td>\n",
       "      <td>-0.0797</td>\n",
       "      <td>1.0427</td>\n",
       "      <td>0.0</td>\n",
       "      <td>0.0</td>\n",
       "      <td>0.0</td>\n",
       "    </tr>\n",
       "    <tr>\n",
       "      <th>2</th>\n",
       "      <td>0.5339</td>\n",
       "      <td>-0.9282</td>\n",
       "      <td>9.6845</td>\n",
       "      <td>-0.4123</td>\n",
       "      <td>0.8470</td>\n",
       "      <td>0.6233</td>\n",
       "      <td>-0.1216</td>\n",
       "      <td>0.0813</td>\n",
       "      <td>0.2961</td>\n",
       "      <td>0.0</td>\n",
       "      <td>0.0</td>\n",
       "      <td>0.0</td>\n",
       "    </tr>\n",
       "    <tr>\n",
       "      <th>3</th>\n",
       "      <td>0.3649</td>\n",
       "      <td>0.8071</td>\n",
       "      <td>8.5300</td>\n",
       "      <td>0.2912</td>\n",
       "      <td>0.0976</td>\n",
       "      <td>0.7922</td>\n",
       "      <td>-0.6561</td>\n",
       "      <td>-0.9047</td>\n",
       "      <td>1.2818</td>\n",
       "      <td>0.0</td>\n",
       "      <td>0.0</td>\n",
       "      <td>0.0</td>\n",
       "    </tr>\n",
       "    <tr>\n",
       "      <th>4</th>\n",
       "      <td>-1.0138</td>\n",
       "      <td>0.1789</td>\n",
       "      <td>8.6504</td>\n",
       "      <td>0.3339</td>\n",
       "      <td>-0.6168</td>\n",
       "      <td>0.7867</td>\n",
       "      <td>0.6799</td>\n",
       "      <td>0.4379</td>\n",
       "      <td>1.1669</td>\n",
       "      <td>0.0</td>\n",
       "      <td>0.0</td>\n",
       "      <td>0.0</td>\n",
       "    </tr>\n",
       "    <tr>\n",
       "      <th>...</th>\n",
       "      <td>...</td>\n",
       "      <td>...</td>\n",
       "      <td>...</td>\n",
       "      <td>...</td>\n",
       "      <td>...</td>\n",
       "      <td>...</td>\n",
       "      <td>...</td>\n",
       "      <td>...</td>\n",
       "      <td>...</td>\n",
       "      <td>...</td>\n",
       "      <td>...</td>\n",
       "      <td>...</td>\n",
       "    </tr>\n",
       "    <tr>\n",
       "      <th>9999995</th>\n",
       "      <td>-0.9645</td>\n",
       "      <td>0.3414</td>\n",
       "      <td>9.0721</td>\n",
       "      <td>0.4168</td>\n",
       "      <td>-0.2521</td>\n",
       "      <td>0.3614</td>\n",
       "      <td>0.5477</td>\n",
       "      <td>-0.0893</td>\n",
       "      <td>1.1705</td>\n",
       "      <td>0.0</td>\n",
       "      <td>0.0</td>\n",
       "      <td>0.0</td>\n",
       "    </tr>\n",
       "    <tr>\n",
       "      <th>9999996</th>\n",
       "      <td>-0.8782</td>\n",
       "      <td>-0.3109</td>\n",
       "      <td>8.3262</td>\n",
       "      <td>-0.2759</td>\n",
       "      <td>-0.0190</td>\n",
       "      <td>0.8254</td>\n",
       "      <td>1.1541</td>\n",
       "      <td>0.3299</td>\n",
       "      <td>1.4524</td>\n",
       "      <td>0.0</td>\n",
       "      <td>0.0</td>\n",
       "      <td>0.0</td>\n",
       "    </tr>\n",
       "    <tr>\n",
       "      <th>9999997</th>\n",
       "      <td>-0.9745</td>\n",
       "      <td>0.4247</td>\n",
       "      <td>8.5798</td>\n",
       "      <td>0.1745</td>\n",
       "      <td>-0.7422</td>\n",
       "      <td>1.2545</td>\n",
       "      <td>0.8000</td>\n",
       "      <td>0.3174</td>\n",
       "      <td>0.7697</td>\n",
       "      <td>0.0</td>\n",
       "      <td>0.0</td>\n",
       "      <td>0.0</td>\n",
       "    </tr>\n",
       "    <tr>\n",
       "      <th>9999998</th>\n",
       "      <td>0.4045</td>\n",
       "      <td>0.7999</td>\n",
       "      <td>9.4347</td>\n",
       "      <td>-0.1278</td>\n",
       "      <td>-0.7091</td>\n",
       "      <td>0.4103</td>\n",
       "      <td>-0.2767</td>\n",
       "      <td>-0.0908</td>\n",
       "      <td>0.7590</td>\n",
       "      <td>0.0</td>\n",
       "      <td>0.0</td>\n",
       "      <td>0.0</td>\n",
       "    </tr>\n",
       "    <tr>\n",
       "      <th>9999999</th>\n",
       "      <td>0.8191</td>\n",
       "      <td>0.6436</td>\n",
       "      <td>9.1629</td>\n",
       "      <td>-0.3452</td>\n",
       "      <td>-0.8117</td>\n",
       "      <td>0.8442</td>\n",
       "      <td>-0.4739</td>\n",
       "      <td>0.1682</td>\n",
       "      <td>0.5968</td>\n",
       "      <td>0.0</td>\n",
       "      <td>0.0</td>\n",
       "      <td>0.0</td>\n",
       "    </tr>\n",
       "  </tbody>\n",
       "</table>\n",
       "<p>10000000 rows × 12 columns</p>\n",
       "</div>"
      ],
      "text/plain": [
       "            Epx     Epy     Epz     Ppx     Ppy     Ppz     Gpx     Gpy  \\\n",
       "0       -0.3781  0.8165  8.6187  0.1267  0.2370  0.7303  0.2514 -1.0535   \n",
       "1        0.8597  0.4511  8.9823 -0.0152 -0.3714  0.5790 -0.8445 -0.0797   \n",
       "2        0.5339 -0.9282  9.6845 -0.4123  0.8470  0.6233 -0.1216  0.0813   \n",
       "3        0.3649  0.8071  8.5300  0.2912  0.0976  0.7922 -0.6561 -0.9047   \n",
       "4       -1.0138  0.1789  8.6504  0.3339 -0.6168  0.7867  0.6799  0.4379   \n",
       "...         ...     ...     ...     ...     ...     ...     ...     ...   \n",
       "9999995 -0.9645  0.3414  9.0721  0.4168 -0.2521  0.3614  0.5477 -0.0893   \n",
       "9999996 -0.8782 -0.3109  8.3262 -0.2759 -0.0190  0.8254  1.1541  0.3299   \n",
       "9999997 -0.9745  0.4247  8.5798  0.1745 -0.7422  1.2545  0.8000  0.3174   \n",
       "9999998  0.4045  0.7999  9.4347 -0.1278 -0.7091  0.4103 -0.2767 -0.0908   \n",
       "9999999  0.8191  0.6436  9.1629 -0.3452 -0.8117  0.8442 -0.4739  0.1682   \n",
       "\n",
       "            Gpz  Gpx2  Gpy2  Gpz2  \n",
       "0        1.2550   0.0   0.0   0.0  \n",
       "1        1.0427   0.0   0.0   0.0  \n",
       "2        0.2961   0.0   0.0   0.0  \n",
       "3        1.2818   0.0   0.0   0.0  \n",
       "4        1.1669   0.0   0.0   0.0  \n",
       "...         ...   ...   ...   ...  \n",
       "9999995  1.1705   0.0   0.0   0.0  \n",
       "9999996  1.4524   0.0   0.0   0.0  \n",
       "9999997  0.7697   0.0   0.0   0.0  \n",
       "9999998  0.7590   0.0   0.0   0.0  \n",
       "9999999  0.5968   0.0   0.0   0.0  \n",
       "\n",
       "[10000000 rows x 12 columns]"
      ]
     },
     "execution_count": 48,
     "metadata": {},
     "output_type": "execute_result"
    }
   ],
   "source": [
    "lowW_genNoRad"
   ]
  },
  {
   "cell_type": "code",
   "execution_count": 49,
   "id": "fe4e7dfb",
   "metadata": {},
   "outputs": [],
   "source": [
    "def saveDVCSvars(df):\n",
    "        #set up dvcs variables\n",
    "\n",
    "        df.loc[:, \"Ep\"] = mag([df.Epx, df.Epy, df.Epz])\n",
    "        df.loc[:, \"Ee\"] = getEnergy([df.Epx, df.Epy, df.Epz], me)\n",
    "        df.loc[:, \"Pp\"] = mag([df.Ppx, df.Ppy, df.Ppz])\n",
    "        df.loc[:, \"Pe\"] = getEnergy([df.Ppx, df.Ppy, df.Ppz], M)\n",
    "        df.loc[:, \"Gp\"] = mag([df.Gpx, df.Gpy, df.Gpz])\n",
    "        df.loc[:, \"Ge\"] = getEnergy([df.Gpx, df.Gpy, df.Gpz], 0)\n",
    "        df.loc[:, \"Gp2\"] = mag([df.Gpx2, df.Gpy2, df.Gpz2])\n",
    "        df.loc[:, \"Ge2\"] = getEnergy([df.Gpx2, df.Gpy2, df.Gpz2], 0)\n",
    "        \n",
    "        ele = [df['Epx'], df['Epy'], df['Epz']]\n",
    "        df.loc[:, 'Ep'] = mag(ele)\n",
    "        df.loc[:, 'Ee'] = getEnergy(ele, me)\n",
    "        df.loc[:, 'Etheta'] = getTheta(ele)\n",
    "        df.loc[:, 'Ephi'] = getPhi(ele)\n",
    "\n",
    "        pro = [df['Ppx'], df['Ppy'], df['Ppz']]\n",
    "\n",
    "        gam = [df['Gpx'], df['Gpy'], df['Gpz']]\n",
    "        df.loc[:, 'Gp'] = mag(gam)\n",
    "        df.loc[:, 'Ge'] = getEnergy(gam, 0)\n",
    "        df.loc[:, 'Gtheta'] = getTheta(gam)\n",
    "        df.loc[:, 'Gphi'] = getPhi(gam)\n",
    "\n",
    "        Ppt = mag([df['Ppx'], df['Ppy'], 0])\n",
    "\n",
    "        VGS = [-df['Epx'], -df['Epy'], pbeam - df['Epz']]\n",
    "        v3l = cross(beam, ele)\n",
    "        v3h = cross(pro, VGS)\n",
    "        v3g = cross(VGS, gam)\n",
    "        VmissG = [-df[\"Epx\"] - df[\"Ppx\"], -df[\"Epy\"] - df[\"Ppy\"],\n",
    "                  pbeam - df[\"Epz\"] - df[\"Ppz\"]]\n",
    "        VmissP = [-(df[\"Epx\"] + df[\"Gpx\"]), -(df[\"Epy\"] + df[\"Gpy\"]),\n",
    "                  -(-pbeam + df[\"Epz\"] + df[\"Gpz\"])]\n",
    "        Vmiss = [-(df[\"Epx\"] + df[\"Ppx\"] + df[\"Gpx\"]), -(df[\"Epy\"] + df[\"Ppy\"] + df[\"Gpy\"]),\n",
    "                 -(-pbeam + df[\"Epz\"] + df[\"Ppz\"] + df[\"Gpz\"])]\n",
    "        costheta = cosTheta(VGS, gam)\n",
    "\n",
    "        df.loc[:, 'Mpx'], df.loc[:, 'Mpy'], df.loc[:, 'Mpz'] = Vmiss\n",
    "\n",
    "        # binning kinematics\n",
    "        df.loc[:,'Q2'] = -((ebeam - df['Ee'])**2 - mag2(VGS))\n",
    "        df.loc[:,'nu'] = (ebeam - df['Ee'])\n",
    "        df.loc[:,'y'] = df['nu']/ebeam\n",
    "        df.loc[:,'xB'] = df['Q2'] / 2.0 / M / df['nu']\n",
    "        df.loc[:,'t1'] = 2 * M * (df['Pe'] - M)\n",
    "        df.loc[:,'t2'] = (M * df['Q2'] + 2 * M * df['nu'] * (df['nu'] - np.sqrt(df['nu'] * df['nu'] + df['Q2']) * costheta))\\\n",
    "        / (M + df['nu'] - np.sqrt(df['nu'] * df['nu'] + df['Q2']) * costheta)\n",
    "        df.loc[:,'W'] = np.sqrt(np.maximum(0, (ebeam + M - df['Ee'])**2 - mag2(VGS)))\n",
    "\n",
    "        # trento angles\n",
    "        df.loc[:,'phi1'] = angle(v3l, v3h)\n",
    "        df.loc[:,'phi1'] = np.where(dot(v3l, pro) > 0, 360.0 -\n",
    "                                  df['phi1'], df['phi1'])\n",
    "        df.loc[:,'phi2'] = angle(v3l, v3g)\n",
    "        df.loc[:,'phi2'] = np.where(dot(v3l, gam) <\n",
    "                                  0, 360.0 - df['phi2'], df['phi2'])\n",
    "\n",
    "        # exclusivity variables\n",
    "        df.loc[:,'MM2_epg'] = (-M - ebeam + df[\"Ee\"] +\n",
    "                             df[\"Pe\"] + df[\"Ge\"])**2 - mag2(Vmiss)\n",
    "        df.loc[:,'ME_epg'] = (M + ebeam - df[\"Ee\"] - df[\"Pe\"] - df[\"Ge\"])\n",
    "        df.loc[:,'MM2_ep'] = (-M - ebeam + df[\"Ee\"] + df[\"Pe\"])**2 - mag2(VmissG)\n",
    "        df.loc[:,'MM2_eg'] = (-M - ebeam + df[\"Ee\"] + df[\"Ge\"])**2 - mag2(VmissP)\n",
    "        df.loc[:,'MPt'] = np.sqrt((df[\"Epx\"] + df[\"Ppx\"] + df[\"Gpx\"])**2 +\n",
    "                                (df[\"Epy\"] + df[\"Ppy\"] + df[\"Gpy\"])**2)\n",
    "        df.loc[:,'coneAngle'] = angle(ele, gam)\n",
    "        df.loc[:,'reconGam'] = angle(gam, VmissG)\n",
    "        df.loc[:,'coplanarity'] = angle(v3h, v3g)\n",
    "        return df"
   ]
  },
  {
   "cell_type": "code",
   "execution_count": 50,
   "id": "626246ee",
   "metadata": {},
   "outputs": [],
   "source": [
    "def saveGenDVCSvars(df):\n",
    "        #set up dvcs variables\n",
    "        ele = [df['GenEpx'], df['GenEpy'], df['GenEpz']]\n",
    "        df.loc[:, 'GenEp'] = mag(ele)\n",
    "        df.loc[:, 'GenEe'] = getEnergy(ele, me)\n",
    "        df.loc[:, 'GenEtheta'] = getTheta(ele)\n",
    "        df.loc[:, 'GenEphi'] = getPhi(ele)\n",
    "\n",
    "        pro = [df['GenPpx'], df['GenPpy'], df['GenPpz']]\n",
    "        df.loc[:, 'GenPp'] = mag(pro)\n",
    "        df.loc[:, 'GenPe'] = getEnergy(pro, 0)\n",
    "        df.loc[:, 'GenPtheta'] = getTheta(pro)\n",
    "        df.loc[:, 'GenPphi'] = getPhi(pro)\n",
    "\n",
    "        gam = [df['GenGpx'], df['GenGpy'], df['GenGpz']]\n",
    "        df.loc[:, 'GenGp'] = mag(gam)\n",
    "        df.loc[:, 'GenGe'] = getEnergy(gam, 0)\n",
    "        df.loc[:, 'GenGtheta'] = getTheta(gam)\n",
    "        df.loc[:, 'GenGphi'] = getPhi(gam)\n",
    "\n",
    "        Ppt = mag([df['GenPpx'], df['GenPpy'], 0])\n",
    "\n",
    "        VGS = [-df['GenEpx'], -df['GenEpy'], pbeam - df['GenEpz']]\n",
    "        v3l = cross(beam, ele)\n",
    "        v3h = cross(pro, VGS)\n",
    "        v3g = cross(VGS, gam)\n",
    "        VmissG = [-df[\"GenEpx\"] - df[\"GenPpx\"], -df[\"GenEpy\"] - df[\"GenPpy\"],\n",
    "                  pbeam - df[\"GenEpz\"] - df[\"GenPpz\"]]\n",
    "        VmissP = [-(df[\"GenEpx\"] + df[\"GenGpx\"]), -(df[\"GenEpy\"] + df[\"GenGpy\"]),\n",
    "                  -(-pbeam + df[\"GenEpz\"] + df[\"GenGpz\"])]\n",
    "        Vmiss = [-(df[\"GenEpx\"] + df[\"GenPpx\"] + df[\"GenGpx\"]), -(df[\"GenEpy\"] + df[\"GenPpy\"] + df[\"GenGpy\"]),\n",
    "                 -(-pbeam + df[\"GenEpz\"] + df[\"GenPpz\"] + df[\"GenGpz\"])]\n",
    "        costheta = cosTheta(VGS, gam)\n",
    "\n",
    "        df.loc[:, 'GenMpx'], df.loc[:, 'GenMpy'], df.loc[:, 'GenMpz'] = Vmiss\n",
    "\n",
    "        # binning kinematics\n",
    "        df.loc[:,'GenQ2'] = -((ebeam - df['GenEe'])**2 - mag2(VGS))\n",
    "        df.loc[:,'Gennu'] = (ebeam - df['GenEe'])\n",
    "        df.loc[:,'Geny'] = df['Gennu']/ebeam\n",
    "        df.loc[:,'GenxB'] = df['GenQ2'] / 2.0 / M / df['Gennu']\n",
    "        df.loc[:,'Gent1'] = 2 * M * (df['GenPe'] - M)\n",
    "        df.loc[:,'Gent2'] = (M * df['GenQ2'] + 2 * M * df['Gennu'] * (df['Gennu'] - np.sqrt(df['Gennu'] * df['Gennu'] + df['GenQ2']) * costheta))\\\n",
    "        / (M + df['Gennu'] - np.sqrt(df['Gennu'] * df['Gennu'] + df['GenQ2']) * costheta)\n",
    "        df.loc[:,'GenW'] = np.sqrt(np.maximum(0, (ebeam + M - df['GenEe'])**2 - mag2(VGS)))\n",
    "\n",
    "        # trento angles\n",
    "        df.loc[:,'Genphi1'] = angle(v3l, v3h)\n",
    "        df.loc[:,'Genphi1'] = np.where(dot(v3l, pro) > 0, 360.0 -\n",
    "                                  df['Genphi1'], df['Genphi1'])\n",
    "        df.loc[:,'Genphi2'] = angle(v3l, v3g)\n",
    "        df.loc[:,'Genphi2'] = np.where(dot(v3l, gam) <\n",
    "                                  0, 360.0 - df['Genphi2'], df['Genphi2'])\n",
    "\n",
    "        # exclusivity variables\n",
    "        df.loc[:,'GenMM2_epg'] = (-M - ebeam + df[\"GenEe\"] +\n",
    "                             df[\"GenPe\"] + df[\"GenGe\"])**2 - mag2(Vmiss)\n",
    "        df.loc[:,'GenME_epg'] = (M + ebeam - df[\"GenEe\"] - df[\"GenPe\"] - df[\"GenGe\"])\n",
    "        df.loc[:,'GenMM2_ep'] = (-M - ebeam + df[\"GenEe\"] + df[\"GenPe\"])**2 - mag2(VmissG)\n",
    "        df.loc[:,'GenMM2_eg'] = (-M - ebeam + df[\"GenEe\"] + df[\"GenGe\"])**2 - mag2(VmissP)\n",
    "        df.loc[:,'GenMPt'] = np.sqrt((df[\"GenEpx\"] + df[\"GenPpx\"] + df[\"GenGpx\"])**2 +\n",
    "                                (df[\"GenEpy\"] + df[\"GenPpy\"] + df[\"GenGpy\"])**2)\n",
    "        df.loc[:,'GenconeAngle'] = angle(ele, gam)\n",
    "        df.loc[:,'GenreconGam'] = angle(gam, VmissG)\n",
    "        df.loc[:,'Gencoplanarity'] = angle(v3h, v3g)\n",
    "        return df"
   ]
  },
  {
   "cell_type": "code",
   "execution_count": 62,
   "id": "625c6c7b",
   "metadata": {},
   "outputs": [],
   "source": [
    "lowW_genNoRad = saveDVCSvars(lowW_genNoRad)\n",
    "lowW_genRad = saveDVCSvars(lowW_genRad)"
   ]
  },
  {
   "cell_type": "code",
   "execution_count": 63,
   "id": "b37edf96",
   "metadata": {},
   "outputs": [],
   "source": [
    "lowW_recInb = saveGenDVCSvars(lowW_recInb)\n",
    "lowW_recOutb = saveGenDVCSvars(lowW_recOutb)"
   ]
  },
  {
   "cell_type": "code",
   "execution_count": 53,
   "id": "95398e9b",
   "metadata": {},
   "outputs": [
    {
     "data": {
      "image/png": "[encoded data removed]",
      "text/plain": [
       "<Figure size 432x288 with 1 Axes>"
      ]
     },
     "metadata": {
      "needs_background": "light"
     },
     "output_type": "display_data"
    }
   ],
   "source": [
    "plt.hist2d(lowW_recInb.GenW, lowW_recInb.W, bins = [np.linspace(1.75,2, 21), np.linspace(2,2.25,21)], cmap = cmap, cmin =1)\n",
    "plt.xlabel(r\"$W_{gen.}$\"+\" [\"+GeV+r\"$/c^2$\"+\"]\")\n",
    "plt.ylabel(r\"$W_{rec.}$\"+\" [\"+GeV+r\"$/c^2$\"+\"]\")\n",
    "plt.show()"
   ]
  },
  {
   "cell_type": "code",
   "execution_count": 54,
   "id": "1c649c5c",
   "metadata": {},
   "outputs": [
    {
     "data": {
      "image/png": "[encoded data removed]",
      "text/plain": [
       "<Figure size 432x288 with 1 Axes>"
      ]
     },
     "metadata": {
      "needs_background": "light"
     },
     "output_type": "display_data"
    }
   ],
   "source": [
    "plt.hist2d(lowW_recOutb.GenW, lowW_recOutb.W, bins = [np.linspace(1.75,2, 21), np.linspace(2,2.25,21)], cmap = cmap, cmin =1)\n",
    "plt.xlabel(r\"$W_{gen.}$\"+\" [\"+GeV+r\"$/c^2$\"+\"]\")\n",
    "plt.ylabel(r\"$W_{rec.}$\"+\" [\"+GeV+r\"$/c^2$\"+\"]\")\n",
    "plt.show()"
   ]
  },
  {
   "cell_type": "code",
   "execution_count": 65,
   "id": "1244d0f3",
   "metadata": {},
   "outputs": [
    {
     "data": {
      "image/png": "[encoded data removed]",
      "text/plain": [
       "<Figure size 432x288 with 1 Axes>"
      ]
     },
     "metadata": {
      "needs_background": "light"
     },
     "output_type": "display_data"
    }
   ],
   "source": [
    "plt.hist(lowW_genNoRad.W, bins = np.linspace(1, 2, 101), density = True, histtype = 'step')\n",
    "plt.hist(lowW_genRad.W, bins = np.linspace(1, 2, 101), density = True, histtype = 'step')\n",
    "plt.xlabel(r\"$W_{gen.}$\"+\" [\"+GeV+r\"$/c^2$\"+\"]\")\n",
    "plt.show()"
   ]
  },
  {
   "cell_type": "code",
   "execution_count": 45,
   "id": "d5290aa9",
   "metadata": {},
   "outputs": [
    {
     "data": {
      "text/plain": [
       "52"
      ]
     },
     "execution_count": 45,
     "metadata": {},
     "output_type": "execute_result"
    }
   ],
   "source": [
    "len(lowW_recOutb.loc[lowW_recOutb.GenW<1.9])"
   ]
  },
  {
   "cell_type": "code",
   "execution_count": 46,
   "id": "768e4bf0",
   "metadata": {},
   "outputs": [
    {
     "data": {
      "text/plain": [
       "63"
      ]
     },
     "execution_count": 46,
     "metadata": {},
     "output_type": "execute_result"
    }
   ],
   "source": [
    "len(lowW_recInb.loc[lowW_recInb.GenW<1.9])"
   ]
  },
  {
   "cell_type": "code",
   "execution_count": 68,
   "id": "4c3d355f",
   "metadata": {},
   "outputs": [
    {
     "data": {
      "text/plain": [
       "99976"
      ]
     },
     "execution_count": 68,
     "metadata": {},
     "output_type": "execute_result"
    }
   ],
   "source": [
    "len(lowW_genRad)"
   ]
  },
  {
   "cell_type": "code",
   "execution_count": 4,
   "id": "d941309a",
   "metadata": {},
   "outputs": [],
   "source": [
    "phitest = pd.read_pickle(\"/Users/sangbaek/CLAS12/dvcs/rad2/dvcsgen.pkl\")"
   ]
  },
  {
   "cell_type": "code",
   "execution_count": 6,
   "id": "1b8db09f",
   "metadata": {},
   "outputs": [],
   "source": [
    "phitest = saveDVCSvars(phitest)"
   ]
  },
  {
   "cell_type": "code",
   "execution_count": 7,
   "id": "e0e7730b",
   "metadata": {},
   "outputs": [
    {
     "data": {
      "text/html": [
       "<div>\n",
       "<style scoped>\n",
       "    .dataframe tbody tr th:only-of-type {\n",
       "        vertical-align: middle;\n",
       "    }\n",
       "\n",
       "    .dataframe tbody tr th {\n",
       "        vertical-align: top;\n",
       "    }\n",
       "\n",
       "    .dataframe thead th {\n",
       "        text-align: right;\n",
       "    }\n",
       "</style>\n",
       "<table border=\"1\" class=\"dataframe\">\n",
       "  <thead>\n",
       "    <tr style=\"text-align: right;\">\n",
       "      <th></th>\n",
       "      <th>Epx</th>\n",
       "      <th>Epy</th>\n",
       "      <th>Epz</th>\n",
       "      <th>Ppx</th>\n",
       "      <th>Ppy</th>\n",
       "      <th>Ppz</th>\n",
       "      <th>Gpx</th>\n",
       "      <th>Gpy</th>\n",
       "      <th>Gpz</th>\n",
       "      <th>Gpx2</th>\n",
       "      <th>...</th>\n",
       "      <th>phi1</th>\n",
       "      <th>phi2</th>\n",
       "      <th>MM2_epg</th>\n",
       "      <th>ME_epg</th>\n",
       "      <th>MM2_ep</th>\n",
       "      <th>MM2_eg</th>\n",
       "      <th>MPt</th>\n",
       "      <th>coneAngle</th>\n",
       "      <th>reconGam</th>\n",
       "      <th>coplanarity</th>\n",
       "    </tr>\n",
       "  </thead>\n",
       "  <tbody>\n",
       "    <tr>\n",
       "      <th>0</th>\n",
       "      <td>-0.1154</td>\n",
       "      <td>0.4343</td>\n",
       "      <td>1.5724</td>\n",
       "      <td>0.0473</td>\n",
       "      <td>-0.0680</td>\n",
       "      <td>0.0776</td>\n",
       "      <td>0.0682</td>\n",
       "      <td>-0.3663</td>\n",
       "      <td>8.9541</td>\n",
       "      <td>0.0</td>\n",
       "      <td>...</td>\n",
       "      <td>20.917652</td>\n",
       "      <td>20.857589</td>\n",
       "      <td>-1.832055e-08</td>\n",
       "      <td>-0.000041</td>\n",
       "      <td>0.001070</td>\n",
       "      <td>0.880302</td>\n",
       "      <td>1.000000e-04</td>\n",
       "      <td>18.326054</td>\n",
       "      <td>0.000635</td>\n",
       "      <td>0.060063</td>\n",
       "    </tr>\n",
       "    <tr>\n",
       "      <th>1</th>\n",
       "      <td>-0.0955</td>\n",
       "      <td>0.4842</td>\n",
       "      <td>0.9784</td>\n",
       "      <td>-0.0012</td>\n",
       "      <td>-0.1581</td>\n",
       "      <td>0.1483</td>\n",
       "      <td>0.0967</td>\n",
       "      <td>-0.3261</td>\n",
       "      <td>9.4773</td>\n",
       "      <td>0.0</td>\n",
       "      <td>...</td>\n",
       "      <td>347.811161</td>\n",
       "      <td>347.811161</td>\n",
       "      <td>3.158739e-09</td>\n",
       "      <td>0.000056</td>\n",
       "      <td>0.001066</td>\n",
       "      <td>0.880463</td>\n",
       "      <td>5.721958e-17</td>\n",
       "      <td>28.814493</td>\n",
       "      <td>0.000000</td>\n",
       "      <td>0.000000</td>\n",
       "    </tr>\n",
       "    <tr>\n",
       "      <th>2</th>\n",
       "      <td>0.8719</td>\n",
       "      <td>-0.3656</td>\n",
       "      <td>4.2061</td>\n",
       "      <td>-0.7386</td>\n",
       "      <td>-0.5076</td>\n",
       "      <td>0.7484</td>\n",
       "      <td>-0.1333</td>\n",
       "      <td>0.8731</td>\n",
       "      <td>4.6110</td>\n",
       "      <td>0.0</td>\n",
       "      <td>...</td>\n",
       "      <td>63.839051</td>\n",
       "      <td>73.834142</td>\n",
       "      <td>3.310433e-05</td>\n",
       "      <td>1.038516</td>\n",
       "      <td>0.174115</td>\n",
       "      <td>2.437207</td>\n",
       "      <td>1.000000e-04</td>\n",
       "      <td>20.491921</td>\n",
       "      <td>1.957001</td>\n",
       "      <td>9.995091</td>\n",
       "    </tr>\n",
       "    <tr>\n",
       "      <th>3</th>\n",
       "      <td>0.3726</td>\n",
       "      <td>0.5597</td>\n",
       "      <td>5.1480</td>\n",
       "      <td>-0.9029</td>\n",
       "      <td>-0.7910</td>\n",
       "      <td>0.9242</td>\n",
       "      <td>0.5302</td>\n",
       "      <td>0.2313</td>\n",
       "      <td>4.5318</td>\n",
       "      <td>0.0</td>\n",
       "      <td>...</td>\n",
       "      <td>343.192236</td>\n",
       "      <td>343.195609</td>\n",
       "      <td>-9.877504e-09</td>\n",
       "      <td>0.000011</td>\n",
       "      <td>-0.000005</td>\n",
       "      <td>0.880575</td>\n",
       "      <td>1.000000e-04</td>\n",
       "      <td>4.144721</td>\n",
       "      <td>0.001246</td>\n",
       "      <td>0.003374</td>\n",
       "    </tr>\n",
       "    <tr>\n",
       "      <th>4</th>\n",
       "      <td>0.6408</td>\n",
       "      <td>-0.0485</td>\n",
       "      <td>1.6182</td>\n",
       "      <td>-0.1239</td>\n",
       "      <td>0.2022</td>\n",
       "      <td>0.1868</td>\n",
       "      <td>-0.5169</td>\n",
       "      <td>-0.1537</td>\n",
       "      <td>8.7990</td>\n",
       "      <td>0.0</td>\n",
       "      <td>...</td>\n",
       "      <td>303.055456</td>\n",
       "      <td>303.055457</td>\n",
       "      <td>1.225060e-10</td>\n",
       "      <td>-0.000011</td>\n",
       "      <td>-0.000195</td>\n",
       "      <td>0.880333</td>\n",
       "      <td>0.000000e+00</td>\n",
       "      <td>24.965864</td>\n",
       "      <td>0.000000</td>\n",
       "      <td>0.000000</td>\n",
       "    </tr>\n",
       "    <tr>\n",
       "      <th>5</th>\n",
       "      <td>0.3879</td>\n",
       "      <td>0.5313</td>\n",
       "      <td>5.0387</td>\n",
       "      <td>-0.1730</td>\n",
       "      <td>-0.8029</td>\n",
       "      <td>0.4377</td>\n",
       "      <td>-0.2149</td>\n",
       "      <td>0.2716</td>\n",
       "      <td>5.1276</td>\n",
       "      <td>0.0</td>\n",
       "      <td>...</td>\n",
       "      <td>25.684042</td>\n",
       "      <td>25.684042</td>\n",
       "      <td>8.354860e-10</td>\n",
       "      <td>-0.000029</td>\n",
       "      <td>-0.000297</td>\n",
       "      <td>0.880278</td>\n",
       "      <td>6.206335e-17</td>\n",
       "      <td>7.403027</td>\n",
       "      <td>0.000000</td>\n",
       "      <td>0.000000</td>\n",
       "    </tr>\n",
       "    <tr>\n",
       "      <th>6</th>\n",
       "      <td>0.5270</td>\n",
       "      <td>-0.4706</td>\n",
       "      <td>2.5190</td>\n",
       "      <td>0.0441</td>\n",
       "      <td>0.0795</td>\n",
       "      <td>0.1424</td>\n",
       "      <td>-0.5711</td>\n",
       "      <td>0.3912</td>\n",
       "      <td>7.9426</td>\n",
       "      <td>0.0</td>\n",
       "      <td>...</td>\n",
       "      <td>274.889427</td>\n",
       "      <td>274.850923</td>\n",
       "      <td>-9.938089e-09</td>\n",
       "      <td>-0.000008</td>\n",
       "      <td>-0.000047</td>\n",
       "      <td>0.880355</td>\n",
       "      <td>1.000000e-04</td>\n",
       "      <td>20.617567</td>\n",
       "      <td>0.000718</td>\n",
       "      <td>0.038504</td>\n",
       "    </tr>\n",
       "    <tr>\n",
       "      <th>7</th>\n",
       "      <td>-0.0940</td>\n",
       "      <td>0.3619</td>\n",
       "      <td>1.3688</td>\n",
       "      <td>0.1457</td>\n",
       "      <td>-0.5342</td>\n",
       "      <td>0.2264</td>\n",
       "      <td>-0.0517</td>\n",
       "      <td>0.1723</td>\n",
       "      <td>9.0088</td>\n",
       "      <td>0.0</td>\n",
       "      <td>...</td>\n",
       "      <td>0.708041</td>\n",
       "      <td>0.708041</td>\n",
       "      <td>5.388598e-10</td>\n",
       "      <td>-0.000023</td>\n",
       "      <td>-0.000418</td>\n",
       "      <td>0.880303</td>\n",
       "      <td>6.938894e-18</td>\n",
       "      <td>14.135394</td>\n",
       "      <td>0.000001</td>\n",
       "      <td>0.000000</td>\n",
       "    </tr>\n",
       "    <tr>\n",
       "      <th>8</th>\n",
       "      <td>-0.6137</td>\n",
       "      <td>-0.4132</td>\n",
       "      <td>6.0474</td>\n",
       "      <td>0.2806</td>\n",
       "      <td>0.2719</td>\n",
       "      <td>0.1489</td>\n",
       "      <td>0.3330</td>\n",
       "      <td>0.1413</td>\n",
       "      <td>4.4078</td>\n",
       "      <td>0.0</td>\n",
       "      <td>...</td>\n",
       "      <td>10.948896</td>\n",
       "      <td>10.937289</td>\n",
       "      <td>-1.643945e-08</td>\n",
       "      <td>-0.000060</td>\n",
       "      <td>0.000287</td>\n",
       "      <td>0.880206</td>\n",
       "      <td>1.000000e-04</td>\n",
       "      <td>11.615093</td>\n",
       "      <td>0.001390</td>\n",
       "      <td>0.011607</td>\n",
       "    </tr>\n",
       "    <tr>\n",
       "      <th>9</th>\n",
       "      <td>0.4140</td>\n",
       "      <td>0.3854</td>\n",
       "      <td>3.6287</td>\n",
       "      <td>0.0339</td>\n",
       "      <td>-0.0334</td>\n",
       "      <td>0.0712</td>\n",
       "      <td>-0.4479</td>\n",
       "      <td>-0.3520</td>\n",
       "      <td>6.9041</td>\n",
       "      <td>0.0</td>\n",
       "      <td>...</td>\n",
       "      <td>99.319858</td>\n",
       "      <td>99.319857</td>\n",
       "      <td>3.654377e-10</td>\n",
       "      <td>0.000019</td>\n",
       "      <td>0.000265</td>\n",
       "      <td>0.880391</td>\n",
       "      <td>7.850462e-17</td>\n",
       "      <td>13.565737</td>\n",
       "      <td>0.000000</td>\n",
       "      <td>0.000001</td>\n",
       "    </tr>\n",
       "  </tbody>\n",
       "</table>\n",
       "<p>10 rows × 44 columns</p>\n",
       "</div>"
      ],
      "text/plain": [
       "      Epx     Epy     Epz     Ppx     Ppy     Ppz     Gpx     Gpy     Gpz  \\\n",
       "0 -0.1154  0.4343  1.5724  0.0473 -0.0680  0.0776  0.0682 -0.3663  8.9541   \n",
       "1 -0.0955  0.4842  0.9784 -0.0012 -0.1581  0.1483  0.0967 -0.3261  9.4773   \n",
       "2  0.8719 -0.3656  4.2061 -0.7386 -0.5076  0.7484 -0.1333  0.8731  4.6110   \n",
       "3  0.3726  0.5597  5.1480 -0.9029 -0.7910  0.9242  0.5302  0.2313  4.5318   \n",
       "4  0.6408 -0.0485  1.6182 -0.1239  0.2022  0.1868 -0.5169 -0.1537  8.7990   \n",
       "5  0.3879  0.5313  5.0387 -0.1730 -0.8029  0.4377 -0.2149  0.2716  5.1276   \n",
       "6  0.5270 -0.4706  2.5190  0.0441  0.0795  0.1424 -0.5711  0.3912  7.9426   \n",
       "7 -0.0940  0.3619  1.3688  0.1457 -0.5342  0.2264 -0.0517  0.1723  9.0088   \n",
       "8 -0.6137 -0.4132  6.0474  0.2806  0.2719  0.1489  0.3330  0.1413  4.4078   \n",
       "9  0.4140  0.3854  3.6287  0.0339 -0.0334  0.0712 -0.4479 -0.3520  6.9041   \n",
       "\n",
       "   Gpx2  ...        phi1        phi2       MM2_epg    ME_epg    MM2_ep  \\\n",
       "0   0.0  ...   20.917652   20.857589 -1.832055e-08 -0.000041  0.001070   \n",
       "1   0.0  ...  347.811161  347.811161  3.158739e-09  0.000056  0.001066   \n",
       "2   0.0  ...   63.839051   73.834142  3.310433e-05  1.038516  0.174115   \n",
       "3   0.0  ...  343.192236  343.195609 -9.877504e-09  0.000011 -0.000005   \n",
       "4   0.0  ...  303.055456  303.055457  1.225060e-10 -0.000011 -0.000195   \n",
       "5   0.0  ...   25.684042   25.684042  8.354860e-10 -0.000029 -0.000297   \n",
       "6   0.0  ...  274.889427  274.850923 -9.938089e-09 -0.000008 -0.000047   \n",
       "7   0.0  ...    0.708041    0.708041  5.388598e-10 -0.000023 -0.000418   \n",
       "8   0.0  ...   10.948896   10.937289 -1.643945e-08 -0.000060  0.000287   \n",
       "9   0.0  ...   99.319858   99.319857  3.654377e-10  0.000019  0.000265   \n",
       "\n",
       "     MM2_eg           MPt  coneAngle  reconGam  coplanarity  \n",
       "0  0.880302  1.000000e-04  18.326054  0.000635     0.060063  \n",
       "1  0.880463  5.721958e-17  28.814493  0.000000     0.000000  \n",
       "2  2.437207  1.000000e-04  20.491921  1.957001     9.995091  \n",
       "3  0.880575  1.000000e-04   4.144721  0.001246     0.003374  \n",
       "4  0.880333  0.000000e+00  24.965864  0.000000     0.000000  \n",
       "5  0.880278  6.206335e-17   7.403027  0.000000     0.000000  \n",
       "6  0.880355  1.000000e-04  20.617567  0.000718     0.038504  \n",
       "7  0.880303  6.938894e-18  14.135394  0.000001     0.000000  \n",
       "8  0.880206  1.000000e-04  11.615093  0.001390     0.011607  \n",
       "9  0.880391  7.850462e-17  13.565737  0.000000     0.000001  \n",
       "\n",
       "[10 rows x 44 columns]"
      ]
     },
     "execution_count": 7,
     "metadata": {},
     "output_type": "execute_result"
    }
   ],
   "source": [
    "phitest"
   ]
  },
  {
   "cell_type": "code",
   "execution_count": 9,
   "id": "4ede5ace",
   "metadata": {},
   "outputs": [],
   "source": [
    "phi_arrays = np.linspace(0,9,10)*0.6+0.6"
   ]
  },
  {
   "cell_type": "code",
   "execution_count": 21,
   "id": "5a8172f9",
   "metadata": {},
   "outputs": [],
   "source": [
    "# rc_arrays = [0.98200692999898498, 0.96866187995184139, 0.95478871643861218, 0.94516370490924340, 0.94096289997917526, 0.94705195283642118, 0.94955417099356809, 0.96182257612351774, 0.97654551552995850, 0.98231284550970954]\n",
    "phi_arrays = [0.3, 0.6, 1.2, 1.8, 2.4, 3. , 3.6, 4.2, 4.8, 5.4, 6. ]\n",
    "rc_arrays = [0.90075078402217112,0.94795044173476306, 0.91695050059716654 ,  0.88703679098540933, 0.86925610853597612 , 0.86204313332051086, 0.86459042485627258, 0.87724944630345880, 0.90125462777483600, 0.93703753404138934, 0.89971184482786115]"
   ]
  },
  {
   "cell_type": "code",
   "execution_count": 22,
   "id": "186be019",
   "metadata": {},
   "outputs": [
    {
     "data": {
      "text/plain": [
       "[0.3, 0.6, 1.2, 1.8, 2.4, 3.0, 3.6, 4.2, 4.8, 5.4, 6.0]"
      ]
     },
     "execution_count": 22,
     "metadata": {},
     "output_type": "execute_result"
    }
   ],
   "source": [
    "phi_arrays"
   ]
  },
  {
   "cell_type": "code",
   "execution_count": 33,
   "id": "01db6838",
   "metadata": {},
   "outputs": [
    {
     "data": {
      "image/png": "[encoded data removed]",
      "text/plain": [
       "<Figure size 432x288 with 1 Axes>"
      ]
     },
     "metadata": {
      "needs_background": "light"
     },
     "output_type": "display_data"
    }
   ],
   "source": [
    "plt.scatter(phi_arrays, rc_arrays, marker='o')\n",
    "plt.xlim([0,2*np.pi])\n",
    "plt.ylim([0.8,1.1])\n",
    "plt.xlabel(r\"$\\phi$\")\n",
    "plt.ylabel(\"Frad\")\n",
    "plt.show()"
   ]
  },
  {
   "cell_type": "code",
   "execution_count": 29,
   "id": "a42cb8da",
   "metadata": {},
   "outputs": [],
   "source": [
    "phi_arrays = [0.6, 1.2, 1.8, 2.4, 3. , 3.6, 4.2, 4.8, 5.4, 5.8 ]\n",
    "rc_arrays = [1.0131358755523272, 0.99927549501300328, 0.98843929273222897, 0.98178133405144563,0.97953804989176263,0.98047545590486496,0.98523707115198933, 0.99378645166344559,1.0068879571579301,1.0148421663115363]"
   ]
  },
  {
   "cell_type": "code",
   "execution_count": 30,
   "id": "a33f1649",
   "metadata": {},
   "outputs": [
    {
     "name": "stdout",
     "output_type": "stream",
     "text": [
      "10\n"
     ]
    }
   ],
   "source": [
    "print(len(rc_arrays))"
   ]
  },
  {
   "cell_type": "code",
   "execution_count": 32,
   "id": "4bb903a9",
   "metadata": {},
   "outputs": [],
   "source": [
    "rc_arrays = [1.0220752859535671, 0.99791775626377099, 0.98224469691697358, 0.97308886165473596, 0.96937644842186810, 0.97043843848814793, 0.97718142725370005, 0.98985246985002051, 1.0094998383433673, 1.0284365532861195]"
   ]
  },
  {
   "cell_type": "code",
   "execution_count": null,
   "id": "b260586f",
   "metadata": {},
   "outputs": [],
   "source": []
  }
 ],
 "metadata": {
  "kernelspec": {
   "display_name": "Python 3",
   "language": "python",
   "name": "python3"
  },
  "language_info": {
   "codemirror_mode": {
    "name": "ipython",
    "version": 3
   },
   "file_extension": ".py",
   "mimetype": "text/x-python",
   "name": "python",
   "nbconvert_exporter": "python",
   "pygments_lexer": "ipython3",
   "version": "3.9.5"
  }
 },
 "nbformat": 4,
 "nbformat_minor": 5
}
