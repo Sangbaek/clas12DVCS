{
 "cells": [
  {
   "cell_type": "code",
   "execution_count": 1,
   "id": "6a6d338b",
   "metadata": {},
   "outputs": [],
   "source": [
    "from utils.epg import *\n",
    "import matplotlib.pyplot as plt\n",
    "from copy import copy\n",
    "cmap = copy(plt.cm.get_cmap(\"jet\"))\n",
    "from scipy.optimize import least_squares"
   ]
  },
  {
   "cell_type": "code",
   "execution_count": 2,
   "id": "d03e8f36",
   "metadata": {},
   "outputs": [],
   "source": [
    "degree = r\"${}^{\\circ}$\"\n",
    "GeV = \"GeV\"\n",
    "GeV2 = \"GeV\"+r\"${}^{2}$\"\n",
    "GeVc = \"GeV/c\"\n",
    "GeVc2 = \"(GeV/c)\"+r\"${}^{2}$\""
   ]
  },
  {
   "cell_type": "code",
   "execution_count": 3,
   "id": "98145219",
   "metadata": {},
   "outputs": [],
   "source": [
    "import matplotlib\n",
    "# initial settings\n",
    "pgf_with_latex = {\n",
    "\t\t\"pgf.texsystem\": \"pdflatex\",\n",
    "\t\t\"text.usetex\": True,            # use LaTeX to write all text\n",
    "\t\t\"font.family\": \"sans-serif\",         \n",
    "\t\t\"font.sans-serif\": \"Helvetica\",\n",
    "\t\t\"font.size\": 25,\t\t\t\t# default font size\n",
    "\t\t\"axes.labelsize\": 24,\t\t\t# x and y label size\n",
    "\t\t\"axes.titlesize\": 24,           # subfigure title size, i.e. title size when one figure\n",
    "\t\t\"legend.fontsize\": 22,\t\t\t# legend size\n",
    "\t\t\"xtick.labelsize\": 23,\t\t\t# x axis tick label size\n",
    "\t\t\"ytick.labelsize\": 23,\t\t\t# y axis tick label \n",
    "\t\t\"figure.titlesize\": 25,         # Figure title size, useful when you have multiple plots in one canvas.\n",
    "\t\t\"pgf.preamble\": r\"\\usepackage{xcolor}\",     # xcolor for colours\n",
    "\t\t\"figure.autolayout\": True\n",
    "}\n",
    "matplotlib.rcParams.update(pgf_with_latex)\n",
    "\n",
    "def nphistmean(hist, bins):\n",
    "    s=0\n",
    "    for i in range(len(hist)):\n",
    "        s += hist[i] * ((bins[i] + bins[i+1]) / 2) \n",
    "    mean = s / np.sum(hist)\n",
    "    return mean"
   ]
  },
  {
   "cell_type": "code",
   "execution_count": 4,
   "id": "b3621f25",
   "metadata": {},
   "outputs": [],
   "source": [
    "parent_MC = \"/Volumes/Extreme SSD/nov2021/convPkl_outb/dvcs/\"\n",
    "parent_MC_bkg1g = \"/Volumes/Extreme SSD/nov2021/convPkl_outb/bkg_1g/\"\n",
    "parent_MC_bkg2g = \"/Volumes/Extreme SSD/nov2021/convPkl_outb/bkg_2g/\"\n",
    "parent_exp = \"/Volumes/Extreme SSD/nov2021/convPkl_outb/exp/\"\n",
    "\n",
    "df_4240_corr = pd.read_pickle(parent_MC + \"4240.pkl\")\n",
    "df_4243_1g_corr = pd.read_pickle(parent_MC_bkg1g + \"4243.pkl\")\n",
    "df_4243_2g_corr = pd.read_pickle(parent_MC_bkg2g + \"4243.pkl\")\n",
    "exp_1g_corr = pd.read_pickle(parent_exp + \"dvcs.pkl\")\n",
    "exp_2g_corr = pd.read_pickle(parent_exp + \"pi0.pkl\")"
   ]
  },
  {
   "cell_type": "code",
   "execution_count": 5,
   "id": "50f01320",
   "metadata": {},
   "outputs": [],
   "source": [
    "epgExpOutb = copy(exp_1g_corr)\n",
    "pi0ExpOutb = copy(exp_2g_corr)\n",
    "dvcsSimOutb = df_4240_corr\n",
    "bkgSimOutb = df_4243_1g_corr\n",
    "pi0SimOutb = df_4243_2g_corr"
   ]
  },
  {
   "cell_type": "code",
   "execution_count": 6,
   "id": "21c1a895",
   "metadata": {},
   "outputs": [],
   "source": [
    "epgExpOutbCDFT = epgExpOutb.loc[exp_1g_corr.config == 3]\n",
    "pi0ExpOutbCDFT = pi0ExpOutb.loc[pi0ExpOutb.config == 3]\n",
    "dvcsSimOutbCDFT = dvcsSimOutb.loc[dvcsSimOutb.config == 3]\n",
    "bkgSimOutbCDFT = bkgSimOutb.loc[bkgSimOutb.config == 3]\n",
    "pi0SimOutbCDFT = pi0SimOutb.loc[pi0SimOutb.config == 3]\n",
    "\n",
    "epgExpOutbCD = epgExpOutb.loc[epgExpOutb.config == 2]\n",
    "pi0ExpOutbCD = pi0ExpOutb.loc[pi0ExpOutb.config == 2]\n",
    "dvcsSimOutbCD = dvcsSimOutb.loc[dvcsSimOutb.config == 2]\n",
    "bkgSimOutbCD = bkgSimOutb.loc[bkgSimOutb.config == 2]\n",
    "pi0SimOutbCD = pi0SimOutb.loc[pi0SimOutb.config == 2]\n",
    "\n",
    "epgExpOutbFD = epgExpOutb.loc[epgExpOutb.config == 1]\n",
    "pi0ExpOutbFD = pi0ExpOutb.loc[pi0ExpOutb.config == 1]\n",
    "dvcsSimOutbFD = dvcsSimOutb.loc[dvcsSimOutb.config == 1]\n",
    "bkgSimOutbFD = bkgSimOutb.loc[bkgSimOutb.config == 1]\n",
    "pi0SimOutbFD = pi0SimOutb.loc[pi0SimOutb.config == 1]"
   ]
  },
  {
   "cell_type": "code",
   "execution_count": 8,
   "id": "6ea9ce9c",
   "metadata": {},
   "outputs": [],
   "source": [
    "parent_MC = \"/Volumes/Extreme SSD/nov2021/convPkl_updatedPi0/dvcs/\"\n",
    "parent_MC_bkg1g = \"/Volumes/Extreme SSD/nov2021/convPkl_updatedPi0/bkg_1g/\"\n",
    "parent_MC_bkg2g = \"/Volumes/Extreme SSD/nov2021/convPkl_updatedPi0/bkg_2g/\"\n",
    "parent_exp = \"/Volumes/Extreme SSD/nov2021/convPkl_updatedPi0/exp/\"\n",
    "\n",
    "df_3987_corr = pd.read_pickle(parent_MC + \"3987.pkl\")\n",
    "df_4076_1g_corr = pd.read_pickle(parent_MC_bkg1g + \"4076.pkl\")\n",
    "df_4076_2g_corr = pd.read_pickle(parent_MC_bkg2g + \"4076.pkl\")\n",
    "exp_1g_corr = pd.read_pickle(parent_exp + \"dvcs.pkl\")\n",
    "exp_2g_corr = pd.read_pickle(parent_exp + \"pi0.pkl\")"
   ]
  },
  {
   "cell_type": "code",
   "execution_count": 9,
   "id": "dca89272",
   "metadata": {},
   "outputs": [],
   "source": [
    "epgExpInb = copy(exp_1g_corr)\n",
    "pi0ExpInb = copy(exp_2g_corr)\n",
    "dvcsSimInb = df_3987_corr\n",
    "bkgSimInb = df_4076_1g_corr\n",
    "pi0SimInb = df_4076_2g_corr"
   ]
  },
  {
   "cell_type": "code",
   "execution_count": 10,
   "id": "0e0d2103",
   "metadata": {},
   "outputs": [],
   "source": [
    "epgExpInbCDFT = epgExpInb.loc[exp_1g_corr.config == 3]\n",
    "pi0ExpInbCDFT = pi0ExpInb.loc[pi0ExpInb.config == 3]\n",
    "dvcsSimInbCDFT = dvcsSimInb.loc[dvcsSimInb.config == 3]\n",
    "bkgSimInbCDFT = bkgSimInb.loc[bkgSimInb.config == 3]\n",
    "pi0SimInbCDFT = pi0SimInb.loc[pi0SimInb.config == 3]\n",
    "\n",
    "epgExpInbCD = epgExpInb.loc[epgExpInb.config == 2]\n",
    "pi0ExpInbCD = pi0ExpInb.loc[pi0ExpInb.config == 2]\n",
    "dvcsSimInbCD = dvcsSimInb.loc[dvcsSimInb.config == 2]\n",
    "bkgSimInbCD = bkgSimInb.loc[bkgSimInb.config == 2]\n",
    "pi0SimInbCD = pi0SimInb.loc[pi0SimInb.config == 2]\n",
    "\n",
    "epgExpInbFD = epgExpInb.loc[epgExpInb.config == 1]\n",
    "pi0ExpInbFD = pi0ExpInb.loc[pi0ExpInb.config == 1]\n",
    "dvcsSimInbFD = dvcsSimInb.loc[dvcsSimInb.config == 1]\n",
    "bkgSimInbFD = bkgSimInb.loc[bkgSimInb.config == 1]\n",
    "pi0SimInbFD = pi0SimInb.loc[pi0SimInb.config == 1]"
   ]
  },
  {
   "cell_type": "code",
   "execution_count": 27,
   "id": "fa4a3305",
   "metadata": {},
   "outputs": [
    {
     "data": {
      "text/plain": [
       "Text(0.5, 0, '$Pp$ [GeV/c]')"
      ]
     },
     "execution_count": 27,
     "metadata": {},
     "output_type": "execute_result"
    },
    {
     "data": {
      "image/png": "[encoded data removed]",
      "text/plain": [
       "<Figure size 648x432 with 1 Axes>"
      ]
     },
     "metadata": {
      "needs_background": "light"
     },
     "output_type": "display_data"
    }
   ],
   "source": [
    "plt.rcParams[\"figure.figsize\"] = (9,6)\n",
    "plt.rcParams[\"axes.titlesize\"] = 35\n",
    "plt.rcParams[\"axes.labelsize\"] = 30\n",
    "epgExpInbFD.Pp.hist(bins = np.linspace(0.35, 0.8, 101), histtype = 'step', color = 'k', label = 'FD, inbending', density = True)\n",
    "epgExpOutbFD.Pp.hist(bins = np.linspace(0.35, 0.8, 101), histtype = 'step', color = 'r', label = 'FD, outbending', density = True)\n",
    "plt.xlim([0.35, 1.2])\n",
    "plt.axhline(0.001)\n",
    "plt.legend(loc = 'best')\n",
    "plt.xticks([0.42, 0.5, 0.8])\n",
    "plt.axvline(0.42, color = 'k', linestyle = '--')\n",
    "plt.axvline(0.5, color = 'r', linestyle = '--')\n",
    "plt.axvline(0.65, color = 'r', linestyle = '--')\n",
    "# plt.axvline(0.65, color = 'r', linestyle = '--')\n",
    "plt.xlabel(r\"$Pp$\"+\" [\"+GeVc+\"]\")"
   ]
  },
  {
   "cell_type": "code",
   "execution_count": null,
   "id": "ce0be258",
   "metadata": {},
   "outputs": [],
   "source": []
  },
  {
   "cell_type": "code",
   "execution_count": 17,
   "id": "36b5e944",
   "metadata": {},
   "outputs": [
    {
     "data": {
      "text/plain": [
       "Text(0.5, 0, '$Pp$ [GeV/c]')"
      ]
     },
     "execution_count": 17,
     "metadata": {},
     "output_type": "execute_result"
    },
    {
     "data": {
      "image/png": "[encoded data removed]",
      "text/plain": [
       "<Figure size 648x432 with 1 Axes>"
      ]
     },
     "metadata": {
      "needs_background": "light"
     },
     "output_type": "display_data"
    }
   ],
   "source": [
    "plt.rcParams[\"figure.figsize\"] = (9,6)\n",
    "plt.rcParams[\"axes.titlesize\"] = 35\n",
    "plt.rcParams[\"axes.labelsize\"] = 30\n",
    "epgExpInbCD.Pp.hist(bins = np.linspace(0.25, 0.8, 101), histtype = 'step', color = 'k', label = 'CD, inbending')\n",
    "epgExpOutbCD.Pp.hist(bins = np.linspace(0.25, 0.8, 101), histtype = 'step', color = 'r', label = 'CD, outbending')\n",
    "plt.xlim([0.25, 1.2])\n",
    "plt.axhline(0.001)\n",
    "plt.legend(loc = 'best')\n",
    "plt.xticks([0.3, 0.8])\n",
    "plt.axvline(0.3, color = 'k', linestyle = '--')\n",
    "# plt.axvline(0.55, color = 'r', linestyle = '--')\n",
    "# plt.axvline(0.65, color = 'r', linestyle = '--')\n",
    "plt.xlabel(r\"$Pp$\"+\" [\"+GeVc+\"]\")"
   ]
  },
  {
   "cell_type": "code",
   "execution_count": null,
   "id": "876ac6d4",
   "metadata": {},
   "outputs": [],
   "source": []
  }
 ],
 "metadata": {
  "kernelspec": {
   "display_name": "Python 3",
   "language": "python",
   "name": "python3"
  },
  "language_info": {
   "codemirror_mode": {
    "name": "ipython",
    "version": 3
   },
   "file_extension": ".py",
   "mimetype": "text/x-python",
   "name": "python",
   "nbconvert_exporter": "python",
   "pygments_lexer": "ipython3",
   "version": "3.9.5"
  }
 },
 "nbformat": 4,
 "nbformat_minor": 5
}
