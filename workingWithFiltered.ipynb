{
 "cells": [
  {
   "cell_type": "code",
   "execution_count": 2,
   "id": "smaller-caribbean",
   "metadata": {},
   "outputs": [],
   "source": [
    "from utils.epg import *\n",
    "import matplotlib.pyplot as plt\n",
    "from copy import copy\n",
    "cmap = copy(plt.cm.get_cmap(\"jet\"))\n",
    "from scipy.optimize import least_squares"
   ]
  },
  {
   "cell_type": "code",
   "execution_count": 3,
   "id": "brutal-frederick",
   "metadata": {},
   "outputs": [],
   "source": [
    "degree = r\"${}^{\\circ}$\"\n",
    "GeV = \"GeV\"\n",
    "GeV2 = \"GeV\"+r\"${}^{2}$\"\n",
    "GeVc = \"GeV/c\"\n",
    "GeVc2 = \"(GeV/c)\"+r\"${}^{2}$\""
   ]
  },
  {
   "cell_type": "code",
   "execution_count": 22,
   "id": "bottom-excuse",
   "metadata": {},
   "outputs": [],
   "source": [
    "import matplotlib\n",
    "# initial settings\n",
    "pgf_with_latex = {\n",
    "\t\t\"pgf.texsystem\": \"pdflatex\",\n",
    "\t\t\"text.usetex\": True,            # use LaTeX to write all text\n",
    "\t\t\"font.family\": \"sans-serif\",         \n",
    "\t\t\"font.sans-serif\": \"Helvetica\",\n",
    "\t\t\"font.size\": 25,\t\t\t\t# default font size\n",
    "\t\t\"axes.labelsize\": 24,\t\t\t# x and y label size\n",
    "\t\t\"axes.titlesize\": 24,           # subfigure title size, i.e. title size when one figure\n",
    "\t\t\"legend.fontsize\": 22,\t\t\t# legend size\n",
    "\t\t\"xtick.labelsize\": 23,\t\t\t# x axis tick label size\n",
    "\t\t\"ytick.labelsize\": 23,\t\t\t# y axis tick label \n",
    "\t\t\"figure.titlesize\": 25,         # Figure title size, useful when you have multiple plots in one canvas.\n",
    "\t\t\"pgf.preamble\": r\"\\usepackage{xcolor}\"     # xcolor for colours\n",
    "}\n",
    "matplotlib.rcParams.update(pgf_with_latex)"
   ]
  },
  {
   "cell_type": "code",
   "execution_count": 4,
   "id": "tutorial-superintendent",
   "metadata": {},
   "outputs": [],
   "source": [
    "expDvcsInb = pd.read_pickle(\"/Users/sangbaek/Dropbox (MIT)/data/pickles/dvcs_inb.pkl\")\n",
    "expDvcsOutb = pd.read_pickle(\"/Users/sangbaek/Dropbox (MIT)/data/pickles/dvcs_outb.pkl\")"
   ]
  },
  {
   "cell_type": "code",
   "execution_count": 5,
   "id": "derived-arrangement",
   "metadata": {},
   "outputs": [],
   "source": [
    "job2942_0 = pd.read_pickle(\"/Users/sangbaek/Dropbox (MIT)/data/pickles/2942_0.pkl\")\n",
    "job2942_0_gen = pd.read_pickle(\"/Users/sangbaek/Dropbox (MIT)/data/pickles/2942_0.gen.pkl\")\n",
    "job2942_1 = pd.read_pickle(\"/Users/sangbaek/Dropbox (MIT)/data/pickles/2942_1.pkl\")\n",
    "job2942_1_gen = pd.read_pickle(\"/Users/sangbaek/Dropbox (MIT)/data/pickles/2942_1.gen.pkl\")\n",
    "job2942_2 = pd.read_pickle(\"/Users/sangbaek/Dropbox (MIT)/data/pickles/2942_2.pkl\")\n",
    "job2942_2_gen = pd.read_pickle(\"/Users/sangbaek/Dropbox (MIT)/data/pickles/2942_2.gen.pkl\")\n",
    "job2942_3 = pd.read_pickle(\"/Users/sangbaek/Dropbox (MIT)/data/pickles/2942_3.pkl\")\n",
    "job2942_3_gen = pd.read_pickle(\"/Users/sangbaek/Dropbox (MIT)/data/pickles/2942_3.gen.pkl\")\n",
    "job2942_4 = pd.read_pickle(\"/Users/sangbaek/Dropbox (MIT)/data/pickles/2942_4.pkl\")\n",
    "job2942_4_gen = pd.read_pickle(\"/Users/sangbaek/Dropbox (MIT)/data/pickles/2942_4.gen.pkl\")\n",
    "job2942_5 = pd.read_pickle(\"/Users/sangbaek/Dropbox (MIT)/data/pickles/2942_5.pkl\")\n",
    "job2942_5_gen = pd.read_pickle(\"/Users/sangbaek/Dropbox (MIT)/data/pickles/2942_5.gen.pkl\")\n",
    "job2942_6 = pd.read_pickle(\"/Users/sangbaek/Dropbox (MIT)/data/pickles/2942_6.pkl\")\n",
    "job2942_6_gen = pd.read_pickle(\"/Users/sangbaek/Dropbox (MIT)/data/pickles/2942_6.gen.pkl\")\n",
    "job2942_7 = pd.read_pickle(\"/Users/sangbaek/Dropbox (MIT)/data/pickles/2942_7.pkl\")\n",
    "job2942_7_gen = pd.read_pickle(\"/Users/sangbaek/Dropbox (MIT)/data/pickles/2942_7.gen.pkl\")\n",
    "job2942_8 = pd.read_pickle(\"/Users/sangbaek/Dropbox (MIT)/data/pickles/2942_8.pkl\")\n",
    "job2942_8_gen = pd.read_pickle(\"/Users/sangbaek/Dropbox (MIT)/data/pickles/2942_8.gen.pkl\")\n",
    "job2942_9 = pd.read_pickle(\"/Users/sangbaek/Dropbox (MIT)/data/pickles/2942_9.pkl\")\n",
    "job2942_9_gen = pd.read_pickle(\"/Users/sangbaek/Dropbox (MIT)/data/pickles/2942_9.gen.pkl\")"
   ]
  },
  {
   "cell_type": "code",
   "execution_count": 6,
   "id": "modern-collar",
   "metadata": {},
   "outputs": [],
   "source": [
    "def drawKine(sim1, sim2, exp=None, save = None):\n",
    "    varstoplot = [\"nu\", \"W\", \"Q2\", \"xB\", \"t2\", \"phi2\"]\n",
    "    title = [r\"$\\nu$\", r\"$W$\", r\"$Q^{2}$\", r\"$x_{B}$\", r\"$-t$\", r\"$\\phi_{trento}$\"]\n",
    "    unit = [GeV, GeV, GeVc2, None, GeV2, degree]\n",
    "    binstarts = [2, 2, 1, 0, 0, 0]\n",
    "    binends = [9, 4, 10, 1, 1.7, 360]\n",
    "    fig, axs = plt.subplots(2, 3, figsize = (15, 10))\n",
    "    for xind in range(0,3):\n",
    "        for yind in range(0, 2):\n",
    "            ind =xind+3*yind\n",
    "            start = binstarts[ind]\n",
    "            end = binends[ind]\n",
    "            bins = np.linspace(start, end, 51)\n",
    "            axs[yind, xind].hist(sim1[varstoplot[ind]], bins = bins, density = True, histtype='stepfilled', facecolor='none', edgecolor='r')\n",
    "            axs[yind, xind].hist(sim2[varstoplot[ind]], bins = bins, density = True, histtype='stepfilled', facecolor='none', edgecolor='b')\n",
    "            if exp is not None:\n",
    "                axs[yind, xind].hist(exp[varstoplot[ind]], bins = bins, density = True, histtype='stepfilled', facecolor='none', edgecolor='k')\n",
    "            axs[yind, xind].set_title(title[ind])\n",
    "            axs[yind, xind].set_xlim([start, end])\n",
    "            if (unit[ind]):\n",
    "                axs[yind, xind].set_xlabel(title[ind]+\" [\" + unit[ind] +\"]\")\n",
    "            else:\n",
    "                axs[yind, xind].set_xlabel(title[ind])\n",
    "    axs[0, 0].set_xticks([2, 4, 6, 8, 9])\n",
    "    axs[0, 2].set_xticks([1, 4, 7, 10])\n",
    "    axs[1, 1].set_xticks([0, 1, 1.7])\n",
    "    axs[1, 2].set_xticks(np.linspace(0, 360, 7))\n",
    "    \n",
    "    plt.tight_layout()\n",
    "    if save:\n",
    "        plt.savefig(save)\n",
    "    else:\n",
    "        plt.show()\n",
    "    plt.clf()"
   ]
  },
  {
   "cell_type": "code",
   "execution_count": 7,
   "id": "residential-indian",
   "metadata": {},
   "outputs": [],
   "source": [
    "def drawExcl(sim1, sim2, exp=None, save = None):\n",
    "    varstoplot = [\"coneAngle\", \"reconGam\", \"coplanarity\", \"ME_epg\", \"MM2_epg\", \"MM2_eg\", \"MM2_ep\", \"MPt\"]\n",
    "    title = [r\"$\\theta_{e'\\gamma}$\", r\"$\\theta_{\\gamma_{det.}\\gamma_{rec.}}$\", r\"$\\Delta\\phi$\" , \"ME\"+r\"${}_{e'p'\\gamma}$\", \"MM\"+r\"${}^{2}_{e'p'\\gamma}$\", \"MM\"+r\"${}^{2}_{e'\\gamma}$\", \"MM\"+r\"${}^{2}_{e'p'}$\", \"MPt\"+r\"${}_{e'p'\\gamma}$\"]\n",
    "    unit = [degree, degree, degree, GeV, GeV2, GeV2, GeV2, GeVc]\n",
    "    binstarts = [20, 0, 0, -0.5, -0.025, 0.1,-0.25 , 0]\n",
    "    binends = [50, 2.5, 20, 1.5, 0.025, 1.7, 0.25, 0.25]\n",
    "    fig, axs = plt.subplots(2, 4, figsize = (15,10))\n",
    "    for yind in range(0, 2):\n",
    "        for xind in range(0,4):\n",
    "            ind = 4*yind + xind\n",
    "            start = binstarts[ind]\n",
    "            end = binends[ind]\n",
    "            bins = np.linspace(start, end, 101)\n",
    "            axs[yind, xind].hist(sim1[varstoplot[ind]], bins = bins, density = True, histtype='stepfilled', facecolor='none', edgecolor='r')\n",
    "            axs[yind, xind].hist(sim2[varstoplot[ind]], bins = bins, density = True, histtype='stepfilled', facecolor='none', edgecolor='b')\n",
    "            if exp is not None:\n",
    "                axs[yind, xind].hist(exp[varstoplot[ind]], bins = bins, density = True, histtype='stepfilled', facecolor='none', edgecolor='k')\n",
    "            axs[yind, xind].set_title(title[ind])\n",
    "            axs[yind, xind].set_xlabel(title[ind]+\" [\" + unit[ind] +\"]\")\n",
    "            axs[yind, xind].set_xlim([start, end])\n",
    "    axs[0, 0].set_xticks([20, 35, 50])\n",
    "    axs[0, 1].set_xticks([0, 1.25, 2.5])\n",
    "    axs[0, 3].set_xticks([-0.5, 0, 0.5, 1, 1.5])\n",
    "    axs[1, 1].set_xticks([0.1, 1, 1.7])\n",
    "    axs[1, 3].set_xticks([0, 0.125, 0.25])\n",
    "    plt.tight_layout()\n",
    "    if save:\n",
    "        plt.savefig(save)\n",
    "    else:\n",
    "        plt.show()\n",
    "    plt.clf()"
   ]
  },
  {
   "cell_type": "code",
   "execution_count": 8,
   "id": "interstate-impression",
   "metadata": {},
   "outputs": [],
   "source": [
    "def drawVertex(sim1, sim2, exp=None, save = None):\n",
    "    varstoplot = [\"Evx\", \"Evy\", \"Evz\", \"Etheta\", \"Ptheta\", \"Gtheta\", \"Ephi\", \"Gphi\", \"Gphi\"]\n",
    "    title = [r\"$vx_{e'}$\", r\"$vy_{e'}$\", r\"$vz_{e'}$\", r\"$\\theta_{e'}$\", r\"$\\theta_{p'}$\", r\"$\\theta_{\\gamma}$\", r\"$\\phi_{e'}$\", r\"$\\phi_{p'}$\", r\"$\\phi_{\\gamma}$\" ]\n",
    "    unit = [\"cm\", \"cm\", \"cm\", degree, degree, degree, degree, degree, degree]\n",
    "    binstarts = [-0.2, -1, -6, 0, 0, 0, -180, -180, -180]\n",
    "    binends = [0.2, 1, 0, 45, 45, 45, 180, 180, 180]\n",
    "    fig, axs = plt.subplots(3, 3, figsize = (15,15))\n",
    "    for xind in range(0,3):\n",
    "        for yind in range(0, 3):\n",
    "            ind =xind+3*yind\n",
    "            start = binstarts[ind]\n",
    "            end = binends[ind]\n",
    "            bins = np.linspace(start, end, 51)\n",
    "            axs[yind, xind].hist(sim1[varstoplot[ind]], bins = bins, density = True, histtype='stepfilled', facecolor='none', edgecolor='r')\n",
    "            axs[yind, xind].hist(sim2[varstoplot[ind]], bins = bins, density = True, histtype='stepfilled', facecolor='none', edgecolor='b')\n",
    "            if exp is not None:\n",
    "                axs[yind, xind].hist(exp[varstoplot[ind]], bins = bins, density = True, histtype='stepfilled', facecolor='none', edgecolor='k')\n",
    "            axs[yind, xind].set_title(title[ind])\n",
    "            axs[yind, xind].set_xlim([start, end])\n",
    "            if (unit[ind]):\n",
    "                axs[yind, xind].set_xlabel(title[ind]+\" [\" + unit[ind] +\"]\")\n",
    "            else:\n",
    "                axs[yind, xind].set_xlabel(title[ind])\n",
    "    for i in range(3):\n",
    "        axs[1, i].set_xticks([0, 15, 30, 45])\n",
    "    for i in range(3):\n",
    "        axs[2, i].set_xticks(np.linspace(-180, 180, 5))\n",
    "    plt.tight_layout()\n",
    "    if save:\n",
    "        plt.savefig(save)\n",
    "    else:\n",
    "        plt.show()\n",
    "    plt.clf()"
   ]
  },
  {
   "cell_type": "code",
   "execution_count": 9,
   "id": "entitled-affect",
   "metadata": {},
   "outputs": [],
   "source": [
    "def drawCartesian(sim1, sim2, exp=None, save = None):\n",
    "    varstoplot = [\"Epx\", \"Ppx\", \"Gpx\", \"Epy\", \"Ppy\", \"Gpy\", \"Epz\", \"Ppz\", \"Gpz\", \"Ep\", \"Pp\", \"Gp\"]\n",
    "    title = [r\"$px_{e'}$\", r\"$px_{p'}$\", r\"$px_{\\gamma}$\", r\"$py_{e'}$\", r\"$py_{p'}$\", r\"$py_{\\gamma}$\", r\"$pz_{e'}$\", r\"$pz_{p'}$\", r\"$pz_{\\gamma}$\", r\"$p_{e'}$\", r\"$p_{p'}$\", \"$p_{\\gamma}$\"]\n",
    "    unit = [GeVc, GeVc, GeVc2, GeVc, GeVc, GeVc, GeVc, GeVc, GeVc, GeVc, GeVc, GeVc]\n",
    "    binstarts = [-2, -2, -2, -2, -2, -2, 0, -2, 0, 0, 0, 0]\n",
    "    binends = [2, 2, 2, 2, 2, 2, 10, 3, 10, 10, 3, 10]\n",
    "    fig, axs = plt.subplots(4, 3, figsize = (15,20))\n",
    "    for xind in range(0,3):\n",
    "        for yind in range(0, 4):\n",
    "            ind =xind+3*yind\n",
    "            start = binstarts[ind]\n",
    "            end = binends[ind]\n",
    "            bins = np.linspace(start, end, 51)\n",
    "            axs[yind, xind].hist(sim1[varstoplot[ind]], bins = bins, density = True, histtype='stepfilled', facecolor='none', edgecolor='r')\n",
    "            axs[yind, xind].hist(sim2[varstoplot[ind]], bins = bins, density = True, histtype='stepfilled', facecolor='none', edgecolor='b')\n",
    "            if exp is not None:\n",
    "                axs[yind, xind].hist(exp[varstoplot[ind]], bins = bins, density = True, histtype='stepfilled', facecolor='none', edgecolor='k')\n",
    "            axs[yind, xind].set_title(title[ind])\n",
    "            axs[yind, xind].set_xlim([start, end])\n",
    "            if (unit[ind]):\n",
    "                axs[yind, xind].set_xlabel(title[ind]+\" [\" + unit[ind] +\"]\")\n",
    "            else:\n",
    "                axs[yind, xind].set_xlabel(title[ind])\n",
    "    plt.tight_layout()\n",
    "    if save:\n",
    "        plt.savefig(save)\n",
    "    else:\n",
    "        plt.show()\n",
    "    plt.clf()"
   ]
  },
  {
   "cell_type": "code",
   "execution_count": 13,
   "id": "effective-tuner",
   "metadata": {},
   "outputs": [],
   "source": [
    "bh =   [1.8475392809474710*10**(-2),  1.7145175936640097*10**(-2),  1.5265841414860903*10**(-2),  1.3173090093335369*10**(-2),  1.1131387456582377*10**(-2),  9.2970749262339825*10**(-3),  7.7341170882306602*10**(-3),  6.4471593656737474*10**(-3),  5.4106932055266671*10**(-3),  4.5882195108259295*10**(-3),  3.9426831364099213*10**(-3),  3.4412066863488419*10**(-3),  3.0566472719972329*10**(-3),  2.7676342394053139*10**(-3),  2.5579908830927630*10**(-3),  2.4160168311374059*10**(-3),  2.3338422632623937*10**(-3),  2.3069424680418897*10**(-3),  2.3338422393357388*10**(-3),  2.4160166397005048*10**(-3),  2.5579909081333610*10**(-3),  2.7676342541844601*10**(-3),  3.0566468289295917*10**(-3),  3.4412071063545935*10**(-3),  3.9426835465259215*10**(-3),  4.5882190963878675*10**(-3),  5.4106931501926390*10**(-3),  6.4471589116281485*10**(-3),  7.7341162366855046*10**(-3),  9.2970740546124662*10**(-3),  1.1131385613722105*10**(-2),  1.3173088090484441*10**(-2),  1.5265839399700836*10**(-2),  1.7145173892958009*10**(-2),  1.8475392507581800*10**(-2),  1.8959095088131633*10**(-2)]\n",
    "bhphi = [10*i+10 for i in range(36)]"
   ]
  },
  {
   "cell_type": "code",
   "execution_count": 15,
   "id": "dominant-account",
   "metadata": {},
   "outputs": [],
   "source": [
    "def dfInOneBin(df):\n",
    "    binQ2lower = df[\"Q2\"] > 2.2\n",
    "    binQ2upper = df[\"Q2\"] < 2.7\n",
    "    binxBlower = df[\"xB\"] > 0.3\n",
    "    binxBupper = df[\"xB\"] < 0.38\n",
    "    bintlower = df[\"t2\"] > 0.3\n",
    "    bintupper = df[\"t2\"] < 0.39\n",
    "    return df[binQ2lower & binQ2upper &\n",
    "              binxBlower & binxBupper & bintlower & bintupper]"
   ]
  },
  {
   "cell_type": "code",
   "execution_count": 16,
   "id": "planned-defensive",
   "metadata": {},
   "outputs": [],
   "source": [
    "dvcs_data = dfInOneBin(expDvcsInb)"
   ]
  },
  {
   "cell_type": "code",
   "execution_count": 17,
   "id": "racial-month",
   "metadata": {},
   "outputs": [],
   "source": [
    "dvcs_rec = pd.concat([dfInOneBin(df) for df in [job2942_0, job2942_1, job2942_2, job2942_3, job2942_4, job2942_5, job2942_6, job2942_7, job2942_8, job2942_9]])"
   ]
  },
  {
   "cell_type": "code",
   "execution_count": 18,
   "id": "ruled-williams",
   "metadata": {},
   "outputs": [],
   "source": [
    "dvcs_gen = pd.concat([dfInOneBin(df) for df in [job2942_0_gen, job2942_1_gen, job2942_2_gen, job2942_3_gen, job2942_4_gen, job2942_5_gen, job2942_6_gen, job2942_7_gen, job2942_8_gen, job2942_9_gen]])"
   ]
  },
  {
   "cell_type": "code",
   "execution_count": 19,
   "id": "hollywood-chair",
   "metadata": {},
   "outputs": [],
   "source": [
    "phi_data = dvcs_data[\"phi2\"]\n",
    "phi_rec = dvcs_rec[\"phi2\"]\n",
    "phi_gen = dvcs_gen[\"phi2\"]"
   ]
  },
  {
   "cell_type": "code",
   "execution_count": 20,
   "id": "congressional-validation",
   "metadata": {},
   "outputs": [],
   "source": [
    "phi_edges = np.linspace(0,360, 21)\n",
    "phiData_entries, bins = np.histogram(phi_data, bins=phi_edges)\n",
    "phiRec_entries, bins = np.histogram(phi_rec, bins=phi_edges)\n",
    "phiGen_entries, bins = np.histogram(phi_gen, bins=phi_edges)\n",
    "binscenters = np.array([0.5 * (bins[i] + bins[i + 1])\n",
    "                        for i in range(len(bins) - 1)])"
   ]
  },
  {
   "cell_type": "code",
   "execution_count": 23,
   "id": "romance-corporation",
   "metadata": {},
   "outputs": [
    {
     "data": {
      "image/png": "[encoded data removed]",
      "text/plain": [
       "<Figure size 1080x720 with 6 Axes>"
      ]
     },
     "metadata": {
      "needs_background": "light"
     },
     "output_type": "display_data"
    }
   ],
   "source": [
    "fig, axs = plt.subplots(2, 3, figsize = (15,10))\n",
    "axs[0,0].hist(phi_data, bins= phi_edges, histtype='stepfilled', facecolor='none', edgecolor='b')\n",
    "axs[0,0].set_title(\"Raw yields, Data\")\n",
    "axs[0,1].hist(phi_rec, bins= phi_edges, histtype='stepfilled', facecolor='none', edgecolor='b')\n",
    "axs[0,1].set_title(\"Reconstructed\")\n",
    "axs[0,2].hist(phi_gen, bins= phi_edges, histtype='stepfilled', facecolor='none', edgecolor='b')\n",
    "axs[0,2].set_title(\"Generated\")\n",
    "acc = phiRec_entries/phiGen_entries\n",
    "axs[1,0].step(binscenters, phiRec_entries/phiGen_entries, where='mid',color='b', linewidth=1)\n",
    "axs[1,0].bar(binscenters, phiRec_entries/phiGen_entries, width=np.diff(bins), color = 'w', facecolor='w')\n",
    "axs[1,0].set_title(\"Acceptance\")\n",
    "accCorrectedData = acc\n",
    "for ind, val in enumerate(acc):\n",
    "    if val ==0:\n",
    "        accCorrectedData[ind] = 0\n",
    "    else:\n",
    "        accCorrectedData[ind] = phiData_entries[ind]/val\n",
    "axs[1,1].step(binscenters, accCorrectedData, where='mid',color='b', linewidth=1)\n",
    "axs[1,1].bar(binscenters, accCorrectedData, width=np.diff(bins), color = 'w', facecolor='w')\n",
    "axs[1,1].set_title(\"Acc. corrected yields\")\n",
    "axs[1,2].step(binscenters, accCorrectedData/56.5/0.08/0.5/0.09/(np.pi*2/20)/10**6, where='mid',color='b', linewidth=1)\n",
    "axs[1,2].bar(binscenters, accCorrectedData/56.5/0.08/0.5/0.09/(np.pi*2/20)/10**6, width=np.diff(bins), color = 'w', facecolor='w')\n",
    "axs[1,2].set_title(\"differential cross sections\")\n",
    "axs[1,2].set_yscale('log', base=10)\n",
    "axs[1,2].set_ylim([0.001, 1])\n",
    "\n",
    "axs[1,2].plot(bhphi, bh)\n",
    "\n",
    "for ax in axs.reshape(6,):\n",
    "    ax.set_xlim([0, 360])\n",
    "    ax.set_xticks(np.linspace(0, 360, 5))\n",
    "    ax.set_xlabel(\"$\\phi$\"+\" [\"+r\"${}^{\\circ}$\"+\"]\")\n",
    "plt.tight_layout()\n",
    "plt.show()\n",
    "\n",
    "#     binQ2lower = df[\"Q2\"] > 2.2\n",
    "#     binQ2upper = df[\"Q2\"] < 2.7\n",
    "#     binxBlower = df[\"xB\"] > 0.3\n",
    "#     binxBupper = df[\"xB\"] < 0.38\n",
    "#     bintlower = df[\"t2\"] > 0.3\n",
    "#     bintupper = df[\"t2\"] < 0.39\n"
   ]
  },
  {
   "cell_type": "code",
   "execution_count": null,
   "id": "indian-texture",
   "metadata": {},
   "outputs": [],
   "source": []
  }
 ],
 "metadata": {
  "kernelspec": {
   "display_name": "Python 3",
   "language": "python",
   "name": "python3"
  },
  "language_info": {
   "codemirror_mode": {
    "name": "ipython",
    "version": 3
   },
   "file_extension": ".py",
   "mimetype": "text/x-python",
   "name": "python",
   "nbconvert_exporter": "python",
   "pygments_lexer": "ipython3",
   "version": "3.9.5"
  }
 },
 "nbformat": 4,
 "nbformat_minor": 5
}
