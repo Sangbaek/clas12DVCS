{
 "cells": [
  {
   "cell_type": "code",
   "execution_count": 1,
   "id": "signed-adelaide",
   "metadata": {},
   "outputs": [],
   "source": [
    "import pandas as pd\n",
    "import numpy as np\n",
    "import matplotlib.pyplot as plt\n",
    "#from lmfit import Model, Parameter, report_fit\n",
    "from scipy.optimize import curve_fit\n",
    "from copy import copy\n",
    "from utils.physics import *\n",
    "from utils.epg import *\n",
    "import icecream as ic"
   ]
  },
  {
   "cell_type": "code",
   "execution_count": 2,
   "id": "successful-referral",
   "metadata": {},
   "outputs": [],
   "source": [
    "M = 0.938272081\n",
    "me = 0.5109989461 * 0.001\n",
    "ebeam = 10.604\n",
    "pbeam = np.sqrt(ebeam * ebeam - me * me)\n",
    "beam = [0, 0, pbeam]\n",
    "target = [0, 0, 0]"
   ]
  },
  {
   "cell_type": "code",
   "execution_count": 18,
   "id": "hydraulic-citizen",
   "metadata": {},
   "outputs": [
    {
     "name": "stdout",
     "output_type": "stream",
     "text": [
      "On event 0.0\n",
      "On event 100000.0\n",
      "On event 200000.0\n",
      "On event 300000.0\n",
      "On event 400000.0\n",
      "On event 500000.0\n",
      "On event 600000.0\n",
      "On event 700000.0\n",
      "On event 800000.0\n",
      "On event 900000.0\n",
      "On event 0.0\n",
      "On event 100000.0\n",
      "On event 200000.0\n",
      "On event 300000.0\n",
      "On event 400000.0\n",
      "On event 500000.0\n",
      "On event 600000.0\n",
      "On event 700000.0\n",
      "On event 800000.0\n",
      "On event 900000.0\n"
     ]
    }
   ],
   "source": [
    "file_name = \"/Users/sangbaek/Dropbox (MIT)/data/default.dat\"\n",
    "epg = epgFromLund(file_name, 4*10**6)\n",
    "dvcs = epg.getDVCS()\n",
    "file_name = \"/Users/sangbaek/Dropbox (MIT)/data/gpd101.dat\"\n",
    "epg = epgFromLund(file_name, 4*10**6)\n",
    "dvcs2 = epg.getDVCS()"
   ]
  },
  {
   "cell_type": "code",
   "execution_count": 6,
   "id": "elementary-length",
   "metadata": {},
   "outputs": [],
   "source": []
  },
  {
   "cell_type": "code",
   "execution_count": 5,
   "id": "herbal-turkish",
   "metadata": {},
   "outputs": [],
   "source": [
    "epg.setDVCSvars()"
   ]
  },
  {
   "cell_type": "code",
   "execution_count": 16,
   "id": "choice-chick",
   "metadata": {},
   "outputs": [
    {
     "data": {
      "image/png": "[encoded data removed]",
      "text/plain": [
       "<Figure size 432x288 with 1 Axes>"
      ]
     },
     "metadata": {
      "needs_background": "light"
     },
     "output_type": "display_data"
    }
   ],
   "source": [
    "fig, ax = plt.subplots()\n",
    "ax.hist(dvcs[\"phi2\"], bins =101, density = True)\n",
    "ax.hist(dvcs2[\"phi2\"], bins =101, density = True, color ='k')\n",
    "plt.show()"
   ]
  },
  {
   "cell_type": "code",
   "execution_count": 122,
   "id": "oriented-validity",
   "metadata": {},
   "outputs": [],
   "source": [
    "# read all data in one shot\n",
    "with open(file_name,\"r\") as file:\n",
    "    data = file.read()"
   ]
  },
  {
   "cell_type": "code",
   "execution_count": 123,
   "id": "preceding-mouse",
   "metadata": {},
   "outputs": [],
   "source": [
    "partArray = []"
   ]
  },
  {
   "cell_type": "code",
   "execution_count": 124,
   "id": "changed-scale",
   "metadata": {},
   "outputs": [
    {
     "name": "stdout",
     "output_type": "stream",
     "text": [
      "On event 0.0\n",
      "On event 100000.0\n",
      "On event 200000.0\n",
      "On event 300000.0\n",
      "On event 400000.0\n",
      "On event 500000.0\n",
      "On event 600000.0\n",
      "On event 700000.0\n",
      "On event 800000.0\n",
      "On event 900000.0\n"
     ]
    }
   ],
   "source": [
    "# go through each row\n",
    "txtlst = data.split(\"\\n\")\n",
    "for ind, line in enumerate(txtlst):\n",
    "    if ind %400000 == 0:\n",
    "        print(\"On event {}\".format(ind/4))\n",
    "    if ind % 4 == 0:\n",
    "        header = line\n",
    "        eleLine = txtlst[ind+1]\n",
    "        eleQuantities = eleLine.split()\n",
    "        Epx = eleQuantities[6]\n",
    "        Epy = eleQuantities[7]\n",
    "        Epz = eleQuantities[8]\n",
    "        proLine = txtlst[ind+2]\n",
    "        proQuantities = proLine.split()\n",
    "        Ppx = proQuantities[6]\n",
    "        Ppy = proQuantities[7]\n",
    "        Ppz = proQuantities[8]\n",
    "        gamLine = txtlst[ind+3]\n",
    "        gamQuantities = gamLine.split()\n",
    "        Gpx = gamQuantities[6]\n",
    "        Gpy = gamQuantities[7]\n",
    "        Gpz = gamQuantities[8]\n",
    "        partArray.append([float(Epx), float(Epy), float(Epz), float(Ppx), float(Ppy), float(Ppz), float(Gpx), float(Gpy), float(Gpz)])"
   ]
  },
  {
   "cell_type": "code",
   "execution_count": 125,
   "id": "upper-cameroon",
   "metadata": {},
   "outputs": [],
   "source": [
    "df_epg = pd.DataFrame(partArray, columns = [\"Epx\", \"Epy\", \"Epz\", \"Ppx\", \"Ppy\", \"Ppz\", \"Gpx\", \"Gpy\", \"Gpz\"])"
   ]
  },
  {
   "cell_type": "code",
   "execution_count": 165,
   "id": "inappropriate-retailer",
   "metadata": {},
   "outputs": [],
   "source": [
    "beam = [0, 0, pbeam]\n",
    "target = [0, 0, 0]\n",
    "ele = [df_epg['Epx'], df_epg['Epy'], df_epg['Epz']]\n",
    "pro = [df_epg['Ppx'], df_epg['Ppy'], df_epg['Ppz']]\n",
    "gam = [df_epg['Gpx'], df_epg['Gpy'], df_epg['Gpz']]"
   ]
  },
  {
   "cell_type": "code",
   "execution_count": 127,
   "id": "lucky-azerbaijan",
   "metadata": {},
   "outputs": [],
   "source": [
    "#energy\n",
    "df_epg['Ee'] = np.sqrt(me**2+df_epg[\"Epx\"]**2+df_epg[\"Epy\"]**2+df_epg[\"Epz\"]**2)\n",
    "df_epg['Pe'] = np.sqrt(M**2+df_epg[\"Ppx\"]**2+df_epg[\"Ppy\"]**2+df_epg[\"Ppz\"]**2)\n",
    "df_epg['Ge'] = np.sqrt(df_epg[\"Gpx\"]**2+df_epg[\"Gpy\"]**2+df_epg[\"Gpz\"]**2)"
   ]
  },
  {
   "cell_type": "code",
   "execution_count": 128,
   "id": "academic-fitting",
   "metadata": {},
   "outputs": [],
   "source": [
    "#binning kinematics\n",
    "df_epg['Q2'] = -((ebeam-df_epg['Ee'])**2-df_epg['Epx']**2-df_epg['Epy']**2-(pbeam-df_epg['Epz'])**2)\n",
    "df_epg['xB'] = df_epg['Q2']/2.0/M/(ebeam-df_epg['Ee'])\n",
    "df_epg['nu'] = (ebeam-df_epg['Ee'])\n",
    "VGS = [-df_epg['Epx'], -df_epg['Epy'], pbeam - df_epg['Epz']]\n",
    "df_epg['t1'] = 2*M*(df_epg['Pe']-M)\n",
    "costheta = cosTheta(VGS, gam)\n",
    "df_epg['t2'] = (M*df_epg['Q2']+2*M*df_epg['nu']*(df_epg['nu']-np.sqrt(df_epg['nu']*df_epg['nu']+df_epg['Q2'])*costheta))/(M+df_epg['nu']-np.sqrt(df_epg['nu']*df_epg['nu']+df_epg['Q2'])*costheta)\n",
    "df_epg['W'] = np.sqrt((ebeam+M-df_epg['Ee'])**2-df_epg['Epx']**2-df_epg['Epy']**2-(pbeam-df_epg['Epz'])**2)"
   ]
  },
  {
   "cell_type": "code",
   "execution_count": 129,
   "id": "disciplinary-payday",
   "metadata": {},
   "outputs": [],
   "source": [
    "v3l = cross(beam, ele)\n",
    "v3h = cross(pro, VGS)\n",
    "v3g = cross(VGS, gam)"
   ]
  },
  {
   "cell_type": "code",
   "execution_count": 130,
   "id": "pacific-quantity",
   "metadata": {},
   "outputs": [],
   "source": [
    "df_epg['phi1'] = angle(v3l, v3h)\n",
    "df_epg['phi1'] = np.where(dot(v3l, pro)>0, 360.0 - df_epg['phi1'], df_epg['phi1'])"
   ]
  },
  {
   "cell_type": "code",
   "execution_count": 131,
   "id": "pretty-verse",
   "metadata": {},
   "outputs": [],
   "source": [
    "df_epg['phi2'] = angle(v3l, v3g)\n",
    "df_epg['phi2'] = np.where(dot(VGS, cross(v3l, v3g))<0, 360.0 - df_epg['phi2'], df_epg['phi2'])"
   ]
  },
  {
   "cell_type": "code",
   "execution_count": 132,
   "id": "placed-forest",
   "metadata": {},
   "outputs": [],
   "source": [
    "#exclusivity variables\n",
    "df_epg['MM2_epg'] = (-M-ebeam+df_epg[\"Ee\"]+df_epg[\"Pe\"]+df_epg[\"Ge\"])**2 - (df_epg[\"Epx\"]+df_epg[\"Ppx\"]+df_epg[\"Gpx\"])**2 - \\\n",
    "(df_epg[\"Epy\"]+df_epg[\"Ppy\"]+df_epg[\"Gpy\"])**2 -(-pbeam+df_epg[\"Epz\"]+df_epg[\"Ppz\"]+df_epg[\"Gpz\"]) **2\n",
    "df_epg['ME_epg'] = (M+ebeam-df_epg[\"Ee\"]-df_epg[\"Pe\"]-df_epg[\"Ge\"])\n",
    "df_epg['MM2_ep'] = (-M-ebeam+df_epg[\"Ee\"]+df_epg[\"Pe\"])**2 - (df_epg[\"Epx\"]+df_epg[\"Ppx\"])**2 - \\\n",
    "(df_epg[\"Epy\"]+df_epg[\"Ppy\"])**2 -(-pbeam+df_epg[\"Epz\"]+df_epg[\"Ppz\"]) **2\n",
    "df_epg['MM2_eg'] = (-M-ebeam+df_epg[\"Ee\"]+df_epg[\"Ge\"])**2 - (df_epg[\"Epx\"]+df_epg[\"Gpx\"])**2 - \\\n",
    "(df_epg[\"Epy\"]+df_epg[\"Gpy\"])**2 -(-pbeam+df_epg[\"Epz\"]+df_epg[\"Gpz\"]) **2\n",
    "df_epg['MPt'] = np.sqrt((df_epg[\"Epx\"]+df_epg[\"Ppx\"]+df_epg[\"Gpx\"])**2 + \\\n",
    "(df_epg[\"Epy\"]+df_epg[\"Ppy\"]+df_epg[\"Gpy\"])**2)\n",
    "df_epg['coneAngle'] = angle(ele, gam)#180.*/np.pi*np.arccos((df_epg[\"Epx\"]*df_epg[\"Gpx\"]+df_epg[\"Epy\"]*df_epg[\"Gpy\"]+df_epg[\"Epz\"]*df_epg[\"Gpz\"])/np.sqrt(df_epg[\"Epx\"]*df_epg[\"Epx\"]+df_epg[\"Epy\"]*df_epg[\"Epy\"]+df_epg[\"Epz\"]*df_epg[\"Epz\"])/np.sqrt(df_epg[\"Gpx\"]*df_epg[\"Gpx\"]+df_epg[\"Gpy\"]*df_epg[\"Gpy\"]+df_epg[\"Gpz\"]*df_epg[\"Gpz\"]))\n",
    "VmissG = [-df_epg[\"Epx\"]-df_epg[\"Ppx\"], -df_epg[\"Epy\"]-df_epg[\"Ppy\"], pbeam-df_epg[\"Epz\"]-df_epg[\"Ppz\"]]\n",
    "# df_epg['reconGam'] = angle(gam, VmissG)\n",
    "Vhadr = cross(pro, VGS)\n",
    "Vhad2 = cross(VGS, gam)\n",
    "# df_epg['coplanarity'] = angle(Vhadr, Vhad2)"
   ]
  },
  {
   "cell_type": "code",
   "execution_count": 116,
   "id": "skilled-jewelry",
   "metadata": {},
   "outputs": [
    {
     "name": "stdout",
     "output_type": "stream",
     "text": [
      "Using matplotlib backend: MacOSX\n"
     ]
    }
   ],
   "source": [
    "%matplotlib\n",
    "fig, ax = plt.subplots()\n",
    "cmap = copy(plt.cm.get_cmap(\"jet\"))\n",
    "ax.hist(df_epg[\"phi2\"], bins = 101)\n",
    "# ax.hist2d(df_epg[\"xB\"], df_epg[\"Q2\"], cmin = 1 , cmap = cmap, bins = [101, 101])\n",
    "# plt.xlim([-0.5,1.2])\n",
    "# print(len(df_sym))\n",
    "# print((0.1349768/df_sym[\"Mpi0\"]).mean())\n",
    "# ax.hist2d(df_sym[\"Ge\"], (0.1349768/df_sym[\"Mpi0\"])**2-1, bins = [51, 51], cmap = cmap, cmin = 1)\n",
    "# ax.hist2d(df_sym[\"Ge\"], df_sym[\"Mpi0\"]/0.1349768, bins = [51, 51], cmap = cmap, cmin = 1)\n",
    "# plt.xlabel(\"Ge\")\n",
    "# plt.ylabel(\"reconstructed pi0 mass\")\n",
    "# ax.hist(df_dvpi0[\"Mpi0\"], bins = 101)\n",
    "plt.show()\n"
   ]
  },
  {
   "cell_type": "code",
   "execution_count": 117,
   "id": "colored-billy",
   "metadata": {},
   "outputs": [
    {
     "data": {
      "text/plain": [
       "<AxesSubplot:>"
      ]
     },
     "execution_count": 117,
     "metadata": {},
     "output_type": "execute_result"
    }
   ],
   "source": [
    "eleTheta = getTheta(ele)\n",
    "eleTheta.hist(bins=50, density =1)\n",
    "proTheta = getTheta(pro)\n",
    "proTheta.hist(bins=50, density =1)\n",
    "gamTheta = getTheta(gam)\n",
    "gamTheta.hist(bins=50, density =1)"
   ]
  },
  {
   "cell_type": "code",
   "execution_count": 70,
   "id": "patent-favorite",
   "metadata": {},
   "outputs": [],
   "source": [
    "xB_edges = [0.1, 0.15, 0.2, 0.25, 0.3, 0.35, 0.4,\\\n",
    "\t\t\t0.45, 0.5, 0.55, 0.6, 0.7, 0.85, 1]\n",
    "Q2_edges = [1.0, 1.5, 2.0, 2.5, 3.0, 3.5, 4.0,\\\n",
    "\t\t\t4.5, 5.0, 5.5, 6.0, 7.0, 8.0, 9.0, 12.]\n",
    "t_edges = [0.09, 0.15, 0.20, 0.3, 0.4, 0.60, 1.00, 1.5, 2.0]\n",
    "phi_edges = np.linspace(0, 360, 31)\n"
   ]
  },
  {
   "cell_type": "code",
   "execution_count": 95,
   "id": "liquid-camel",
   "metadata": {},
   "outputs": [
    {
     "name": "stdout",
     "output_type": "stream",
     "text": [
      "Using matplotlib backend: MacOSX\n"
     ]
    }
   ],
   "source": [
    "%matplotlib\n",
    "Q2ind = 4\n",
    "xBind = 4\n",
    "tind = 4\n",
    "\n",
    "fig, axs = plt.subplots()\n",
    "binQ2lower = df_epg[\"Q2\"] > Q2_edges[Q2ind]\n",
    "binQ2upper = df_epg[\"Q2\"] < Q2_edges[Q2ind + 1]\n",
    "binxBlower = df_epg[\"xB\"] > xB_edges[xBind]\n",
    "binxBupper = df_epg[\"xB\"] < xB_edges[xBind + 1]\n",
    "bintlower = df_epg[\"t2\"] > t_edges[tind]\n",
    "bintupper = df_epg[\"t2\"] < t_edges[tind + 1]\n",
    "plotter = df_epg[binQ2lower & binQ2upper &\n",
    "                         binxBlower & binxBupper & bintlower & bintupper]\n",
    "# axs.set_xticks([])\n",
    "axs.set_yticks([])\n",
    "# axs.set_xticklabels([])\n",
    "axs.set_yticklabels([])\n",
    "# plt.setp(axs.get_xticklabels(), visible=False)\n",
    "plt.setp(axs.get_yticklabels(), visible=False)\n",
    "axs.hist(plotter[\"phi2\"],\n",
    "                bins=phi_edges,\n",
    "                linewidth=0.5,\n",
    "                histtype='stepfilled',\n",
    "                facecolor='none',\n",
    "                edgecolor='k')\n",
    "axs.set_title(\"\")\n",
    "# axs.xaxis.set_visible(False)\n",
    "axs.yaxis.set_visible(False)\n",
    "axs.set_ylim([1, 5000])\n",
    "axs.set_yscale('log')"
   ]
  },
  {
   "cell_type": "code",
   "execution_count": 166,
   "id": "successful-revelation",
   "metadata": {},
   "outputs": [],
   "source": [
    "df_epg[\"Ptheta\"] = 180/np.pi*getTheta(pro)\n",
    "df_epg[\"Gtheta\"] = 180/np.pi*getTheta(gam)"
   ]
  },
  {
   "cell_type": "code",
   "execution_count": 98,
   "id": "adaptive-criticism",
   "metadata": {},
   "outputs": [],
   "source": [
    "df_epgCDFT = df_epg[(df_epg[\"Ptheta\"]>45) & (df_epg[\"Gtheta\"]<5)]"
   ]
  },
  {
   "cell_type": "code",
   "execution_count": 100,
   "id": "automotive-victim",
   "metadata": {},
   "outputs": [
    {
     "data": {
      "text/plain": [
       "array([[<AxesSubplot:title={'center':'phi2'}>]], dtype=object)"
      ]
     },
     "execution_count": 100,
     "metadata": {},
     "output_type": "execute_result"
    }
   ],
   "source": [
    "df_epgCDFT.hist(\"phi2\")"
   ]
  },
  {
   "cell_type": "code",
   "execution_count": 101,
   "id": "legitimate-weekly",
   "metadata": {},
   "outputs": [],
   "source": [
    "df_dvcsOnly = df_epg"
   ]
  },
  {
   "cell_type": "code",
   "execution_count": 167,
   "id": "controlled-shape",
   "metadata": {},
   "outputs": [],
   "source": [
    "df_bhOnly = df_epg"
   ]
  },
  {
   "cell_type": "code",
   "execution_count": 134,
   "id": "fewer-wholesale",
   "metadata": {},
   "outputs": [],
   "source": [
    "df_dvcs = df_epg"
   ]
  },
  {
   "cell_type": "code",
   "execution_count": 137,
   "id": "municipal-problem",
   "metadata": {},
   "outputs": [
    {
     "data": {
      "text/plain": [
       "array([[<AxesSubplot:title={'center':'phi2'}>]], dtype=object)"
      ]
     },
     "execution_count": 137,
     "metadata": {},
     "output_type": "execute_result"
    }
   ],
   "source": [
    "df_dvcsOnly.hist(\"phi2\")\n",
    "df_bhOnly.hist(\"phi2\")\n",
    "df_dvcs.hist(\"phi2\")"
   ]
  },
  {
   "cell_type": "code",
   "execution_count": 220,
   "id": "medical-thickness",
   "metadata": {},
   "outputs": [],
   "source": [
    "hist1, bins1 = np.histogram(df_dvcsOnlyCDFT[\"phi2\"], bins=np.linspace(0, 360, 361))\n",
    "hist2, bins2 = np.histogram(df_bhOnlyCDFT[\"phi2\"], bins=np.linspace(0, 360, 361))\n",
    "hist3, bins3 = np.histogram(df_dvcsCDFT[\"phi2\"], bins=np.linspace(0, 360, 361))"
   ]
  },
  {
   "cell_type": "code",
   "execution_count": 169,
   "id": "postal-conversation",
   "metadata": {},
   "outputs": [],
   "source": [
    "df_dvcsOnlyCDFT = df_dvcsOnly[(df_dvcsOnly[\"Ptheta\"]>45) & (df_dvcsOnly[\"Gtheta\"]<5)]\n",
    "df_bhOnlyCDFT = df_bhOnly[(df_bhOnly[\"Ptheta\"]>45) & (df_bhOnly[\"Gtheta\"]<5)]\n",
    "df_dvcsCDFT = df_dvcs[(df_dvcs[\"Ptheta\"]>45) & (df_dvcs[\"Gtheta\"]<5)]"
   ]
  },
  {
   "cell_type": "code",
   "execution_count": 222,
   "id": "textile-family",
   "metadata": {},
   "outputs": [
    {
     "name": "stdout",
     "output_type": "stream",
     "text": [
      "Using matplotlib backend: MacOSX\n"
     ]
    }
   ],
   "source": [
    "%matplotlib\n",
    "f=0.32\n",
    "fig, ax = plt.subplots()\n",
    "ax.plot(hist2)\n",
    "plt.show()"
   ]
  },
  {
   "cell_type": "code",
   "execution_count": 207,
   "id": "specialized-wrapping",
   "metadata": {},
   "outputs": [
    {
     "data": {
      "text/plain": [
       "array([[<AxesSubplot:title={'center':'phi2'}>]], dtype=object)"
      ]
     },
     "execution_count": 207,
     "metadata": {},
     "output_type": "execute_result"
    }
   ],
   "source": [
    "df_bhOnlyCDFT.hist(column=\"phi2\", weights=2+0*df_bhOnlyCDFT[\"Epx\"])"
   ]
  },
  {
   "cell_type": "code",
   "execution_count": 183,
   "id": "declared-metabolism",
   "metadata": {},
   "outputs": [
    {
     "data": {
      "text/plain": [
       "array([ -726.7 , -5890.4 , -2625.8 , -1034.3 ,  -308.2 ,   224.35,\n",
       "         541.55,   886.8 ,   827.2 ,   750.15,   597.65,   760.25,\n",
       "         949.15,   444.65,   752.15,   891.95,   738.7 ,   701.05,\n",
       "         587.05,   512.1 ,   817.75,   767.6 ,   918.45,   798.5 ,\n",
       "         882.3 ,   896.9 ,  1182.25,   654.5 ,   748.1 ,   661.4 ,\n",
       "         659.  ,   181.3 ,  -855.4 , -2579.55, -5092.25,  -220.2 ])"
      ]
     },
     "execution_count": 183,
     "metadata": {},
     "output_type": "execute_result"
    }
   ],
   "source": [
    "f=0.35\n",
    "f*hist1+(1-f)*hist2-hist3"
   ]
  },
  {
   "cell_type": "code",
   "execution_count": 164,
   "id": "cooked-satin",
   "metadata": {},
   "outputs": [],
   "source": [
    "df_epg = df_dvcs"
   ]
  },
  {
   "cell_type": "code",
   "execution_count": 230,
   "id": "irish-cause",
   "metadata": {},
   "outputs": [
    {
     "name": "stdout",
     "output_type": "stream",
     "text": [
      "Using matplotlib backend: MacOSX\n"
     ]
    }
   ],
   "source": [
    "%matplotlib\n",
    "Q2ind = 1\n",
    "xBind = 1\n",
    "tind = 1\n",
    "fig, axs = plt.subplots()\n",
    "binQ2lower = df_dvcsOnlyCDFT[\"Q2\"] > Q2_edges[Q2ind]\n",
    "binQ2upper = df_dvcsOnlyCDFT[\"Q2\"] < Q2_edges[Q2ind + 1]\n",
    "binxBlower = df_dvcsOnlyCDFT[\"xB\"] > xB_edges[xBind]\n",
    "binxBupper = df_dvcsOnlyCDFT[\"xB\"] < xB_edges[xBind + 1]\n",
    "bintlower = df_dvcsOnlyCDFT[\"t2\"] > t_edges[tind]\n",
    "bintupper = df_dvcsOnlyCDFT[\"t2\"] < t_edges[tind + 1]\n",
    "plotter = df_dvcsOnlyCDFT[binQ2lower & binQ2upper &\n",
    "                         binxBlower & binxBupper & bintlower & bintupper]\n",
    "# axs.set_xticks([])\n",
    "axs.set_yticks([])\n",
    "# axs.set_xticklabels([])\n",
    "axs.set_yticklabels([])\n",
    "# plt.setp(axs.get_xticklabels(), visible=False)\n",
    "plt.setp(axs.get_yticklabels(), visible=False)\n",
    "axs.hist(plotter[\"phi2\"],\n",
    "                bins=phi_edges,\n",
    "                linewidth=0.5,\n",
    "                histtype='stepfilled',\n",
    "                facecolor='none',\n",
    "                edgecolor='k')\n",
    "axs.set_title(\"\")\n",
    "# axs.xaxis.set_visible(False)\n",
    "axs.yaxis.set_visible(False)\n",
    "axs.set_ylim([1, 5000])\n",
    "axs.set_yscale('log')"
   ]
  },
  {
   "cell_type": "code",
   "execution_count": null,
   "id": "compliant-disco",
   "metadata": {},
   "outputs": [],
   "source": []
  }
 ],
 "metadata": {
  "kernelspec": {
   "display_name": "Python 3",
   "language": "python",
   "name": "python3"
  },
  "language_info": {
   "codemirror_mode": {
    "name": "ipython",
    "version": 3
   },
   "file_extension": ".py",
   "mimetype": "text/x-python",
   "name": "python",
   "nbconvert_exporter": "python",
   "pygments_lexer": "ipython3",
   "version": "3.9.1"
  }
 },
 "nbformat": 4,
 "nbformat_minor": 5
}
