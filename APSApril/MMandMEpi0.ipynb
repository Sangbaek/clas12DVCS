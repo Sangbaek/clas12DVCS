{
 "cells": [
  {
   "cell_type": "code",
   "execution_count": 1,
   "id": "thermal-threat",
   "metadata": {},
   "outputs": [],
   "source": [
    "from utils.epg import *\n",
    "import icecream as ic\n",
    "import numpy as np\n",
    "import matplotlib.pyplot as plt\n",
    "import matplotlib\n",
    "from copy import copy"
   ]
  },
  {
   "cell_type": "code",
   "execution_count": 2,
   "id": "opposite-navigator",
   "metadata": {},
   "outputs": [],
   "source": [
    "# initial settings\n",
    "pgf_with_latex = {\n",
    "\t\t\"pgf.texsystem\": \"pdflatex\",\n",
    "\t\t\"text.usetex\": True,            # use LaTeX to write all text\n",
    "\t\t\"font.family\": \"sans-serif\",         \n",
    "\t\t\"font.sans-serif\": \"Helvetica\",\n",
    "\t\t\"font.size\": 25,\t\t\t\t# default font size\n",
    "\t\t\"axes.labelsize\": 24,\t\t\t# x and y label size\n",
    "\t\t\"axes.titlesize\": 24,           # subfigure title size, i.e. title size when one figure\n",
    "\t\t\"legend.fontsize\": 22,\t\t\t# legend size\n",
    "\t\t\"xtick.labelsize\": 23,\t\t\t# x axis tick label size\n",
    "\t\t\"ytick.labelsize\": 23,\t\t\t# y axis tick label \n",
    "\t\t\"figure.titlesize\": 25,         # Figure title size, useful when you have multiple plots in one canvas.\n",
    "\t\t\"pgf.preamble\": r\"\\usepackage{xcolor}\"     # xcolor for colours\n",
    "}\n",
    "matplotlib.rcParams.update(pgf_with_latex)\n"
   ]
  },
  {
   "cell_type": "code",
   "execution_count": 23,
   "id": "decreased-heating",
   "metadata": {},
   "outputs": [],
   "source": [
    "fname = \"~/Dropbox (MIT)/data/dvcs_inb.root\"\n",
    "epg = epgFromROOT(fname)\n",
    "dvpi0 = epg.getDVpi0()\n",
    "dvcs = epg.getDVCS(sub2g=True)\n"
   ]
  },
  {
   "cell_type": "code",
   "execution_count": 26,
   "id": "controlling-symbol",
   "metadata": {},
   "outputs": [
    {
     "name": "stderr",
     "output_type": "stream",
     "text": [
      "/usr/local/lib/python3.9/site-packages/pandas/core/arraylike.py:358: RuntimeWarning: invalid value encountered in sqrt\n",
      "  result = getattr(ufunc, method)(*inputs, **kwargs)\n"
     ]
    }
   ],
   "source": [
    "fname2 = \"~/Dropbox (MIT)/data/pi0_inb.root\"\n",
    "epg2 = epgFromROOT(fname2)\n",
    "dvpi02 = epg2.getDVpi0()\n",
    "dvcs2 = epg2.getDVCS()"
   ]
  },
  {
   "cell_type": "code",
   "execution_count": 27,
   "id": "cultural-suspension",
   "metadata": {},
   "outputs": [],
   "source": [
    "dvcs2 = dvcs2[dvcs2[\"event\"].isin(dvpi02[\"event\"])]"
   ]
  },
  {
   "cell_type": "code",
   "execution_count": 28,
   "id": "spectacular-tissue",
   "metadata": {},
   "outputs": [],
   "source": [
    "dvcs2CDFT = dvcs2[(dvcs2[\"Pstat\"]>4000) & (dvcs2[\"Gstat\"]<2000)]\n",
    "dvcs2CDFD = dvcs2[(dvcs2[\"Pstat\"]>4000) & (dvcs2[\"Gstat\"]>2000)]\n",
    "dvcs2FDFT = dvcs2[(dvcs2[\"Pstat\"]<4000) & (dvcs2[\"Gstat\"]<2000)]\n",
    "dvcs2FDFD = dvcs2[(dvcs2[\"Pstat\"]<4000) & (dvcs2[\"Gstat\"]>2000)]"
   ]
  },
  {
   "cell_type": "code",
   "execution_count": 29,
   "id": "interested-marketing",
   "metadata": {},
   "outputs": [],
   "source": [
    "dvcsCDFT = dvcs[(dvcs[\"Pstat\"]>4000) & (dvcs[\"Gstat\"]<2000)]\n",
    "dvcsCDFD = dvcs[(dvcs[\"Pstat\"]>4000) & (dvcs[\"Gstat\"]>2000)]\n",
    "dvcsFDFT = dvcs[(dvcs[\"Pstat\"]<4000) & (dvcs[\"Gstat\"]<2000)]\n",
    "dvcsFDFD = dvcs[(dvcs[\"Pstat\"]<4000) & (dvcs[\"Gstat\"]>2000)]\n"
   ]
  },
  {
   "cell_type": "code",
   "execution_count": 31,
   "id": "legal-queen",
   "metadata": {},
   "outputs": [
    {
     "data": {
      "text/plain": [
       "<Figure size 1080x720 with 0 Axes>"
      ]
     },
     "metadata": {},
     "output_type": "display_data"
    }
   ],
   "source": [
    "varstoplot = [\"coneAngle\", \"reconGam\", \"coplanarity\", \"ME_epg\", \"MM2_epg\", \"MM2_eg\", \"MM2_ep\", \"MPt\"]\n",
    "# varstoplot = [\"nu\", \"W\", \"Q2\", \"xB\", \"t2\", \"phi2\", \"Epz\", \"Ppz\", \"Gpz\"]\n",
    "# varstoplot = [\"Epx\", \"Epy\", \"Epz\", \"Ppx\", \"Ppy\", \"Ppz\", \"Gpx\", \"Gpy\", \"Gpz\"]\n",
    "# varstoplot = [\"Evx\", \"Evy\", \"Evz\", \"Pvz\", \"Ppy\", \"Ppz\", \"Gpx\", \"Gpy\", \"Gpz\"]\n",
    "\n",
    "title = [r\"$\\theta_{e'\\gamma}$\", r\"$\\theta_{\\gamma_{det.}\\gamma_{rec.}}$\", r\"$\\Delta\\phi$\" , \"ME\"+r\"${}_{epg}$\", \"MM\"+r\"${}^{2}_{epg}$\", \"MM\"+r\"${}^{2}_{eg}$\", \"MM\"+r\"${}^{2}_{ep}$\", \"MPt\"+r\"${}_{epg}$\"]\n",
    "# for ind, tit in enumerate(title):\n",
    "#     title[ind] = \"\"\n",
    "binstarts = [0, 0, 0, -0.7, -0.1, 0.5,-0.4 , 0]\n",
    "binends = [40, 5, 25, 1.5, 0.1, 1.5, 0.4, 0.5]\n",
    "fig, axs = plt.subplots(3, 2, figsize=(15,10))\n",
    "axs[0, 0].hist(dvcs2CDFD[\"ME_epg\"], bins = np.linspace(-0.5, 1.2, 101), density = True, histtype='stepfilled', facecolor='none', edgecolor='g')\n",
    "axs[1, 0].hist(dvcs2CDFT[\"ME_epg\"], bins = np.linspace(-0.5, 1.2, 101), density = True, histtype='stepfilled', facecolor='none', edgecolor='g')\n",
    "axs[2, 0].hist(dvcs2FDFD[\"ME_epg\"], bins = np.linspace(-0.5, 1.2, 101), density = True, histtype='stepfilled', facecolor='none', edgecolor='g')\n",
    "axs[0, 1].hist(dvcs2CDFD[\"MM2_eg\"], bins = np.linspace(0.5, 1.5, 101), density = True, histtype='stepfilled', facecolor='none', edgecolor='g')\n",
    "axs[1, 1].hist(dvcs2CDFT[\"MM2_eg\"], bins = np.linspace(0.5, 1.5, 101), density = True, histtype='stepfilled', facecolor='none', edgecolor='g')\n",
    "axs[2, 1].hist(dvcs2FDFD[\"MM2_eg\"], bins = np.linspace(0.5, 1.5, 101), density = True, histtype='stepfilled', facecolor='none', edgecolor='g')\n",
    "axs[0, 0].hist(dvcsCDFD[\"ME_epg\"], bins = np.linspace(-0.5, 1.2, 101), density = True, histtype='stepfilled', facecolor='none', edgecolor='k')\n",
    "axs[1, 0].hist(dvcsCDFT[\"ME_epg\"], bins = np.linspace(-0.5, 1.2, 101), density = True, histtype='stepfilled', facecolor='none', edgecolor='k')\n",
    "axs[2, 0].hist(dvcsFDFD[\"ME_epg\"], bins = np.linspace(-0.5, 1.2, 101), density = True, histtype='stepfilled', facecolor='none', edgecolor='k')\n",
    "axs[0, 1].hist(dvcsCDFD[\"MM2_eg\"], bins = np.linspace(0.5, 1.5, 101), density = True, histtype='stepfilled', facecolor='none', edgecolor='k')\n",
    "axs[1, 1].hist(dvcsCDFT[\"MM2_eg\"], bins = np.linspace(0.5, 1.5, 101), density = True, histtype='stepfilled', facecolor='none', edgecolor='k')\n",
    "axs[2, 1].hist(dvcsFDFD[\"MM2_eg\"], bins = np.linspace(0.5, 1.5, 101), density = True, histtype='stepfilled', facecolor='none', edgecolor='k')\n",
    "\n",
    "for ax in axs[:,0]:\n",
    "    ax.set_ylim(0,2.5)\n",
    "    ax.set_xlim(-0.5,1.2)\n",
    "    ax.set_xlabel(\"ME\"+r\"${}_{epg}$\"+\" [GeV]\")\n",
    "for ax in axs[:,1]:\n",
    "    ax.set_ylim(0,2.5)\n",
    "    ax.set_xlim(0.5,1.5)\n",
    "    ax.set_xlabel(\"MM\"+r\"${}^{2}_{eg}$\" +\" [GeV\"+r\"${}^{2}$\"+\"]\")\n",
    "\n",
    "# for xind in range(0,4):\n",
    "# \tfor yind in range(0, 2):\n",
    "# \t\tind = xind+4*(1-yind)\n",
    "# \t\taxs[1-yind, xind].hist(dvcs[varstoplot[ind]], bins = np.linspace(binstarts[ind], binends[ind], 101), density = True, histtype='stepfilled', facecolor='none', edgecolor='r')\n",
    "# \t\taxs[1-yind, xind].hist(df_epg[varstoplot[ind]], bins = np.linspace(binstarts[ind], binends[ind], 101), density = True, histtype='stepfilled', facecolor='none', edgecolor='k')\n",
    "# \t\taxs[1-yind, xind].set_title(title[ind])\n",
    "# \t\taxs[1-yind, xind].set_xlabel(title[ind])\n",
    "# \t\taxs[1-yind, xind].set_xlim([binstarts[ind], binends[ind]])\n",
    "# # \t\taxs[2-yind, xind].set_yscale('log')\n",
    "plt.tight_layout()\n",
    "# plt.show()\n",
    "plt.savefig(\"CDFDFTpi0wdvcs.pdf\")\n",
    "plt.clf()"
   ]
  },
  {
   "cell_type": "code",
   "execution_count": null,
   "id": "provincial-canal",
   "metadata": {},
   "outputs": [],
   "source": []
  }
 ],
 "metadata": {
  "kernelspec": {
   "display_name": "Python 3",
   "language": "python",
   "name": "python3"
  },
  "language_info": {
   "codemirror_mode": {
    "name": "ipython",
    "version": 3
   },
   "file_extension": ".py",
   "mimetype": "text/x-python",
   "name": "python",
   "nbconvert_exporter": "python",
   "pygments_lexer": "ipython3",
   "version": "3.9.1"
  }
 },
 "nbformat": 4,
 "nbformat_minor": 5
}
