{
 "cells": [
  {
   "cell_type": "code",
   "execution_count": 1,
   "id": "proper-comparative",
   "metadata": {},
   "outputs": [],
   "source": [
    "from utils.epg import *\n",
    "import icecream as ic\n",
    "import numpy as np\n",
    "import matplotlib.pyplot as plt\n",
    "import matplotlib\n",
    "from copy import copy\n",
    "from scipy.optimize import curve_fit"
   ]
  },
  {
   "cell_type": "code",
   "execution_count": 2,
   "id": "dutch-paris",
   "metadata": {},
   "outputs": [],
   "source": [
    "# initial settings\n",
    "pgf_with_latex = {\n",
    "\t\t\"pgf.texsystem\": \"pdflatex\",\n",
    "\t\t\"text.usetex\": True,            # use LaTeX to write all text\n",
    "\t\t\"font.family\": \"sans-serif\",         \n",
    "\t\t\"font.sans-serif\": \"Helvetica\",\n",
    "\t\t\"font.size\": 25,\t\t\t\t# default font size\n",
    "\t\t\"axes.labelsize\": 24,\t\t\t# x and y label size\n",
    "\t\t\"axes.titlesize\": 24,           # subfigure title size, i.e. title size when one figure\n",
    "\t\t\"legend.fontsize\": 22,\t\t\t# legend size\n",
    "\t\t\"xtick.labelsize\": 23,\t\t\t# x axis tick label size\n",
    "\t\t\"ytick.labelsize\": 23,\t\t\t# y axis tick label \n",
    "\t\t\"figure.titlesize\": 25,         # Figure title size, useful when you have multiple plots in one canvas.\n",
    "\t\t\"pgf.preamble\": r\"\\usepackage{xcolor}\"     # xcolor for colours\n",
    "}\n",
    "matplotlib.rcParams.update(pgf_with_latex)\n"
   ]
  },
  {
   "cell_type": "code",
   "execution_count": 3,
   "id": "scenic-ladder",
   "metadata": {},
   "outputs": [],
   "source": [
    "fname = \"~/Dropbox (MIT)/data/dvcs_inb.root\"\n",
    "epg = epgFromROOT(fname)\n",
    "dvpi0 = epg.getDVpi0()\n",
    "dvcs = epg.getDVCS(sub2g=True)\n"
   ]
  },
  {
   "cell_type": "code",
   "execution_count": 56,
   "id": "accompanied-laugh",
   "metadata": {},
   "outputs": [],
   "source": [
    "fnameoutb = \"~/Dropbox (MIT)/data/dvcs_outb.root\"\n",
    "epgoutb = epgFromROOT(fnameoutb)\n",
    "dvpi0outb = epgoutb.getDVpi0()\n",
    "dvcsoutb = epgoutb.getDVCS(sub2g=True)\n"
   ]
  },
  {
   "cell_type": "code",
   "execution_count": 4,
   "id": "secret-spyware",
   "metadata": {},
   "outputs": [],
   "source": [
    "fname_mc = \"~/Dropbox (MIT)/data/MC/Feb2020/dvcsRadRECinb.root\"\n",
    "# fname_mc = \"~/Dropbox (MIT)/data/dvcs_mc_inb.root\"\n",
    "epg_mc = epgFromROOT(fname_mc, rec=True)\n",
    "# dvpi0_mc = epg_mc.getDVpi0()\n",
    "dvcs_mc = epg_mc.getDVCS()"
   ]
  },
  {
   "cell_type": "code",
   "execution_count": 175,
   "id": "developed-future",
   "metadata": {},
   "outputs": [],
   "source": [
    "dvcs_gen = epg_mc.df_MC"
   ]
  },
  {
   "cell_type": "code",
   "execution_count": 176,
   "id": "sufficient-transportation",
   "metadata": {},
   "outputs": [
    {
     "data": {
      "text/plain": [
       "Index(['MCEpx', 'MCEpy', 'MCEpz', 'MCEvx', 'MCEvy', 'MCEvz', 'MCPpx', 'MCPpy',\n",
       "       'MCPpz', 'event', 'MCGpx', 'MCGpy', 'MCGpz'],\n",
       "      dtype='object')"
      ]
     },
     "execution_count": 176,
     "metadata": {},
     "output_type": "execute_result"
    }
   ],
   "source": [
    "dvcs_gen.keys()"
   ]
  },
  {
   "cell_type": "code",
   "execution_count": 78,
   "id": "practical-wells",
   "metadata": {},
   "outputs": [],
   "source": [
    "ele = [dvcs[\"Epx\"], dvcs[\"Epy\"], dvcs[\"Epz\"]]\n",
    "dvcs[\"Etheta\"] = getTheta(ele)\n",
    "dvcs[\"Ephi\"] = getPhi(ele)\n",
    "pro = [dvcs[\"Ppx\"], dvcs[\"Ppy\"], dvcs[\"Ppz\"]]\n",
    "dvcs[\"Ptheta\"] = getTheta(pro)\n",
    "dvcs[\"Pphi\"] = getPhi(pro)\n",
    "gam = [dvcs[\"Gpx\"], dvcs[\"Gpy\"], dvcs[\"Gpz\"]]\n",
    "dvcs[\"Gtheta\"] = getTheta(gam)\n",
    "dvcs[\"Gphi\"] = getPhi(gam)"
   ]
  },
  {
   "cell_type": "code",
   "execution_count": 79,
   "id": "miniature-hawaiian",
   "metadata": {},
   "outputs": [],
   "source": [
    "ele = [dvcs_mc[\"Epx\"], dvcs_mc[\"Epy\"], dvcs_mc[\"Epz\"]]\n",
    "dvcs_mc[\"Etheta\"] = getTheta(ele)\n",
    "dvcs_mc[\"Ephi\"] = getPhi(ele)\n",
    "pro = [dvcs_mc[\"Ppx\"], dvcs_mc[\"Ppy\"], dvcs_mc[\"Ppz\"]]\n",
    "dvcs_mc[\"Ptheta\"] = getTheta(pro)\n",
    "dvcs_mc[\"Pphi\"] = getPhi(pro)\n",
    "gam = [dvcs_mc[\"Gpx\"], dvcs_mc[\"Gpy\"], dvcs_mc[\"Gpz\"]]\n",
    "dvcs_mc[\"Gtheta\"] = getTheta(gam)\n",
    "dvcs_mc[\"Gphi\"] = getPhi(gam)"
   ]
  },
  {
   "cell_type": "code",
   "execution_count": 5,
   "id": "mathematical-messaging",
   "metadata": {},
   "outputs": [],
   "source": [
    "fname_mc2 = \"~/Dropbox (MIT)/data/MC/Feb2020/dvcsNonRadRECinb.root\"\n",
    "epg_mc2 = epgFromROOT(fname_mc2, rec=False)\n",
    "# dvpi0_mc2 = epg_mc2.getDVpi0()\n",
    "dvcs_mc2 = epg_mc2.getDVCS()\n",
    "ele = [dvcs_mc2[\"Epx\"], dvcs_mc2[\"Epy\"], dvcs_mc2[\"Epz\"]]\n",
    "dvcs_mc2[\"Etheta\"] = getTheta(ele)\n",
    "dvcs_mc2[\"Ephi\"] = getPhi(ele)\n",
    "pro = [dvcs_mc2[\"Ppx\"], dvcs_mc2[\"Ppy\"], dvcs_mc2[\"Ppz\"]]\n",
    "dvcs_mc2[\"Ptheta\"] = getTheta(pro)\n",
    "dvcs_mc2[\"Pphi\"] = getPhi(pro)\n",
    "gam = [dvcs_mc2[\"Gpx\"], dvcs_mc2[\"Gpy\"], dvcs_mc2[\"Gpz\"]]\n",
    "dvcs_mc2[\"Gtheta\"] = getTheta(gam)\n",
    "dvcs_mc2[\"Gphi\"] = getPhi(gam)"
   ]
  },
  {
   "cell_type": "code",
   "execution_count": 80,
   "id": "fluid-physiology",
   "metadata": {},
   "outputs": [],
   "source": [
    "df_epg = epg.df_epg\n",
    "df_epg1 = epg_mc.df_epg\n"
   ]
  },
  {
   "cell_type": "code",
   "execution_count": 81,
   "id": "ultimate-lebanon",
   "metadata": {},
   "outputs": [],
   "source": [
    "cut1_Wagon1 = (df_epg1[\"ME_epg\"]>-1) & (df_epg1[\"ME_epg\"]<2)\n",
    "cut1_Wagon2 = (df_epg1[\"MM2_eg\"]>1/16) & (df_epg1[\"MM2_eg\"]<4)\n",
    "cut1_Wagon3 = (df_epg1[\"MM2_epg\"]>-0.1) & (df_epg1[\"MM2_epg\"]<0.1)\n",
    "cut1_Wagon4 = (df_epg1[\"MPt\"]<0.75)\n",
    "cut1_Wagon5 = (df_epg1[\"reconGam\"]<7.5)\n",
    "cut1 = cut1_Wagon1 & cut1_Wagon2 & cut1_Wagon3 & cut1_Wagon4 & cut1_Wagon5\n",
    "df_epg_mc1 = df_epg1[cut1]"
   ]
  },
  {
   "cell_type": "code",
   "execution_count": 184,
   "id": "indian-consumer",
   "metadata": {},
   "outputs": [],
   "source": [
    "# df_epg2 = epg_mc2.df_epg\n",
    "# cut2_Wagon1 = (df_epg2[\"ME_epg\"]>-1) & (df_epg2[\"ME_epg\"]<2)\n",
    "# cut2_Wagon2 = (df_epg2[\"MM2_eg\"]>1/16) & (df_epg2[\"MM2_eg\"]<4)\n",
    "# cut2_Wagon3 = (df_epg2[\"MM2_epg\"]>-0.1) & (df_epg2[\"MM2_epg\"]<0.1)\n",
    "# cut2_Wagon4 = (df_epg2[\"MPt\"]<0.75)\n",
    "# cut2_Wagon5 = (df_epg2[\"reconGam\"]<7.5)\n",
    "# cut2 = cut2_Wagon1 & cut2_Wagon2 & cut2_Wagon3 & cut2_Wagon4 & cut2_Wagon5\n",
    "# df_epg_mc2 = df_epg2[cut2]"
   ]
  },
  {
   "cell_type": "code",
   "execution_count": 10,
   "id": "corrected-cement",
   "metadata": {},
   "outputs": [
    {
     "data": {
      "text/plain": [
       "<AxesSubplot:>"
      ]
     },
     "execution_count": 10,
     "metadata": {},
     "output_type": "execute_result"
    },
    {
     "data": {
      "image/png": "[encoded data removed]",
      "text/plain": [
       "<Figure size 432x288 with 1 Axes>"
      ]
     },
     "metadata": {
      "needs_background": "light"
     },
     "output_type": "display_data"
    }
   ],
   "source": [
    "# var = \"coneAngle\"\n",
    "var = \"MM2_eg\"\n",
    "bins = 100\n",
    "bins=np.linspace(-0.01, 1.5, 101)\n",
    "df_epg[var].hist(bins=100, density = True, histtype='stepfilled', facecolor='none', edgecolor='k')\n",
    "df_epg1[var].hist(bins=bins, density = True, histtype='stepfilled', facecolor='none', edgecolor='b')\n",
    "# df_epg2[var].hist(bins=bins, density = True, histtype='stepfilled', facecolor='none', edgecolor='r')"
   ]
  },
  {
   "cell_type": "code",
   "execution_count": 82,
   "id": "innovative-hindu",
   "metadata": {},
   "outputs": [],
   "source": [
    "# dvcsFD = dvcs[(dvcs[\"Pstat\"]<4000) &  (dvcs[\"t2\"]<1) &  (dvcs[\"xB\"]<0.85) &  (dvcs[\"Q2\"]<14)]\n",
    "# dvcsFD_mc = dvcs_mc[(dvcs_mc[\"Pstat\"]<4000) & (dvcs_mc[\"t2\"]<1)&  (dvcs_mc[\"xB\"]<0.85) &  (dvcs_mc[\"Q2\"]<14)]\n",
    "# dvcsFD_mc2 = dvcs_mc2[(dvcs_mc2[\"Pstat\"]<4000) & (dvcs_mc2[\"t2\"]<1)&  (dvcs_mc2[\"xB\"]<0.85) &  (dvcs_mc2[\"Q2\"]<14)]\n",
    "# dvpi0FD = dvpi0[(dvpi0[\"Pstat\"]<4000)]\n",
    "# dvcsCD = dvcs[(dvcs[\"Pstat\"]>4000)&  (dvcs[\"t2\"]<1) &  (dvcs[\"xB\"]<0.85) &  (dvcs[\"Q2\"]<14)]\n",
    "# dvcsCD_mc = dvcs_mc[(dvcs_mc[\"Pstat\"]>4000) & (dvcs_mc[\"t2\"]<1)&  (dvcs_mc[\"xB\"]<0.85) &  (dvcs_mc[\"Q2\"]<14)]\n",
    "# dvcsCD_mc2 = dvcs_mc2[(dvcs_mc2[\"Pstat\"]>4000) & (dvcs_mc2[\"t2\"]<1)&  (dvcs_mc2[\"xB\"]<0.85) &  (dvcs_mc2[\"Q2\"]<14)]\n",
    "dvcsCDFT = dvcs[(dvcs[\"Pstat\"]>4000) & (dvcs[\"Gstat\"]<2000)]\n",
    "dvcsCDFT_mc = dvcs_mc[(dvcs_mc[\"Pstat\"]>4000) & (dvcs_mc[\"Gstat\"]<2000)]\n",
    "dvcsCDFD = dvcs[(dvcs[\"Pstat\"]>4000) & (dvcs[\"Gstat\"]>2000)]\n",
    "dvcsCDFD_mc = dvcs_mc[(dvcs_mc[\"Pstat\"]>4000) & (dvcs_mc[\"Gstat\"]>2000)]\n",
    "# dvcsFDFT = dvcs[(dvcs[\"Pstat\"]<4000) & (dvcs[\"Gstat\"]<2000)]\n",
    "# dvcsFDFT_mc = dvcs_mc[(dvcs_mc[\"Pstat\"]<4000) & (dvcs_mc[\"Gstat\"]<2000)]\n",
    "# dvcsFDFT_mc2 = dvcs_mc2[(dvcs_mc2[\"Pstat\"]<4000) & (dvcs_mc2[\"Gstat\"]<2000)]\n",
    "dvcsFDFD = dvcs[(dvcs[\"Pstat\"]<4000) & (dvcs[\"Gstat\"]>2000)]\n",
    "dvcsFDFD_mc = dvcs_mc[(dvcs_mc[\"Pstat\"]<4000) & (dvcs_mc[\"Gstat\"]>2000)]\n"
   ]
  },
  {
   "cell_type": "code",
   "execution_count": 7,
   "id": "suitable-induction",
   "metadata": {},
   "outputs": [],
   "source": [
    "dvcsCDFT_mc = dvcs_mc[(dvcs_mc[\"Pstat\"]>4000) & (dvcs_mc[\"Gstat\"]<2000)]\n",
    "dvcsCDFD_mc = dvcs_mc[(dvcs_mc[\"Pstat\"]>4000) & (dvcs_mc[\"Gstat\"]>2000)]\n",
    "dvcsFDFD_mc = dvcs_mc[(dvcs_mc[\"Pstat\"]<4000) & (dvcs_mc[\"Gstat\"]>2000)]"
   ]
  },
  {
   "cell_type": "code",
   "execution_count": 6,
   "id": "lesser-roulette",
   "metadata": {},
   "outputs": [],
   "source": [
    "dvcsCDFT_mc2 = dvcs_mc2[(dvcs_mc2[\"Pstat\"]>4000) & (dvcs_mc2[\"Gstat\"]<2000)]\n",
    "dvcsCDFD_mc2 = dvcs_mc2[(dvcs_mc2[\"Pstat\"]>4000) & (dvcs_mc2[\"Gstat\"]>2000)]\n",
    "dvcsFDFD_mc2 = dvcs_mc2[(dvcs_mc2[\"Pstat\"]<4000) & (dvcs_mc2[\"Gstat\"]>2000)]"
   ]
  },
  {
   "cell_type": "code",
   "execution_count": 9,
   "id": "moved-replacement",
   "metadata": {},
   "outputs": [],
   "source": [
    "degree = r\"${}^{\\circ}$\"\n",
    "GeV = \"GeV\"\n",
    "GeV2 = \"GeV\"+r\"${}^{2}$\"\n",
    "GeVc = \"GeV/c\"\n",
    "GeVc2 = \"(GeV/c)\"+r\"${}^{2}$\""
   ]
  },
  {
   "cell_type": "code",
   "execution_count": 10,
   "id": "active-september",
   "metadata": {
    "scrolled": true
   },
   "outputs": [
    {
     "data": {
      "image/png": "[encoded data removed]",
      "text/plain": [
       "<Figure size 1080x720 with 8 Axes>"
      ]
     },
     "metadata": {
      "needs_background": "light"
     },
     "output_type": "display_data"
    },
    {
     "data": {
      "text/plain": [
       "<Figure size 432x288 with 0 Axes>"
      ]
     },
     "metadata": {},
     "output_type": "display_data"
    }
   ],
   "source": [
    "varstoplot = [\"coneAngle\", \"reconGam\", \"coplanarity\", \"ME_epg\", \"MM2_epg\", \"MM2_eg\", \"MM2_ep\", \"MPt\"]\n",
    "title = [r\"$\\theta_{e'\\gamma}$\", r\"$\\theta_{\\gamma_{det.}\\gamma_{rec.}}$\", r\"$\\Delta\\phi$\" , \"ME\"+r\"${}_{epg}$\", \"MM\"+r\"${}^{2}_{epg}$\", \"MM\"+r\"${}^{2}_{eg}$\", \"MM\"+r\"${}^{2}_{ep}$\", \"MPt\"+r\"${}_{epg}$\"]\n",
    "unit = [degree, degree, degree, GeV, GeV2, GeV2, GeV2, GeVc]\n",
    "binstarts = [20, 0, 0, -0.5, -0.04, 0.1,-0.4 , 0]\n",
    "binends = [60, 1.1, 10, 1.2, 0.04, 1.7, 0.4, 0.12]\n",
    "fig, axs = plt.subplots(2, 4, figsize = (15,10))\n",
    "for yind in range(0, 2):\n",
    "\tfor xind in range(0,4):\n",
    "\t\tind = 4*yind + xind\n",
    "\t\tstart = binstarts[ind]\n",
    "\t\tend = binends[ind]\n",
    "\t\tbins = np.linspace(start, end, 101)\n",
    "# \t\taxs[yind, xind].hist(dvcsFDFD[varstoplot[ind]], bins = bins, density = True, histtype='stepfilled', facecolor='none', edgecolor='k')\n",
    "\t\taxs[yind, xind].hist(dvcsFDFD_mc[varstoplot[ind]], bins = bins, density = True, histtype='stepfilled', facecolor='none', edgecolor='r')\n",
    "\t\taxs[yind, xind].hist(dvcsFDFD_mc2[varstoplot[ind]], bins = bins, density = True, histtype='stepfilled', facecolor='none', edgecolor='b')\n",
    "\t\taxs[yind, xind].set_title(title[ind])\n",
    "\t\taxs[yind, xind].set_xlabel(title[ind]+\" [\" + unit[ind] +\"]\")\n",
    "\t\taxs[yind, xind].set_xlim([start, end])\n",
    "plt.tight_layout()\n",
    "plt.show()\n",
    "# plt.savefig(\"simComparison_1.pdf\")\n",
    "plt.clf()"
   ]
  },
  {
   "cell_type": "code",
   "execution_count": 11,
   "id": "brief-ottawa",
   "metadata": {},
   "outputs": [
    {
     "data": {
      "image/png": "[encoded data removed]",
      "text/plain": [
       "<Figure size 1080x720 with 8 Axes>"
      ]
     },
     "metadata": {
      "needs_background": "light"
     },
     "output_type": "display_data"
    },
    {
     "data": {
      "text/plain": [
       "<Figure size 432x288 with 0 Axes>"
      ]
     },
     "metadata": {},
     "output_type": "display_data"
    }
   ],
   "source": [
    "varstoplot = [\"nu\", \"W\", \"Q2\", \"xB\", \"t2\", \"phi2\", \"t1\", \"phi1\"]\n",
    "title = [r\"$\\nu$\", r\"$W$\", r\"$Q^{2}$\", r\"$x_{B}$\", r\"$-t$\"+\" from \"+r\"$\\gamma$\", r\"$\\phi_{trento}$\"+\" from \"+r\"$\\gamma$\", r\"$-t$\"+\" from \"+r\"$p$\", r\"$\\phi_{trento}$\"+\" from \"+r\"$p$\" ]\n",
    "unit = [None, None, GeVc2, None, GeV2, GeV2, GeV2, GeVc]\n",
    "binstarts = [0, 2, 0, 0, 0, 0, 0 , 0]\n",
    "binends = [10, 4, 10, 1, 4, 360, 4, 360]\n",
    "fig, axs = plt.subplots(2, 4, figsize = (15, 10))\n",
    "for xind in range(0,4):\n",
    "\tfor yind in range(0, 2):\n",
    "\t\tind =xind+4*yind\n",
    "\t\tstart = binstarts[ind]\n",
    "\t\tend = binends[ind]\n",
    "\t\tbins = np.linspace(start, end, 101)\n",
    "# \t\taxs[yind, xind].hist(dvcsFDFD[varstoplot[ind]], bins = bins, density = True, histtype='stepfilled', facecolor='none', edgecolor='k')\n",
    "\t\taxs[yind, xind].hist(dvcsFDFD_mc[varstoplot[ind]], bins = bins, density = True, histtype='stepfilled', facecolor='none', edgecolor='r')\n",
    "\t\taxs[yind, xind].hist(dvcsFDFD_mc2[varstoplot[ind]], bins = bins, density = True, histtype='stepfilled', facecolor='none', edgecolor='b')\n",
    "\t\taxs[yind, xind].set_title(title[ind])\n",
    "\t\taxs[yind, xind].set_xlim([start, end])\n",
    "\t\tif (unit[ind]):\n",
    "\t\t\taxs[yind, xind].set_xlabel(title[ind]+\" [\" + unit[ind] +\"]\")\n",
    "\t\telse:\n",
    "\t\t\taxs[yind, xind].set_xlabel(title[ind])\n",
    "plt.tight_layout()\n",
    "plt.show()\n",
    "# plt.savefig(\"simComparison_2.pdf\")\n",
    "plt.clf()"
   ]
  },
  {
   "cell_type": "code",
   "execution_count": 85,
   "id": "authentic-egypt",
   "metadata": {},
   "outputs": [
    {
     "data": {
      "image/png": "[encoded data removed]",
      "text/plain": [
       "<Figure size 1080x1080 with 9 Axes>"
      ]
     },
     "metadata": {
      "needs_background": "light"
     },
     "output_type": "display_data"
    },
    {
     "data": {
      "text/plain": [
       "<Figure size 432x288 with 0 Axes>"
      ]
     },
     "metadata": {},
     "output_type": "display_data"
    }
   ],
   "source": [
    "varstoplot = [\"Epx\", \"Epy\", \"Epz\", \"Ppx\", \"Ppy\", \"Ppz\", \"Gpx\", \"Gpy\", \"Gpz\"]\n",
    "title = [r\"$px_{e'}$\", r\"$py_{e'}$\", r\"$pz_{e'}$\", r\"$px_{p'}$\", r\"$py_{p'}$\", r\"$pz_{p'}$\", r\"$px_{\\gamma}$\", r\"$py_{\\gamma}$\", r\"$pz_{\\gamma}$\" ]\n",
    "unit = [GeVc, GeVc, GeVc2, GeVc, GeVc, GeVc, GeVc, GeVc, GeVc]\n",
    "binstarts = [-1.5, -1.5, 0, -1.2, -1.2, 0, -2, -2, 0]\n",
    "binends = [1.5, 1.5, 10, 1.2, 1.2, 2, 2, 2, 10]\n",
    "fig, axs = plt.subplots(3, 3, figsize = (15,15))\n",
    "for xind in range(0,3):\n",
    "\tfor yind in range(0, 3):\n",
    "\t\tind = xind+3*yind\n",
    "\t\tstart = binstarts[ind]\n",
    "\t\tend = binends[ind]\n",
    "\t\tbins = np.linspace(start, end, 101)\n",
    "\t\taxs[yind, xind].hist(dvcsFDFD[varstoplot[ind]], bins = bins, density = True, histtype='stepfilled', facecolor='none', edgecolor='k')\n",
    "\t\taxs[yind, xind].hist(dvcsFDFD_mc[varstoplot[ind]], bins = bins, density = True, histtype='stepfilled', facecolor='none', edgecolor='r')\n",
    "# \t\taxs[yind, xind].hist(dvcsFDFD_mc2[varstoplot[ind]], bins = bins, density = True, histtype='stepfilled', facecolor='none', edgecolor='r')\n",
    "\t\taxs[yind, xind].set_title(title[ind])\n",
    "\t\taxs[yind, xind].set_xlim([start, end])\n",
    "\t\tif (unit[ind]):\n",
    "\t\t\taxs[2-yind, xind].set_xlabel(title[ind]+\" [\" + unit[ind] +\"]\")\n",
    "\t\telse:\n",
    "\t\t\taxs[2-yind, xind].set_xlabel(title[ind])\n",
    "plt.tight_layout()\n",
    "plt.show()\n",
    "# plt.savefig(\"simComparison_3.pdf\")\n",
    "plt.clf()"
   ]
  },
  {
   "cell_type": "code",
   "execution_count": 86,
   "id": "announced-madness",
   "metadata": {},
   "outputs": [
    {
     "data": {
      "image/png": "[encoded data removed]",
      "text/plain": [
       "<Figure size 1080x1080 with 9 Axes>"
      ]
     },
     "metadata": {
      "needs_background": "light"
     },
     "output_type": "display_data"
    },
    {
     "data": {
      "text/plain": [
       "<Figure size 432x288 with 0 Axes>"
      ]
     },
     "metadata": {},
     "output_type": "display_data"
    }
   ],
   "source": [
    "varstoplot = [\"Evx\", \"Evy\", \"Evz\", \"Etheta\", \"Ptheta\", \"Gtheta\", \"Ephi\", \"Gphi\", \"Gphi\"]\n",
    "title = [r\"$vx_{e'}$\", r\"$vy_{e'}$\", r\"$vz_{e'}$\", r\"$\\theta_{e'}$\", r\"$\\theta_{p'}$\", r\"$\\theta_{\\gamma}$\", r\"$\\phi_{e'}$\", r\"$\\phi_{p'}$\", r\"$\\phi_{\\gamma}$\" ]\n",
    "unit = [\"cm\", \"cm\", \"cm\", degree, degree, degree, degree, degree, degree]\n",
    "binstarts = [-0.2, -1, -6, 0, 0, 0, -180, -180, -180]\n",
    "binends = [0.2, 1, 0, 45, 45, 45, 180, 180, 180]\n",
    "fig, axs = plt.subplots(3, 3, figsize = (15,15))\n",
    "for xind in range(0,3):\n",
    "\tfor yind in range(0, 3):\n",
    "\t\tind = xind+3*yind\n",
    "\t\tstart = binstarts[ind]\n",
    "\t\tend = binends[ind]\n",
    "\t\tbins = np.linspace(start, end, 101)\n",
    "\t\taxs[yind, xind].hist(dvcsFDFD[varstoplot[ind]], bins = bins, density = True, histtype='stepfilled', facecolor='none', edgecolor='k')\n",
    "\t\taxs[yind, xind].hist(dvcsFDFD_mc[varstoplot[ind]]+0.007, bins = bins, density = True, histtype='stepfilled', facecolor='none', edgecolor='r')\n",
    "# \t\taxs[yind, xind].hist(dvcsFDFD_mc2[varstoplot[ind]], bins = bins, density = True, histtype='stepfilled', facecolor='none', edgecolor='r')\n",
    "\t\taxs[yind, xind].set_title(title[ind])\n",
    "\t\taxs[yind, xind].set_xlim([start, end])\n",
    "\t\tif (unit[ind]):\n",
    "\t\t\taxs[yind, xind].set_xlabel(title[ind]+\" [\" + unit[ind] +\"]\")\n",
    "\t\telse:\n",
    "\t\t\taxs[yind, xind].set_xlabel(title[ind])\n",
    "plt.tight_layout()\n",
    "plt.show()\n",
    "# plt.savefig(\"simComparison_4.pdf\")\n",
    "plt.clf()"
   ]
  },
  {
   "cell_type": "code",
   "execution_count": 223,
   "id": "global-tuning",
   "metadata": {},
   "outputs": [
    {
     "name": "stdout",
     "output_type": "stream",
     "text": [
      "0\n",
      "-0.03254355\n",
      "-0.0343584\n",
      "-0.03540255\n",
      "-0.036026884\n",
      "-0.036365446\n",
      "-0.036574893\n",
      "-0.036686134\n",
      "-0.036746208\n",
      "-0.03678519\n",
      "-0.036815237\n"
     ]
    }
   ],
   "source": [
    "# mean = dvcs[\"Evy\"].mean()\n",
    "mean = 0\n",
    "asym = dvcs[(dvcs[\"Evy\"]>mean-1) & (dvcs[\"Evy\"]<mean+1)]\n",
    "print(mean)\n",
    "for i in range(0, 10):\n",
    "    mean = asym[\"Evy\"].mean()\n",
    "    asym = dvcs[(dvcs[\"Evy\"]>mean-0.3) & (dvcs[\"Evy\"]<mean+0.3)]\n",
    "    print(mean)"
   ]
  },
  {
   "cell_type": "code",
   "execution_count": 159,
   "id": "swedish-reference",
   "metadata": {},
   "outputs": [
    {
     "data": {
      "text/plain": [
       "0.01243469117209317"
      ]
     },
     "execution_count": 159,
     "metadata": {},
     "output_type": "execute_result"
    }
   ],
   "source": [
    "data, bins = np.histogram(dvcs[\"Evx\"], bins =np.linspace(-1+mean, 1+mean, 101))\n",
    "bins[np.argmax(data)]"
   ]
  },
  {
   "cell_type": "code",
   "execution_count": 88,
   "id": "synthetic-arizona",
   "metadata": {},
   "outputs": [
    {
     "data": {
      "text/plain": [
       "<AxesSubplot:>"
      ]
     },
     "execution_count": 88,
     "metadata": {},
     "output_type": "execute_result"
    },
    {
     "data": {
      "image/png": "[encoded data removed]",
      "text/plain": [
       "<Figure size 432x288 with 1 Axes>"
      ]
     },
     "metadata": {
      "needs_background": "light"
     },
     "output_type": "display_data"
    }
   ],
   "source": [
    "(dvcs_mc[\"Evx\"]).hist(bins=np.linspace(-0.1, 0.1, 201), density=True, histtype='stepfilled', facecolor='none', edgecolor='k')\n",
    "(dvcs[\"Evx\"]).hist(bins=np.linspace(-0.1, 0.1, 201), density=True, histtype='stepfilled', facecolor='none', edgecolor='r')"
   ]
  },
  {
   "cell_type": "code",
   "execution_count": 6,
   "id": "everyday-bristol",
   "metadata": {},
   "outputs": [],
   "source": [
    "#         hists.computeIfAbsent(\"/epg/corr/tmin\", h_Q2_xB).fill(xB,Q2,tmin)\n",
    "#         hists.computeIfAbsent(\"/epg/corr/tcol\", h_Q2_xB).fill(xB,Q2,tcol)\n",
    "\n",
    "#         hists.computeIfAbsent(\"/epg/corr/pro_theta_mom_xB_${xBbin}_Q2_${Q2bin}\", h_theta_mom).fill(pro.p(), Math.toDegrees(pro.theta()))\n",
    "#         hists.computeIfAbsent(\"/epg/corr/pro_phi_mom_xB_${xBbin}_Q2_${Q2bin}\", h_phi_mom).fill(pro.p(), pro_phi_convention)\n",
    "#         hists.computeIfAbsent(\"/epg/corr/pro_theta_phi_xB_${xBbin}_Q2_${Q2bin}\", h_theta_phi).fill(pro_phi_convention, Math.toDegrees(pro.theta()))\n",
    "#         hists.computeIfAbsent(\"/epg/corr/gam_phi_mom_xB_${xBbin}_Q2_${Q2bin}\", h_phi_mom).fill(gam.p(), gam_phi_convention)\n",
    "#         hists.computeIfAbsent(\"/epg/corr/gam_theta_mom_xB_${xBbin}_Q2_${Q2bin}\", h_theta_mom).fill(gam.p(), Math.toDegrees(gam.theta()))\n",
    "#         hists.computeIfAbsent(\"/epg/corr/gam_theta_phi_xB_${xBbin}_Q2_${Q2bin}\", h_theta_phi).fill(gam_phi_convention, Math.toDegrees(gam.theta()))\n",
    "\n",
    "#         hists.computeIfAbsent(\"/epg/corr/pro_theta_t_xB_${xBbin}_Q2_${Q2bin}\", h_theta_t).fill(t2, Math.toDegrees(pro.theta()))\n",
    "#         hists.computeIfAbsent(\"/epg/corr/pro_phi_t_xB_${xBbin}_Q2_${Q2bin}\", h_phi_t).fill(t2, pro_phi_convention)\n",
    "#         hists.computeIfAbsent(\"/epg/corr/pro_theta_trento_xB_${xBbin}_Q2_${Q2bin}\", h_theta_trento).fill(TrentoAng2, Math.toDegrees(pro.theta()))\n",
    "#         hists.computeIfAbsent(\"/epg/corr/pro_phi_trento_xB_${xBbin}_Q2_${Q2bin}\", h_phi_trento).fill(TrentoAng2, pro_phi_convention)\n",
    "#         hists.computeIfAbsent(\"/epg/corr/gam_theta_t_xB_${xBbin}_Q2_${Q2bin}\", h_theta_t).fill(t2, Math.toDegrees(gam.theta()))\n",
    "#         hists.computeIfAbsent(\"/epg/corr/gam_phi_t_xB_${xBbin}_Q2_${Q2bin}\", h_phi_t).fill(t2, gam_phi_convention)\n",
    "#         hists.computeIfAbsent(\"/epg/corr/gam_theta_trento_xB_${xBbin}_Q2_${Q2bin}\", h_theta_trento).fill(TrentoAng2, Math.toDegrees(gam.theta()))\n",
    "#         hists.computeIfAbsent(\"/epg/corr/gam_phi_trento_xB_${xBbin}_Q2_${Q2bin}\", h_phi_trento).fill(TrentoAng2, gam_phi_convention)\n",
    "\n",
    "#         hists.computeIfAbsent(\"/epg/corr/t_t\", h_t_t).fill(t, t2)\n",
    "#         hists.computeIfAbsent(\"/epg/corr/trento_trento\", h_trento_trento).fill(TrentoAng, TrentoAng2)"
   ]
  },
  {
   "cell_type": "code",
   "execution_count": 77,
   "id": "attached-medicare",
   "metadata": {},
   "outputs": [],
   "source": [
    "dvcs[\"neweSector\"] = getPhi(ele)+80\n",
    "dvcs[\"neweSector\"] = dvcs[\"neweSector\"]//60\n",
    "dvcs[\"neweSector\"] = np.where(dvcs[\"neweSector\"]<=0, dvcs[\"neweSector\"]+6, dvcs[\"neweSector\"])"
   ]
  },
  {
   "cell_type": "code",
   "execution_count": 35,
   "id": "discrete-beatles",
   "metadata": {},
   "outputs": [
    {
     "name": "stdout",
     "output_type": "stream",
     "text": [
      "On event 0.0\n"
     ]
    }
   ],
   "source": [
    "fname = \"/Users/sangbaek/Dropbox (MIT)/data/dvcsgen.dat\"\n",
    "epgLund = epgFromLund(fname, 10)\n"
   ]
  },
  {
   "cell_type": "code",
   "execution_count": 173,
   "id": "artificial-speech",
   "metadata": {},
   "outputs": [],
   "source": [
    "import importlib\n",
    "import utils\n",
    "importlib.reload(utils.epg)\n",
    "from utils.epg import *\n"
   ]
  },
  {
   "cell_type": "code",
   "execution_count": 50,
   "id": "celtic-shadow",
   "metadata": {},
   "outputs": [],
   "source": [
    "dvcsLund = epgLund.getDVCS()"
   ]
  },
  {
   "cell_type": "code",
   "execution_count": 40,
   "id": "handy-mainstream",
   "metadata": {},
   "outputs": [],
   "source": [
    "xB_edges = [0.1, 0.15, 0.2, 0.25, 0.3, 0.35, 0.4,\\\n",
    "\t\t\t0.45, 0.5, 0.55, 0.6, 0.7, 0.85, 1]\n",
    "Q2_edges = [1.0, 1.5, 2.0, 2.5, 3.0, 3.5, 4.0,\\\n",
    "\t\t\t4.5, 5.0, 5.5, 6.0, 7.0, 8.0, 9.0, 12.]\n",
    "t_edges = [0.09, 0.15, 0.20, 0.3, 0.4, 0.60, 1.00, 1.5, 2.0]\n",
    "phi_edges = np.linspace(0, 360, 31)"
   ]
  },
  {
   "cell_type": "code",
   "execution_count": 37,
   "id": "future-chile",
   "metadata": {},
   "outputs": [],
   "source": [
    "fname_gen = \"~/Dropbox (MIT)/data/MC/nonradVzCorrInbMC.root\"\n",
    "epg_gen = epgFromROOT(fname_gen, mc=True)\n",
    "dvcs_gen = epg_gen.getDVCS()"
   ]
  },
  {
   "cell_type": "code",
   "execution_count": 133,
   "id": "scenic-optics",
   "metadata": {},
   "outputs": [],
   "source": [
    "dvcs5038 = dvcsFDFD[dvcsFDFD[\"RunNum\"]<5200]\n",
    "dvcs5419 = dvcsFDFD[dvcsFDFD[\"RunNum\"]>5300]"
   ]
  },
  {
   "cell_type": "code",
   "execution_count": 33,
   "id": "hybrid-quilt",
   "metadata": {},
   "outputs": [
    {
     "data": {
      "text/plain": [
       "array([5032, 5036, 5038, 5039, 5040, 5041, 5043, 5045, 5046, 5047, 5051,\n",
       "       5052, 5053, 5116, 5117, 5119, 5120, 5124, 5125, 5126, 5127, 5128,\n",
       "       5129, 5130, 5137, 5138, 5139, 5153, 5158, 5159, 5160, 5162, 5163,\n",
       "       5164, 5165, 5166, 5167, 5168, 5169, 5180, 5181, 5182, 5183, 5189,\n",
       "       5190, 5191, 5193, 5194, 5195, 5196, 5197, 5198, 5199, 5200, 5201,\n",
       "       5202, 5203, 5204, 5205, 5206, 5208, 5211, 5212, 5215, 5216, 5219,\n",
       "       5220, 5221, 5222, 5223, 5225, 5229, 5230, 5231, 5232, 5233, 5234,\n",
       "       5235, 5237, 5238, 5239, 5247, 5248, 5249, 5250, 5252, 5253, 5257,\n",
       "       5258, 5259, 5261, 5262, 5300, 5301, 5302, 5303, 5304, 5305, 5306,\n",
       "       5307, 5310, 5311, 5315, 5316, 5317, 5318, 5319, 5320, 5323, 5324,\n",
       "       5325, 5333, 5334, 5335, 5336, 5339, 5340, 5341, 5342, 5343, 5344,\n",
       "       5345, 5346, 5347, 5349, 5351, 5354, 5355, 5356, 5357, 5358, 5359,\n",
       "       5360, 5361, 5362, 5366, 5367, 5368, 5369, 5370, 5371, 5372, 5373,\n",
       "       5374, 5375, 5376, 5377, 5378, 5379, 5380, 5381, 5382, 5383, 5386,\n",
       "       5390, 5391, 5392, 5393, 5394, 5398, 5399, 5400, 5401, 5402, 5403,\n",
       "       5404, 5406, 5407, 5418, 5419])"
      ]
     },
     "execution_count": 33,
     "metadata": {},
     "output_type": "execute_result"
    }
   ],
   "source": [
    "dvcs[\"RunNum\"].unique()"
   ]
  },
  {
   "cell_type": "code",
   "execution_count": 179,
   "id": "weird-schedule",
   "metadata": {},
   "outputs": [
    {
     "data": {
      "image/png": "[encoded data removed]",
      "text/plain": [
       "<Figure size 432x288 with 1 Axes>"
      ]
     },
     "metadata": {
      "needs_background": "light"
     },
     "output_type": "display_data"
    }
   ],
   "source": [
    "cmap = copy(plt.cm.get_cmap(\"jet\"))\n",
    "# plt.hist2d(dvcs_mc[\"Evx\"], dvcs_mc[\"Evy\"], bins = [np.linspace(-0.05, 0.05, 101), np.linspace(-0.05, 0.05, 101)], cmin=1, cmap=cmap)\n",
    "plt.hist2d(dvcs_gen[\"MCEvx\"], dvcs_gen[\"MCEvy\"], bins = [np.linspace(-0.05, 0.05, 101), np.linspace(-0.05, 0.05, 101)], cmin=1, cmap=cmap)\n",
    "# plt.hist2d(dvcsFDFD[\"Evx\"], dvcsFDFD[\"Evy\"], bins = [np.linspace(-0.2, 0.2, 101), np.linspace(-0.2, 0.2, 101)], cmin=1, cmap=cmap)\n",
    "# plt.hist2d(dvcs5038[\"Evx\"], dvcs5038[\"Evy\"], bins = [np.linspace(-0.1, 0.1, 101), np.linspace(-0.05, -0.03, 101)], cmin=1, cmap = cmap)\n",
    "# plt.hist2d(dvcs5419[\"Evx\"], dvcs5419[\"Evy\"], bins = [np.linspace(-0.2, 0.2, 16), np.linspace(-0.2, 0.2, 16)], cmin=1, cmap = cmap)\n",
    "# plt.hist2d(dvcsoutb[\"Evx\"], dvcsoutb[\"Evy\"], bins = [np.linspace(0.032, 0.042, 11), np.linspace(-0.03, -0.02, 11)], cmin=1, cmap = cmap)\n",
    "plt.xlabel(\"electron vx (cm)\")\n",
    "plt.ylabel(\"electron vy (cm)\")\n",
    "# plt.hist(np.sqrt(dvcs_gen[\"Evx\"]**2+(dvcs_gen[\"Evy\"]+0.05)**2))\n",
    "plt.tight_layout()\n",
    "plt.show()\n",
    "# plt.savefig(\"vyvxover5300.pdf\")\n",
    "# plt.savefig(\"vyvxoutb.pdf\")"
   ]
  },
  {
   "cell_type": "code",
   "execution_count": 172,
   "id": "herbal-belize",
   "metadata": {},
   "outputs": [
    {
     "data": {
      "text/html": [
       "<div>\n",
       "<style scoped>\n",
       "    .dataframe tbody tr th:only-of-type {\n",
       "        vertical-align: middle;\n",
       "    }\n",
       "\n",
       "    .dataframe tbody tr th {\n",
       "        vertical-align: top;\n",
       "    }\n",
       "\n",
       "    .dataframe thead th {\n",
       "        text-align: right;\n",
       "    }\n",
       "</style>\n",
       "<table border=\"1\" class=\"dataframe\">\n",
       "  <thead>\n",
       "    <tr style=\"text-align: right;\">\n",
       "      <th></th>\n",
       "      <th>MCEpx</th>\n",
       "      <th>MCEpy</th>\n",
       "      <th>MCEpz</th>\n",
       "      <th>MCEvz</th>\n",
       "      <th>MCPpx</th>\n",
       "      <th>MCPpy</th>\n",
       "      <th>MCPpz</th>\n",
       "      <th>event</th>\n",
       "      <th>MCGpx</th>\n",
       "      <th>MCGpy</th>\n",
       "      <th>MCGpz</th>\n",
       "    </tr>\n",
       "  </thead>\n",
       "  <tbody>\n",
       "    <tr>\n",
       "      <th>0</th>\n",
       "      <td>0.7216</td>\n",
       "      <td>-0.3870</td>\n",
       "      <td>1.4744</td>\n",
       "      <td>-3.8762</td>\n",
       "      <td>-0.3764</td>\n",
       "      <td>0.0857</td>\n",
       "      <td>0.3635</td>\n",
       "      <td>0</td>\n",
       "      <td>-0.3452</td>\n",
       "      <td>0.3013</td>\n",
       "      <td>8.7661</td>\n",
       "    </tr>\n",
       "    <tr>\n",
       "      <th>1</th>\n",
       "      <td>-0.5292</td>\n",
       "      <td>0.6878</td>\n",
       "      <td>5.1308</td>\n",
       "      <td>-3.3738</td>\n",
       "      <td>0.1884</td>\n",
       "      <td>0.2855</td>\n",
       "      <td>0.2705</td>\n",
       "      <td>1</td>\n",
       "      <td>0.3409</td>\n",
       "      <td>-0.9733</td>\n",
       "      <td>5.2027</td>\n",
       "    </tr>\n",
       "    <tr>\n",
       "      <th>2</th>\n",
       "      <td>0.6453</td>\n",
       "      <td>-0.8665</td>\n",
       "      <td>6.5992</td>\n",
       "      <td>-0.7538</td>\n",
       "      <td>-0.0181</td>\n",
       "      <td>0.3365</td>\n",
       "      <td>0.2723</td>\n",
       "      <td>2</td>\n",
       "      <td>-0.6272</td>\n",
       "      <td>0.5300</td>\n",
       "      <td>3.7324</td>\n",
       "    </tr>\n",
       "    <tr>\n",
       "      <th>3</th>\n",
       "      <td>-0.6574</td>\n",
       "      <td>-0.1302</td>\n",
       "      <td>2.8128</td>\n",
       "      <td>-2.4003</td>\n",
       "      <td>0.3034</td>\n",
       "      <td>0.2338</td>\n",
       "      <td>0.1784</td>\n",
       "      <td>3</td>\n",
       "      <td>0.3540</td>\n",
       "      <td>-0.1037</td>\n",
       "      <td>7.6128</td>\n",
       "    </tr>\n",
       "    <tr>\n",
       "      <th>4</th>\n",
       "      <td>0.4691</td>\n",
       "      <td>0.1015</td>\n",
       "      <td>1.0760</td>\n",
       "      <td>-1.5983</td>\n",
       "      <td>-0.2358</td>\n",
       "      <td>0.3656</td>\n",
       "      <td>0.2404</td>\n",
       "      <td>4</td>\n",
       "      <td>-0.2333</td>\n",
       "      <td>-0.4670</td>\n",
       "      <td>9.2876</td>\n",
       "    </tr>\n",
       "    <tr>\n",
       "      <th>...</th>\n",
       "      <td>...</td>\n",
       "      <td>...</td>\n",
       "      <td>...</td>\n",
       "      <td>...</td>\n",
       "      <td>...</td>\n",
       "      <td>...</td>\n",
       "      <td>...</td>\n",
       "      <td>...</td>\n",
       "      <td>...</td>\n",
       "      <td>...</td>\n",
       "      <td>...</td>\n",
       "    </tr>\n",
       "    <tr>\n",
       "      <th>140806</th>\n",
       "      <td>0.7191</td>\n",
       "      <td>0.1190</td>\n",
       "      <td>2.3531</td>\n",
       "      <td>-4.6102</td>\n",
       "      <td>-0.3605</td>\n",
       "      <td>0.0869</td>\n",
       "      <td>0.2140</td>\n",
       "      <td>140806</td>\n",
       "      <td>-0.3587</td>\n",
       "      <td>-0.2059</td>\n",
       "      <td>8.0369</td>\n",
       "    </tr>\n",
       "    <tr>\n",
       "      <th>140807</th>\n",
       "      <td>-0.4124</td>\n",
       "      <td>-0.8290</td>\n",
       "      <td>3.8288</td>\n",
       "      <td>-4.0630</td>\n",
       "      <td>0.0429</td>\n",
       "      <td>0.7186</td>\n",
       "      <td>0.4488</td>\n",
       "      <td>140807</td>\n",
       "      <td>0.3695</td>\n",
       "      <td>0.1104</td>\n",
       "      <td>6.3264</td>\n",
       "    </tr>\n",
       "    <tr>\n",
       "      <th>140808</th>\n",
       "      <td>0.7446</td>\n",
       "      <td>-0.5016</td>\n",
       "      <td>3.3305</td>\n",
       "      <td>-1.6130</td>\n",
       "      <td>-0.8899</td>\n",
       "      <td>0.2187</td>\n",
       "      <td>0.6536</td>\n",
       "      <td>140808</td>\n",
       "      <td>0.1452</td>\n",
       "      <td>0.2830</td>\n",
       "      <td>6.6199</td>\n",
       "    </tr>\n",
       "    <tr>\n",
       "      <th>140809</th>\n",
       "      <td>-0.0283</td>\n",
       "      <td>-0.6387</td>\n",
       "      <td>1.8227</td>\n",
       "      <td>-5.1748</td>\n",
       "      <td>-0.3441</td>\n",
       "      <td>0.1570</td>\n",
       "      <td>0.2296</td>\n",
       "      <td>140809</td>\n",
       "      <td>0.3724</td>\n",
       "      <td>0.4817</td>\n",
       "      <td>8.5517</td>\n",
       "    </tr>\n",
       "    <tr>\n",
       "      <th>140810</th>\n",
       "      <td>-1.0362</td>\n",
       "      <td>0.9595</td>\n",
       "      <td>4.1061</td>\n",
       "      <td>-3.6931</td>\n",
       "      <td>0.7520</td>\n",
       "      <td>-0.2893</td>\n",
       "      <td>0.8387</td>\n",
       "      <td>140810</td>\n",
       "      <td>0.2842</td>\n",
       "      <td>-0.6701</td>\n",
       "      <td>5.6591</td>\n",
       "    </tr>\n",
       "  </tbody>\n",
       "</table>\n",
       "<p>140811 rows × 11 columns</p>\n",
       "</div>"
      ],
      "text/plain": [
       "         MCEpx   MCEpy   MCEpz   MCEvz   MCPpx   MCPpy   MCPpz   event  \\\n",
       "0       0.7216 -0.3870  1.4744 -3.8762 -0.3764  0.0857  0.3635       0   \n",
       "1      -0.5292  0.6878  5.1308 -3.3738  0.1884  0.2855  0.2705       1   \n",
       "2       0.6453 -0.8665  6.5992 -0.7538 -0.0181  0.3365  0.2723       2   \n",
       "3      -0.6574 -0.1302  2.8128 -2.4003  0.3034  0.2338  0.1784       3   \n",
       "4       0.4691  0.1015  1.0760 -1.5983 -0.2358  0.3656  0.2404       4   \n",
       "...        ...     ...     ...     ...     ...     ...     ...     ...   \n",
       "140806  0.7191  0.1190  2.3531 -4.6102 -0.3605  0.0869  0.2140  140806   \n",
       "140807 -0.4124 -0.8290  3.8288 -4.0630  0.0429  0.7186  0.4488  140807   \n",
       "140808  0.7446 -0.5016  3.3305 -1.6130 -0.8899  0.2187  0.6536  140808   \n",
       "140809 -0.0283 -0.6387  1.8227 -5.1748 -0.3441  0.1570  0.2296  140809   \n",
       "140810 -1.0362  0.9595  4.1061 -3.6931  0.7520 -0.2893  0.8387  140810   \n",
       "\n",
       "         MCGpx   MCGpy   MCGpz  \n",
       "0      -0.3452  0.3013  8.7661  \n",
       "1       0.3409 -0.9733  5.2027  \n",
       "2      -0.6272  0.5300  3.7324  \n",
       "3       0.3540 -0.1037  7.6128  \n",
       "4      -0.2333 -0.4670  9.2876  \n",
       "...        ...     ...     ...  \n",
       "140806 -0.3587 -0.2059  8.0369  \n",
       "140807  0.3695  0.1104  6.3264  \n",
       "140808  0.1452  0.2830  6.6199  \n",
       "140809  0.3724  0.4817  8.5517  \n",
       "140810  0.2842 -0.6701  5.6591  \n",
       "\n",
       "[140811 rows x 11 columns]"
      ]
     },
     "execution_count": 172,
     "metadata": {},
     "output_type": "execute_result"
    }
   ],
   "source": [
    "dvcs_gen"
   ]
  },
  {
   "cell_type": "code",
   "execution_count": 76,
   "id": "reduced-begin",
   "metadata": {},
   "outputs": [
    {
     "data": {
      "text/plain": [
       "<AxesSubplot:>"
      ]
     },
     "execution_count": 76,
     "metadata": {},
     "output_type": "execute_result"
    },
    {
     "data": {
      "image/png": "[encoded data removed]",
      "text/plain": [
       "<Figure size 432x288 with 1 Axes>"
      ]
     },
     "metadata": {
      "needs_background": "light"
     },
     "output_type": "display_data"
    }
   ],
   "source": [
    "dvcsoutb[\"Evy\"].hist(bins=np.linspace(-0.25, 0.25, 101))"
   ]
  },
  {
   "cell_type": "code",
   "execution_count": 80,
   "id": "smart-compromise",
   "metadata": {},
   "outputs": [],
   "source": [
    "import uproot\n",
    "file = uproot.open(\"~/Dropbox (MIT)/data/dvcs_inb.root\")\n",
    "tree = file[\"T\"]\n",
    "df_ele = pd.DataFrame()\n",
    "RunNum = tree[\"RunNum\"].array(library=\"pd\", entry_stop=10)"
   ]
  },
  {
   "cell_type": "code",
   "execution_count": 81,
   "id": "spatial-bubble",
   "metadata": {},
   "outputs": [
    {
     "data": {
      "text/plain": [
       "0    5032\n",
       "1    5032\n",
       "2    5032\n",
       "3    5032\n",
       "4    5032\n",
       "5    5032\n",
       "6    5032\n",
       "7    5032\n",
       "8    5032\n",
       "9    5032\n",
       "dtype: int64"
      ]
     },
     "execution_count": 81,
     "metadata": {},
     "output_type": "execute_result"
    }
   ],
   "source": [
    "RunNum"
   ]
  },
  {
   "cell_type": "code",
   "execution_count": 806,
   "id": "liked-terminal",
   "metadata": {},
   "outputs": [
    {
     "data": {
      "image/png": "[encoded data removed]",
      "text/plain": [
       "<Figure size 432x288 with 1 Axes>"
      ]
     },
     "metadata": {
      "needs_background": "light"
     },
     "output_type": "display_data"
    }
   ],
   "source": [
    "fig, ax = plt.subplots()\n",
    "dvpi0CD[\"MM2_egg\"].hist(bins=np.linspace(0.5, 1.5, 101), density=True, histtype='stepfilled', facecolor='none', edgecolor='b', ax = ax)\n",
    "dvpi0FD[\"MM2_egg\"].hist(bins=np.linspace(0.5, 1.5, 101), density=True, histtype='stepfilled', facecolor='none', edgecolor='r', ax = ax)\n",
    "ax.set_xlabel(\"MM\"+r\"${}^{2}_{egg}$\"+\" [GeV\"+r\"${}^{2}$\"+\"]\")\n",
    "ax.set_xlim([0.5, 1.5])\n",
    "# ax.set_ylim([0, 2.0])\n",
    "# dvpi0CD[\"ME_epgg\"].hist(bins=np.linspace(-0.4, 0.4, 101), density=True, histtype='stepfilled', facecolor='none', edgecolor='b', ax = ax)\n",
    "# dvpi0FD[\"ME_epgg\"].hist(bins=np.linspace(-0.4, 0.4, 101), density=True, histtype='stepfilled', facecolor='none', edgecolor='r', ax = ax)\n",
    "# ax.set_xlabel(\"ME\"+r\"${}_{epgg}$\"+\" [GeV]\")\n",
    "# ax.set_xlim([-.4, .4])\n",
    "plt.show()\n",
    "# dvcsCD[\"ME_epg\"].hist(bins=np.linspace(-0.4, 0.4, 101), density=True, histtype='stepfilled', facecolor='none', edgecolor='b')\n",
    "# dvcsFD[\"ME_epg\"].hist(bins=np.linspace(-0.4, 0.4, 101), density=True, histtype='stepfilled', facecolor='none', edgecolor='g')"
   ]
  },
  {
   "cell_type": "code",
   "execution_count": 158,
   "id": "primary-resort",
   "metadata": {},
   "outputs": [],
   "source": [
    "dvcs_data = dvcsFDFD[(dvcsFDFD[\"xB\"]>0.3)&(dvcsFDFD[\"xB\"]<0.35)&(dvcsFDFD[\"Q2\"]>3)&(dvcsFDFD[\"Q2\"]<3.5)&(dvcsFDFD[\"t2\"]>0.4)&(dvcsFDFD[\"t2\"]<0.6)]\n",
    "dvcs_rec = dvcsFDFD_mc[(dvcsFDFD_mc[\"xB\"]>0.3)&(dvcsFDFD_mc[\"xB\"]<0.35)&(dvcsFDFD_mc[\"Q2\"]>3)&(dvcsFDFD_mc[\"Q2\"]<3.5)&(dvcsFDFD_mc[\"t2\"]>0.4)&(dvcsFDFD_mc[\"t2\"]<0.6)]\n",
    "dvcs_generated = dvcs_gen[(dvcs_gen[\"xB\"]>0.3)&(dvcs_gen[\"xB\"]<0.35)&(dvcs_gen[\"Q2\"]>3)&(dvcs_gen[\"Q2\"]<3.5)&(dvcs_gen[\"t2\"]>0.4)&(dvcs_gen[\"t2\"]<0.6)]"
   ]
  },
  {
   "cell_type": "code",
   "execution_count": 159,
   "id": "considerable-rebecca",
   "metadata": {},
   "outputs": [],
   "source": [
    "phi_data = dvcs_data[\"phi2\"]\n",
    "phi_rec = dvcs_rec[\"phi2\"]\n",
    "phi_gen = dvcs_gen[\"phi2\"]"
   ]
  },
  {
   "cell_type": "code",
   "execution_count": 160,
   "id": "colonial-bracelet",
   "metadata": {},
   "outputs": [],
   "source": [
    "phi_edges = np.linspace(0,360, 31)\n",
    "phiData_entries, bins = np.histogram(phi_data, bins=phi_edges)\n",
    "phiRec_entries, bins = np.histogram(phi_rec, bins=phi_edges)\n",
    "phiGen_entries, bins = np.histogram(phi_gen, bins=phi_edges)\n",
    "binscenters = np.array([0.5 * (bins[i] + bins[i + 1])\n",
    "                        for i in range(len(bins) - 1)])\n"
   ]
  },
  {
   "cell_type": "code",
   "execution_count": 161,
   "id": "addressed-pasta",
   "metadata": {},
   "outputs": [
    {
     "data": {
      "text/plain": [
       "array([272634, 192936, 142105, 113644,  92937,  77756,  67934,  60396,\n",
       "        54463,  49953,  45866,  43182,  40964,  40117,  39343,  39130,\n",
       "        39547,  41083,  43210,  46082,  49784,  54396,  60850,  68212,\n",
       "        78629,  92680, 113286, 142815, 193620, 272038])"
      ]
     },
     "execution_count": 161,
     "metadata": {},
     "output_type": "execute_result"
    }
   ],
   "source": [
    "phiGen_entries"
   ]
  },
  {
   "cell_type": "code",
   "execution_count": 162,
   "id": "charged-badge",
   "metadata": {},
   "outputs": [
    {
     "data": {
      "image/png": "[encoded data removed]",
      "text/plain": [
       "<Figure size 1080x720 with 6 Axes>"
      ]
     },
     "metadata": {
      "needs_background": "light"
     },
     "output_type": "display_data"
    }
   ],
   "source": [
    "fig, axs = plt.subplots(2, 3, figsize = (15,10))\n",
    "axs[0,0].hist(phi_data, bins= phi_edges, histtype='stepfilled', facecolor='none', edgecolor='b')\n",
    "axs[0,0].set_title(\"Raw yields, Data\")\n",
    "axs[0,1].hist(phi_rec, bins= phi_edges, histtype='stepfilled', facecolor='none', edgecolor='b')\n",
    "axs[0,1].set_title(\"Reconstructed\")\n",
    "axs[0,2].hist(phi_gen, bins= phi_edges, histtype='stepfilled', facecolor='none', edgecolor='b')\n",
    "axs[0,2].set_title(\"Generated\")\n",
    "acc = phiRec_entries/phiGen_entries\n",
    "axs[1,0].step(binscenters, phiRec_entries/phiGen_entries, where='mid',color='b', linewidth=1)\n",
    "axs[1,0].bar(binscenters, phiRec_entries/phiGen_entries, width=np.diff(bins), color = 'w', facecolor='w')\n",
    "axs[1,0].set_title(\"Acceptance\")\n",
    "accCorrectedData = acc\n",
    "for ind, val in enumerate(acc):\n",
    "    if val ==0:\n",
    "        accCorrectedData[ind] = 0\n",
    "    else:\n",
    "        accCorrectedData[ind] = phiData_entries[ind]/val\n",
    "axs[1,1].step(binscenters, accCorrectedData, where='mid',color='b', linewidth=1)\n",
    "axs[1,1].bar(binscenters, accCorrectedData, width=np.diff(bins), color = 'w', facecolor='w')\n",
    "axs[1,1].set_title(\"Acc. corrected yields\")\n",
    "axs[1,2].step(binscenters, accCorrectedData/56.5/0.05/0.5/0.2/(np.pi*2/30)/10**6, where='mid',color='b', linewidth=1)\n",
    "axs[1,2].bar(binscenters, accCorrectedData/56.5/0.05/0.5/0.2/(np.pi*2/30)/10**6, width=np.diff(bins), color = 'w', facecolor='w')\n",
    "axs[1,2].set_title(\"differential cross sections\")\n",
    "\n",
    "for ax in axs.reshape(6,):\n",
    "    ax.set_xlim([0, 360])\n",
    "    ax.set_xticks(np.linspace(0, 360, 5))\n",
    "    ax.set_xlabel(\"$\\phi$\"+\" [\"+r\"${}^{\\circ}$\"+\"]\")\n",
    "plt.tight_layout()\n",
    "plt.savefig(\"onebin.pdf\")\n",
    "# for xind in range(0,3):\n",
    "# \tfor yind in range(0, 3):\n",
    "# \t\tind = xind+3*(2-yind)\n",
    "# \t\tstart = binstarts[ind]\n",
    "# \t\tend = binends[ind]\n",
    "# \t\tbins = np.linspace(start, end, 101)\n",
    "# \t\taxs[2-yind, xind].hist(dvcsFDFD[varstoplot[ind]], bins = bins, density = True, histtype='stepfilled', facecolor='none', edgecolor='k')\n",
    "# \t\taxs[2-yind, xind].hist(dvcsFDFD_mc[varstoplot[ind]], bins = bins, density = True, histtype='stepfilled', facecolor='none', edgecolor='r')\n",
    "# # \t\taxs[2-yind, xind].hist(dvcsFDFD_mc2[varstoplot[ind]], bins = bins, density = True, histtype='stepfilled', facecolor='none', edgecolor='r')\n",
    "# \t\taxs[2-yind, xind].set_title(title[ind])\n",
    "# \t\taxs[2-yind, xind].set_xlim([start, end])\n",
    "# \t\tif (unit[ind]):\n",
    "# \t\t\taxs[2-yind, xind].set_xlabel(title[ind]+\" [\" + unit[ind] +\"]\")\n",
    "# \t\telse:\n",
    "# \t\t\taxs[2-yind, xind].set_xlabel(title[ind])\n",
    "# plt.tight_layout()\n",
    "# plt.savefig(\"simComparison_3.pdf\")\n",
    "# plt.clf()"
   ]
  },
  {
   "cell_type": "code",
   "execution_count": 117,
   "id": "unlikely-arrangement",
   "metadata": {},
   "outputs": [
    {
     "data": {
      "text/plain": [
       "array([0.00000000e+00, 0.00000000e+00, 0.00000000e+00, 0.00000000e+00,\n",
       "       0.00000000e+00, 0.00000000e+00, 1.47201696e-05, 9.93443274e-05,\n",
       "       2.20333070e-04, 3.80357536e-04, 6.75881917e-04, 7.41049511e-04,\n",
       "       9.03232106e-04, 5.48395942e-04, 6.10019571e-04, 8.17786864e-04,\n",
       "       8.09163780e-04, 5.11160334e-04, 4.62855820e-04, 6.07612517e-04,\n",
       "       4.01735497e-04, 2.02220752e-04, 3.28677075e-05, 1.46601771e-05,\n",
       "       0.00000000e+00, 0.00000000e+00, 0.00000000e+00, 0.00000000e+00,\n",
       "       0.00000000e+00, 0.00000000e+00])"
      ]
     },
     "execution_count": 117,
     "metadata": {},
     "output_type": "execute_result"
    }
   ],
   "source": [
    "acc"
   ]
  },
  {
   "cell_type": "code",
   "execution_count": 122,
   "id": "large-checklist",
   "metadata": {},
   "outputs": [],
   "source": []
  },
  {
   "cell_type": "code",
   "execution_count": 166,
   "id": "alpha-nicaragua",
   "metadata": {},
   "outputs": [
    {
     "data": {
      "text/plain": [
       "17335"
      ]
     },
     "execution_count": 166,
     "metadata": {},
     "output_type": "execute_result"
    }
   ],
   "source": [
    "len(dvcsFDFD_mc)"
   ]
  },
  {
   "cell_type": "code",
   "execution_count": 165,
   "id": "biblical-boston",
   "metadata": {},
   "outputs": [
    {
     "data": {
      "text/html": [
       "<div>\n",
       "<style scoped>\n",
       "    .dataframe tbody tr th:only-of-type {\n",
       "        vertical-align: middle;\n",
       "    }\n",
       "\n",
       "    .dataframe tbody tr th {\n",
       "        vertical-align: top;\n",
       "    }\n",
       "\n",
       "    .dataframe thead th {\n",
       "        text-align: right;\n",
       "    }\n",
       "</style>\n",
       "<table border=\"1\" class=\"dataframe\">\n",
       "  <thead>\n",
       "    <tr style=\"text-align: right;\">\n",
       "      <th></th>\n",
       "      <th>Epx</th>\n",
       "      <th>Epy</th>\n",
       "      <th>Epz</th>\n",
       "      <th>Evx</th>\n",
       "      <th>Evy</th>\n",
       "      <th>Evz</th>\n",
       "      <th>Esector</th>\n",
       "      <th>event</th>\n",
       "      <th>Ppx</th>\n",
       "      <th>Ppy</th>\n",
       "      <th>...</th>\n",
       "      <th>MPt</th>\n",
       "      <th>coneAngle</th>\n",
       "      <th>reconGam</th>\n",
       "      <th>coplanarity</th>\n",
       "      <th>Etheta</th>\n",
       "      <th>Ephi</th>\n",
       "      <th>Ptheta</th>\n",
       "      <th>Pphi</th>\n",
       "      <th>Gtheta</th>\n",
       "      <th>Gphi</th>\n",
       "    </tr>\n",
       "  </thead>\n",
       "  <tbody>\n",
       "    <tr>\n",
       "      <th>3642</th>\n",
       "      <td>-0.803068</td>\n",
       "      <td>0.898445</td>\n",
       "      <td>4.527838</td>\n",
       "      <td>0.840016</td>\n",
       "      <td>0.737281</td>\n",
       "      <td>-1.415328</td>\n",
       "      <td>3</td>\n",
       "      <td>2961</td>\n",
       "      <td>-0.366098</td>\n",
       "      <td>0.143577</td>\n",
       "      <td>...</td>\n",
       "      <td>0.036885</td>\n",
       "      <td>31.380072</td>\n",
       "      <td>0.563000</td>\n",
       "      <td>4.874857</td>\n",
       "      <td>14.903261</td>\n",
       "      <td>131.791693</td>\n",
       "      <td>31.467299</td>\n",
       "      <td>158.585778</td>\n",
       "      <td>16.510022</td>\n",
       "      <td>-42.998230</td>\n",
       "    </tr>\n",
       "    <tr>\n",
       "      <th>5093</th>\n",
       "      <td>0.533054</td>\n",
       "      <td>-1.160346</td>\n",
       "      <td>5.320735</td>\n",
       "      <td>0.106649</td>\n",
       "      <td>0.064674</td>\n",
       "      <td>-2.754504</td>\n",
       "      <td>6</td>\n",
       "      <td>4153</td>\n",
       "      <td>-0.026764</td>\n",
       "      <td>-0.274055</td>\n",
       "      <td>...</td>\n",
       "      <td>0.028270</td>\n",
       "      <td>32.060719</td>\n",
       "      <td>0.528042</td>\n",
       "      <td>2.628233</td>\n",
       "      <td>13.495262</td>\n",
       "      <td>-65.326322</td>\n",
       "      <td>23.841902</td>\n",
       "      <td>-95.577753</td>\n",
       "      <td>18.594801</td>\n",
       "      <td>109.773565</td>\n",
       "    </tr>\n",
       "    <tr>\n",
       "      <th>5827</th>\n",
       "      <td>-1.202346</td>\n",
       "      <td>0.123422</td>\n",
       "      <td>4.532919</td>\n",
       "      <td>0.028675</td>\n",
       "      <td>0.183802</td>\n",
       "      <td>-2.732894</td>\n",
       "      <td>4</td>\n",
       "      <td>4747</td>\n",
       "      <td>-0.324842</td>\n",
       "      <td>-0.204003</td>\n",
       "      <td>...</td>\n",
       "      <td>0.025210</td>\n",
       "      <td>30.691710</td>\n",
       "      <td>0.296962</td>\n",
       "      <td>2.087613</td>\n",
       "      <td>14.930064</td>\n",
       "      <td>174.139056</td>\n",
       "      <td>30.951039</td>\n",
       "      <td>-147.870946</td>\n",
       "      <td>15.877336</td>\n",
       "      <td>3.957460</td>\n",
       "    </tr>\n",
       "    <tr>\n",
       "      <th>7363</th>\n",
       "      <td>-1.258730</td>\n",
       "      <td>0.132540</td>\n",
       "      <td>5.577965</td>\n",
       "      <td>0.008698</td>\n",
       "      <td>0.020701</td>\n",
       "      <td>-3.461818</td>\n",
       "      <td>4</td>\n",
       "      <td>5990</td>\n",
       "      <td>-0.257837</td>\n",
       "      <td>0.224891</td>\n",
       "      <td>...</td>\n",
       "      <td>0.010595</td>\n",
       "      <td>32.356726</td>\n",
       "      <td>0.102145</td>\n",
       "      <td>0.732605</td>\n",
       "      <td>12.784431</td>\n",
       "      <td>173.989119</td>\n",
       "      <td>26.682166</td>\n",
       "      <td>138.904258</td>\n",
       "      <td>19.638617</td>\n",
       "      <td>-13.414743</td>\n",
       "    </tr>\n",
       "    <tr>\n",
       "      <th>8518</th>\n",
       "      <td>-0.679849</td>\n",
       "      <td>-1.035289</td>\n",
       "      <td>4.748412</td>\n",
       "      <td>0.764455</td>\n",
       "      <td>-0.483861</td>\n",
       "      <td>-3.581278</td>\n",
       "      <td>5</td>\n",
       "      <td>6919</td>\n",
       "      <td>0.300212</td>\n",
       "      <td>-0.255478</td>\n",
       "      <td>...</td>\n",
       "      <td>0.094566</td>\n",
       "      <td>28.323159</td>\n",
       "      <td>0.842167</td>\n",
       "      <td>6.458280</td>\n",
       "      <td>14.619045</td>\n",
       "      <td>-123.291924</td>\n",
       "      <td>36.227035</td>\n",
       "      <td>-40.397534</td>\n",
       "      <td>14.165664</td>\n",
       "      <td>77.045574</td>\n",
       "    </tr>\n",
       "    <tr>\n",
       "      <th>...</th>\n",
       "      <td>...</td>\n",
       "      <td>...</td>\n",
       "      <td>...</td>\n",
       "      <td>...</td>\n",
       "      <td>...</td>\n",
       "      <td>...</td>\n",
       "      <td>...</td>\n",
       "      <td>...</td>\n",
       "      <td>...</td>\n",
       "      <td>...</td>\n",
       "      <td>...</td>\n",
       "      <td>...</td>\n",
       "      <td>...</td>\n",
       "      <td>...</td>\n",
       "      <td>...</td>\n",
       "      <td>...</td>\n",
       "      <td>...</td>\n",
       "      <td>...</td>\n",
       "      <td>...</td>\n",
       "      <td>...</td>\n",
       "      <td>...</td>\n",
       "    </tr>\n",
       "    <tr>\n",
       "      <th>337513</th>\n",
       "      <td>1.293751</td>\n",
       "      <td>0.131542</td>\n",
       "      <td>5.357884</td>\n",
       "      <td>0.075152</td>\n",
       "      <td>-0.867095</td>\n",
       "      <td>-3.474720</td>\n",
       "      <td>1</td>\n",
       "      <td>272661</td>\n",
       "      <td>0.034587</td>\n",
       "      <td>0.394969</td>\n",
       "      <td>...</td>\n",
       "      <td>0.022391</td>\n",
       "      <td>31.086599</td>\n",
       "      <td>0.399348</td>\n",
       "      <td>2.940258</td>\n",
       "      <td>13.642546</td>\n",
       "      <td>5.805572</td>\n",
       "      <td>30.590943</td>\n",
       "      <td>84.995463</td>\n",
       "      <td>17.741847</td>\n",
       "      <td>-158.454173</td>\n",
       "    </tr>\n",
       "    <tr>\n",
       "      <th>338095</th>\n",
       "      <td>0.413035</td>\n",
       "      <td>-1.164323</td>\n",
       "      <td>4.924902</td>\n",
       "      <td>0.175966</td>\n",
       "      <td>0.078312</td>\n",
       "      <td>-2.490469</td>\n",
       "      <td>6</td>\n",
       "      <td>273135</td>\n",
       "      <td>-0.153376</td>\n",
       "      <td>-0.332262</td>\n",
       "      <td>...</td>\n",
       "      <td>0.037165</td>\n",
       "      <td>30.833673</td>\n",
       "      <td>0.171310</td>\n",
       "      <td>0.922479</td>\n",
       "      <td>14.082088</td>\n",
       "      <td>-70.468211</td>\n",
       "      <td>30.809848</td>\n",
       "      <td>-114.778532</td>\n",
       "      <td>16.862765</td>\n",
       "      <td>99.893960</td>\n",
       "    </tr>\n",
       "    <tr>\n",
       "      <th>341214</th>\n",
       "      <td>-0.722799</td>\n",
       "      <td>-1.058132</td>\n",
       "      <td>5.413782</td>\n",
       "      <td>-0.155400</td>\n",
       "      <td>0.125254</td>\n",
       "      <td>-3.080272</td>\n",
       "      <td>5</td>\n",
       "      <td>275631</td>\n",
       "      <td>0.037125</td>\n",
       "      <td>-0.335657</td>\n",
       "      <td>...</td>\n",
       "      <td>0.026618</td>\n",
       "      <td>32.211864</td>\n",
       "      <td>0.068128</td>\n",
       "      <td>0.689348</td>\n",
       "      <td>13.316776</td>\n",
       "      <td>-124.336577</td>\n",
       "      <td>26.997364</td>\n",
       "      <td>-83.688496</td>\n",
       "      <td>18.972620</td>\n",
       "      <td>63.626582</td>\n",
       "    </tr>\n",
       "    <tr>\n",
       "      <th>347443</th>\n",
       "      <td>-1.245867</td>\n",
       "      <td>-0.018084</td>\n",
       "      <td>4.952131</td>\n",
       "      <td>0.009634</td>\n",
       "      <td>-0.113383</td>\n",
       "      <td>-3.705595</td>\n",
       "      <td>4</td>\n",
       "      <td>280616</td>\n",
       "      <td>-0.230297</td>\n",
       "      <td>0.213674</td>\n",
       "      <td>...</td>\n",
       "      <td>0.008855</td>\n",
       "      <td>30.530551</td>\n",
       "      <td>0.186758</td>\n",
       "      <td>0.934966</td>\n",
       "      <td>14.122954</td>\n",
       "      <td>-179.168399</td>\n",
       "      <td>29.244592</td>\n",
       "      <td>137.144331</td>\n",
       "      <td>16.491066</td>\n",
       "      <td>-7.556652</td>\n",
       "    </tr>\n",
       "    <tr>\n",
       "      <th>350951</th>\n",
       "      <td>-0.831167</td>\n",
       "      <td>-0.946715</td>\n",
       "      <td>4.861527</td>\n",
       "      <td>-0.219586</td>\n",
       "      <td>0.212494</td>\n",
       "      <td>-4.921722</td>\n",
       "      <td>5</td>\n",
       "      <td>283448</td>\n",
       "      <td>-0.193633</td>\n",
       "      <td>-0.318639</td>\n",
       "      <td>...</td>\n",
       "      <td>0.070832</td>\n",
       "      <td>32.478608</td>\n",
       "      <td>0.097095</td>\n",
       "      <td>0.962435</td>\n",
       "      <td>14.527926</td>\n",
       "      <td>-131.281450</td>\n",
       "      <td>27.559780</td>\n",
       "      <td>-121.286591</td>\n",
       "      <td>17.959104</td>\n",
       "      <td>51.307542</td>\n",
       "    </tr>\n",
       "  </tbody>\n",
       "</table>\n",
       "<p>112 rows × 47 columns</p>\n",
       "</div>"
      ],
      "text/plain": [
       "             Epx       Epy       Epz       Evx       Evy       Evz  Esector  \\\n",
       "3642   -0.803068  0.898445  4.527838  0.840016  0.737281 -1.415328        3   \n",
       "5093    0.533054 -1.160346  5.320735  0.106649  0.064674 -2.754504        6   \n",
       "5827   -1.202346  0.123422  4.532919  0.028675  0.183802 -2.732894        4   \n",
       "7363   -1.258730  0.132540  5.577965  0.008698  0.020701 -3.461818        4   \n",
       "8518   -0.679849 -1.035289  4.748412  0.764455 -0.483861 -3.581278        5   \n",
       "...          ...       ...       ...       ...       ...       ...      ...   \n",
       "337513  1.293751  0.131542  5.357884  0.075152 -0.867095 -3.474720        1   \n",
       "338095  0.413035 -1.164323  4.924902  0.175966  0.078312 -2.490469        6   \n",
       "341214 -0.722799 -1.058132  5.413782 -0.155400  0.125254 -3.080272        5   \n",
       "347443 -1.245867 -0.018084  4.952131  0.009634 -0.113383 -3.705595        4   \n",
       "350951 -0.831167 -0.946715  4.861527 -0.219586  0.212494 -4.921722        5   \n",
       "\n",
       "         event       Ppx       Ppy  ...       MPt  coneAngle  reconGam  \\\n",
       "3642      2961 -0.366098  0.143577  ...  0.036885  31.380072  0.563000   \n",
       "5093      4153 -0.026764 -0.274055  ...  0.028270  32.060719  0.528042   \n",
       "5827      4747 -0.324842 -0.204003  ...  0.025210  30.691710  0.296962   \n",
       "7363      5990 -0.257837  0.224891  ...  0.010595  32.356726  0.102145   \n",
       "8518      6919  0.300212 -0.255478  ...  0.094566  28.323159  0.842167   \n",
       "...        ...       ...       ...  ...       ...        ...       ...   \n",
       "337513  272661  0.034587  0.394969  ...  0.022391  31.086599  0.399348   \n",
       "338095  273135 -0.153376 -0.332262  ...  0.037165  30.833673  0.171310   \n",
       "341214  275631  0.037125 -0.335657  ...  0.026618  32.211864  0.068128   \n",
       "347443  280616 -0.230297  0.213674  ...  0.008855  30.530551  0.186758   \n",
       "350951  283448 -0.193633 -0.318639  ...  0.070832  32.478608  0.097095   \n",
       "\n",
       "        coplanarity     Etheta        Ephi     Ptheta        Pphi     Gtheta  \\\n",
       "3642       4.874857  14.903261  131.791693  31.467299  158.585778  16.510022   \n",
       "5093       2.628233  13.495262  -65.326322  23.841902  -95.577753  18.594801   \n",
       "5827       2.087613  14.930064  174.139056  30.951039 -147.870946  15.877336   \n",
       "7363       0.732605  12.784431  173.989119  26.682166  138.904258  19.638617   \n",
       "8518       6.458280  14.619045 -123.291924  36.227035  -40.397534  14.165664   \n",
       "...             ...        ...         ...        ...         ...        ...   \n",
       "337513     2.940258  13.642546    5.805572  30.590943   84.995463  17.741847   \n",
       "338095     0.922479  14.082088  -70.468211  30.809848 -114.778532  16.862765   \n",
       "341214     0.689348  13.316776 -124.336577  26.997364  -83.688496  18.972620   \n",
       "347443     0.934966  14.122954 -179.168399  29.244592  137.144331  16.491066   \n",
       "350951     0.962435  14.527926 -131.281450  27.559780 -121.286591  17.959104   \n",
       "\n",
       "              Gphi  \n",
       "3642    -42.998230  \n",
       "5093    109.773565  \n",
       "5827      3.957460  \n",
       "7363    -13.414743  \n",
       "8518     77.045574  \n",
       "...            ...  \n",
       "337513 -158.454173  \n",
       "338095   99.893960  \n",
       "341214   63.626582  \n",
       "347443   -7.556652  \n",
       "350951   51.307542  \n",
       "\n",
       "[112 rows x 47 columns]"
      ]
     },
     "execution_count": 165,
     "metadata": {},
     "output_type": "execute_result"
    }
   ],
   "source": [
    "dvcs_rec"
   ]
  },
  {
   "cell_type": "code",
   "execution_count": 58,
   "id": "demanding-fiction",
   "metadata": {},
   "outputs": [
    {
     "data": {
      "text/plain": [
       "2267227"
      ]
     },
     "execution_count": 58,
     "metadata": {},
     "output_type": "execute_result"
    }
   ],
   "source": [
    "len(df_epg[df_epg[\"Pstat\"]>4000])"
   ]
  },
  {
   "cell_type": "code",
   "execution_count": null,
   "id": "primary-petroleum",
   "metadata": {},
   "outputs": [],
   "source": []
  }
 ],
 "metadata": {
  "kernelspec": {
   "display_name": "Python 3",
   "language": "python",
   "name": "python3"
  },
  "language_info": {
   "codemirror_mode": {
    "name": "ipython",
    "version": 3
   },
   "file_extension": ".py",
   "mimetype": "text/x-python",
   "name": "python",
   "nbconvert_exporter": "python",
   "pygments_lexer": "ipython3",
   "version": "3.9.5"
  }
 },
 "nbformat": 4,
 "nbformat_minor": 5
}
