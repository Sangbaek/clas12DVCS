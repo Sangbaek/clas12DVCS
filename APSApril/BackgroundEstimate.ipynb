{
 "cells": [
  {
   "cell_type": "markdown",
   "id": "functioning-louisville",
   "metadata": {},
   "source": [
    "# Background Estimate\n",
    "Last time, we have estimated pi0 background. However, probably, we have overestimated the background. At high $Q^{2}$ bin, proton always goes to forward detector, and photon goes to large polar angle, i.e. forward detector, not forward tagger (http://localhost:8888/notebooks/simComparison.ipynb). So, we are more interested in forward detector data, which must be DVCS. Of course, we expect significant background, it is not reasonable to think that all data consists of DVpi0P background. To correctly estimate, we try following things.\n",
    "\n",
    "## 1. Loading Data\n",
    "We start with loading related data as usual."
   ]
  },
  {
   "cell_type": "code",
   "execution_count": 1,
   "id": "protected-fitting",
   "metadata": {},
   "outputs": [],
   "source": [
    "from utils.epg import *"
   ]
  },
  {
   "cell_type": "code",
   "execution_count": 2,
   "id": "green-freeware",
   "metadata": {},
   "outputs": [],
   "source": [
    "#DVCS from experiment, inbending\n",
    "fname = \"~/Dropbox (MIT)/data/data/dvcs_inb.root\"\n",
    "epg = epgFromROOT(fname)\n",
    "dvpi0 = epg.getDVpi0()\n",
    "dvcs = epg.getDVCS(sub2g=False)\n",
    "dvcsExpInb = {\"fname\":fname, \"epg\": epg, \"dvpi0\": dvpi0, \"dvcs\": dvcs, \"df_epg\": epg.df_epg, \"df_epgg\": epg.df_epgg}"
   ]
  },
  {
   "cell_type": "code",
   "execution_count": 3,
   "id": "rental-luxury",
   "metadata": {},
   "outputs": [],
   "source": [
    "# #DVCS from experiment, inbending\n",
    "# fname = \"~/Dropbox (MIT)/data/raw/5038.root\"\n",
    "# epg = epgFromROOT(fname)\n",
    "# dvpi0 = epg.getDVpi0()\n",
    "# dvcs = epg.getDVCS(sub2g=True)\n",
    "# run5038 = {\"fname\":fname, \"epg\": epg, \"dvpi0\": dvpi0, \"dvcs\": dvcs, \"df_epg\": epg.df_epg, \"df_epgg\": epg.df_epgg}"
   ]
  },
  {
   "cell_type": "code",
   "execution_count": 4,
   "id": "patient-drunk",
   "metadata": {},
   "outputs": [],
   "source": [
    "#pi0 from experiment, inbending\n",
    "fname = \"~/Dropbox (MIT)/data/data/pi0_inb.root\"\n",
    "epg = epgFromROOT(fname)\n",
    "dvpi0 = epg.getDVpi0()\n",
    "dvcs = epg.getDVCS(sub2g=False)\n",
    "pi0ExpInb = {\"fname\":fname, \"epg\": epg, \"dvpi0\": dvpi0, \"dvcs\": dvcs, \"df_epg\": epg.df_epg, \"df_epgg\": epg.df_epgg}"
   ]
  },
  {
   "cell_type": "code",
   "execution_count": 5,
   "id": "smart-jason",
   "metadata": {},
   "outputs": [],
   "source": [
    "# #dvcs from simulation, vz correct, vxvy (0.05, 0.1), gen\n",
    "# fname = \"~/Dropbox (MIT)/data/MC/nonradVxyzCorrInbMC.root\"\n",
    "# epg = epgFromROOT(fname, mc=True)\n",
    "# # dvpi0 = epg.getDVpi0()\n",
    "# dvcs = epg.getDVCS()\n",
    "# dvcsMCVxyzCorrInb = {\"fname_gen\":fname, \"epg_gen\":epg, \"dvcs_gen\": dvcs, \"df_epg_gen\": epg.df_epg}"
   ]
  },
  {
   "cell_type": "code",
   "execution_count": 84,
   "id": "proved-separate",
   "metadata": {},
   "outputs": [],
   "source": [
    "#dvcs from simulation, vz correct, vxvy (0.05, 0.1), rec\n",
    "fname = \"~/Dropbox (MIT)/data/MC/nonradVxyzCorrInbREC.root\"\n",
    "epg = epgFromROOT(fname, rec=True)\n",
    "dvpi0 = epg.getDVpi0(correction=True)\n",
    "dvcs = epg.getDVCS(correction=True, sub2g=False)\n",
    "dvcsMCVxyzCorrInb = {\"fname\":fname, \"epg\": epg, \"dvpi0\": dvpi0, \"dvcs\": dvcs, \"df_epg\": epg.df_epg, \"df_epgg\": epg.df_epgg, \"df_MC\": epg.df_MC}"
   ]
  },
  {
   "cell_type": "code",
   "execution_count": 85,
   "id": "thirty-hybrid",
   "metadata": {},
   "outputs": [],
   "source": [
    "# #dvcs from simulation, vz correct, vxvy (0.05, 0.1), rec\n",
    "# fname = \"~/Dropbox (MIT)/data/MC/nonradVxyzCorrInbREC.root\"\n",
    "# epg = epgFromROOT(fname, rec=True)\n",
    "# dvpi0 = epg.getDVpi0(correction=False)\n",
    "# dvcs = epg.getDVCS(correction=False, sub2g=True)\n",
    "# dvcsMCVxyzCorrInbNoCorr = {\"fname\":fname, \"epg\": epg, \"dvpi0\": dvpi0, \"dvcs\": dvcs, \"df_epg\": epg.df_epg, \"df_epgg\": epg.df_epgg, \"df_MC\": epg.df_MC}"
   ]
  },
  {
   "cell_type": "code",
   "execution_count": 86,
   "id": "prime-douglas",
   "metadata": {},
   "outputs": [],
   "source": [
    "# #pi0 from Andrey, inb, rec\n",
    "# fname = \"~/Dropbox (MIT)/data/MC/dnp/pi0DNPInbMC.root\"\n",
    "# epg = epgFromROOT(fname, mc=True)\n",
    "# dvpi0 = epg.getDVpi0()\n",
    "# dvcs = epg.getDVCS()\n",
    "# pi0MCdnpInb = {\"fname_gen\":fname, \"epg_gen\": epg, \"dvpi0_gen\": dvpi0, \"dvcs_gen\":dvcs, \"df_epg_gen\": epg.df_epg, \"df_epgg_gen\": epg.df_epgg}"
   ]
  },
  {
   "cell_type": "code",
   "execution_count": 163,
   "id": "advanced-delight",
   "metadata": {},
   "outputs": [],
   "source": [
    "#pi0 from Andrey, inb, rec\n",
    "fname = \"~/Dropbox (MIT)/data/MC/dnp/pi0DNPInbREC.root\"\n",
    "epg = epgFromROOT(fname, rec=True)\n",
    "dvpi0 = epg.getDVpi0(correction=False)\n",
    "dvcs = epg.getDVCS(correction=False, sub2g=False)\n",
    "pi0MCdnpInb = {\"fname\":fname, \"epg\": epg, \"dvpi0\": dvpi0, \"dvcs\": dvcs, \"df_ep\": epg.df_ep, \"df_epg\": epg.df_epg, \"df_epgg\": epg.df_epgg, \"df_MC\":epg.df_MC}"
   ]
  },
  {
   "cell_type": "code",
   "execution_count": 88,
   "id": "demanding-steal",
   "metadata": {},
   "outputs": [],
   "source": [
    "# #pi0 from Andrey, inb, rec\n",
    "# fname = \"~/Dropbox (MIT)/data/MC/pi0_BobbyMC.root\"\n",
    "# epg = epgFromROOT(fname, mc=True)\n",
    "# dvpi0 = epg.getDVpi0()\n",
    "# dvcs = epg.getDVCS()\n",
    "# pi0BobbyInb = {\"fname_gen\":fname, \"epg_gen\": epg, \"dvpi0_gen\": dvpi0, \"dvcs_gen\":dvcs, \"df_epg_gen\": epg.df_epg, \"df_epgg_gen\": epg.df_epgg}"
   ]
  },
  {
   "cell_type": "code",
   "execution_count": 89,
   "id": "numerous-wrapping",
   "metadata": {},
   "outputs": [],
   "source": [
    "#pi0 from Andrey, inb, rec\n",
    "fname = \"~/Dropbox (MIT)/data/MC/pi0_BobbyREC.root\"\n",
    "epg = epgFromROOT(fname, rec=True)\n",
    "dvpi0 = epg.getDVpi0(correction=True)\n",
    "dvcs = epg.getDVCS(correction=True, sub2g=False)\n",
    "pi0BobbyInb = {\"fname\":fname, \"epg\": epg, \"dvpi0\": dvpi0, \"dvcs\": dvcs, \"df_ep\": epg.df_ep, \"df_epg\": epg.df_epg, \"df_epgg\": epg.df_epgg, \"df_MC\": epg.df_MC}"
   ]
  },
  {
   "cell_type": "code",
   "execution_count": 83,
   "id": "critical-testing",
   "metadata": {},
   "outputs": [],
   "source": [
    "#whenever want to reload libraries\n",
    "import importlib\n",
    "import utils\n",
    "importlib.reload(utils.epg)\n",
    "from utils.epg import *"
   ]
  },
  {
   "cell_type": "markdown",
   "id": "recorded-novel",
   "metadata": {},
   "source": [
    "## 2. Detector Efficiency Estimate\n",
    "We have simulated 2 photon events to gemc. How many 2 photons can be detected in FD?"
   ]
  },
  {
   "cell_type": "code",
   "execution_count": 27,
   "id": "military-embassy",
   "metadata": {},
   "outputs": [],
   "source": [
    "df_epgg = pi0BobbyInb[\"df_epgg_gen\"]"
   ]
  },
  {
   "cell_type": "code",
   "execution_count": 28,
   "id": "connected-prospect",
   "metadata": {},
   "outputs": [],
   "source": [
    "cut_xBupper = df_epgg[\"xB\"] < 1  # xB\n",
    "cut_xBlower = df_epgg[\"xB\"] > 0  # xB\n",
    "cut_Q2 = df_epgg[\"Q2\"] > 1  # Q2\n",
    "cut_W = df_epgg[\"W\"] > 2  # W\n",
    "\n",
    "# Exclusivity cuts\n",
    "cut_mmep = df_epgg[\"MM2_ep\"] < 0.7  # mmep\n",
    "cut_meepgg = df_epgg[\"ME_epgg\"] < 0.7  # meepgg\n",
    "cut_mpt = df_epgg[\"MPt\"] < 0.2  # mpt\n",
    "cut_recon = df_epgg[\"reconPi\"] < 2  # recon gam angle\n",
    "cut_pi0upper = df_epgg[\"Mpi0\"] < 0.2\n",
    "cut_pi0lower = df_epgg[\"Mpi0\"] > 0.07"
   ]
  },
  {
   "cell_type": "code",
   "execution_count": 42,
   "id": "passing-vocabulary",
   "metadata": {},
   "outputs": [
    {
     "data": {
      "text/plain": [
       "4653537"
      ]
     },
     "execution_count": 42,
     "metadata": {},
     "output_type": "execute_result"
    }
   ],
   "source": [
    "len(df_epgg[cut_W])"
   ]
  },
  {
   "cell_type": "code",
   "execution_count": 40,
   "id": "traditional-coaching",
   "metadata": {},
   "outputs": [
    {
     "data": {
      "text/plain": [
       "5681870"
      ]
     },
     "execution_count": 40,
     "metadata": {},
     "output_type": "execute_result"
    }
   ],
   "source": [
    "#len(df_epgg)"
   ]
  },
  {
   "cell_type": "code",
   "execution_count": 44,
   "id": "continent-confidentiality",
   "metadata": {},
   "outputs": [
    {
     "data": {
      "text/plain": [
       "1.9021286825125576"
      ]
     },
     "execution_count": 44,
     "metadata": {},
     "output_type": "execute_result"
    }
   ],
   "source": [
    "df_epgg[\"W\"].min()"
   ]
  },
  {
   "cell_type": "code",
   "execution_count": 54,
   "id": "regular-worse",
   "metadata": {},
   "outputs": [
    {
     "ename": "KeyError",
     "evalue": "'df_ep'",
     "output_type": "error",
     "traceback": [
      "\u001b[0;31m---------------------------------------------------------------------------\u001b[0m",
      "\u001b[0;31mKeyError\u001b[0m                                  Traceback (most recent call last)",
      "\u001b[0;32m<ipython-input-54-57f02460a4a9>\u001b[0m in \u001b[0;36m<module>\u001b[0;34m\u001b[0m\n\u001b[0;32m----> 1\u001b[0;31m \u001b[0mlen\u001b[0m\u001b[0;34m(\u001b[0m\u001b[0mdvcsExpInb\u001b[0m\u001b[0;34m[\u001b[0m\u001b[0;34m\"df_ep\"\u001b[0m\u001b[0;34m]\u001b[0m\u001b[0;34m[\u001b[0m\u001b[0;34m\"event\"\u001b[0m\u001b[0;34m]\u001b[0m\u001b[0;34m.\u001b[0m\u001b[0munique\u001b[0m\u001b[0;34m(\u001b[0m\u001b[0;34m)\u001b[0m\u001b[0;34m)\u001b[0m\u001b[0;34m,\u001b[0m \u001b[0mlen\u001b[0m\u001b[0;34m(\u001b[0m\u001b[0mdvcsOnephoton\u001b[0m\u001b[0;34m[\u001b[0m\u001b[0;34m\"event\"\u001b[0m\u001b[0;34m]\u001b[0m\u001b[0;34m.\u001b[0m\u001b[0munique\u001b[0m\u001b[0;34m(\u001b[0m\u001b[0;34m)\u001b[0m\u001b[0;34m)\u001b[0m\u001b[0;34m\u001b[0m\u001b[0;34m\u001b[0m\u001b[0m\n\u001b[0m",
      "\u001b[0;31mKeyError\u001b[0m: 'df_ep'"
     ]
    }
   ],
   "source": [
    "len([\"event\"].unique()), len(dvcsOnephoton[\"event\"].unique())"
   ]
  },
  {
   "cell_type": "code",
   "execution_count": 76,
   "id": "adopted-plasma",
   "metadata": {},
   "outputs": [],
   "source": [
    "df_epg_full = dvcsExpInb[\"df_epg\"]\n",
    "OnephotonEvents = df_epg_full[df_epg_full[\"nmg\"]==1]\n",
    "OnephotonEvents = OnephotonEvents[OnephotonEvents[\"Pstat\"]<4000]"
   ]
  },
  {
   "cell_type": "code",
   "execution_count": 73,
   "id": "presidential-found",
   "metadata": {},
   "outputs": [
    {
     "data": {
      "text/plain": [
       "865964"
      ]
     },
     "execution_count": 73,
     "metadata": {},
     "output_type": "execute_result"
    }
   ],
   "source": [
    "AllFDEvents = df_ep_full[df_ep_full[\"Pstat\"]<4000]\n",
    "len(AllFDEvents[\"event\"].unique())"
   ]
  },
  {
   "cell_type": "code",
   "execution_count": 69,
   "id": "indie-values",
   "metadata": {},
   "outputs": [
    {
     "data": {
      "text/plain": [
       "467649"
      ]
     },
     "execution_count": 69,
     "metadata": {},
     "output_type": "execute_result"
    }
   ],
   "source": [
    "len(OnephotonEvents[\"event\"].unique())"
   ]
  },
  {
   "cell_type": "code",
   "execution_count": 77,
   "id": "played-perception",
   "metadata": {},
   "outputs": [
    {
     "data": {
      "text/plain": [
       "305960"
      ]
     },
     "execution_count": 77,
     "metadata": {},
     "output_type": "execute_result"
    }
   ],
   "source": [
    "TwophotonEvents = df_epg_full[df_epg_full[\"nmg\"]==2]\n",
    "TwophotonEvents = TwophotonEvents[TwophotonEvents[\"Pstat\"]<4000]\n",
    "len(TwophotonEvents[\"event\"].unique())"
   ]
  },
  {
   "cell_type": "code",
   "execution_count": 78,
   "id": "composed-incentive",
   "metadata": {},
   "outputs": [
    {
     "data": {
      "text/plain": [
       "<AxesSubplot:>"
      ]
     },
     "execution_count": 78,
     "metadata": {},
     "output_type": "execute_result"
    },
    {
     "data": {
      "image/png": "[encoded data removed]",
      "text/plain": [
       "<Figure size 432x288 with 1 Axes>"
      ]
     },
     "metadata": {
      "needs_background": "light"
     },
     "output_type": "display_data"
    }
   ],
   "source": [
    "gam = [OnephotonEvents['Gpx'], OnephotonEvents['Gpy'], OnephotonEvents['Gpz']]\n",
    "gamTheta = getTheta(gam)\n",
    "gamTheta.hist(bins=np.linspace(0, 35, 101))"
   ]
  },
  {
   "cell_type": "code",
   "execution_count": 79,
   "id": "parental-trance",
   "metadata": {},
   "outputs": [
    {
     "data": {
      "text/plain": [
       "<AxesSubplot:>"
      ]
     },
     "execution_count": 79,
     "metadata": {},
     "output_type": "execute_result"
    },
    {
     "data": {
      "image/png": "[encoded data removed]",
      "text/plain": [
       "<Figure size 432x288 with 1 Axes>"
      ]
     },
     "metadata": {
      "needs_background": "light"
     },
     "output_type": "display_data"
    }
   ],
   "source": [
    "gam = [TwophotonEvents['Gpx'], TwophotonEvents['Gpy'], TwophotonEvents['Gpz']]\n",
    "gamTheta = getTheta(gam)\n",
    "gamTheta.hist(bins=np.linspace(0, 35, 101))"
   ]
  },
  {
   "cell_type": "code",
   "execution_count": 83,
   "id": "controlling-identifier",
   "metadata": {},
   "outputs": [],
   "source": [
    "df_epgg_full = dvcsExpInb[\"df_epgg\"]\n",
    "TwophotonEventsepgg = df_epgg_full[df_epgg_full[\"nmg\"]==2]\n",
    "TwophotonEventsepgg = TwophotonEventsepgg[TwophotonEventsepgg[\"Pstat\"]<4000]\n",
    "gam = [TwophotonEventsepgg['Gpx'], TwophotonEventsepgg['Gpy'], TwophotonEventsepgg['Gpz']]\n",
    "gam2 = [TwophotonEventsepgg['Gpx2'], TwophotonEventsepgg['Gpy2'], TwophotonEventsepgg['Gpz2']]"
   ]
  },
  {
   "cell_type": "code",
   "execution_count": 87,
   "id": "residential-january",
   "metadata": {},
   "outputs": [
    {
     "data": {
      "image/png": "[encoded data removed]",
      "text/plain": [
       "<Figure size 432x288 with 1 Axes>"
      ]
     },
     "metadata": {
      "needs_background": "light"
     },
     "output_type": "display_data"
    }
   ],
   "source": [
    "import matplotlib.pyplot as plt\n",
    "import matplotlib\n",
    "plt.hist(pi0InvMass(gam, gam2), bins =np.linspace(0, 1, 101))\n",
    "plt.show()"
   ]
  },
  {
   "cell_type": "code",
   "execution_count": 93,
   "id": "accessible-currency",
   "metadata": {},
   "outputs": [
    {
     "data": {
      "text/plain": [
       "4653537"
      ]
     },
     "execution_count": 93,
     "metadata": {},
     "output_type": "execute_result"
    }
   ],
   "source": [
    "len(pi0BobbyInb[\"dvpi0_gen\"]) # dvpi0 cuts, generated"
   ]
  },
  {
   "cell_type": "code",
   "execution_count": 100,
   "id": "collective-stand",
   "metadata": {},
   "outputs": [
    {
     "data": {
      "text/plain": [
       "(162215, 124071)"
      ]
     },
     "execution_count": 100,
     "metadata": {},
     "output_type": "execute_result"
    }
   ],
   "source": []
  },
  {
   "cell_type": "code",
   "execution_count": 133,
   "id": "christian-jumping",
   "metadata": {},
   "outputs": [
    {
     "name": "stdout",
     "output_type": "stream",
     "text": [
      "73616 87025\n"
     ]
    }
   ],
   "source": [
    "df_epg = pi0BobbyInb[\"dvcs\"]\n",
    "Onephoton = df_epg[(df_epg[\"nmg\"]==1)&((df_epg[\"Ge\"]>2))]\n",
    "Twophoton = df_epg[(df_epg[\"nmg\"]==2)&((df_epg[\"Ge\"]>2))]\n",
    "print(len(Onephoton[\"event\"].unique()), len(Twophoton[\"event\"].unique()))\n",
    "gam = [Onephoton[\"Gpx\"], Onephoton[\"Gpy\"], Onephoton[\"Gpz\"]]\n",
    "hiddengam = [Onephoton[\"Mpx\"], Onephoton[\"Mpy\"], Onephoton[\"Mpz\"]]\n",
    "missingenergy = Onephoton[\"ME_epg\"]"
   ]
  },
  {
   "cell_type": "code",
   "execution_count": 118,
   "id": "polish-toyota",
   "metadata": {},
   "outputs": [
    {
     "data": {
      "image/png": "[encoded data removed]",
      "text/plain": [
       "<Figure size 432x288 with 1 Axes>"
      ]
     },
     "metadata": {
      "needs_background": "light"
     },
     "output_type": "display_data"
    }
   ],
   "source": [
    "plt.hist(pi0InvMass(gam, hiddengam), bins =np.linspace(0, 0.2, 101))\n",
    "plt.show()"
   ]
  },
  {
   "cell_type": "code",
   "execution_count": 123,
   "id": "grateful-retro",
   "metadata": {},
   "outputs": [
    {
     "data": {
      "image/png": "[encoded data removed]",
      "text/plain": [
       "<Figure size 432x288 with 1 Axes>"
      ]
     },
     "metadata": {
      "needs_background": "light"
     },
     "output_type": "display_data"
    }
   ],
   "source": [
    "plt.hist(pi0InvMass(gam, hiddengam), bins =np.linspace(0, 0.2, 101))\n",
    "plt.show()"
   ]
  },
  {
   "cell_type": "code",
   "execution_count": 122,
   "id": "responsible-nicaragua",
   "metadata": {},
   "outputs": [
    {
     "name": "stdout",
     "output_type": "stream",
     "text": [
      "14258 1311\n"
     ]
    }
   ],
   "source": [
    "df_epg = dvcsMCVxyzCorrInb[\"dvcs\"]\n",
    "Onephoton = df_epg[(df_epg[\"nmg\"]==1)]\n",
    "Twophoton = df_epg[(df_epg[\"nmg\"]==2)]\n",
    "print(len(Onephoton[\"event\"].unique()), len(Twophoton[\"event\"].unique()))\n",
    "gam = [Onephoton[\"Gpx\"], Onephoton[\"Gpy\"], Onephoton[\"Gpz\"]]\n",
    "hiddengam = [Onephoton[\"Mpx\"], Onephoton[\"Mpy\"], Onephoton[\"Mpz\"]]\n",
    "missingenergy = Onephoton[\"ME_epg\"]"
   ]
  },
  {
   "cell_type": "code",
   "execution_count": 128,
   "id": "appointed-trash",
   "metadata": {},
   "outputs": [
    {
     "data": {
      "text/plain": [
       "3469653"
      ]
     },
     "execution_count": 128,
     "metadata": {},
     "output_type": "execute_result"
    }
   ],
   "source": [
    "len(dvcsMCVxyzCorrInb[\"df_epg_gen\"][\"event\"].unique())"
   ]
  },
  {
   "cell_type": "code",
   "execution_count": 127,
   "id": "ancient-smell",
   "metadata": {},
   "outputs": [
    {
     "data": {
      "text/plain": [
       "5681870"
      ]
     },
     "execution_count": 127,
     "metadata": {},
     "output_type": "execute_result"
    }
   ],
   "source": [
    "len(pi0BobbyInb[\"df_epg_gen\"][\"event\"].unique())"
   ]
  },
  {
   "cell_type": "code",
   "execution_count": 130,
   "id": "corporate-sperm",
   "metadata": {},
   "outputs": [
    {
     "data": {
      "text/plain": [
       "<AxesSubplot:>"
      ]
     },
     "execution_count": 130,
     "metadata": {},
     "output_type": "execute_result"
    },
    {
     "data": {
      "image/png": "[encoded data removed]",
      "text/plain": [
       "<Figure size 432x288 with 1 Axes>"
      ]
     },
     "metadata": {
      "needs_background": "light"
     },
     "output_type": "display_data"
    }
   ],
   "source": [
    "pi0BobbyInb[\"dvcs\"][\"phi2\"].hist(bins=np.linspace(0,360,31))"
   ]
  },
  {
   "cell_type": "code",
   "execution_count": 131,
   "id": "corresponding-waste",
   "metadata": {},
   "outputs": [
    {
     "data": {
      "text/plain": [
       "<AxesSubplot:>"
      ]
     },
     "execution_count": 131,
     "metadata": {},
     "output_type": "execute_result"
    },
    {
     "data": {
      "image/png": "[encoded data removed]",
      "text/plain": [
       "<Figure size 432x288 with 1 Axes>"
      ]
     },
     "metadata": {
      "needs_background": "light"
     },
     "output_type": "display_data"
    }
   ],
   "source": [
    "dvcsMCVxyzCorrInb[\"dvcs\"][\"phi2\"].hist(bins=np.linspace(,360,31))"
   ]
  },
  {
   "cell_type": "code",
   "execution_count": 37,
   "id": "unlike-nashville",
   "metadata": {},
   "outputs": [
    {
     "data": {
      "image/png": "[encoded data removed]",
      "text/plain": [
       "<Figure size 432x288 with 1 Axes>"
      ]
     },
     "metadata": {
      "needs_background": "light"
     },
     "output_type": "display_data"
    }
   ],
   "source": [
    "import matplotlib.pyplot as plt\n",
    "plt.hist2d(dvcsMCVxyzCorrInb[\"df_epg_gen\"][\"Evx\"], dvcsMCVxyzCorrInb[\"df_epg_gen\"][\"Evy\"], bins = [np.linspace(0.0483278-0.01, 0.0483278+0.01, 101), np.linspace(0.0958866-0.01, 0.0958866+0.01, 101)])\n",
    "plt.show()"
   ]
  },
  {
   "cell_type": "markdown",
   "id": "exposed-compatibility",
   "metadata": {},
   "source": [
    "## 3. looking at Andrey's simulation."
   ]
  },
  {
   "cell_type": "code",
   "execution_count": 58,
   "id": "unique-realtor",
   "metadata": {},
   "outputs": [],
   "source": [
    "import matplotlib.pyplot as plt\n",
    "from copy import copy\n",
    "cmap = copy(plt.cm.get_cmap(\"jet\"))"
   ]
  },
  {
   "cell_type": "code",
   "execution_count": 60,
   "id": "vanilla-daisy",
   "metadata": {},
   "outputs": [
    {
     "data": {
      "image/png": "[encoded data removed]",
      "text/plain": [
       "<Figure size 432x288 with 1 Axes>"
      ]
     },
     "metadata": {
      "needs_background": "light"
     },
     "output_type": "display_data"
    }
   ],
   "source": [
    "dvcs = dvcsMCVxyzCorrInb[\"dvcs\"]\n",
    "dvpi0 = dvcsMCVxyzCorrInb[\"dvpi0\"]\n",
    "df_MC = dvcsMCVxyzCorrInb[\"df_MC\"]\n",
    "dvcs = pd.merge(dvcs, df_MC, how=\"inner\", on=\"event\")\n",
    "dvpi0 = pd.merge(dvpi0, df_MC, how=\"inner\", on=\"event\")\n",
    "gam_gen = [dvcs[\"MCGpx\"], dvcs[\"MCGpy\"], dvcs[\"MCGpz\"]]\n",
    "dvcs[\"MCGtheta\"] = getTheta(gam_gen)\n",
    "dvcs[\"MCGphi\"] = getPhi(gam_gen)\n",
    "# (dvcs[\"Gphi\"]-dvcs[\"MCGphi\"]).hist(bins=np.linspace(-0.5, 0.5, 101))\n",
    "plt.hist2d(dvcs[\"Ge\"], dvcs[\"Ge\"]-dvcs[\"MCGe\"], cmin = 1, cmap=cmap, bins =101)\n",
    "plt.show()"
   ]
  },
  {
   "cell_type": "code",
   "execution_count": 52,
   "id": "proof-dayton",
   "metadata": {},
   "outputs": [],
   "source": [
    "dvcs = dvcsExpInb[\"dvcs\"]\n",
    "dvpi0 = dvcsExpInb[\"dvpi0\"]\n",
    "# print(len(dvcs))\n",
    "dvcsnodvpi0Exp = dvcs[~dvcs[\"event\"].isin(dvpi0[\"event\"])]\n",
    "dvpi0anddvcsExp = dvpi0[dvpi0[\"event\"].isin(dvcs[\"event\"])]\n",
    "# print(len(dvcsExpInb[\"dvcs\"]))\n",
    "# dvcsnodvpi0 = dvcs[~dvcs[\"event\"].isin(dvpi0[\"event\"])]"
   ]
  },
  {
   "cell_type": "code",
   "execution_count": 53,
   "id": "civilian-dispute",
   "metadata": {},
   "outputs": [],
   "source": [
    "dvcs = pi0BobbyInb[\"dvcs\"]\n",
    "dvpi0 = pi0BobbyInb[\"dvpi0\"]\n",
    "df_MC = pi0BobbyInb[\"df_MC\"]\n",
    "dvcsdvpi0 = dvcs[dvcs[\"event\"].isin(dvpi0[\"event\"])]\n",
    "dvcsnodvpi0 = dvcs[~dvcs[\"event\"].isin(dvpi0[\"event\"])]\n",
    "dvpi0anddvcs = dvpi0[dvpi0[\"event\"].isin(dvcs[\"event\"])]"
   ]
  },
  {
   "cell_type": "code",
   "execution_count": 54,
   "id": "automatic-sweden",
   "metadata": {},
   "outputs": [
    {
     "name": "stdout",
     "output_type": "stream",
     "text": [
      "69402.03245346074\n",
      "80504.93422738533\n",
      "159772 134561\n",
      "22945 32900 76602 55845\n"
     ]
    }
   ],
   "source": [
    "print(len(dvcsnodvpi0Exp) - len(pi0ExpInb[\"dvpi0\"])*len(dvcsnodvpi0)/len(dvpi0))\n",
    "print(len(dvcsnodvpi0Exp) - len(dvpi0anddvcsExp)*len(dvcsnodvpi0)/len(dvpi0anddvcs))\n",
    "\n",
    "print(len(dvcsExpInb[\"dvcs\"]), len(pi0ExpInb[\"dvpi0\"]))\n",
    "print(len(dvcsdvpi0), len(dvcsnodvpi0), len(dvpi0), len(dvcs))"
   ]
  },
  {
   "cell_type": "code",
   "execution_count": 55,
   "id": "signed-bankruptcy",
   "metadata": {},
   "outputs": [],
   "source": [
    "dvcs = pi0MCdnpInb[\"dvcs\"]\n",
    "dvpi0 = pi0MCdnpInb[\"dvpi0\"]\n",
    "df_MC = pi0MCdnpInb[\"df_MC\"]\n",
    "dvcsdvpi0 = dvcs[dvcs[\"event\"].isin(dvpi0[\"event\"])]\n",
    "dvcsnodvpi0 = dvcs[~dvcs[\"event\"].isin(dvpi0[\"event\"])]\n",
    "dvpi0anddvcs = dvpi0[dvpi0[\"event\"].isin(dvcs[\"event\"])]"
   ]
  },
  {
   "cell_type": "code",
   "execution_count": 56,
   "id": "boring-office",
   "metadata": {},
   "outputs": [
    {
     "name": "stdout",
     "output_type": "stream",
     "text": [
      "69590.55670369414\n",
      "78975.2214299118\n",
      "159772 134561\n",
      "15672 23200 54194 38872\n"
     ]
    },
    {
     "data": {
      "text/plain": [
       "(None, 38207)"
      ]
     },
     "execution_count": 56,
     "metadata": {},
     "output_type": "execute_result"
    }
   ],
   "source": [
    "print(len(dvcsnodvpi0Exp) - len(pi0ExpInb[\"dvpi0\"])*len(dvcsnodvpi0)/len(dvpi0))\n",
    "print(len(dvcsnodvpi0Exp) - len(dvpi0anddvcsExp)*len(dvcsnodvpi0)/len(dvpi0anddvcs))\n",
    "print(len(dvcsExpInb[\"dvcs\"]), len(pi0ExpInb[\"dvpi0\"]))\n",
    "print(len(dvcsdvpi0), len(dvcsnodvpi0), len(dvpi0), len(dvcs)), len(dvpi0nodvcs)"
   ]
  },
  {
   "cell_type": "code",
   "execution_count": 164,
   "id": "adapted-webster",
   "metadata": {},
   "outputs": [
    {
     "data": {
      "image/png": "[encoded data removed]",
      "text/plain": [
       "<Figure size 432x288 with 1 Axes>"
      ]
     },
     "metadata": {
      "needs_background": "light"
     },
     "output_type": "display_data"
    }
   ],
   "source": [
    "dvcs = pi0MCdnpInb[\"dvcs\"]\n",
    "dvpi0 = pi0MCdnpInb[\"dvpi0\"]\n",
    "df_MC = pi0MCdnpInb[\"df_MC\"]\n",
    "gam1 = df_MC[df_MC.index%2==0]\n",
    "gam1 = gam1.reset_index(drop=True)\n",
    "gam2 = df_MC[df_MC.index%2==1]\n",
    "gam2 = gam2.reset_index(drop=True)\n",
    "gam1.loc[:,\"MCGpx2\"] = gam2.loc[:,\"MCGpx\"]\n",
    "gam1.loc[:,\"MCGpy2\"] = gam2.loc[:,\"MCGpy\"]\n",
    "gam1.loc[:,\"MCGpz2\"] = gam2.loc[:,\"MCGpz\"]\n",
    "gam1.loc[:,\"MCGe2\"] = gam2.loc[:,\"MCGe\"]\n",
    "df_MC = gam1\n",
    "dvcs = pd.merge(dvcs, df_MC, how=\"inner\", on=\"event\")\n",
    "dvpi0 = pd.merge(dvpi0, df_MC, how=\"inner\", on=\"event\")\n",
    "dvpi0copy = copy(dvpi0)\n",
    "dvpi0copy.loc[:, \"MCGe\"] = np.where(dvpi0[\"MCGe\"]>dvpi0[\"MCGe2\"], dvpi0.loc[:, \"MCGe\"], dvpi0.loc[:, \"MCGe2\"])\n",
    "dvpi0copy.loc[:, \"MCGe2\"] = np.where(dvpi0[\"MCGe\"]>dvpi0[\"MCGe2\"], dvpi0.loc[:, \"MCGe2\"], dvpi0.loc[:, \"MCGe\"])\n",
    "dvpi0 = dvpi0copy\n",
    "# print(np.sum(dvpi0[\"MCGe\"]<dvpi0[\"MCGe2\"]))\n",
    "# plt.hist2d(dvpi0[\"Ge\"], dvpi0[\"Ge\"]-dvpi0[\"MCGe\"], cmin = 1, cmap=cmap, bins =[101,np.linspace(-0.5,0.5,101)])\n",
    "# plt.hist2d(dvpi0[\"MCGe2\"], dvpi0[\"Ge2\"]-dvpi0[\"MCGe2\"], cmin = 1, cmap=cmap, bins =[101,np.linspace(-0.5,0.5,101)])\n",
    "plt.hist2d(dvpi0[\"Pe\"], dvpi0[\"Pe\"]-dvpi0[\"MCPe\"], cmin=1, cmap=cmap, bins =[21, 101])\n",
    "plt.show()"
   ]
  },
  {
   "cell_type": "code",
   "execution_count": 100,
   "id": "eight-index",
   "metadata": {},
   "outputs": [
    {
     "data": {
      "text/plain": [
       "<AxesSubplot:>"
      ]
     },
     "execution_count": 100,
     "metadata": {},
     "output_type": "execute_result"
    },
    {
     "data": {
      "image/png": "[encoded data removed]",
      "text/plain": [
       "<Figure size 432x288 with 1 Axes>"
      ]
     },
     "metadata": {
      "needs_background": "light"
     },
     "output_type": "display_data"
    }
   ],
   "source": [
    "(dvpi0[\"Ge\"]-dvpi0[\"MCGe\"]).hist(bins = np.linspace(-.5, .5, 101))"
   ]
  },
  {
   "cell_type": "code",
   "execution_count": 101,
   "id": "bridal-tourist",
   "metadata": {},
   "outputs": [
    {
     "data": {
      "text/plain": [
       "<AxesSubplot:>"
      ]
     },
     "execution_count": 101,
     "metadata": {},
     "output_type": "execute_result"
    },
    {
     "data": {
      "image/png": "[encoded data removed]",
      "text/plain": [
       "<Figure size 432x288 with 1 Axes>"
      ]
     },
     "metadata": {
      "needs_background": "light"
     },
     "output_type": "display_data"
    }
   ],
   "source": [
    "(dvpi0[\"Ge2\"]-dvpi0[\"MCGe2\"]).hist(bins = np.linspace(-.5, .5, 101))"
   ]
  },
  {
   "cell_type": "code",
   "execution_count": 29,
   "id": "complicated-rescue",
   "metadata": {},
   "outputs": [
    {
     "data": {
      "text/plain": [
       "<AxesSubplot:>"
      ]
     },
     "execution_count": 29,
     "metadata": {},
     "output_type": "execute_result"
    },
    {
     "data": {
      "image/png": "[encoded data removed]",
      "text/plain": [
       "<Figure size 432x288 with 1 Axes>"
      ]
     },
     "metadata": {
      "needs_background": "light"
     },
     "output_type": "display_data"
    }
   ],
   "source": [
    "np.minimum(np.abs(dvcs[\"ME_epg\"]-dvcs[\"MCGe\"]), np.abs(dvcs[\"ME_epg\"]-dvcs[\"MCGe2\"])).hist(bins = np.linspace(0, 1, 101))"
   ]
  },
  {
   "cell_type": "code",
   "execution_count": 30,
   "id": "accepted-louisville",
   "metadata": {},
   "outputs": [],
   "source": [
    "dvcsfrompi0Sim = pi0MCdnpInb[\"dvcs\"]\n",
    "dvcsfromdvcsSim = dvcsMCVxyzCorrInb[\"dvcs\"]\n",
    "dvcsfromdata = dvcsExpInb[\"dvcs\"]"
   ]
  },
  {
   "cell_type": "code",
   "execution_count": 31,
   "id": "critical-crisis",
   "metadata": {},
   "outputs": [
    {
     "data": {
      "image/png": "[encoded data removed]",
      "text/plain": [
       "<Figure size 432x288 with 1 Axes>"
      ]
     },
     "metadata": {
      "needs_background": "light"
     },
     "output_type": "display_data"
    }
   ],
   "source": [
    "missing_energy = dvcsfrompi0Sim[\"ME_epg\"]\n",
    "gam = [dvcsfrompi0Sim[\"Gpx\"], dvcsfrompi0Sim[\"Gpy\"], dvcsfrompi0Sim[\"Gpz\"]]\n",
    "hidden_gam = [dvcsfrompi0Sim[\"Mpx\"], dvcsfrompi0Sim[\"Mpy\"], dvcsfrompi0Sim[\"Mpz\"]]\n",
    "hidden_gam_energy = getEnergy(hidden_gam, 0)\n",
    "pi0InvMass1 = (missing_energy+dvcsfrompi0Sim[\"Ge\"])**2-mag2(vecAdd(hidden_gam, gam))\n",
    "pi0InvMass2 = (hidden_gam_energy+dvcsfrompi0Sim[\"Ge\"])**2-mag2(vecAdd(hidden_gam, gam))\n",
    "# pi0InvMass1.hist(bins=101)\n",
    "# np.sqrt(pi0InvMass2).hist(bins=101)\n",
    "(dvcsfrompi0Sim[\"MM2_eg\"]).hist(bins=101)\n",
    "# plt.hist2d(getTheta(gam)-getTheta(hidden_gam), bins = 101, cmap = cmap, cmin = 1)\n",
    "plt.show()"
   ]
  },
  {
   "cell_type": "code",
   "execution_count": 32,
   "id": "gentle-technology",
   "metadata": {},
   "outputs": [
    {
     "data": {
      "image/png": "[encoded data removed]",
      "text/plain": [
       "<Figure size 432x288 with 1 Axes>"
      ]
     },
     "metadata": {
      "needs_background": "light"
     },
     "output_type": "display_data"
    }
   ],
   "source": [
    "missing_energy = dvcsfromdvcsSim[\"ME_epg\"]\n",
    "gam = [dvcsfromdvcsSim[\"Gpx\"], dvcsfromdvcsSim[\"Gpy\"], dvcsfromdvcsSim[\"Gpz\"]]\n",
    "hidden_gam = [dvcsfromdvcsSim[\"Mpx\"], dvcsfromdvcsSim[\"Mpy\"], dvcsfromdvcsSim[\"Mpz\"]]\n",
    "hidden_gam_energy = getEnergy(hidden_gam, 0)\n",
    "pi0InvMass1 = (missing_energy+dvcsfromdvcsSim[\"Ge\"])**2-mag2(vecAdd(hidden_gam, gam))\n",
    "pi0InvMass2 = (hidden_gam_energy+dvcsfromdvcsSim[\"Ge\"])**2-mag2(vecAdd(hidden_gam, gam))\n",
    "# pi0InvMass1.hist(bins=101)\n",
    "# np.sqrt(pi0InvMass2).hist(bins=101)\n",
    "# getTheta(hidden_gam).hist(bins=101)\n",
    "# (getTheta(hidden_gam)).hist(bins=101)\n",
    "(dvcsfromdvcsSim[\"MM2_eg\"]).hist(bins=101)\n",
    "\n",
    "# plt.hist2d(getTheta(hidden_gam), angle(gam, hidden_gam), bins = 101, cmap = cmap, cmin = 1)\n",
    "plt.show()"
   ]
  },
  {
   "cell_type": "code",
   "execution_count": 33,
   "id": "incorrect-working",
   "metadata": {},
   "outputs": [
    {
     "data": {
      "image/png": "[encoded data removed]",
      "text/plain": [
       "<Figure size 432x288 with 1 Axes>"
      ]
     },
     "metadata": {
      "needs_background": "light"
     },
     "output_type": "display_data"
    }
   ],
   "source": [
    "missing_energy = dvcsfromdata[\"ME_epg\"]\n",
    "gam = [dvcsfromdata[\"Gpx\"], dvcsfromdata[\"Gpy\"], dvcsfromdata[\"Gpz\"]]\n",
    "hidden_gam = [dvcsfromdata[\"Mpx\"], dvcsfromdata[\"Mpy\"], dvcsfromdata[\"Mpz\"]]\n",
    "hidden_gam_energy = getEnergy(hidden_gam, 0)\n",
    "pi0InvMass1 = (missing_energy+dvcsfromdata[\"Ge\"])**2-mag2(vecAdd(hidden_gam, gam))\n",
    "pi0InvMass2 = (hidden_gam_energy+dvcsfromdata[\"Ge\"])**2-mag2(vecAdd(hidden_gam, gam))\n",
    "# pi0InvMass1.hist(bins=101)\n",
    "# getTheta(hidden_gam).hist(bins=101)\n",
    "(dvcsfromdata[\"MM2_eg\"]).hist(bins=101)\n",
    "# plt.hist2d(getTheta(hidden_gam), angle(gam, hidden_gam), bins = 101, cmap = cmap, cmin = 1)\n",
    "plt.show()"
   ]
  },
  {
   "cell_type": "code",
   "execution_count": 34,
   "id": "consecutive-memory",
   "metadata": {},
   "outputs": [
    {
     "data": {
      "text/plain": [
       "<AxesSubplot:>"
      ]
     },
     "execution_count": 34,
     "metadata": {},
     "output_type": "execute_result"
    },
    {
     "data": {
      "image/png": "[encoded data removed]",
      "text/plain": [
       "<Figure size 432x288 with 1 Axes>"
      ]
     },
     "metadata": {
      "needs_background": "light"
     },
     "output_type": "display_data"
    }
   ],
   "source": [
    "(dvcsfromdata[\"ME_epg\"]).hist(bins=101, density=True, histtype='stepfilled', facecolor='none', edgecolor='r')\n",
    "(dvcsfromdvcsSim[\"ME_epg\"]).hist(bins=101,density=True, histtype='stepfilled', facecolor='none', edgecolor='b')\n",
    "(dvcsfrompi0Sim[\"ME_epg\"]).hist(bins=101,density=True, histtype='stepfilled', facecolor='none', edgecolor='k')"
   ]
  },
  {
   "cell_type": "code",
   "execution_count": 35,
   "id": "legal-mercury",
   "metadata": {},
   "outputs": [
    {
     "data": {
      "text/plain": [
       "<AxesSubplot:>"
      ]
     },
     "execution_count": 35,
     "metadata": {},
     "output_type": "execute_result"
    },
    {
     "data": {
      "image/png": "[encoded data removed]",
      "text/plain": [
       "<Figure size 432x288 with 1 Axes>"
      ]
     },
     "metadata": {
      "needs_background": "light"
     },
     "output_type": "display_data"
    }
   ],
   "source": [
    "(dvcsfromdata[\"MM2_eg\"]).hist(bins=101, density=True, histtype='stepfilled', facecolor='none', edgecolor='r')\n",
    "(dvcsfromdvcsSim[\"MM2_eg\"]).hist(bins=101,density=True, histtype='stepfilled', facecolor='none', edgecolor='b')\n",
    "(dvcsfrompi0Sim[\"MM2_eg\"]).hist(bins=101,density=True, histtype='stepfilled', facecolor='none', edgecolor='k')"
   ]
  },
  {
   "cell_type": "code",
   "execution_count": 36,
   "id": "certified-scott",
   "metadata": {},
   "outputs": [
    {
     "data": {
      "text/plain": [
       "<AxesSubplot:>"
      ]
     },
     "execution_count": 36,
     "metadata": {},
     "output_type": "execute_result"
    },
    {
     "data": {
      "image/png": "[encoded data removed]",
      "text/plain": [
       "<Figure size 432x288 with 1 Axes>"
      ]
     },
     "metadata": {
      "needs_background": "light"
     },
     "output_type": "display_data"
    }
   ],
   "source": [
    "(dvcsfromdata[\"reconGam\"]).hist(bins=101, density=True, histtype='stepfilled', facecolor='none', edgecolor='r')\n",
    "(dvcsfromdvcsSim[\"reconGam\"]).hist(bins=101,density=True, histtype='stepfilled', facecolor='none', edgecolor='b')\n",
    "(dvcsfrompi0Sim[\"reconGam\"]).hist(bins=101,density=True, histtype='stepfilled', facecolor='none', edgecolor='k')"
   ]
  },
  {
   "cell_type": "code",
   "execution_count": 37,
   "id": "intellectual-census",
   "metadata": {},
   "outputs": [
    {
     "data": {
      "text/plain": [
       "<AxesSubplot:>"
      ]
     },
     "execution_count": 37,
     "metadata": {},
     "output_type": "execute_result"
    },
    {
     "data": {
      "image/png": "[encoded data removed]",
      "text/plain": [
       "<Figure size 432x288 with 1 Axes>"
      ]
     },
     "metadata": {
      "needs_background": "light"
     },
     "output_type": "display_data"
    }
   ],
   "source": [
    "(dvcsfromdata[\"coneAngle\"]).hist(bins=101, density=True, histtype='stepfilled', facecolor='none', edgecolor='r')\n",
    "(dvcsfromdvcsSim[\"coneAngle\"]).hist(bins=101,density=True, histtype='stepfilled', facecolor='none', edgecolor='b')\n",
    "(dvcsfrompi0Sim[\"coneAngle\"]).hist(bins=101,density=True, histtype='stepfilled', facecolor='none', edgecolor='k')"
   ]
  },
  {
   "cell_type": "code",
   "execution_count": 38,
   "id": "geographic-current",
   "metadata": {},
   "outputs": [
    {
     "data": {
      "text/plain": [
       "<AxesSubplot:>"
      ]
     },
     "execution_count": 38,
     "metadata": {},
     "output_type": "execute_result"
    },
    {
     "data": {
      "image/png": "[encoded data removed]",
      "text/plain": [
       "<Figure size 432x288 with 1 Axes>"
      ]
     },
     "metadata": {
      "needs_background": "light"
     },
     "output_type": "display_data"
    }
   ],
   "source": [
    "gam1 = [df_MC[\"MCGpx\"], df_MC[\"MCGpy\"], df_MC[\"MCGpz\"]]\n",
    "gam2 = [df_MC[\"MCGpx2\"], df_MC[\"MCGpy2\"], df_MC[\"MCGpz2\"]]\n",
    "# getTheta(gam1).hist()\n",
    "# getTheta(gam2).hist()\n",
    "angle(gam1, gam2).hist(bins = 101)"
   ]
  },
  {
   "cell_type": "code",
   "execution_count": 44,
   "id": "professional-imaging",
   "metadata": {},
   "outputs": [],
   "source": [
    "dvpi0_data = pi0ExpInb[\"dvpi0\"]"
   ]
  },
  {
   "cell_type": "code",
   "execution_count": 59,
   "id": "ethical-admission",
   "metadata": {},
   "outputs": [
    {
     "data": {
      "image/png": "[encoded data removed]",
      "text/plain": [
       "<Figure size 432x288 with 1 Axes>"
      ]
     },
     "metadata": {
      "needs_background": "light"
     },
     "output_type": "display_data"
    }
   ],
   "source": [
    "sec=6\n",
    "plt.hist2d(dvpi0_data.loc[dvpi0_data[\"Gsector\"]==sec,\"Ge\"], dvpi0_data.loc[dvpi0_data[\"Gsector\"]==sec,\"Mpi0\"], bins = 101, cmap = cmap, cmin = 1)\n",
    "plt.show()"
   ]
  },
  {
   "cell_type": "code",
   "execution_count": 118,
   "id": "lasting-feelings",
   "metadata": {},
   "outputs": [
    {
     "data": {
      "text/plain": [
       "<AxesSubplot:>"
      ]
     },
     "execution_count": 118,
     "metadata": {},
     "output_type": "execute_result"
    },
    {
     "data": {
      "image/png": "[encoded data removed]",
      "text/plain": [
       "<Figure size 432x288 with 1 Axes>"
      ]
     },
     "metadata": {
      "needs_background": "light"
     },
     "output_type": "display_data"
    }
   ],
   "source": [
    "pi0MCdnpInb[\"dvpi0\"].Mpi0.hist(bins =np.linspace(-0.5,0.5,101), density=True,  histtype='stepfilled', facecolor='none', edgecolor='r')\n",
    "pi0ExpInb[\"dvpi0\"].Mpi0.hist(bins =np.linspace(-0.5, 0.5,101), density=True,  histtype='stepfilled', facecolor='none', edgecolor='b')"
   ]
  },
  {
   "cell_type": "code",
   "execution_count": 159,
   "id": "egyptian-therapist",
   "metadata": {},
   "outputs": [
    {
     "data": {
      "image/png": "[encoded data removed]",
      "text/plain": [
       "<Figure size 432x288 with 1 Axes>"
      ]
     },
     "metadata": {
      "needs_background": "light"
     },
     "output_type": "display_data"
    }
   ],
   "source": [
    "plt.hist2d(pi0ExpInb[\"dvpi0\"].Pe, pi0ExpInb[\"dvpi0\"].MM2_ep, bins = [np.linspace(1, 2, 21), np.linspace(-0.7, 0.7, 21)], cmin = 1, cmap = cmap)\n",
    "plt.show()"
   ]
  },
  {
   "cell_type": "code",
   "execution_count": null,
   "id": "daily-sunset",
   "metadata": {},
   "outputs": [],
   "source": []
  }
 ],
 "metadata": {
  "kernelspec": {
   "display_name": "Python 3",
   "language": "python",
   "name": "python3"
  },
  "language_info": {
   "codemirror_mode": {
    "name": "ipython",
    "version": 3
   },
   "file_extension": ".py",
   "mimetype": "text/x-python",
   "name": "python",
   "nbconvert_exporter": "python",
   "pygments_lexer": "ipython3",
   "version": "3.9.5"
  }
 },
 "nbformat": 4,
 "nbformat_minor": 5
}
